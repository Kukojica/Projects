{
 "cells": [
  {
   "cell_type": "markdown",
   "id": "4a998781",
   "metadata": {
    "deletable": false,
    "id": "744d7639",
    "slideshow": {
     "slide_type": ""
    },
    "tags": []
   },
   "source": [
    "## Изучение общей информации о данных"
   ]
  },
  {
   "cell_type": "markdown",
   "id": "52c8e9de",
   "metadata": {
    "deletable": false,
    "id": "e7a14c31",
    "slideshow": {
     "slide_type": ""
    },
    "tags": []
   },
   "source": [
    "Прочитаем файл и сохраним данные в переменной:"
   ]
  },
  {
   "cell_type": "code",
   "execution_count": 6,
   "id": "d6802cb2",
   "metadata": {
    "deletable": false,
    "id": "7bcf75c9",
    "slideshow": {
     "slide_type": ""
    },
    "tags": []
   },
   "outputs": [],
   "source": [
    "import pandas as pd\n",
    "\n",
    "try:\n",
    "    data = pd.read_csv('/datasets/data.csv')\n",
    "except:\n",
    "    data = pd.read_csv('https://code.s3.yandex.net/datasets/data.csv')"
   ]
  },
  {
   "cell_type": "markdown",
   "id": "70feb040",
   "metadata": {
    "deletable": false,
    "id": "b8038fe3",
    "slideshow": {
     "slide_type": ""
    },
    "tags": []
   },
   "source": [
    "Выведем первые 20 строк таблицы:"
   ]
  },
  {
   "cell_type": "code",
   "execution_count": 7,
   "id": "4e43ebd3",
   "metadata": {
    "deletable": false,
    "id": "2a7cab99",
    "outputId": "1a8f3ef2-d323-4ec2-ddf7-89670b5944c4",
    "slideshow": {
     "slide_type": ""
    },
    "tags": []
   },
   "outputs": [
    {
     "data": {
      "text/html": [
       "<div>\n",
       "<style scoped>\n",
       "    .dataframe tbody tr th:only-of-type {\n",
       "        vertical-align: middle;\n",
       "    }\n",
       "\n",
       "    .dataframe tbody tr th {\n",
       "        vertical-align: top;\n",
       "    }\n",
       "\n",
       "    .dataframe thead th {\n",
       "        text-align: right;\n",
       "    }\n",
       "</style>\n",
       "<table border=\"1\" class=\"dataframe\">\n",
       "  <thead>\n",
       "    <tr style=\"text-align: right;\">\n",
       "      <th></th>\n",
       "      <th>children</th>\n",
       "      <th>days_employed</th>\n",
       "      <th>dob_years</th>\n",
       "      <th>education</th>\n",
       "      <th>education_id</th>\n",
       "      <th>family_status</th>\n",
       "      <th>family_status_id</th>\n",
       "      <th>gender</th>\n",
       "      <th>income_type</th>\n",
       "      <th>debt</th>\n",
       "      <th>total_income</th>\n",
       "      <th>purpose</th>\n",
       "    </tr>\n",
       "  </thead>\n",
       "  <tbody>\n",
       "    <tr>\n",
       "      <th>0</th>\n",
       "      <td>1</td>\n",
       "      <td>-8437.673028</td>\n",
       "      <td>42</td>\n",
       "      <td>высшее</td>\n",
       "      <td>0</td>\n",
       "      <td>женат / замужем</td>\n",
       "      <td>0</td>\n",
       "      <td>F</td>\n",
       "      <td>сотрудник</td>\n",
       "      <td>0</td>\n",
       "      <td>253875.639453</td>\n",
       "      <td>покупка жилья</td>\n",
       "    </tr>\n",
       "    <tr>\n",
       "      <th>1</th>\n",
       "      <td>1</td>\n",
       "      <td>-4024.803754</td>\n",
       "      <td>36</td>\n",
       "      <td>среднее</td>\n",
       "      <td>1</td>\n",
       "      <td>женат / замужем</td>\n",
       "      <td>0</td>\n",
       "      <td>F</td>\n",
       "      <td>сотрудник</td>\n",
       "      <td>0</td>\n",
       "      <td>112080.014102</td>\n",
       "      <td>приобретение автомобиля</td>\n",
       "    </tr>\n",
       "    <tr>\n",
       "      <th>2</th>\n",
       "      <td>0</td>\n",
       "      <td>-5623.422610</td>\n",
       "      <td>33</td>\n",
       "      <td>Среднее</td>\n",
       "      <td>1</td>\n",
       "      <td>женат / замужем</td>\n",
       "      <td>0</td>\n",
       "      <td>M</td>\n",
       "      <td>сотрудник</td>\n",
       "      <td>0</td>\n",
       "      <td>145885.952297</td>\n",
       "      <td>покупка жилья</td>\n",
       "    </tr>\n",
       "    <tr>\n",
       "      <th>3</th>\n",
       "      <td>3</td>\n",
       "      <td>-4124.747207</td>\n",
       "      <td>32</td>\n",
       "      <td>среднее</td>\n",
       "      <td>1</td>\n",
       "      <td>женат / замужем</td>\n",
       "      <td>0</td>\n",
       "      <td>M</td>\n",
       "      <td>сотрудник</td>\n",
       "      <td>0</td>\n",
       "      <td>267628.550329</td>\n",
       "      <td>дополнительное образование</td>\n",
       "    </tr>\n",
       "    <tr>\n",
       "      <th>4</th>\n",
       "      <td>0</td>\n",
       "      <td>340266.072047</td>\n",
       "      <td>53</td>\n",
       "      <td>среднее</td>\n",
       "      <td>1</td>\n",
       "      <td>гражданский брак</td>\n",
       "      <td>1</td>\n",
       "      <td>F</td>\n",
       "      <td>пенсионер</td>\n",
       "      <td>0</td>\n",
       "      <td>158616.077870</td>\n",
       "      <td>сыграть свадьбу</td>\n",
       "    </tr>\n",
       "    <tr>\n",
       "      <th>5</th>\n",
       "      <td>0</td>\n",
       "      <td>-926.185831</td>\n",
       "      <td>27</td>\n",
       "      <td>высшее</td>\n",
       "      <td>0</td>\n",
       "      <td>гражданский брак</td>\n",
       "      <td>1</td>\n",
       "      <td>M</td>\n",
       "      <td>компаньон</td>\n",
       "      <td>0</td>\n",
       "      <td>255763.565419</td>\n",
       "      <td>покупка жилья</td>\n",
       "    </tr>\n",
       "    <tr>\n",
       "      <th>6</th>\n",
       "      <td>0</td>\n",
       "      <td>-2879.202052</td>\n",
       "      <td>43</td>\n",
       "      <td>высшее</td>\n",
       "      <td>0</td>\n",
       "      <td>женат / замужем</td>\n",
       "      <td>0</td>\n",
       "      <td>F</td>\n",
       "      <td>компаньон</td>\n",
       "      <td>0</td>\n",
       "      <td>240525.971920</td>\n",
       "      <td>операции с жильем</td>\n",
       "    </tr>\n",
       "    <tr>\n",
       "      <th>7</th>\n",
       "      <td>0</td>\n",
       "      <td>-152.779569</td>\n",
       "      <td>50</td>\n",
       "      <td>СРЕДНЕЕ</td>\n",
       "      <td>1</td>\n",
       "      <td>женат / замужем</td>\n",
       "      <td>0</td>\n",
       "      <td>M</td>\n",
       "      <td>сотрудник</td>\n",
       "      <td>0</td>\n",
       "      <td>135823.934197</td>\n",
       "      <td>образование</td>\n",
       "    </tr>\n",
       "    <tr>\n",
       "      <th>8</th>\n",
       "      <td>2</td>\n",
       "      <td>-6929.865299</td>\n",
       "      <td>35</td>\n",
       "      <td>ВЫСШЕЕ</td>\n",
       "      <td>0</td>\n",
       "      <td>гражданский брак</td>\n",
       "      <td>1</td>\n",
       "      <td>F</td>\n",
       "      <td>сотрудник</td>\n",
       "      <td>0</td>\n",
       "      <td>95856.832424</td>\n",
       "      <td>на проведение свадьбы</td>\n",
       "    </tr>\n",
       "    <tr>\n",
       "      <th>9</th>\n",
       "      <td>0</td>\n",
       "      <td>-2188.756445</td>\n",
       "      <td>41</td>\n",
       "      <td>среднее</td>\n",
       "      <td>1</td>\n",
       "      <td>женат / замужем</td>\n",
       "      <td>0</td>\n",
       "      <td>M</td>\n",
       "      <td>сотрудник</td>\n",
       "      <td>0</td>\n",
       "      <td>144425.938277</td>\n",
       "      <td>покупка жилья для семьи</td>\n",
       "    </tr>\n",
       "    <tr>\n",
       "      <th>10</th>\n",
       "      <td>2</td>\n",
       "      <td>-4171.483647</td>\n",
       "      <td>36</td>\n",
       "      <td>высшее</td>\n",
       "      <td>0</td>\n",
       "      <td>женат / замужем</td>\n",
       "      <td>0</td>\n",
       "      <td>M</td>\n",
       "      <td>компаньон</td>\n",
       "      <td>0</td>\n",
       "      <td>113943.491460</td>\n",
       "      <td>покупка недвижимости</td>\n",
       "    </tr>\n",
       "    <tr>\n",
       "      <th>11</th>\n",
       "      <td>0</td>\n",
       "      <td>-792.701887</td>\n",
       "      <td>40</td>\n",
       "      <td>среднее</td>\n",
       "      <td>1</td>\n",
       "      <td>женат / замужем</td>\n",
       "      <td>0</td>\n",
       "      <td>F</td>\n",
       "      <td>сотрудник</td>\n",
       "      <td>0</td>\n",
       "      <td>77069.234271</td>\n",
       "      <td>покупка коммерческой недвижимости</td>\n",
       "    </tr>\n",
       "    <tr>\n",
       "      <th>12</th>\n",
       "      <td>0</td>\n",
       "      <td>NaN</td>\n",
       "      <td>65</td>\n",
       "      <td>среднее</td>\n",
       "      <td>1</td>\n",
       "      <td>гражданский брак</td>\n",
       "      <td>1</td>\n",
       "      <td>M</td>\n",
       "      <td>пенсионер</td>\n",
       "      <td>0</td>\n",
       "      <td>NaN</td>\n",
       "      <td>сыграть свадьбу</td>\n",
       "    </tr>\n",
       "    <tr>\n",
       "      <th>13</th>\n",
       "      <td>0</td>\n",
       "      <td>-1846.641941</td>\n",
       "      <td>54</td>\n",
       "      <td>неоконченное высшее</td>\n",
       "      <td>2</td>\n",
       "      <td>женат / замужем</td>\n",
       "      <td>0</td>\n",
       "      <td>F</td>\n",
       "      <td>сотрудник</td>\n",
       "      <td>0</td>\n",
       "      <td>130458.228857</td>\n",
       "      <td>приобретение автомобиля</td>\n",
       "    </tr>\n",
       "    <tr>\n",
       "      <th>14</th>\n",
       "      <td>0</td>\n",
       "      <td>-1844.956182</td>\n",
       "      <td>56</td>\n",
       "      <td>высшее</td>\n",
       "      <td>0</td>\n",
       "      <td>гражданский брак</td>\n",
       "      <td>1</td>\n",
       "      <td>F</td>\n",
       "      <td>компаньон</td>\n",
       "      <td>1</td>\n",
       "      <td>165127.911772</td>\n",
       "      <td>покупка жилой недвижимости</td>\n",
       "    </tr>\n",
       "    <tr>\n",
       "      <th>15</th>\n",
       "      <td>1</td>\n",
       "      <td>-972.364419</td>\n",
       "      <td>26</td>\n",
       "      <td>среднее</td>\n",
       "      <td>1</td>\n",
       "      <td>женат / замужем</td>\n",
       "      <td>0</td>\n",
       "      <td>F</td>\n",
       "      <td>сотрудник</td>\n",
       "      <td>0</td>\n",
       "      <td>116820.904450</td>\n",
       "      <td>строительство собственной недвижимости</td>\n",
       "    </tr>\n",
       "    <tr>\n",
       "      <th>16</th>\n",
       "      <td>0</td>\n",
       "      <td>-1719.934226</td>\n",
       "      <td>35</td>\n",
       "      <td>среднее</td>\n",
       "      <td>1</td>\n",
       "      <td>женат / замужем</td>\n",
       "      <td>0</td>\n",
       "      <td>F</td>\n",
       "      <td>сотрудник</td>\n",
       "      <td>0</td>\n",
       "      <td>289202.704229</td>\n",
       "      <td>недвижимость</td>\n",
       "    </tr>\n",
       "    <tr>\n",
       "      <th>17</th>\n",
       "      <td>0</td>\n",
       "      <td>-2369.999720</td>\n",
       "      <td>33</td>\n",
       "      <td>высшее</td>\n",
       "      <td>0</td>\n",
       "      <td>гражданский брак</td>\n",
       "      <td>1</td>\n",
       "      <td>M</td>\n",
       "      <td>сотрудник</td>\n",
       "      <td>0</td>\n",
       "      <td>90410.586745</td>\n",
       "      <td>строительство недвижимости</td>\n",
       "    </tr>\n",
       "    <tr>\n",
       "      <th>18</th>\n",
       "      <td>0</td>\n",
       "      <td>400281.136913</td>\n",
       "      <td>53</td>\n",
       "      <td>среднее</td>\n",
       "      <td>1</td>\n",
       "      <td>вдовец / вдова</td>\n",
       "      <td>2</td>\n",
       "      <td>F</td>\n",
       "      <td>пенсионер</td>\n",
       "      <td>0</td>\n",
       "      <td>56823.777243</td>\n",
       "      <td>на покупку подержанного автомобиля</td>\n",
       "    </tr>\n",
       "    <tr>\n",
       "      <th>19</th>\n",
       "      <td>0</td>\n",
       "      <td>-10038.818549</td>\n",
       "      <td>48</td>\n",
       "      <td>СРЕДНЕЕ</td>\n",
       "      <td>1</td>\n",
       "      <td>в разводе</td>\n",
       "      <td>3</td>\n",
       "      <td>F</td>\n",
       "      <td>сотрудник</td>\n",
       "      <td>0</td>\n",
       "      <td>242831.107982</td>\n",
       "      <td>на покупку своего автомобиля</td>\n",
       "    </tr>\n",
       "  </tbody>\n",
       "</table>\n",
       "</div>"
      ],
      "text/plain": [
       "    children  days_employed  dob_years            education  education_id  \\\n",
       "0          1   -8437.673028         42               высшее             0   \n",
       "1          1   -4024.803754         36              среднее             1   \n",
       "2          0   -5623.422610         33              Среднее             1   \n",
       "3          3   -4124.747207         32              среднее             1   \n",
       "4          0  340266.072047         53              среднее             1   \n",
       "5          0    -926.185831         27               высшее             0   \n",
       "6          0   -2879.202052         43               высшее             0   \n",
       "7          0    -152.779569         50              СРЕДНЕЕ             1   \n",
       "8          2   -6929.865299         35               ВЫСШЕЕ             0   \n",
       "9          0   -2188.756445         41              среднее             1   \n",
       "10         2   -4171.483647         36               высшее             0   \n",
       "11         0    -792.701887         40              среднее             1   \n",
       "12         0            NaN         65              среднее             1   \n",
       "13         0   -1846.641941         54  неоконченное высшее             2   \n",
       "14         0   -1844.956182         56               высшее             0   \n",
       "15         1    -972.364419         26              среднее             1   \n",
       "16         0   -1719.934226         35              среднее             1   \n",
       "17         0   -2369.999720         33               высшее             0   \n",
       "18         0  400281.136913         53              среднее             1   \n",
       "19         0  -10038.818549         48              СРЕДНЕЕ             1   \n",
       "\n",
       "       family_status  family_status_id gender income_type  debt  \\\n",
       "0    женат / замужем                 0      F   сотрудник     0   \n",
       "1    женат / замужем                 0      F   сотрудник     0   \n",
       "2    женат / замужем                 0      M   сотрудник     0   \n",
       "3    женат / замужем                 0      M   сотрудник     0   \n",
       "4   гражданский брак                 1      F   пенсионер     0   \n",
       "5   гражданский брак                 1      M   компаньон     0   \n",
       "6    женат / замужем                 0      F   компаньон     0   \n",
       "7    женат / замужем                 0      M   сотрудник     0   \n",
       "8   гражданский брак                 1      F   сотрудник     0   \n",
       "9    женат / замужем                 0      M   сотрудник     0   \n",
       "10   женат / замужем                 0      M   компаньон     0   \n",
       "11   женат / замужем                 0      F   сотрудник     0   \n",
       "12  гражданский брак                 1      M   пенсионер     0   \n",
       "13   женат / замужем                 0      F   сотрудник     0   \n",
       "14  гражданский брак                 1      F   компаньон     1   \n",
       "15   женат / замужем                 0      F   сотрудник     0   \n",
       "16   женат / замужем                 0      F   сотрудник     0   \n",
       "17  гражданский брак                 1      M   сотрудник     0   \n",
       "18    вдовец / вдова                 2      F   пенсионер     0   \n",
       "19         в разводе                 3      F   сотрудник     0   \n",
       "\n",
       "     total_income                                 purpose  \n",
       "0   253875.639453                           покупка жилья  \n",
       "1   112080.014102                 приобретение автомобиля  \n",
       "2   145885.952297                           покупка жилья  \n",
       "3   267628.550329              дополнительное образование  \n",
       "4   158616.077870                         сыграть свадьбу  \n",
       "5   255763.565419                           покупка жилья  \n",
       "6   240525.971920                       операции с жильем  \n",
       "7   135823.934197                             образование  \n",
       "8    95856.832424                   на проведение свадьбы  \n",
       "9   144425.938277                 покупка жилья для семьи  \n",
       "10  113943.491460                    покупка недвижимости  \n",
       "11   77069.234271       покупка коммерческой недвижимости  \n",
       "12            NaN                         сыграть свадьбу  \n",
       "13  130458.228857                 приобретение автомобиля  \n",
       "14  165127.911772              покупка жилой недвижимости  \n",
       "15  116820.904450  строительство собственной недвижимости  \n",
       "16  289202.704229                            недвижимость  \n",
       "17   90410.586745              строительство недвижимости  \n",
       "18   56823.777243      на покупку подержанного автомобиля  \n",
       "19  242831.107982            на покупку своего автомобиля  "
      ]
     },
     "execution_count": 7,
     "metadata": {},
     "output_type": "execute_result"
    }
   ],
   "source": [
    "data.head(20)"
   ]
  },
  {
   "cell_type": "markdown",
   "id": "90608a98",
   "metadata": {
    "deletable": false,
    "id": "1c12e233",
    "slideshow": {
     "slide_type": ""
    },
    "tags": []
   },
   "source": [
    "Основная информация о данных:"
   ]
  },
  {
   "cell_type": "code",
   "execution_count": 8,
   "id": "018e6a02",
   "metadata": {
    "deletable": false,
    "id": "2b757bca",
    "outputId": "15376089-8dad-46c9-b520-c05248d43158",
    "slideshow": {
     "slide_type": ""
    },
    "tags": []
   },
   "outputs": [
    {
     "name": "stdout",
     "output_type": "stream",
     "text": [
      "<class 'pandas.core.frame.DataFrame'>\n",
      "RangeIndex: 21525 entries, 0 to 21524\n",
      "Data columns (total 12 columns):\n",
      " #   Column            Non-Null Count  Dtype  \n",
      "---  ------            --------------  -----  \n",
      " 0   children          21525 non-null  int64  \n",
      " 1   days_employed     19351 non-null  float64\n",
      " 2   dob_years         21525 non-null  int64  \n",
      " 3   education         21525 non-null  object \n",
      " 4   education_id      21525 non-null  int64  \n",
      " 5   family_status     21525 non-null  object \n",
      " 6   family_status_id  21525 non-null  int64  \n",
      " 7   gender            21525 non-null  object \n",
      " 8   income_type       21525 non-null  object \n",
      " 9   debt              21525 non-null  int64  \n",
      " 10  total_income      19351 non-null  float64\n",
      " 11  purpose           21525 non-null  object \n",
      "dtypes: float64(2), int64(5), object(5)\n",
      "memory usage: 2.0+ MB\n"
     ]
    }
   ],
   "source": [
    "data.info()"
   ]
  },
  {
   "cell_type": "markdown",
   "id": "6d06ea5a",
   "metadata": {
    "deletable": false,
    "editable": false,
    "id": "333ec665",
    "slideshow": {
     "slide_type": ""
    },
    "tags": []
   },
   "source": [
    "## Предобработка данных"
   ]
  },
  {
   "cell_type": "markdown",
   "id": "2f891211",
   "metadata": {
    "deletable": false,
    "editable": false,
    "id": "02d92d53"
   },
   "source": [
    "### Удаление пропусков"
   ]
  },
  {
   "cell_type": "markdown",
   "id": "d133c89b",
   "metadata": {
    "deletable": false,
    "id": "cd84967c",
    "slideshow": {
     "slide_type": ""
    },
    "tags": []
   },
   "source": [
    "Подсчитаем общее количество пропущенных значений:"
   ]
  },
  {
   "cell_type": "code",
   "execution_count": 9,
   "id": "d2b2c9d2",
   "metadata": {
    "deletable": false,
    "id": "7f9b2309",
    "outputId": "81f4d817-781c-465c-ed15-91ce4446810d",
    "slideshow": {
     "slide_type": ""
    },
    "tags": []
   },
   "outputs": [
    {
     "data": {
      "text/plain": [
       "children               0\n",
       "days_employed       2174\n",
       "dob_years              0\n",
       "education              0\n",
       "education_id           0\n",
       "family_status          0\n",
       "family_status_id       0\n",
       "gender                 0\n",
       "income_type            0\n",
       "debt                   0\n",
       "total_income        2174\n",
       "purpose                0\n",
       "dtype: int64"
      ]
     },
     "execution_count": 9,
     "metadata": {},
     "output_type": "execute_result"
    }
   ],
   "source": [
    "data.isna().sum()"
   ]
  },
  {
   "cell_type": "markdown",
   "id": "e62d94c0",
   "metadata": {
    "deletable": false,
    "id": "db86e27b",
    "slideshow": {
     "slide_type": ""
    },
    "tags": []
   },
   "source": [
    "Заполним пропуски в столбце с доходами медианным значением в зависимости от типа занятости:"
   ]
  },
  {
   "cell_type": "code",
   "execution_count": 10,
   "id": "aedbe219",
   "metadata": {
    "deletable": false,
    "id": "42006a93",
    "slideshow": {
     "slide_type": ""
    },
    "tags": []
   },
   "outputs": [],
   "source": [
    "for t in data['income_type'].unique():\n",
    "    data.loc[(data['income_type'] == t) & (data['total_income'].isna()), 'total_income'] = \\\n",
    "    data.loc[(data['income_type'] == t), 'total_income'].median()"
   ]
  },
  {
   "cell_type": "markdown",
   "id": "3cf2dc3e",
   "metadata": {
    "deletable": false,
    "editable": false,
    "id": "89da5ece",
    "slideshow": {
     "slide_type": ""
    },
    "tags": []
   },
   "source": [
    "### Обработка аномальных значений"
   ]
  },
  {
   "cell_type": "markdown",
   "id": "1f9de122",
   "metadata": {
    "deletable": false,
    "id": "57964554",
    "slideshow": {
     "slide_type": ""
    },
    "tags": []
   },
   "source": [
    "Заменим все отрицательные значения положительными в столбце с количеством дней трудового стажа:"
   ]
  },
  {
   "cell_type": "code",
   "execution_count": 11,
   "id": "0067b2dc",
   "metadata": {
    "deletable": false,
    "id": "f6f055bf",
    "slideshow": {
     "slide_type": ""
    },
    "tags": []
   },
   "outputs": [],
   "source": [
    "data['days_employed'] = data['days_employed'].abs()"
   ]
  },
  {
   "cell_type": "markdown",
   "id": "5e34e38b",
   "metadata": {
    "deletable": false,
    "id": "6107dd2f",
    "slideshow": {
     "slide_type": ""
    },
    "tags": []
   },
   "source": [
    "Выведем медианное значение трудового стажа по каждому типу занятости:"
   ]
  },
  {
   "cell_type": "code",
   "execution_count": 12,
   "id": "248662ff",
   "metadata": {
    "deletable": false,
    "id": "85a5faf6",
    "outputId": "801ef80e-522b-4668-f34e-565af7432bcf",
    "slideshow": {
     "slide_type": ""
    },
    "tags": []
   },
   "outputs": [
    {
     "data": {
      "text/plain": [
       "income_type\n",
       "безработный        366413.652744\n",
       "в декрете            3296.759962\n",
       "госслужащий          2689.368353\n",
       "компаньон            1547.382223\n",
       "пенсионер          365213.306266\n",
       "предприниматель       520.848083\n",
       "сотрудник            1574.202821\n",
       "студент               578.751554\n",
       "Name: days_employed, dtype: float64"
      ]
     },
     "execution_count": 12,
     "metadata": {},
     "output_type": "execute_result"
    }
   ],
   "source": [
    "data.groupby('income_type')['days_employed'].agg('median')"
   ]
  },
  {
   "cell_type": "markdown",
   "id": "0b32e387",
   "metadata": {
    "deletable": false,
    "id": "38d1a030",
    "slideshow": {
     "slide_type": ""
    },
    "tags": []
   },
   "source": [
    "У двух типов (безработные и пенсионеры) получатся аномально большие значения. Однако этот столбец больше не понадобится для исследования, так что можно не исправлять эти значения."
   ]
  },
  {
   "cell_type": "markdown",
   "id": "d4e2941d",
   "metadata": {
    "deletable": false,
    "id": "d8a9f147",
    "slideshow": {
     "slide_type": ""
    },
    "tags": []
   },
   "source": [
    "Выведем перечень уникальных значений столбца `children`:"
   ]
  },
  {
   "cell_type": "code",
   "execution_count": 13,
   "id": "d9b9cca5",
   "metadata": {
    "deletable": false,
    "id": "ef5056eb",
    "outputId": "6975b15c-7f95-4697-d16d-a0c79b657b03",
    "slideshow": {
     "slide_type": ""
    },
    "tags": []
   },
   "outputs": [
    {
     "data": {
      "text/plain": [
       "array([ 1,  0,  3,  2, -1,  4, 20,  5], dtype=int64)"
      ]
     },
     "execution_count": 13,
     "metadata": {},
     "output_type": "execute_result"
    }
   ],
   "source": [
    "data['children'].unique()"
   ]
  },
  {
   "cell_type": "markdown",
   "id": "226cc13d",
   "metadata": {
    "deletable": false,
    "id": "40b9ebf2",
    "slideshow": {
     "slide_type": ""
    },
    "tags": []
   },
   "source": [
    "Удалим аномальные значения из столбца `children`:"
   ]
  },
  {
   "cell_type": "code",
   "execution_count": 14,
   "id": "f701d119",
   "metadata": {
    "deletable": false,
    "id": "3ff9801d",
    "slideshow": {
     "slide_type": ""
    },
    "tags": []
   },
   "outputs": [],
   "source": [
    "data = data[(data['children'] != -1) & (data['children'] != 20)]"
   ]
  },
  {
   "cell_type": "markdown",
   "id": "34527c7e",
   "metadata": {
    "deletable": false,
    "id": "bbc4d0ce",
    "slideshow": {
     "slide_type": ""
    },
    "tags": []
   },
   "source": [
    "Выведем перечень уникальных значений столбца, чтобы убедиться, что артефакты удалены:"
   ]
  },
  {
   "cell_type": "code",
   "execution_count": 15,
   "id": "4a552dcd",
   "metadata": {
    "deletable": false,
    "id": "ad4fa8b7",
    "outputId": "b2097101-d49d-44d9-901b-32a65c9463d1",
    "slideshow": {
     "slide_type": ""
    },
    "tags": []
   },
   "outputs": [
    {
     "data": {
      "text/plain": [
       "array([1, 0, 3, 2, 4, 5], dtype=int64)"
      ]
     },
     "execution_count": 15,
     "metadata": {},
     "output_type": "execute_result"
    }
   ],
   "source": [
    "data['children'].unique()"
   ]
  },
  {
   "cell_type": "markdown",
   "id": "7e60512f",
   "metadata": {
    "deletable": false,
    "editable": false,
    "id": "75440b63"
   },
   "source": [
    "### Удаление пропусков (продолжение)"
   ]
  },
  {
   "cell_type": "markdown",
   "id": "0a476eb9",
   "metadata": {
    "deletable": false,
    "id": "f4ea573f",
    "slideshow": {
     "slide_type": ""
    },
    "tags": []
   },
   "source": [
    "Заполним пропуски в столбце `days_employed` медианными значениями по каждого типа занятости:"
   ]
  },
  {
   "cell_type": "code",
   "execution_count": 16,
   "id": "f50590f1",
   "metadata": {
    "deletable": false,
    "id": "af6b1a7e",
    "slideshow": {
     "slide_type": ""
    },
    "tags": []
   },
   "outputs": [],
   "source": [
    "for t in data['income_type'].unique():\n",
    "    data.loc[(data['income_type'] == t) & (data['days_employed'].isna()), 'days_employed'] = \\\n",
    "    data.loc[(data['income_type'] == t), 'days_employed'].median()"
   ]
  },
  {
   "cell_type": "markdown",
   "id": "39e7bc31",
   "metadata": {
    "deletable": false,
    "id": "2753f40d",
    "slideshow": {
     "slide_type": ""
    },
    "tags": []
   },
   "source": [
    "Убедимся, что пропусков больше нет:"
   ]
  },
  {
   "cell_type": "code",
   "execution_count": 17,
   "id": "7265f5ea",
   "metadata": {
    "deletable": false,
    "id": "55f78bc2",
    "outputId": "8da1e4e1-358e-4e87-98c9-f261bce0a7b2",
    "slideshow": {
     "slide_type": ""
    },
    "tags": []
   },
   "outputs": [
    {
     "data": {
      "text/plain": [
       "children            0\n",
       "days_employed       0\n",
       "dob_years           0\n",
       "education           0\n",
       "education_id        0\n",
       "family_status       0\n",
       "family_status_id    0\n",
       "gender              0\n",
       "income_type         0\n",
       "debt                0\n",
       "total_income        0\n",
       "purpose             0\n",
       "dtype: int64"
      ]
     },
     "execution_count": 17,
     "metadata": {},
     "output_type": "execute_result"
    }
   ],
   "source": [
    "data.isna().sum()"
   ]
  },
  {
   "cell_type": "markdown",
   "id": "bd7dbc78",
   "metadata": {
    "deletable": false,
    "editable": false,
    "id": "ddc81e43"
   },
   "source": [
    "### Изменение типов данных"
   ]
  },
  {
   "cell_type": "markdown",
   "id": "13437e80",
   "metadata": {
    "deletable": false,
    "id": "42d19d24",
    "slideshow": {
     "slide_type": ""
    },
    "tags": []
   },
   "source": [
    "Заменим вещественный тип данных в столбце `total_income` на целочисленный:"
   ]
  },
  {
   "cell_type": "code",
   "execution_count": 18,
   "id": "fd17385f",
   "metadata": {
    "deletable": false,
    "id": "920b65ad",
    "slideshow": {
     "slide_type": ""
    },
    "tags": []
   },
   "outputs": [],
   "source": [
    "data['total_income'] = data['total_income'].astype(int)"
   ]
  },
  {
   "cell_type": "markdown",
   "id": "03ff5255",
   "metadata": {
    "deletable": false,
    "editable": false,
    "id": "80c420ba"
   },
   "source": [
    "### Обработка дубликатов"
   ]
  },
  {
   "cell_type": "markdown",
   "id": "09f84ab3",
   "metadata": {
    "deletable": false,
    "slideshow": {
     "slide_type": ""
    },
    "tags": []
   },
   "source": [
    "Приведем все значения в столбце `education` к нижнему регистру:"
   ]
  },
  {
   "cell_type": "code",
   "execution_count": 19,
   "id": "0d872060",
   "metadata": {
    "deletable": false,
    "slideshow": {
     "slide_type": ""
    },
    "tags": []
   },
   "outputs": [],
   "source": [
    "data['education'] = data['education'].str.lower()"
   ]
  },
  {
   "cell_type": "markdown",
   "id": "dd3a2999",
   "metadata": {
    "deletable": false,
    "id": "dc587695",
    "slideshow": {
     "slide_type": ""
    },
    "tags": []
   },
   "source": [
    "Выведем на экран количество строк-дубликатов в данных и затем удалим их:"
   ]
  },
  {
   "cell_type": "code",
   "execution_count": 20,
   "id": "18c1a11f",
   "metadata": {
    "deletable": false,
    "id": "3ee445e4",
    "outputId": "9684deba-1934-42d1-99e1-cda61740f822",
    "slideshow": {
     "slide_type": ""
    },
    "tags": []
   },
   "outputs": [
    {
     "data": {
      "text/plain": [
       "71"
      ]
     },
     "execution_count": 20,
     "metadata": {},
     "output_type": "execute_result"
    }
   ],
   "source": [
    "data.duplicated().sum()"
   ]
  },
  {
   "cell_type": "code",
   "execution_count": 21,
   "id": "71a8629f",
   "metadata": {
    "deletable": false,
    "id": "8575fe05"
   },
   "outputs": [],
   "source": [
    "data = data.drop_duplicates()"
   ]
  },
  {
   "cell_type": "markdown",
   "id": "448937f7",
   "metadata": {
    "deletable": false,
    "editable": false,
    "id": "9904cf55"
   },
   "source": [
    "### Категоризация данных"
   ]
  },
  {
   "cell_type": "markdown",
   "id": "21311dad",
   "metadata": {
    "deletable": false,
    "id": "72fcc8a2",
    "slideshow": {
     "slide_type": ""
    },
    "tags": []
   },
   "source": [
    "На основании данных диапазонов, создадим в датафрейме столбец `total_income_category` с категориями:\n",
    "\n",
    "- 0–30000 — `'E'`;\n",
    "- 30001–50000 — `'D'`;\n",
    "- 50001–200000 — `'C'`;\n",
    "- 200001–1000000 — `'B'`;\n",
    "- 1000001 и выше — `'A'`."
   ]
  },
  {
   "cell_type": "code",
   "execution_count": 22,
   "id": "18d6ff05",
   "metadata": {
    "deletable": false,
    "id": "e1771346",
    "slideshow": {
     "slide_type": ""
    },
    "tags": []
   },
   "outputs": [],
   "source": [
    "def categorize_income(income):\n",
    "    try:\n",
    "        if 0 <= income <= 30000:\n",
    "            return 'E'\n",
    "        elif 30001 <= income <= 50000:\n",
    "            return 'D'\n",
    "        elif 50001 <= income <= 200000:\n",
    "            return 'C'\n",
    "        elif 200001 <= income <= 1000000:\n",
    "            return 'B'\n",
    "        elif income >= 1000001:\n",
    "            return 'A'\n",
    "    except:\n",
    "        pass"
   ]
  },
  {
   "cell_type": "code",
   "execution_count": 23,
   "id": "d5b3a95b",
   "metadata": {
    "deletable": false,
    "id": "d5f3586d"
   },
   "outputs": [],
   "source": [
    "data['total_income_category'] = data['total_income'].apply(categorize_income)"
   ]
  },
  {
   "cell_type": "markdown",
   "id": "c7ff64c2",
   "metadata": {
    "deletable": false,
    "id": "dde49b5c",
    "slideshow": {
     "slide_type": ""
    },
    "tags": []
   },
   "source": [
    "Выведем на экран перечень уникальных целей взятия кредита из столбца `purpose`:"
   ]
  },
  {
   "cell_type": "code",
   "execution_count": 24,
   "id": "41b39d8f",
   "metadata": {
    "deletable": false,
    "id": "f67ce9b3",
    "outputId": "673c12d9-7d7e-4ae0-9812-c622c89dd244",
    "slideshow": {
     "slide_type": ""
    },
    "tags": []
   },
   "outputs": [
    {
     "data": {
      "text/plain": [
       "array(['покупка жилья', 'приобретение автомобиля',\n",
       "       'дополнительное образование', 'сыграть свадьбу',\n",
       "       'операции с жильем', 'образование', 'на проведение свадьбы',\n",
       "       'покупка жилья для семьи', 'покупка недвижимости',\n",
       "       'покупка коммерческой недвижимости', 'покупка жилой недвижимости',\n",
       "       'строительство собственной недвижимости', 'недвижимость',\n",
       "       'строительство недвижимости', 'на покупку подержанного автомобиля',\n",
       "       'на покупку своего автомобиля',\n",
       "       'операции с коммерческой недвижимостью',\n",
       "       'строительство жилой недвижимости', 'жилье',\n",
       "       'операции со своей недвижимостью', 'автомобили',\n",
       "       'заняться образованием', 'сделка с подержанным автомобилем',\n",
       "       'получение образования', 'автомобиль', 'свадьба',\n",
       "       'получение дополнительного образования', 'покупка своего жилья',\n",
       "       'операции с недвижимостью', 'получение высшего образования',\n",
       "       'свой автомобиль', 'сделка с автомобилем',\n",
       "       'профильное образование', 'высшее образование',\n",
       "       'покупка жилья для сдачи', 'на покупку автомобиля', 'ремонт жилью',\n",
       "       'заняться высшим образованием'], dtype=object)"
      ]
     },
     "execution_count": 24,
     "metadata": {},
     "output_type": "execute_result"
    }
   ],
   "source": [
    "data['purpose'].unique()"
   ]
  },
  {
   "cell_type": "markdown",
   "id": "7e7b938c",
   "metadata": {
    "deletable": false,
    "id": "85d0aef0",
    "slideshow": {
     "slide_type": ""
    },
    "tags": []
   },
   "source": [
    "Напишем функцию, которая на основании данных из столбца `purpose` сформирует новый столбец `purpose_category`, в который войдут следующие категории:\n",
    "\n",
    "- `'операции с автомобилем'`,\n",
    "- `'операции с недвижимостью'`,\n",
    "- `'проведение свадьбы'`,\n",
    "- `'получение образования'`."
   ]
  },
  {
   "cell_type": "code",
   "execution_count": 25,
   "id": "d45ab4aa",
   "metadata": {
    "deletable": false,
    "id": "e149fab4",
    "slideshow": {
     "slide_type": ""
    },
    "tags": []
   },
   "outputs": [],
   "source": [
    "def categorize_purpose(row):\n",
    "    try:\n",
    "        if 'автом' in row:\n",
    "            return 'операции с автомобилем'\n",
    "        elif 'жил' in row or 'недвиж' in row:\n",
    "            return 'операции с недвижимостью'\n",
    "        elif 'свад' in row:\n",
    "            return 'проведение свадьбы'\n",
    "        elif 'образов' in row:\n",
    "            return 'получение образования'\n",
    "    except:\n",
    "        return 'нет категории'"
   ]
  },
  {
   "cell_type": "code",
   "execution_count": 26,
   "id": "3dfb6ac5",
   "metadata": {
    "deletable": false,
    "id": "bf36e69b"
   },
   "outputs": [],
   "source": [
    "data['purpose_category'] = data['purpose'].apply(categorize_purpose)"
   ]
  },
  {
   "cell_type": "markdown",
   "id": "07b7d5a3",
   "metadata": {
    "deletable": false,
    "id": "09b242bf",
    "slideshow": {
     "slide_type": ""
    },
    "tags": []
   },
   "source": [
    "## Исследование данных"
   ]
  },
  {
   "cell_type": "markdown",
   "id": "44ed6d36",
   "metadata": {
    "deletable": false,
    "id": "c5d66278",
    "slideshow": {
     "slide_type": ""
    },
    "tags": []
   },
   "source": [
    "### Поиск зависимости между количеством детей и возвратом кредита в срок."
   ]
  },
  {
   "cell_type": "code",
   "execution_count": 27,
   "id": "7b7d7bbe",
   "metadata": {
    "deletable": false,
    "id": "2cacfc4a",
    "slideshow": {
     "slide_type": ""
    },
    "tags": []
   },
   "outputs": [],
   "source": [
    "data_filtered_debt = data[data['debt'] != 0]\n",
    "data_filtered_debt = data_filtered_debt.groupby('children')['debt'].count()\n",
    "data_filtered_all = data.groupby('children')['debt'].count()\n",
    "chance = (data_filtered_debt / data_filtered_all)*100"
   ]
  },
  {
   "cell_type": "code",
   "execution_count": 28,
   "id": "d31a72d6",
   "metadata": {
    "slideshow": {
     "slide_type": ""
    },
    "tags": []
   },
   "outputs": [
    {
     "data": {
      "text/html": [
       "<div>\n",
       "<style scoped>\n",
       "    .dataframe tbody tr th:only-of-type {\n",
       "        vertical-align: middle;\n",
       "    }\n",
       "\n",
       "    .dataframe tbody tr th {\n",
       "        vertical-align: top;\n",
       "    }\n",
       "\n",
       "    .dataframe thead th {\n",
       "        text-align: right;\n",
       "    }\n",
       "</style>\n",
       "<table border=\"1\" class=\"dataframe\">\n",
       "  <thead>\n",
       "    <tr style=\"text-align: right;\">\n",
       "      <th></th>\n",
       "      <th>clients_with_children</th>\n",
       "      <th>clients_with_debt</th>\n",
       "      <th>debt_chance</th>\n",
       "    </tr>\n",
       "    <tr>\n",
       "      <th>children</th>\n",
       "      <th></th>\n",
       "      <th></th>\n",
       "      <th></th>\n",
       "    </tr>\n",
       "  </thead>\n",
       "  <tbody>\n",
       "    <tr>\n",
       "      <th>4</th>\n",
       "      <td>41</td>\n",
       "      <td>4.0</td>\n",
       "      <td>9.756098</td>\n",
       "    </tr>\n",
       "    <tr>\n",
       "      <th>2</th>\n",
       "      <td>2052</td>\n",
       "      <td>194.0</td>\n",
       "      <td>9.454191</td>\n",
       "    </tr>\n",
       "    <tr>\n",
       "      <th>1</th>\n",
       "      <td>4808</td>\n",
       "      <td>444.0</td>\n",
       "      <td>9.234609</td>\n",
       "    </tr>\n",
       "    <tr>\n",
       "      <th>3</th>\n",
       "      <td>330</td>\n",
       "      <td>27.0</td>\n",
       "      <td>8.181818</td>\n",
       "    </tr>\n",
       "    <tr>\n",
       "      <th>0</th>\n",
       "      <td>14091</td>\n",
       "      <td>1063.0</td>\n",
       "      <td>7.543822</td>\n",
       "    </tr>\n",
       "    <tr>\n",
       "      <th>5</th>\n",
       "      <td>9</td>\n",
       "      <td>0.0</td>\n",
       "      <td>0.000000</td>\n",
       "    </tr>\n",
       "  </tbody>\n",
       "</table>\n",
       "</div>"
      ],
      "text/plain": [
       "          clients_with_children  clients_with_debt  debt_chance\n",
       "children                                                       \n",
       "4                            41                4.0     9.756098\n",
       "2                          2052              194.0     9.454191\n",
       "1                          4808              444.0     9.234609\n",
       "3                           330               27.0     8.181818\n",
       "0                         14091             1063.0     7.543822\n",
       "5                             9                0.0     0.000000"
      ]
     },
     "metadata": {},
     "output_type": "display_data"
    }
   ],
   "source": [
    "value = {'clients_with_children': data_filtered_all,'clients_with_debt': data_filtered_debt,'debt_chance': chance}\n",
    "represent = pd.DataFrame(data=value)\n",
    "represent = represent.fillna(0)\n",
    "display(represent.sort_values(by='debt_chance', ascending=False))"
   ]
  },
  {
   "cell_type": "markdown",
   "id": "6c6ead3a",
   "metadata": {
    "deletable": false,
    "id": "3a6b99ec",
    "slideshow": {
     "slide_type": ""
    },
    "tags": []
   },
   "source": [
    "**Вывод:** Зависимость между количеством детей и возвратом кредита в срок прослеживается: Чем больше детей у клиента, тем больше вероятность того, что он вернет кредит в срок. Вероятность задолженности среди клиентов без детей составляет 7.5%, это самый маленький показатель среди групп, так как это самая многочисленная группа. Вероятность задолженности клиентов с 1 и 2 детьми равным 9.2% и 9.4% соответсвенно, у клиентов с 3 детьми вероятность составляет ~ 8.2% и у клиентов с 4 детьми вероятность задолженности равна 9.7%. Поскольку задолженников среди клиентов с 5 детьми нет, то вероятность невозврата клиентов данной группы равна 0."
   ]
  },
  {
   "cell_type": "markdown",
   "id": "bf410c98",
   "metadata": {
    "deletable": false,
    "id": "97be82ca",
    "slideshow": {
     "slide_type": ""
    },
    "tags": []
   },
   "source": [
    "### Поиск зависимости между семейным положением и возвратом кредита в срок."
   ]
  },
  {
   "cell_type": "code",
   "execution_count": 29,
   "id": "70efe3b0",
   "metadata": {
    "deletable": false,
    "id": "dc3f7ee8",
    "slideshow": {
     "slide_type": ""
    },
    "tags": []
   },
   "outputs": [],
   "source": [
    "family_debt = data[data['debt'] != 0]\n",
    "family_debt = family_debt.groupby('family_status')['debt'].count()\n",
    "all_statuses = data.groupby('family_status')['debt'].count()\n",
    "chance_status = (family_debt / all_statuses)*100\n"
   ]
  },
  {
   "cell_type": "code",
   "execution_count": 30,
   "id": "5df3f0ef",
   "metadata": {
    "slideshow": {
     "slide_type": ""
    },
    "tags": []
   },
   "outputs": [
    {
     "data": {
      "text/html": [
       "<div>\n",
       "<style scoped>\n",
       "    .dataframe tbody tr th:only-of-type {\n",
       "        vertical-align: middle;\n",
       "    }\n",
       "\n",
       "    .dataframe tbody tr th {\n",
       "        vertical-align: top;\n",
       "    }\n",
       "\n",
       "    .dataframe thead th {\n",
       "        text-align: right;\n",
       "    }\n",
       "</style>\n",
       "<table border=\"1\" class=\"dataframe\">\n",
       "  <thead>\n",
       "    <tr style=\"text-align: right;\">\n",
       "      <th></th>\n",
       "      <th>clients_overall</th>\n",
       "      <th>clients_with_debt</th>\n",
       "      <th>debt_chance</th>\n",
       "    </tr>\n",
       "    <tr>\n",
       "      <th>family_status</th>\n",
       "      <th></th>\n",
       "      <th></th>\n",
       "      <th></th>\n",
       "    </tr>\n",
       "  </thead>\n",
       "  <tbody>\n",
       "    <tr>\n",
       "      <th>Не женат / не замужем</th>\n",
       "      <td>2796</td>\n",
       "      <td>273</td>\n",
       "      <td>9.763948</td>\n",
       "    </tr>\n",
       "    <tr>\n",
       "      <th>гражданский брак</th>\n",
       "      <td>4134</td>\n",
       "      <td>385</td>\n",
       "      <td>9.313014</td>\n",
       "    </tr>\n",
       "    <tr>\n",
       "      <th>женат / замужем</th>\n",
       "      <td>12261</td>\n",
       "      <td>927</td>\n",
       "      <td>7.560558</td>\n",
       "    </tr>\n",
       "    <tr>\n",
       "      <th>в разводе</th>\n",
       "      <td>1189</td>\n",
       "      <td>84</td>\n",
       "      <td>7.064760</td>\n",
       "    </tr>\n",
       "    <tr>\n",
       "      <th>вдовец / вдова</th>\n",
       "      <td>951</td>\n",
       "      <td>63</td>\n",
       "      <td>6.624606</td>\n",
       "    </tr>\n",
       "  </tbody>\n",
       "</table>\n",
       "</div>"
      ],
      "text/plain": [
       "                       clients_overall  clients_with_debt  debt_chance\n",
       "family_status                                                         \n",
       "Не женат / не замужем             2796                273     9.763948\n",
       "гражданский брак                  4134                385     9.313014\n",
       "женат / замужем                  12261                927     7.560558\n",
       "в разводе                         1189                 84     7.064760\n",
       "вдовец / вдова                     951                 63     6.624606"
      ]
     },
     "metadata": {},
     "output_type": "display_data"
    }
   ],
   "source": [
    "value = {'clients_overall': all_statuses,'clients_with_debt': family_debt,'debt_chance': chance_status}\n",
    "represent = pd.DataFrame(data=value)\n",
    "display(represent.sort_values(by='debt_chance', ascending=False))"
   ]
  },
  {
   "cell_type": "markdown",
   "id": "088a60da",
   "metadata": {
    "deletable": false,
    "id": "1cef7837",
    "slideshow": {
     "slide_type": ""
    },
    "tags": []
   },
   "source": [
    "**Вывод:** Вероятность того, что клиент, не состоящий в официальном браке, не вернет кредит в срок составляет ~ 9.8%. Это выше вероятности невозврата клиентов, состоящих в браке ~ 7.6%. Самый маленький процент невозврата наблюдается вдов и вдовцов, он равен 6.6%. Вероятность образования задолженности среди клиентов в разводе и состоящих в гражданском браке составляет 7% и 9.3% соответсвенно."
   ]
  },
  {
   "cell_type": "markdown",
   "id": "1972062d",
   "metadata": {
    "deletable": false,
    "id": "1e8b2fca",
    "slideshow": {
     "slide_type": ""
    },
    "tags": []
   },
   "source": [
    "### Поиск зависимости между уровнем дохода и возвратом кредита в срок."
   ]
  },
  {
   "cell_type": "code",
   "execution_count": 31,
   "id": "6f6e9c00",
   "metadata": {
    "deletable": false,
    "id": "cd7e3720",
    "slideshow": {
     "slide_type": ""
    },
    "tags": []
   },
   "outputs": [],
   "source": [
    "category_debt = data[data['debt'] != 0]\n",
    "category_debt = category_debt.groupby('total_income_category')['debt'].count()\n",
    "overall_category = data.groupby('total_income_category')['debt'].count()\n",
    "chance_status = (category_debt / overall_category)*100"
   ]
  },
  {
   "cell_type": "code",
   "execution_count": 32,
   "id": "a4790ea0",
   "metadata": {
    "slideshow": {
     "slide_type": ""
    },
    "tags": []
   },
   "outputs": [
    {
     "data": {
      "text/html": [
       "<div>\n",
       "<style scoped>\n",
       "    .dataframe tbody tr th:only-of-type {\n",
       "        vertical-align: middle;\n",
       "    }\n",
       "\n",
       "    .dataframe tbody tr th {\n",
       "        vertical-align: top;\n",
       "    }\n",
       "\n",
       "    .dataframe thead th {\n",
       "        text-align: right;\n",
       "    }\n",
       "</style>\n",
       "<table border=\"1\" class=\"dataframe\">\n",
       "  <thead>\n",
       "    <tr style=\"text-align: right;\">\n",
       "      <th></th>\n",
       "      <th>clients_overall</th>\n",
       "      <th>clients_with_debt</th>\n",
       "      <th>debt_chance</th>\n",
       "      <th>income</th>\n",
       "    </tr>\n",
       "    <tr>\n",
       "      <th>total_income_category</th>\n",
       "      <th></th>\n",
       "      <th></th>\n",
       "      <th></th>\n",
       "      <th></th>\n",
       "    </tr>\n",
       "  </thead>\n",
       "  <tbody>\n",
       "    <tr>\n",
       "      <th>E</th>\n",
       "      <td>22</td>\n",
       "      <td>2</td>\n",
       "      <td>9.090909</td>\n",
       "      <td>0 - 30000</td>\n",
       "    </tr>\n",
       "    <tr>\n",
       "      <th>C</th>\n",
       "      <td>15921</td>\n",
       "      <td>1353</td>\n",
       "      <td>8.498210</td>\n",
       "      <td>50001 – 200000</td>\n",
       "    </tr>\n",
       "    <tr>\n",
       "      <th>A</th>\n",
       "      <td>25</td>\n",
       "      <td>2</td>\n",
       "      <td>8.000000</td>\n",
       "      <td>1000001 и выше</td>\n",
       "    </tr>\n",
       "    <tr>\n",
       "      <th>B</th>\n",
       "      <td>5014</td>\n",
       "      <td>354</td>\n",
       "      <td>7.060231</td>\n",
       "      <td>200001 – 1000000</td>\n",
       "    </tr>\n",
       "    <tr>\n",
       "      <th>D</th>\n",
       "      <td>349</td>\n",
       "      <td>21</td>\n",
       "      <td>6.017192</td>\n",
       "      <td>30001 - 50000</td>\n",
       "    </tr>\n",
       "  </tbody>\n",
       "</table>\n",
       "</div>"
      ],
      "text/plain": [
       "                       clients_overall  clients_with_debt  debt_chance  \\\n",
       "total_income_category                                                    \n",
       "E                                   22                  2     9.090909   \n",
       "C                                15921               1353     8.498210   \n",
       "A                                   25                  2     8.000000   \n",
       "B                                 5014                354     7.060231   \n",
       "D                                  349                 21     6.017192   \n",
       "\n",
       "                                 income  \n",
       "total_income_category                    \n",
       "E                             0 - 30000  \n",
       "C                        50001 – 200000  \n",
       "A                        1000001 и выше  \n",
       "B                      200001 – 1000000  \n",
       "D                         30001 - 50000  "
      ]
     },
     "metadata": {},
     "output_type": "display_data"
    }
   ],
   "source": [
    "value = {'clients_overall': overall_category,'clients_with_debt': category_debt,'debt_chance': chance_status, 'income': [ '1000001 и выше', '200001 – 1000000','50001 – 200000', '30001 - 50000',  '0 - 30000']}\n",
    "represent = pd.DataFrame(data=value)\n",
    "display(represent.sort_values(by='debt_chance', ascending=False))"
   ]
  },
  {
   "cell_type": "markdown",
   "id": "c6c68cfa",
   "metadata": {
    "deletable": false,
    "id": "e8593def",
    "slideshow": {
     "slide_type": ""
    },
    "tags": []
   },
   "source": [
    "**Вывод:** Большинство должников относятся к категории \"С\" с доходом от 50001 до 200000, меньше всего должников находится в категориях \"А\" и \"Е\". Наибольшая вероятность невозврата наблюдается в категории \"Е\" - 9%. Можно предположить, что это происходит из-за недостатка средств для выплаты займа. Вероятность невозврата в категории \"C\" равна ~ 8.5%, категории \"A\" - 8%, категории \"B\" - 7% и категории \"D\" - 6%."
   ]
  },
  {
   "cell_type": "markdown",
   "id": "b828edb6",
   "metadata": {
    "deletable": false,
    "id": "99ecbd1f",
    "slideshow": {
     "slide_type": ""
    },
    "tags": []
   },
   "source": [
    "### Исследование того, как разные цели кредита влияют на его возврат в срок."
   ]
  },
  {
   "cell_type": "code",
   "execution_count": 33,
   "id": "60bf2624",
   "metadata": {
    "deletable": false,
    "id": "2b687290",
    "slideshow": {
     "slide_type": ""
    },
    "tags": []
   },
   "outputs": [],
   "source": [
    "purpose_filtered = data[data['debt'] != 0]\n",
    "purpose_filtered = purpose_filtered.groupby('purpose_category')['debt'].count()\n",
    "overall_purpose = data.groupby('purpose_category')['debt'].count()\n",
    "chance_status = (purpose_filtered / overall_purpose)*100"
   ]
  },
  {
   "cell_type": "code",
   "execution_count": 34,
   "id": "cb494e3a",
   "metadata": {
    "slideshow": {
     "slide_type": ""
    },
    "tags": []
   },
   "outputs": [
    {
     "data": {
      "text/html": [
       "<div>\n",
       "<style scoped>\n",
       "    .dataframe tbody tr th:only-of-type {\n",
       "        vertical-align: middle;\n",
       "    }\n",
       "\n",
       "    .dataframe tbody tr th {\n",
       "        vertical-align: top;\n",
       "    }\n",
       "\n",
       "    .dataframe thead th {\n",
       "        text-align: right;\n",
       "    }\n",
       "</style>\n",
       "<table border=\"1\" class=\"dataframe\">\n",
       "  <thead>\n",
       "    <tr style=\"text-align: right;\">\n",
       "      <th></th>\n",
       "      <th>clients_overall</th>\n",
       "      <th>clients_with_debt</th>\n",
       "      <th>debt_chance</th>\n",
       "    </tr>\n",
       "    <tr>\n",
       "      <th>purpose_category</th>\n",
       "      <th></th>\n",
       "      <th></th>\n",
       "      <th></th>\n",
       "    </tr>\n",
       "  </thead>\n",
       "  <tbody>\n",
       "    <tr>\n",
       "      <th>операции с автомобилем</th>\n",
       "      <td>4279</td>\n",
       "      <td>400</td>\n",
       "      <td>9.347978</td>\n",
       "    </tr>\n",
       "    <tr>\n",
       "      <th>получение образования</th>\n",
       "      <td>3988</td>\n",
       "      <td>369</td>\n",
       "      <td>9.252758</td>\n",
       "    </tr>\n",
       "    <tr>\n",
       "      <th>проведение свадьбы</th>\n",
       "      <td>2313</td>\n",
       "      <td>183</td>\n",
       "      <td>7.911803</td>\n",
       "    </tr>\n",
       "    <tr>\n",
       "      <th>операции с недвижимостью</th>\n",
       "      <td>10751</td>\n",
       "      <td>780</td>\n",
       "      <td>7.255139</td>\n",
       "    </tr>\n",
       "  </tbody>\n",
       "</table>\n",
       "</div>"
      ],
      "text/plain": [
       "                          clients_overall  clients_with_debt  debt_chance\n",
       "purpose_category                                                         \n",
       "операции с автомобилем               4279                400     9.347978\n",
       "получение образования                3988                369     9.252758\n",
       "проведение свадьбы                   2313                183     7.911803\n",
       "операции с недвижимостью            10751                780     7.255139"
      ]
     },
     "metadata": {},
     "output_type": "display_data"
    }
   ],
   "source": [
    "value = {'clients_overall': overall_purpose,'clients_with_debt': purpose_filtered,'debt_chance': chance_status}\n",
    "represent = pd.DataFrame(data=value)\n",
    "display(represent.sort_values(by='debt_chance', ascending=False))"
   ]
  },
  {
   "cell_type": "markdown",
   "id": "74111d86",
   "metadata": {
    "deletable": false,
    "id": "b4bb2ce6",
    "slideshow": {
     "slide_type": ""
    },
    "tags": []
   },
   "source": [
    "**Вывод:** Большая часть клиентов-должников обозначила \"операции с недвижимостью\" в качестве цели кредита, поскольку большинство людей берет кредит для покупки квартиры. Меньше всего должников наблюдается среди клиентов, которые взяли кредит на проведение свадьбы. Однако вероятность невозврата выше всего у категории \"операции с автомобилем\" - 9.3%. Вероятность образования задолженности в категории \"получение образования\" составляет 9.2%, в категории \"проведение свадьбы\" ~ 8%, а в категории \"операции с недвижимостью - 7.2%."
   ]
  },
  {
   "cell_type": "markdown",
   "id": "9119e4f8",
   "metadata": {
    "deletable": false,
    "id": "6db5255a",
    "slideshow": {
     "slide_type": ""
    },
    "tags": []
   },
   "source": [
    "## Общий вывод."
   ]
  },
  {
   "cell_type": "markdown",
   "id": "3fa135e6",
   "metadata": {
    "deletable": false,
    "id": "bad65432",
    "slideshow": {
     "slide_type": ""
    },
    "tags": []
   },
   "source": [
    "**Общий вывод:** В ходе исследования был обработан датафрейм с данными о клиентах банка: удалены пропуски и дубликаты, для численных значений выбран наиболее оптимальный формат, категоризированы цели получения кредита. \n",
    "Исследование показало, что большая часть задолжников не имеет детей, тем не менее, вероятность не выплатить кредит в срок больше у клиентов с 4 детьми - 9.7%. Также, большинство должников находится в браке, но вероятность невозврата кредита больше всего у клиентов, не состоящих в браке - 9.7%. Больше всего должников входя в категорию \"С\", но самая высокая вероятность невозврата относится к категории \"Е\" - 9%. Как правило, большое количество клиентов с задолженностью брали кредит для операций с недвижимостью, а самая высокая вероятность невыплаты кредита относится к операциям с автомобилем - 9.3%."
   ]
  }
 ],
 "metadata": {
  "ExecuteTimeLog": [
   {
    "duration": 64,
    "start_time": "2022-08-31T08:00:27.961Z"
   },
   {
    "duration": 634,
    "start_time": "2022-08-31T08:00:33.248Z"
   },
   {
    "duration": 22,
    "start_time": "2022-08-31T08:00:33.884Z"
   },
   {
    "duration": 15,
    "start_time": "2022-08-31T08:00:33.908Z"
   },
   {
    "duration": 12,
    "start_time": "2022-08-31T08:00:33.926Z"
   },
   {
    "duration": 61,
    "start_time": "2022-08-31T08:00:33.939Z"
   },
   {
    "duration": 4,
    "start_time": "2022-08-31T08:00:34.002Z"
   },
   {
    "duration": 11,
    "start_time": "2022-08-31T08:00:34.008Z"
   },
   {
    "duration": 4,
    "start_time": "2022-08-31T08:00:34.022Z"
   },
   {
    "duration": 10,
    "start_time": "2022-08-31T08:00:34.028Z"
   },
   {
    "duration": 6,
    "start_time": "2022-08-31T08:00:34.041Z"
   },
   {
    "duration": 87,
    "start_time": "2022-08-31T08:00:34.048Z"
   },
   {
    "duration": 14,
    "start_time": "2022-08-31T08:00:34.137Z"
   },
   {
    "duration": 5,
    "start_time": "2022-08-31T08:00:34.153Z"
   },
   {
    "duration": 20,
    "start_time": "2022-08-31T08:00:34.160Z"
   },
   {
    "duration": 41,
    "start_time": "2022-08-31T08:00:34.182Z"
   },
   {
    "duration": 19,
    "start_time": "2022-08-31T08:00:34.225Z"
   },
   {
    "duration": 3,
    "start_time": "2022-08-31T08:00:34.246Z"
   },
   {
    "duration": 14,
    "start_time": "2022-08-31T08:00:34.250Z"
   },
   {
    "duration": 5,
    "start_time": "2022-08-31T08:00:34.266Z"
   },
   {
    "duration": 29,
    "start_time": "2022-08-31T08:00:34.272Z"
   },
   {
    "duration": 11,
    "start_time": "2022-08-31T08:00:34.303Z"
   },
   {
    "duration": 5,
    "start_time": "2022-08-31T08:00:35.493Z"
   },
   {
    "duration": 6,
    "start_time": "2022-08-31T08:00:49.557Z"
   },
   {
    "duration": 4,
    "start_time": "2022-08-31T08:20:51.608Z"
   },
   {
    "duration": 12,
    "start_time": "2022-08-31T08:21:02.273Z"
   },
   {
    "duration": 29,
    "start_time": "2022-08-31T08:21:50.185Z"
   },
   {
    "duration": 9,
    "start_time": "2022-08-31T08:21:58.226Z"
   },
   {
    "duration": 7,
    "start_time": "2022-08-31T08:22:09.226Z"
   },
   {
    "duration": 3,
    "start_time": "2022-08-31T08:22:16.326Z"
   },
   {
    "duration": 9,
    "start_time": "2022-08-31T08:22:38.145Z"
   },
   {
    "duration": 10,
    "start_time": "2022-08-31T08:22:44.627Z"
   },
   {
    "duration": 8,
    "start_time": "2022-08-31T08:22:45.685Z"
   },
   {
    "duration": 5,
    "start_time": "2022-08-31T08:23:58.617Z"
   },
   {
    "duration": 7,
    "start_time": "2022-08-31T08:24:05.105Z"
   },
   {
    "duration": 6,
    "start_time": "2022-08-31T08:24:13.645Z"
   },
   {
    "duration": 5,
    "start_time": "2022-08-31T08:24:38.186Z"
   },
   {
    "duration": 20,
    "start_time": "2022-08-31T08:25:21.026Z"
   },
   {
    "duration": 12,
    "start_time": "2022-08-31T08:28:35.465Z"
   },
   {
    "duration": 17,
    "start_time": "2022-08-31T08:28:42.973Z"
   },
   {
    "duration": 6,
    "start_time": "2022-08-31T08:28:52.185Z"
   },
   {
    "duration": 7,
    "start_time": "2022-08-31T08:29:04.118Z"
   },
   {
    "duration": 6,
    "start_time": "2022-08-31T08:29:17.825Z"
   },
   {
    "duration": 5,
    "start_time": "2022-08-31T08:29:26.305Z"
   },
   {
    "duration": 5,
    "start_time": "2022-08-31T08:33:11.866Z"
   },
   {
    "duration": 20,
    "start_time": "2022-08-31T08:33:20.186Z"
   },
   {
    "duration": 7,
    "start_time": "2022-08-31T08:33:36.126Z"
   },
   {
    "duration": 13,
    "start_time": "2022-08-31T08:33:41.846Z"
   },
   {
    "duration": 7,
    "start_time": "2022-08-31T08:33:57.846Z"
   },
   {
    "duration": 8,
    "start_time": "2022-08-31T08:34:11.706Z"
   },
   {
    "duration": 9,
    "start_time": "2022-08-31T08:37:35.966Z"
   },
   {
    "duration": 8,
    "start_time": "2022-08-31T08:38:10.026Z"
   },
   {
    "duration": 7,
    "start_time": "2022-08-31T08:38:49.578Z"
   },
   {
    "duration": 2,
    "start_time": "2022-08-31T08:42:13.877Z"
   },
   {
    "duration": 13,
    "start_time": "2022-08-31T08:43:16.977Z"
   },
   {
    "duration": 6,
    "start_time": "2022-08-31T08:43:28.085Z"
   },
   {
    "duration": 2169,
    "start_time": "2022-08-31T09:04:31.535Z"
   },
   {
    "duration": 6,
    "start_time": "2022-08-31T09:04:51.683Z"
   },
   {
    "duration": 10,
    "start_time": "2022-08-31T09:05:31.843Z"
   },
   {
    "duration": 7,
    "start_time": "2022-08-31T09:37:07.890Z"
   },
   {
    "duration": 11,
    "start_time": "2022-08-31T09:38:18.398Z"
   },
   {
    "duration": 10,
    "start_time": "2022-08-31T09:38:31.638Z"
   },
   {
    "duration": 10,
    "start_time": "2022-08-31T09:44:57.217Z"
   },
   {
    "duration": 20,
    "start_time": "2022-08-31T09:45:18.229Z"
   },
   {
    "duration": 7,
    "start_time": "2022-08-31T09:45:45.137Z"
   },
   {
    "duration": 6,
    "start_time": "2022-08-31T09:45:54.716Z"
   },
   {
    "duration": 8,
    "start_time": "2022-08-31T09:46:01.277Z"
   },
   {
    "duration": 7,
    "start_time": "2022-08-31T09:46:10.717Z"
   },
   {
    "duration": 5,
    "start_time": "2022-08-31T09:47:09.117Z"
   },
   {
    "duration": 8,
    "start_time": "2022-08-31T09:47:15.077Z"
   },
   {
    "duration": 10,
    "start_time": "2022-08-31T09:47:35.659Z"
   },
   {
    "duration": 9,
    "start_time": "2022-08-31T09:47:51.977Z"
   },
   {
    "duration": 10,
    "start_time": "2022-08-31T09:49:00.537Z"
   },
   {
    "duration": 11,
    "start_time": "2022-08-31T09:49:09.129Z"
   },
   {
    "duration": 8,
    "start_time": "2022-08-31T09:49:46.697Z"
   },
   {
    "duration": 6,
    "start_time": "2022-08-31T10:40:02.297Z"
   },
   {
    "duration": 8,
    "start_time": "2022-08-31T10:40:17.151Z"
   },
   {
    "duration": 677,
    "start_time": "2022-08-31T18:46:22.319Z"
   },
   {
    "duration": 21,
    "start_time": "2022-08-31T18:46:22.998Z"
   },
   {
    "duration": 19,
    "start_time": "2022-08-31T18:46:23.021Z"
   },
   {
    "duration": 8,
    "start_time": "2022-08-31T18:46:23.042Z"
   },
   {
    "duration": 33,
    "start_time": "2022-08-31T18:46:23.051Z"
   },
   {
    "duration": 3,
    "start_time": "2022-08-31T18:46:23.086Z"
   },
   {
    "duration": 25,
    "start_time": "2022-08-31T18:46:23.090Z"
   },
   {
    "duration": 5,
    "start_time": "2022-08-31T18:46:23.116Z"
   },
   {
    "duration": 10,
    "start_time": "2022-08-31T18:46:23.122Z"
   },
   {
    "duration": 4,
    "start_time": "2022-08-31T18:46:23.134Z"
   },
   {
    "duration": 34,
    "start_time": "2022-08-31T18:46:23.140Z"
   },
   {
    "duration": 34,
    "start_time": "2022-08-31T18:46:23.176Z"
   },
   {
    "duration": 4,
    "start_time": "2022-08-31T18:46:23.211Z"
   },
   {
    "duration": 14,
    "start_time": "2022-08-31T18:46:23.216Z"
   },
   {
    "duration": 20,
    "start_time": "2022-08-31T18:46:23.231Z"
   },
   {
    "duration": 16,
    "start_time": "2022-08-31T18:46:23.252Z"
   },
   {
    "duration": 3,
    "start_time": "2022-08-31T18:46:23.270Z"
   },
   {
    "duration": 39,
    "start_time": "2022-08-31T18:46:23.274Z"
   },
   {
    "duration": 6,
    "start_time": "2022-08-31T18:46:23.315Z"
   },
   {
    "duration": 7,
    "start_time": "2022-08-31T18:46:23.322Z"
   },
   {
    "duration": 12,
    "start_time": "2022-08-31T18:46:23.330Z"
   },
   {
    "duration": 11,
    "start_time": "2022-08-31T18:46:23.343Z"
   },
   {
    "duration": 8,
    "start_time": "2022-08-31T18:46:23.355Z"
   },
   {
    "duration": 7,
    "start_time": "2022-08-31T18:46:23.364Z"
   },
   {
    "duration": 37,
    "start_time": "2022-08-31T18:46:23.373Z"
   },
   {
    "duration": 61,
    "start_time": "2022-09-01T11:51:41.300Z"
   },
   {
    "duration": 538,
    "start_time": "2022-09-01T11:51:47.591Z"
   },
   {
    "duration": 24,
    "start_time": "2022-09-01T11:51:48.133Z"
   },
   {
    "duration": 15,
    "start_time": "2022-09-01T11:51:48.158Z"
   },
   {
    "duration": 9,
    "start_time": "2022-09-01T11:51:48.174Z"
   },
   {
    "duration": 33,
    "start_time": "2022-09-01T11:51:48.186Z"
   },
   {
    "duration": 4,
    "start_time": "2022-09-01T11:51:48.221Z"
   },
   {
    "duration": 10,
    "start_time": "2022-09-01T11:51:48.228Z"
   },
   {
    "duration": 4,
    "start_time": "2022-09-01T11:51:48.239Z"
   },
   {
    "duration": 11,
    "start_time": "2022-09-01T11:51:48.244Z"
   },
   {
    "duration": 4,
    "start_time": "2022-09-01T11:51:48.256Z"
   },
   {
    "duration": 59,
    "start_time": "2022-09-01T11:51:48.261Z"
   },
   {
    "duration": 13,
    "start_time": "2022-09-01T11:51:48.323Z"
   },
   {
    "duration": 4,
    "start_time": "2022-09-01T11:51:48.338Z"
   },
   {
    "duration": 10,
    "start_time": "2022-09-01T11:51:48.345Z"
   },
   {
    "duration": 20,
    "start_time": "2022-09-01T11:51:48.356Z"
   },
   {
    "duration": 32,
    "start_time": "2022-09-01T11:51:48.377Z"
   },
   {
    "duration": 6,
    "start_time": "2022-09-01T11:51:48.412Z"
   },
   {
    "duration": 18,
    "start_time": "2022-09-01T11:51:48.420Z"
   },
   {
    "duration": 7,
    "start_time": "2022-09-01T11:51:48.440Z"
   },
   {
    "duration": 5,
    "start_time": "2022-09-01T11:51:48.448Z"
   },
   {
    "duration": 12,
    "start_time": "2022-09-01T11:51:48.454Z"
   },
   {
    "duration": 9,
    "start_time": "2022-09-01T11:51:48.467Z"
   },
   {
    "duration": 30,
    "start_time": "2022-09-01T11:51:48.477Z"
   },
   {
    "duration": 12,
    "start_time": "2022-09-01T11:51:48.509Z"
   },
   {
    "duration": 14,
    "start_time": "2022-09-01T11:51:48.523Z"
   },
   {
    "duration": 29,
    "start_time": "2022-09-01T11:53:52.321Z"
   },
   {
    "duration": 11,
    "start_time": "2022-09-01T11:54:05.779Z"
   },
   {
    "duration": 6,
    "start_time": "2022-09-01T11:55:17.287Z"
   },
   {
    "duration": 9,
    "start_time": "2022-09-01T12:00:40.029Z"
   },
   {
    "duration": 7,
    "start_time": "2022-09-01T12:00:48.329Z"
   },
   {
    "duration": 8,
    "start_time": "2022-09-01T12:01:20.369Z"
   },
   {
    "duration": 5,
    "start_time": "2022-09-01T12:01:29.587Z"
   },
   {
    "duration": 9,
    "start_time": "2022-09-01T12:02:31.209Z"
   },
   {
    "duration": 5,
    "start_time": "2022-09-01T12:02:37.324Z"
   },
   {
    "duration": 4,
    "start_time": "2022-09-01T12:02:45.389Z"
   },
   {
    "duration": 7,
    "start_time": "2022-09-01T12:02:55.529Z"
   },
   {
    "duration": 24,
    "start_time": "2022-09-01T12:07:57.899Z"
   },
   {
    "duration": 10,
    "start_time": "2022-09-01T12:08:33.949Z"
   },
   {
    "duration": 9,
    "start_time": "2022-09-01T12:08:44.827Z"
   },
   {
    "duration": 8,
    "start_time": "2022-09-01T12:08:53.580Z"
   },
   {
    "duration": 9,
    "start_time": "2022-09-01T12:08:57.688Z"
   },
   {
    "duration": 8,
    "start_time": "2022-09-01T12:09:11.419Z"
   },
   {
    "duration": 14,
    "start_time": "2022-09-01T12:09:47.180Z"
   },
   {
    "duration": 7,
    "start_time": "2022-09-01T12:10:05.290Z"
   },
   {
    "duration": 7,
    "start_time": "2022-09-01T12:13:53.649Z"
   },
   {
    "duration": 8,
    "start_time": "2022-09-01T12:13:57.879Z"
   },
   {
    "duration": 9,
    "start_time": "2022-09-01T12:14:50.870Z"
   },
   {
    "duration": 11,
    "start_time": "2022-09-01T12:14:58.144Z"
   },
   {
    "duration": 8,
    "start_time": "2022-09-01T12:16:05.694Z"
   },
   {
    "duration": 10,
    "start_time": "2022-09-01T12:16:40.115Z"
   },
   {
    "duration": 32,
    "start_time": "2022-09-01T12:18:19.994Z"
   },
   {
    "duration": 22,
    "start_time": "2022-09-01T12:18:37.340Z"
   },
   {
    "duration": 69,
    "start_time": "2022-09-01T12:18:45.939Z"
   },
   {
    "duration": 21,
    "start_time": "2022-09-01T12:18:46.010Z"
   },
   {
    "duration": 45,
    "start_time": "2022-09-01T12:18:46.033Z"
   },
   {
    "duration": 40,
    "start_time": "2022-09-01T12:18:46.081Z"
   },
   {
    "duration": 84,
    "start_time": "2022-09-01T12:18:46.122Z"
   },
   {
    "duration": 4,
    "start_time": "2022-09-01T12:18:46.209Z"
   },
   {
    "duration": 43,
    "start_time": "2022-09-01T12:18:46.215Z"
   },
   {
    "duration": 24,
    "start_time": "2022-09-01T12:18:46.260Z"
   },
   {
    "duration": 33,
    "start_time": "2022-09-01T12:18:46.286Z"
   },
   {
    "duration": 18,
    "start_time": "2022-09-01T12:18:46.323Z"
   },
   {
    "duration": 54,
    "start_time": "2022-09-01T12:18:46.343Z"
   },
   {
    "duration": 8,
    "start_time": "2022-09-01T12:18:46.398Z"
   },
   {
    "duration": 4,
    "start_time": "2022-09-01T12:18:46.408Z"
   },
   {
    "duration": 11,
    "start_time": "2022-09-01T12:18:46.413Z"
   },
   {
    "duration": 19,
    "start_time": "2022-09-01T12:18:46.426Z"
   },
   {
    "duration": 16,
    "start_time": "2022-09-01T12:18:46.446Z"
   },
   {
    "duration": 3,
    "start_time": "2022-09-01T12:18:46.464Z"
   },
   {
    "duration": 37,
    "start_time": "2022-09-01T12:18:46.470Z"
   },
   {
    "duration": 9,
    "start_time": "2022-09-01T12:18:46.509Z"
   },
   {
    "duration": 3,
    "start_time": "2022-09-01T12:18:46.519Z"
   },
   {
    "duration": 11,
    "start_time": "2022-09-01T12:18:46.524Z"
   },
   {
    "duration": 22,
    "start_time": "2022-09-01T12:18:47.678Z"
   },
   {
    "duration": 18,
    "start_time": "2022-09-01T12:19:19.394Z"
   },
   {
    "duration": 7,
    "start_time": "2022-09-01T12:20:07.619Z"
   },
   {
    "duration": 8,
    "start_time": "2022-09-01T12:20:14.908Z"
   },
   {
    "duration": 6,
    "start_time": "2022-09-01T12:21:35.352Z"
   },
   {
    "duration": 7,
    "start_time": "2022-09-01T12:22:35.918Z"
   },
   {
    "duration": 8,
    "start_time": "2022-09-01T12:22:44.248Z"
   },
   {
    "duration": 9,
    "start_time": "2022-09-01T12:31:03.684Z"
   },
   {
    "duration": 9,
    "start_time": "2022-09-01T12:32:01.359Z"
   },
   {
    "duration": 10,
    "start_time": "2022-09-01T12:32:46.278Z"
   },
   {
    "duration": 8,
    "start_time": "2022-09-01T12:32:51.148Z"
   },
   {
    "duration": 4,
    "start_time": "2022-09-01T12:34:37.789Z"
   },
   {
    "duration": 9,
    "start_time": "2022-09-01T12:34:47.518Z"
   },
   {
    "duration": 65,
    "start_time": "2022-09-01T12:35:09.158Z"
   },
   {
    "duration": 14,
    "start_time": "2022-09-01T12:35:09.225Z"
   },
   {
    "duration": 15,
    "start_time": "2022-09-01T12:35:09.240Z"
   },
   {
    "duration": 8,
    "start_time": "2022-09-01T12:35:09.257Z"
   },
   {
    "duration": 54,
    "start_time": "2022-09-01T12:35:09.266Z"
   },
   {
    "duration": 4,
    "start_time": "2022-09-01T12:35:09.321Z"
   },
   {
    "duration": 16,
    "start_time": "2022-09-01T12:35:09.326Z"
   },
   {
    "duration": 9,
    "start_time": "2022-09-01T12:35:09.343Z"
   },
   {
    "duration": 14,
    "start_time": "2022-09-01T12:35:09.353Z"
   },
   {
    "duration": 4,
    "start_time": "2022-09-01T12:35:09.369Z"
   },
   {
    "duration": 38,
    "start_time": "2022-09-01T12:35:09.375Z"
   },
   {
    "duration": 10,
    "start_time": "2022-09-01T12:35:09.414Z"
   },
   {
    "duration": 13,
    "start_time": "2022-09-01T12:35:09.425Z"
   },
   {
    "duration": 12,
    "start_time": "2022-09-01T12:35:09.439Z"
   },
   {
    "duration": 21,
    "start_time": "2022-09-01T12:35:09.453Z"
   },
   {
    "duration": 15,
    "start_time": "2022-09-01T12:35:09.476Z"
   },
   {
    "duration": 4,
    "start_time": "2022-09-01T12:35:09.505Z"
   },
   {
    "duration": 16,
    "start_time": "2022-09-01T12:35:09.511Z"
   },
   {
    "duration": 6,
    "start_time": "2022-09-01T12:35:09.528Z"
   },
   {
    "duration": 3,
    "start_time": "2022-09-01T12:35:09.536Z"
   },
   {
    "duration": 10,
    "start_time": "2022-09-01T12:35:09.541Z"
   },
   {
    "duration": 11,
    "start_time": "2022-09-01T12:35:11.298Z"
   },
   {
    "duration": 9,
    "start_time": "2022-09-01T12:35:12.879Z"
   },
   {
    "duration": 11,
    "start_time": "2022-09-01T12:39:08.079Z"
   },
   {
    "duration": 10,
    "start_time": "2022-09-01T12:39:20.194Z"
   },
   {
    "duration": 13,
    "start_time": "2022-09-01T12:39:32.280Z"
   },
   {
    "duration": 11,
    "start_time": "2022-09-01T12:39:44.208Z"
   },
   {
    "duration": 12,
    "start_time": "2022-09-01T12:39:54.500Z"
   },
   {
    "duration": 7,
    "start_time": "2022-09-01T12:40:04.694Z"
   },
   {
    "duration": 9,
    "start_time": "2022-09-01T12:40:14.079Z"
   },
   {
    "duration": 7,
    "start_time": "2022-09-01T12:41:34.718Z"
   },
   {
    "duration": 9,
    "start_time": "2022-09-01T12:44:56.020Z"
   },
   {
    "duration": 9,
    "start_time": "2022-09-01T12:45:18.789Z"
   },
   {
    "duration": 10,
    "start_time": "2022-09-01T12:46:04.788Z"
   },
   {
    "duration": 9,
    "start_time": "2022-09-01T12:46:37.988Z"
   },
   {
    "duration": 8,
    "start_time": "2022-09-01T12:46:40.101Z"
   },
   {
    "duration": 12,
    "start_time": "2022-09-01T12:46:41.282Z"
   },
   {
    "duration": 9,
    "start_time": "2022-09-01T12:46:59.918Z"
   },
   {
    "duration": 4,
    "start_time": "2022-09-01T12:47:01.828Z"
   },
   {
    "duration": 4,
    "start_time": "2022-09-01T12:47:03.498Z"
   },
   {
    "duration": 15,
    "start_time": "2022-09-01T12:47:11.696Z"
   },
   {
    "duration": 4,
    "start_time": "2022-09-01T12:50:52.439Z"
   },
   {
    "duration": 9,
    "start_time": "2022-09-01T12:51:32.488Z"
   },
   {
    "duration": 3,
    "start_time": "2022-09-01T12:51:38.930Z"
   },
   {
    "duration": 5,
    "start_time": "2022-09-01T12:51:46.930Z"
   },
   {
    "duration": 9,
    "start_time": "2022-09-01T12:52:47.858Z"
   },
   {
    "duration": 10,
    "start_time": "2022-09-01T12:53:13.858Z"
   },
   {
    "duration": 10,
    "start_time": "2022-09-01T12:53:18.018Z"
   },
   {
    "duration": 5,
    "start_time": "2022-09-01T12:53:19.234Z"
   },
   {
    "duration": 7,
    "start_time": "2022-09-01T12:53:30.909Z"
   },
   {
    "duration": 6,
    "start_time": "2022-09-01T12:55:49.329Z"
   },
   {
    "duration": 5,
    "start_time": "2022-09-01T12:55:51.717Z"
   },
   {
    "duration": 8,
    "start_time": "2022-09-01T12:55:55.090Z"
   },
   {
    "duration": 7,
    "start_time": "2022-09-01T12:55:55.698Z"
   },
   {
    "duration": 93,
    "start_time": "2022-09-01T12:56:10.730Z"
   },
   {
    "duration": 4,
    "start_time": "2022-09-01T12:56:12.209Z"
   },
   {
    "duration": 15,
    "start_time": "2022-09-01T12:56:36.216Z"
   },
   {
    "duration": 6,
    "start_time": "2022-09-01T12:56:41.700Z"
   },
   {
    "duration": 5,
    "start_time": "2022-09-01T12:56:43.578Z"
   },
   {
    "duration": 11,
    "start_time": "2022-09-01T12:56:44.450Z"
   },
   {
    "duration": 5,
    "start_time": "2022-09-01T12:56:45.653Z"
   },
   {
    "duration": 64,
    "start_time": "2022-09-01T12:56:50.061Z"
   },
   {
    "duration": 14,
    "start_time": "2022-09-01T12:56:50.127Z"
   },
   {
    "duration": 22,
    "start_time": "2022-09-01T12:56:50.142Z"
   },
   {
    "duration": 10,
    "start_time": "2022-09-01T12:56:50.166Z"
   },
   {
    "duration": 40,
    "start_time": "2022-09-01T12:56:50.178Z"
   },
   {
    "duration": 2,
    "start_time": "2022-09-01T12:56:50.220Z"
   },
   {
    "duration": 10,
    "start_time": "2022-09-01T12:56:50.224Z"
   },
   {
    "duration": 4,
    "start_time": "2022-09-01T12:56:50.236Z"
   },
   {
    "duration": 7,
    "start_time": "2022-09-01T12:56:50.241Z"
   },
   {
    "duration": 7,
    "start_time": "2022-09-01T12:56:50.249Z"
   },
   {
    "duration": 50,
    "start_time": "2022-09-01T12:56:50.257Z"
   },
   {
    "duration": 8,
    "start_time": "2022-09-01T12:56:50.309Z"
   },
   {
    "duration": 7,
    "start_time": "2022-09-01T12:56:50.319Z"
   },
   {
    "duration": 24,
    "start_time": "2022-09-01T12:56:50.328Z"
   },
   {
    "duration": 19,
    "start_time": "2022-09-01T12:56:50.353Z"
   },
   {
    "duration": 18,
    "start_time": "2022-09-01T12:56:50.374Z"
   },
   {
    "duration": 15,
    "start_time": "2022-09-01T12:56:50.394Z"
   },
   {
    "duration": 13,
    "start_time": "2022-09-01T12:56:50.410Z"
   },
   {
    "duration": 6,
    "start_time": "2022-09-01T12:56:50.425Z"
   },
   {
    "duration": 5,
    "start_time": "2022-09-01T12:56:50.433Z"
   },
   {
    "duration": 11,
    "start_time": "2022-09-01T12:56:50.440Z"
   },
   {
    "duration": 13,
    "start_time": "2022-09-01T12:56:52.212Z"
   },
   {
    "duration": 5,
    "start_time": "2022-09-01T12:56:53.880Z"
   },
   {
    "duration": 10,
    "start_time": "2022-09-01T12:57:07.660Z"
   },
   {
    "duration": 5,
    "start_time": "2022-09-01T12:57:10.601Z"
   },
   {
    "duration": 63,
    "start_time": "2022-09-01T12:57:20.107Z"
   },
   {
    "duration": 13,
    "start_time": "2022-09-01T12:57:20.172Z"
   },
   {
    "duration": 13,
    "start_time": "2022-09-01T12:57:20.187Z"
   },
   {
    "duration": 9,
    "start_time": "2022-09-01T12:57:20.202Z"
   },
   {
    "duration": 35,
    "start_time": "2022-09-01T12:57:20.213Z"
   },
   {
    "duration": 3,
    "start_time": "2022-09-01T12:57:20.249Z"
   },
   {
    "duration": 16,
    "start_time": "2022-09-01T12:57:20.253Z"
   },
   {
    "duration": 4,
    "start_time": "2022-09-01T12:57:20.270Z"
   },
   {
    "duration": 8,
    "start_time": "2022-09-01T12:57:20.275Z"
   },
   {
    "duration": 5,
    "start_time": "2022-09-01T12:57:20.285Z"
   },
   {
    "duration": 41,
    "start_time": "2022-09-01T12:57:20.291Z"
   },
   {
    "duration": 9,
    "start_time": "2022-09-01T12:57:20.333Z"
   },
   {
    "duration": 5,
    "start_time": "2022-09-01T12:57:20.343Z"
   },
   {
    "duration": 10,
    "start_time": "2022-09-01T12:57:20.350Z"
   },
   {
    "duration": 18,
    "start_time": "2022-09-01T12:57:20.361Z"
   },
   {
    "duration": 34,
    "start_time": "2022-09-01T12:57:20.381Z"
   },
   {
    "duration": 3,
    "start_time": "2022-09-01T12:57:20.416Z"
   },
   {
    "duration": 15,
    "start_time": "2022-09-01T12:57:20.420Z"
   },
   {
    "duration": 10,
    "start_time": "2022-09-01T12:57:20.437Z"
   },
   {
    "duration": 7,
    "start_time": "2022-09-01T12:57:20.448Z"
   },
   {
    "duration": 11,
    "start_time": "2022-09-01T12:57:20.456Z"
   },
   {
    "duration": 11,
    "start_time": "2022-09-01T12:57:20.468Z"
   },
   {
    "duration": 6,
    "start_time": "2022-09-01T12:57:22.401Z"
   },
   {
    "duration": 12,
    "start_time": "2022-09-01T12:57:29.719Z"
   },
   {
    "duration": 5,
    "start_time": "2022-09-01T12:57:30.931Z"
   },
   {
    "duration": 14,
    "start_time": "2022-09-01T12:57:37.811Z"
   },
   {
    "duration": 7,
    "start_time": "2022-09-01T12:57:39.380Z"
   },
   {
    "duration": 13,
    "start_time": "2022-09-01T12:57:48.238Z"
   },
   {
    "duration": 7,
    "start_time": "2022-09-01T12:57:51.981Z"
   },
   {
    "duration": 7,
    "start_time": "2022-09-01T12:58:47.213Z"
   },
   {
    "duration": 6,
    "start_time": "2022-09-01T12:59:34.452Z"
   },
   {
    "duration": 9,
    "start_time": "2022-09-01T12:59:48.742Z"
   },
   {
    "duration": 8,
    "start_time": "2022-09-01T13:00:04.005Z"
   },
   {
    "duration": 7,
    "start_time": "2022-09-01T13:02:05.357Z"
   },
   {
    "duration": 7,
    "start_time": "2022-09-01T13:02:20.411Z"
   },
   {
    "duration": 8,
    "start_time": "2022-09-01T13:02:30.462Z"
   },
   {
    "duration": 108,
    "start_time": "2022-09-01T13:04:22.825Z"
   },
   {
    "duration": 6,
    "start_time": "2022-09-01T13:04:29.361Z"
   },
   {
    "duration": 8,
    "start_time": "2022-09-01T13:05:33.268Z"
   },
   {
    "duration": 9,
    "start_time": "2022-09-01T13:05:39.649Z"
   },
   {
    "duration": 7,
    "start_time": "2022-09-01T13:05:45.971Z"
   },
   {
    "duration": 90,
    "start_time": "2022-09-01T13:06:04.748Z"
   },
   {
    "duration": 72,
    "start_time": "2022-09-01T13:06:09.548Z"
   },
   {
    "duration": 80,
    "start_time": "2022-09-01T13:06:13.720Z"
   },
   {
    "duration": 79,
    "start_time": "2022-09-01T13:06:17.560Z"
   },
   {
    "duration": 95,
    "start_time": "2022-09-01T13:06:20.844Z"
   },
   {
    "duration": 72,
    "start_time": "2022-09-01T13:07:27.819Z"
   },
   {
    "duration": 8,
    "start_time": "2022-09-01T13:37:33.701Z"
   },
   {
    "duration": 138,
    "start_time": "2022-09-01T13:38:16.549Z"
   },
   {
    "duration": 106,
    "start_time": "2022-09-01T13:38:28.007Z"
   },
   {
    "duration": 218,
    "start_time": "2022-09-01T13:38:30.178Z"
   },
   {
    "duration": 83,
    "start_time": "2022-09-01T13:38:37.839Z"
   },
   {
    "duration": 62,
    "start_time": "2022-09-01T13:38:42.118Z"
   },
   {
    "duration": 14,
    "start_time": "2022-09-01T13:38:42.182Z"
   },
   {
    "duration": 14,
    "start_time": "2022-09-01T13:38:42.198Z"
   },
   {
    "duration": 8,
    "start_time": "2022-09-01T13:38:42.214Z"
   },
   {
    "duration": 28,
    "start_time": "2022-09-01T13:38:42.226Z"
   },
   {
    "duration": 3,
    "start_time": "2022-09-01T13:38:42.256Z"
   },
   {
    "duration": 9,
    "start_time": "2022-09-01T13:38:42.261Z"
   },
   {
    "duration": 4,
    "start_time": "2022-09-01T13:38:42.271Z"
   },
   {
    "duration": 32,
    "start_time": "2022-09-01T13:38:42.277Z"
   },
   {
    "duration": 5,
    "start_time": "2022-09-01T13:38:42.311Z"
   },
   {
    "duration": 30,
    "start_time": "2022-09-01T13:38:42.318Z"
   },
   {
    "duration": 10,
    "start_time": "2022-09-01T13:38:42.349Z"
   },
   {
    "duration": 4,
    "start_time": "2022-09-01T13:38:42.360Z"
   },
   {
    "duration": 39,
    "start_time": "2022-09-01T13:38:42.367Z"
   },
   {
    "duration": 17,
    "start_time": "2022-09-01T13:38:42.407Z"
   },
   {
    "duration": 15,
    "start_time": "2022-09-01T13:38:42.426Z"
   },
   {
    "duration": 3,
    "start_time": "2022-09-01T13:38:42.442Z"
   },
   {
    "duration": 11,
    "start_time": "2022-09-01T13:38:42.447Z"
   },
   {
    "duration": 5,
    "start_time": "2022-09-01T13:38:42.459Z"
   },
   {
    "duration": 3,
    "start_time": "2022-09-01T13:38:42.466Z"
   },
   {
    "duration": 38,
    "start_time": "2022-09-01T13:38:42.470Z"
   },
   {
    "duration": 14,
    "start_time": "2022-09-01T13:38:42.510Z"
   },
   {
    "duration": 0,
    "start_time": "2022-09-01T13:38:42.526Z"
   },
   {
    "duration": 0,
    "start_time": "2022-09-01T13:38:42.526Z"
   },
   {
    "duration": 0,
    "start_time": "2022-09-01T13:38:42.528Z"
   },
   {
    "duration": 0,
    "start_time": "2022-09-01T13:38:42.528Z"
   },
   {
    "duration": 135,
    "start_time": "2022-09-01T13:38:55.415Z"
   },
   {
    "duration": 11,
    "start_time": "2022-09-01T13:39:05.661Z"
   },
   {
    "duration": 11,
    "start_time": "2022-09-01T13:39:20.729Z"
   },
   {
    "duration": 8,
    "start_time": "2022-09-01T13:39:35.701Z"
   },
   {
    "duration": 10,
    "start_time": "2022-09-01T13:39:56.280Z"
   },
   {
    "duration": 11,
    "start_time": "2022-09-01T13:40:36.251Z"
   },
   {
    "duration": 9,
    "start_time": "2022-09-01T13:40:42.955Z"
   },
   {
    "duration": 11,
    "start_time": "2022-09-01T13:43:52.508Z"
   },
   {
    "duration": 9,
    "start_time": "2022-09-01T13:44:09.139Z"
   },
   {
    "duration": 9,
    "start_time": "2022-09-01T13:45:20.966Z"
   },
   {
    "duration": 8,
    "start_time": "2022-09-01T13:45:37.439Z"
   },
   {
    "duration": 76,
    "start_time": "2022-09-01T13:49:02.760Z"
   },
   {
    "duration": 71,
    "start_time": "2022-09-01T13:49:14.632Z"
   },
   {
    "duration": 63,
    "start_time": "2022-09-01T13:49:19.433Z"
   },
   {
    "duration": 15,
    "start_time": "2022-09-01T13:49:19.498Z"
   },
   {
    "duration": 15,
    "start_time": "2022-09-01T13:49:19.514Z"
   },
   {
    "duration": 8,
    "start_time": "2022-09-01T13:49:19.530Z"
   },
   {
    "duration": 31,
    "start_time": "2022-09-01T13:49:19.540Z"
   },
   {
    "duration": 4,
    "start_time": "2022-09-01T13:49:19.572Z"
   },
   {
    "duration": 30,
    "start_time": "2022-09-01T13:49:19.577Z"
   },
   {
    "duration": 5,
    "start_time": "2022-09-01T13:49:19.609Z"
   },
   {
    "duration": 6,
    "start_time": "2022-09-01T13:49:19.615Z"
   },
   {
    "duration": 6,
    "start_time": "2022-09-01T13:49:19.624Z"
   },
   {
    "duration": 33,
    "start_time": "2022-09-01T13:49:19.631Z"
   },
   {
    "duration": 8,
    "start_time": "2022-09-01T13:49:19.666Z"
   },
   {
    "duration": 3,
    "start_time": "2022-09-01T13:49:19.675Z"
   },
   {
    "duration": 38,
    "start_time": "2022-09-01T13:49:19.679Z"
   },
   {
    "duration": 20,
    "start_time": "2022-09-01T13:49:19.718Z"
   },
   {
    "duration": 23,
    "start_time": "2022-09-01T13:49:19.740Z"
   },
   {
    "duration": 4,
    "start_time": "2022-09-01T13:49:19.765Z"
   },
   {
    "duration": 12,
    "start_time": "2022-09-01T13:49:19.771Z"
   },
   {
    "duration": 10,
    "start_time": "2022-09-01T13:49:19.806Z"
   },
   {
    "duration": 3,
    "start_time": "2022-09-01T13:49:19.817Z"
   },
   {
    "duration": 11,
    "start_time": "2022-09-01T13:49:19.821Z"
   },
   {
    "duration": 13,
    "start_time": "2022-09-01T13:49:19.833Z"
   },
   {
    "duration": 0,
    "start_time": "2022-09-01T13:49:19.847Z"
   },
   {
    "duration": 73,
    "start_time": "2022-09-01T13:49:21.200Z"
   },
   {
    "duration": 73,
    "start_time": "2022-09-01T13:49:26.666Z"
   },
   {
    "duration": 10,
    "start_time": "2022-09-01T13:49:43.017Z"
   },
   {
    "duration": 12,
    "start_time": "2022-09-01T13:51:56.286Z"
   },
   {
    "duration": 68,
    "start_time": "2022-09-01T13:52:11.891Z"
   },
   {
    "duration": 15,
    "start_time": "2022-09-01T13:52:11.961Z"
   },
   {
    "duration": 16,
    "start_time": "2022-09-01T13:52:11.977Z"
   },
   {
    "duration": 17,
    "start_time": "2022-09-01T13:52:11.994Z"
   },
   {
    "duration": 39,
    "start_time": "2022-09-01T13:52:12.014Z"
   },
   {
    "duration": 4,
    "start_time": "2022-09-01T13:52:12.056Z"
   },
   {
    "duration": 15,
    "start_time": "2022-09-01T13:52:12.061Z"
   },
   {
    "duration": 14,
    "start_time": "2022-09-01T13:52:12.078Z"
   },
   {
    "duration": 8,
    "start_time": "2022-09-01T13:52:12.108Z"
   },
   {
    "duration": 4,
    "start_time": "2022-09-01T13:52:12.117Z"
   },
   {
    "duration": 34,
    "start_time": "2022-09-01T13:52:12.123Z"
   },
   {
    "duration": 8,
    "start_time": "2022-09-01T13:52:12.159Z"
   },
   {
    "duration": 5,
    "start_time": "2022-09-01T13:52:12.168Z"
   },
   {
    "duration": 9,
    "start_time": "2022-09-01T13:52:12.176Z"
   },
   {
    "duration": 37,
    "start_time": "2022-09-01T13:52:12.186Z"
   },
   {
    "duration": 18,
    "start_time": "2022-09-01T13:52:12.224Z"
   },
   {
    "duration": 8,
    "start_time": "2022-09-01T13:52:12.243Z"
   },
   {
    "duration": 30,
    "start_time": "2022-09-01T13:52:12.252Z"
   },
   {
    "duration": 19,
    "start_time": "2022-09-01T13:52:12.283Z"
   },
   {
    "duration": 37,
    "start_time": "2022-09-01T13:52:12.304Z"
   },
   {
    "duration": 45,
    "start_time": "2022-09-01T13:52:12.343Z"
   },
   {
    "duration": 38,
    "start_time": "2022-09-01T13:52:12.389Z"
   },
   {
    "duration": 12,
    "start_time": "2022-09-01T13:52:30.477Z"
   },
   {
    "duration": 64,
    "start_time": "2022-09-01T13:52:34.919Z"
   },
   {
    "duration": 13,
    "start_time": "2022-09-01T13:52:34.985Z"
   },
   {
    "duration": 12,
    "start_time": "2022-09-01T13:52:35.000Z"
   },
   {
    "duration": 8,
    "start_time": "2022-09-01T13:52:35.014Z"
   },
   {
    "duration": 32,
    "start_time": "2022-09-01T13:52:35.024Z"
   },
   {
    "duration": 3,
    "start_time": "2022-09-01T13:52:35.057Z"
   },
   {
    "duration": 25,
    "start_time": "2022-09-01T13:52:35.061Z"
   },
   {
    "duration": 4,
    "start_time": "2022-09-01T13:52:35.087Z"
   },
   {
    "duration": 14,
    "start_time": "2022-09-01T13:52:35.092Z"
   },
   {
    "duration": 8,
    "start_time": "2022-09-01T13:52:35.108Z"
   },
   {
    "duration": 33,
    "start_time": "2022-09-01T13:52:35.117Z"
   },
   {
    "duration": 8,
    "start_time": "2022-09-01T13:52:35.152Z"
   },
   {
    "duration": 6,
    "start_time": "2022-09-01T13:52:35.161Z"
   },
   {
    "duration": 11,
    "start_time": "2022-09-01T13:52:35.169Z"
   },
   {
    "duration": 35,
    "start_time": "2022-09-01T13:52:35.181Z"
   },
   {
    "duration": 16,
    "start_time": "2022-09-01T13:52:35.218Z"
   },
   {
    "duration": 3,
    "start_time": "2022-09-01T13:52:35.236Z"
   },
   {
    "duration": 12,
    "start_time": "2022-09-01T13:52:35.241Z"
   },
   {
    "duration": 5,
    "start_time": "2022-09-01T13:52:35.255Z"
   },
   {
    "duration": 6,
    "start_time": "2022-09-01T13:52:35.261Z"
   },
   {
    "duration": 12,
    "start_time": "2022-09-01T13:52:35.269Z"
   },
   {
    "duration": 33,
    "start_time": "2022-09-01T13:52:35.282Z"
   },
   {
    "duration": 0,
    "start_time": "2022-09-01T13:52:35.316Z"
   },
   {
    "duration": 0,
    "start_time": "2022-09-01T13:52:35.317Z"
   },
   {
    "duration": 0,
    "start_time": "2022-09-01T13:52:35.318Z"
   },
   {
    "duration": 0,
    "start_time": "2022-09-01T13:52:35.319Z"
   },
   {
    "duration": 14,
    "start_time": "2022-09-01T13:52:58.618Z"
   },
   {
    "duration": 8,
    "start_time": "2022-09-01T13:53:32.112Z"
   },
   {
    "duration": 8,
    "start_time": "2022-09-01T13:53:33.467Z"
   },
   {
    "duration": 65,
    "start_time": "2022-09-01T13:53:36.925Z"
   },
   {
    "duration": 16,
    "start_time": "2022-09-01T13:53:36.993Z"
   },
   {
    "duration": 16,
    "start_time": "2022-09-01T13:53:37.010Z"
   },
   {
    "duration": 11,
    "start_time": "2022-09-01T13:53:37.027Z"
   },
   {
    "duration": 39,
    "start_time": "2022-09-01T13:53:37.040Z"
   },
   {
    "duration": 3,
    "start_time": "2022-09-01T13:53:37.080Z"
   },
   {
    "duration": 25,
    "start_time": "2022-09-01T13:53:37.085Z"
   },
   {
    "duration": 4,
    "start_time": "2022-09-01T13:53:37.112Z"
   },
   {
    "duration": 10,
    "start_time": "2022-09-01T13:53:37.117Z"
   },
   {
    "duration": 7,
    "start_time": "2022-09-01T13:53:37.128Z"
   },
   {
    "duration": 85,
    "start_time": "2022-09-01T13:53:37.136Z"
   },
   {
    "duration": 14,
    "start_time": "2022-09-01T13:53:37.222Z"
   },
   {
    "duration": 6,
    "start_time": "2022-09-01T13:53:37.238Z"
   },
   {
    "duration": 12,
    "start_time": "2022-09-01T13:53:37.247Z"
   },
   {
    "duration": 25,
    "start_time": "2022-09-01T13:53:37.261Z"
   },
   {
    "duration": 34,
    "start_time": "2022-09-01T13:53:37.288Z"
   },
   {
    "duration": 4,
    "start_time": "2022-09-01T13:53:37.323Z"
   },
   {
    "duration": 20,
    "start_time": "2022-09-01T13:53:37.329Z"
   },
   {
    "duration": 8,
    "start_time": "2022-09-01T13:53:37.351Z"
   },
   {
    "duration": 5,
    "start_time": "2022-09-01T13:53:37.361Z"
   },
   {
    "duration": 46,
    "start_time": "2022-09-01T13:53:37.368Z"
   },
   {
    "duration": 22,
    "start_time": "2022-09-01T13:53:37.416Z"
   },
   {
    "duration": 0,
    "start_time": "2022-09-01T13:53:37.440Z"
   },
   {
    "duration": 0,
    "start_time": "2022-09-01T13:53:37.442Z"
   },
   {
    "duration": 0,
    "start_time": "2022-09-01T13:53:37.443Z"
   },
   {
    "duration": 11,
    "start_time": "2022-09-01T13:53:53.340Z"
   },
   {
    "duration": 12,
    "start_time": "2022-09-01T13:54:01.506Z"
   },
   {
    "duration": 74,
    "start_time": "2022-09-01T13:54:04.174Z"
   },
   {
    "duration": 135,
    "start_time": "2022-09-01T13:54:07.408Z"
   },
   {
    "duration": 11,
    "start_time": "2022-09-01T13:54:10.445Z"
   },
   {
    "duration": 14,
    "start_time": "2022-09-01T13:54:26.068Z"
   },
   {
    "duration": 15,
    "start_time": "2022-09-01T13:54:31.022Z"
   },
   {
    "duration": 25,
    "start_time": "2022-09-01T13:54:40.718Z"
   },
   {
    "duration": 12,
    "start_time": "2022-09-01T13:54:45.582Z"
   },
   {
    "duration": 6,
    "start_time": "2022-09-01T13:54:53.580Z"
   },
   {
    "duration": 11,
    "start_time": "2022-09-01T13:55:06.647Z"
   },
   {
    "duration": 22,
    "start_time": "2022-09-01T13:55:28.061Z"
   },
   {
    "duration": 10,
    "start_time": "2022-09-01T13:55:37.112Z"
   },
   {
    "duration": 12,
    "start_time": "2022-09-01T13:55:52.924Z"
   },
   {
    "duration": 18,
    "start_time": "2022-09-01T13:55:57.059Z"
   },
   {
    "duration": 11,
    "start_time": "2022-09-01T13:56:24.963Z"
   },
   {
    "duration": 11,
    "start_time": "2022-09-01T13:56:45.507Z"
   },
   {
    "duration": 16,
    "start_time": "2022-09-01T13:56:50.949Z"
   },
   {
    "duration": 11,
    "start_time": "2022-09-01T13:56:53.980Z"
   },
   {
    "duration": 12,
    "start_time": "2022-09-01T13:57:04.827Z"
   },
   {
    "duration": 8,
    "start_time": "2022-09-01T13:57:20.865Z"
   },
   {
    "duration": 7,
    "start_time": "2022-09-01T13:57:25.053Z"
   },
   {
    "duration": 10,
    "start_time": "2022-09-01T14:00:37.691Z"
   },
   {
    "duration": 9,
    "start_time": "2022-09-01T14:00:39.007Z"
   },
   {
    "duration": 7,
    "start_time": "2022-09-01T14:00:45.497Z"
   },
   {
    "duration": 70,
    "start_time": "2022-09-01T14:01:25.860Z"
   },
   {
    "duration": 1338,
    "start_time": "2022-09-01T14:01:37.946Z"
   },
   {
    "duration": 9,
    "start_time": "2022-09-01T14:01:58.676Z"
   },
   {
    "duration": 823,
    "start_time": "2022-09-01T14:02:47.552Z"
   },
   {
    "duration": 8,
    "start_time": "2022-09-01T14:03:18.408Z"
   },
   {
    "duration": 13,
    "start_time": "2022-09-01T14:04:21.899Z"
   },
   {
    "duration": 9,
    "start_time": "2022-09-01T14:05:21.024Z"
   },
   {
    "duration": 9,
    "start_time": "2022-09-01T14:05:30.505Z"
   },
   {
    "duration": 9,
    "start_time": "2022-09-01T14:06:52.839Z"
   },
   {
    "duration": 5,
    "start_time": "2022-09-01T14:07:04.818Z"
   },
   {
    "duration": 6,
    "start_time": "2022-09-01T14:09:36.349Z"
   },
   {
    "duration": 7,
    "start_time": "2022-09-01T14:09:39.596Z"
   },
   {
    "duration": 6,
    "start_time": "2022-09-01T14:09:44.458Z"
   },
   {
    "duration": 1247,
    "start_time": "2022-09-01T14:09:52.000Z"
   },
   {
    "duration": 5,
    "start_time": "2022-09-01T14:10:12.440Z"
   },
   {
    "duration": 1232,
    "start_time": "2022-09-01T14:10:22.128Z"
   },
   {
    "duration": 2,
    "start_time": "2022-09-01T14:10:32.439Z"
   },
   {
    "duration": 8,
    "start_time": "2022-09-01T14:16:51.609Z"
   },
   {
    "duration": 8,
    "start_time": "2022-09-01T14:23:17.806Z"
   },
   {
    "duration": 10,
    "start_time": "2022-09-01T14:23:25.076Z"
   },
   {
    "duration": 11,
    "start_time": "2022-09-01T14:24:23.346Z"
   },
   {
    "duration": 13,
    "start_time": "2022-09-01T14:27:51.591Z"
   },
   {
    "duration": 8,
    "start_time": "2022-09-01T14:28:23.456Z"
   },
   {
    "duration": 11,
    "start_time": "2022-09-01T14:28:36.935Z"
   },
   {
    "duration": 8,
    "start_time": "2022-09-01T14:28:55.537Z"
   },
   {
    "duration": 10,
    "start_time": "2022-09-01T14:29:13.845Z"
   },
   {
    "duration": 11,
    "start_time": "2022-09-01T14:29:38.815Z"
   },
   {
    "duration": 12,
    "start_time": "2022-09-01T14:29:47.156Z"
   },
   {
    "duration": 15,
    "start_time": "2022-09-01T14:34:35.967Z"
   },
   {
    "duration": 17,
    "start_time": "2022-09-01T14:47:52.505Z"
   },
   {
    "duration": 11,
    "start_time": "2022-09-01T14:48:02.911Z"
   },
   {
    "duration": 8,
    "start_time": "2022-09-01T14:55:21.444Z"
   },
   {
    "duration": 12,
    "start_time": "2022-09-01T14:57:21.404Z"
   },
   {
    "duration": 19,
    "start_time": "2022-09-01T14:57:22.406Z"
   },
   {
    "duration": 12,
    "start_time": "2022-09-01T14:57:28.234Z"
   },
   {
    "duration": 8,
    "start_time": "2022-09-01T14:57:34.444Z"
   },
   {
    "duration": 7,
    "start_time": "2022-09-01T14:57:35.834Z"
   },
   {
    "duration": 82,
    "start_time": "2022-09-01T14:57:55.669Z"
   },
   {
    "duration": 6,
    "start_time": "2022-09-01T14:57:59.890Z"
   },
   {
    "duration": 6,
    "start_time": "2022-09-01T14:58:01.624Z"
   },
   {
    "duration": 6,
    "start_time": "2022-09-01T14:58:14.344Z"
   },
   {
    "duration": 6,
    "start_time": "2022-09-01T14:59:15.113Z"
   },
   {
    "duration": 8,
    "start_time": "2022-09-01T15:00:12.166Z"
   },
   {
    "duration": 7,
    "start_time": "2022-09-01T15:00:12.914Z"
   },
   {
    "duration": 9,
    "start_time": "2022-09-01T15:00:40.463Z"
   },
   {
    "duration": 7,
    "start_time": "2022-09-01T15:00:41.296Z"
   },
   {
    "duration": 8,
    "start_time": "2022-09-01T15:01:15.444Z"
   },
   {
    "duration": 7,
    "start_time": "2022-09-01T15:01:16.014Z"
   },
   {
    "duration": 7,
    "start_time": "2022-09-01T15:02:01.791Z"
   },
   {
    "duration": 10,
    "start_time": "2022-09-01T15:02:14.124Z"
   },
   {
    "duration": 9,
    "start_time": "2022-09-01T15:03:26.674Z"
   },
   {
    "duration": 6,
    "start_time": "2022-09-01T15:03:41.290Z"
   },
   {
    "duration": 9,
    "start_time": "2022-09-01T15:04:19.636Z"
   },
   {
    "duration": 7,
    "start_time": "2022-09-01T15:04:20.584Z"
   },
   {
    "duration": 9,
    "start_time": "2022-09-01T15:04:47.594Z"
   },
   {
    "duration": 8,
    "start_time": "2022-09-01T15:04:53.000Z"
   },
   {
    "duration": 8,
    "start_time": "2022-09-01T15:04:53.894Z"
   },
   {
    "duration": 10,
    "start_time": "2022-09-01T15:06:28.553Z"
   },
   {
    "duration": 11,
    "start_time": "2022-09-01T15:06:36.304Z"
   },
   {
    "duration": 6,
    "start_time": "2022-09-01T15:06:51.225Z"
   },
   {
    "duration": 10,
    "start_time": "2022-09-01T15:07:10.743Z"
   },
   {
    "duration": 7,
    "start_time": "2022-09-01T15:07:33.556Z"
   },
   {
    "duration": 5,
    "start_time": "2022-09-01T15:07:47.794Z"
   },
   {
    "duration": 183,
    "start_time": "2022-09-01T15:40:32.805Z"
   },
   {
    "duration": 115,
    "start_time": "2022-09-01T15:40:37.476Z"
   },
   {
    "duration": 28,
    "start_time": "2022-09-01T15:44:24.833Z"
   },
   {
    "duration": 8,
    "start_time": "2022-09-01T15:44:55.443Z"
   },
   {
    "duration": 9,
    "start_time": "2022-09-01T15:45:22.224Z"
   },
   {
    "duration": 7,
    "start_time": "2022-09-01T15:45:23.514Z"
   },
   {
    "duration": 11,
    "start_time": "2022-09-01T15:46:52.466Z"
   },
   {
    "duration": 17,
    "start_time": "2022-09-01T15:46:53.684Z"
   },
   {
    "duration": 13,
    "start_time": "2022-09-01T15:47:06.883Z"
   },
   {
    "duration": 13,
    "start_time": "2022-09-01T15:47:09.256Z"
   },
   {
    "duration": 21,
    "start_time": "2022-09-01T15:47:28.113Z"
   },
   {
    "duration": 7,
    "start_time": "2022-09-01T15:48:04.393Z"
   },
   {
    "duration": 8,
    "start_time": "2022-09-01T15:48:09.282Z"
   },
   {
    "duration": 7,
    "start_time": "2022-09-01T15:53:36.654Z"
   },
   {
    "duration": 9,
    "start_time": "2022-09-01T15:54:43.993Z"
   },
   {
    "duration": 11,
    "start_time": "2022-09-01T15:54:54.612Z"
   },
   {
    "duration": 5,
    "start_time": "2022-09-01T15:55:28.974Z"
   },
   {
    "duration": 9,
    "start_time": "2022-09-01T15:58:51.424Z"
   },
   {
    "duration": 5,
    "start_time": "2022-09-01T15:58:54.533Z"
   },
   {
    "duration": 6,
    "start_time": "2022-09-01T15:59:16.874Z"
   },
   {
    "duration": 6,
    "start_time": "2022-09-01T15:59:55.202Z"
   },
   {
    "duration": 9,
    "start_time": "2022-09-01T16:05:49.116Z"
   },
   {
    "duration": 9,
    "start_time": "2022-09-01T16:07:35.323Z"
   },
   {
    "duration": 7,
    "start_time": "2022-09-01T16:07:50.273Z"
   },
   {
    "duration": 7,
    "start_time": "2022-09-01T16:08:05.252Z"
   },
   {
    "duration": 8,
    "start_time": "2022-09-01T16:08:14.592Z"
   },
   {
    "duration": 8,
    "start_time": "2022-09-01T16:14:59.602Z"
   },
   {
    "duration": 11,
    "start_time": "2022-09-01T16:15:22.363Z"
   },
   {
    "duration": 7,
    "start_time": "2022-09-01T16:15:26.600Z"
   },
   {
    "duration": 8,
    "start_time": "2022-09-01T16:15:27.345Z"
   },
   {
    "duration": 11,
    "start_time": "2022-09-01T16:15:30.954Z"
   },
   {
    "duration": 8,
    "start_time": "2022-09-01T16:15:35.833Z"
   },
   {
    "duration": 7,
    "start_time": "2022-09-01T16:15:37.403Z"
   },
   {
    "duration": 9,
    "start_time": "2022-09-01T16:15:44.062Z"
   },
   {
    "duration": 7,
    "start_time": "2022-09-01T16:15:45.304Z"
   },
   {
    "duration": 3,
    "start_time": "2022-09-01T16:53:53.592Z"
   },
   {
    "duration": 7,
    "start_time": "2022-09-01T16:54:22.080Z"
   },
   {
    "duration": 8,
    "start_time": "2022-09-01T16:55:21.700Z"
   },
   {
    "duration": 7,
    "start_time": "2022-09-01T16:55:23.000Z"
   },
   {
    "duration": 7,
    "start_time": "2022-09-01T16:55:38.561Z"
   },
   {
    "duration": 9,
    "start_time": "2022-09-01T16:56:18.040Z"
   },
   {
    "duration": 7,
    "start_time": "2022-09-01T16:56:19.480Z"
   },
   {
    "duration": 8,
    "start_time": "2022-09-01T16:56:56.100Z"
   },
   {
    "duration": 7,
    "start_time": "2022-09-01T16:57:25.420Z"
   },
   {
    "duration": 7,
    "start_time": "2022-09-01T16:57:48.480Z"
   },
   {
    "duration": 7,
    "start_time": "2022-09-01T16:58:01.620Z"
   },
   {
    "duration": 8,
    "start_time": "2022-09-01T16:58:23.490Z"
   },
   {
    "duration": 6,
    "start_time": "2022-09-01T16:58:45.790Z"
   },
   {
    "duration": 7,
    "start_time": "2022-09-01T16:59:33.050Z"
   },
   {
    "duration": 538,
    "start_time": "2022-09-01T17:37:10.159Z"
   },
   {
    "duration": 63,
    "start_time": "2022-09-01T17:39:49.429Z"
   },
   {
    "duration": 14,
    "start_time": "2022-09-01T17:39:49.493Z"
   },
   {
    "duration": 26,
    "start_time": "2022-09-01T17:39:49.508Z"
   },
   {
    "duration": 10,
    "start_time": "2022-09-01T17:39:49.535Z"
   },
   {
    "duration": 29,
    "start_time": "2022-09-01T17:39:49.547Z"
   },
   {
    "duration": 3,
    "start_time": "2022-09-01T17:39:49.577Z"
   },
   {
    "duration": 9,
    "start_time": "2022-09-01T17:39:49.582Z"
   },
   {
    "duration": 15,
    "start_time": "2022-09-01T17:39:49.593Z"
   },
   {
    "duration": 6,
    "start_time": "2022-09-01T17:39:49.610Z"
   },
   {
    "duration": 6,
    "start_time": "2022-09-01T17:39:49.617Z"
   },
   {
    "duration": 32,
    "start_time": "2022-09-01T17:39:49.624Z"
   },
   {
    "duration": 8,
    "start_time": "2022-09-01T17:39:49.657Z"
   },
   {
    "duration": 5,
    "start_time": "2022-09-01T17:39:49.666Z"
   },
   {
    "duration": 33,
    "start_time": "2022-09-01T17:39:49.673Z"
   },
   {
    "duration": 20,
    "start_time": "2022-09-01T17:39:49.707Z"
   },
   {
    "duration": 16,
    "start_time": "2022-09-01T17:39:49.728Z"
   },
   {
    "duration": 4,
    "start_time": "2022-09-01T17:39:49.745Z"
   },
   {
    "duration": 11,
    "start_time": "2022-09-01T17:39:49.750Z"
   },
   {
    "duration": 9,
    "start_time": "2022-09-01T17:39:49.763Z"
   },
   {
    "duration": 7,
    "start_time": "2022-09-01T17:39:49.773Z"
   },
   {
    "duration": 32,
    "start_time": "2022-09-01T17:39:49.782Z"
   },
   {
    "duration": 11,
    "start_time": "2022-09-01T17:39:49.815Z"
   },
   {
    "duration": 6,
    "start_time": "2022-09-01T17:39:49.828Z"
   },
   {
    "duration": 14,
    "start_time": "2022-09-01T17:39:49.835Z"
   },
   {
    "duration": 6,
    "start_time": "2022-09-01T17:39:49.850Z"
   },
   {
    "duration": 9,
    "start_time": "2022-09-01T17:39:49.857Z"
   },
   {
    "duration": 6,
    "start_time": "2022-09-01T17:39:49.868Z"
   },
   {
    "duration": 30,
    "start_time": "2022-09-01T17:39:49.876Z"
   },
   {
    "duration": 6,
    "start_time": "2022-09-01T17:39:49.907Z"
   },
   {
    "duration": 707,
    "start_time": "2022-09-02T06:33:22.812Z"
   },
   {
    "duration": 25,
    "start_time": "2022-09-02T06:33:23.520Z"
   },
   {
    "duration": 20,
    "start_time": "2022-09-02T06:33:23.547Z"
   },
   {
    "duration": 20,
    "start_time": "2022-09-02T06:33:23.569Z"
   },
   {
    "duration": 35,
    "start_time": "2022-09-02T06:33:23.593Z"
   },
   {
    "duration": 4,
    "start_time": "2022-09-02T06:33:23.630Z"
   },
   {
    "duration": 11,
    "start_time": "2022-09-02T06:33:23.636Z"
   },
   {
    "duration": 9,
    "start_time": "2022-09-02T06:33:23.649Z"
   },
   {
    "duration": 44,
    "start_time": "2022-09-02T06:33:23.660Z"
   },
   {
    "duration": 5,
    "start_time": "2022-09-02T06:33:23.708Z"
   },
   {
    "duration": 35,
    "start_time": "2022-09-02T06:33:23.715Z"
   },
   {
    "duration": 9,
    "start_time": "2022-09-02T06:33:23.752Z"
   },
   {
    "duration": 6,
    "start_time": "2022-09-02T06:33:23.763Z"
   },
   {
    "duration": 26,
    "start_time": "2022-09-02T06:33:23.784Z"
   },
   {
    "duration": 26,
    "start_time": "2022-09-02T06:33:23.812Z"
   },
   {
    "duration": 17,
    "start_time": "2022-09-02T06:33:23.839Z"
   },
   {
    "duration": 4,
    "start_time": "2022-09-02T06:33:23.858Z"
   },
   {
    "duration": 15,
    "start_time": "2022-09-02T06:33:23.863Z"
   },
   {
    "duration": 20,
    "start_time": "2022-09-02T06:33:23.880Z"
   },
   {
    "duration": 5,
    "start_time": "2022-09-02T06:33:23.902Z"
   },
   {
    "duration": 15,
    "start_time": "2022-09-02T06:33:23.909Z"
   },
   {
    "duration": 15,
    "start_time": "2022-09-02T06:33:23.926Z"
   },
   {
    "duration": 84,
    "start_time": "2022-09-02T06:33:23.943Z"
   },
   {
    "duration": 0,
    "start_time": "2022-09-02T06:33:24.029Z"
   },
   {
    "duration": 0,
    "start_time": "2022-09-02T06:33:24.031Z"
   },
   {
    "duration": 0,
    "start_time": "2022-09-02T06:33:24.033Z"
   },
   {
    "duration": 0,
    "start_time": "2022-09-02T06:33:24.034Z"
   },
   {
    "duration": 0,
    "start_time": "2022-09-02T06:33:24.035Z"
   },
   {
    "duration": 0,
    "start_time": "2022-09-02T06:33:24.036Z"
   },
   {
    "duration": 12,
    "start_time": "2022-09-02T06:33:54.436Z"
   },
   {
    "duration": 8,
    "start_time": "2022-09-02T06:33:54.453Z"
   },
   {
    "duration": 14,
    "start_time": "2022-09-02T06:33:54.463Z"
   },
   {
    "duration": 30,
    "start_time": "2022-09-02T06:33:54.480Z"
   },
   {
    "duration": 18,
    "start_time": "2022-09-02T06:33:54.514Z"
   },
   {
    "duration": 15,
    "start_time": "2022-09-02T06:33:54.534Z"
   },
   {
    "duration": 9,
    "start_time": "2022-09-02T06:34:40.560Z"
   },
   {
    "duration": 17,
    "start_time": "2022-09-02T06:45:23.456Z"
   },
   {
    "duration": 8,
    "start_time": "2022-09-02T06:45:52.471Z"
   },
   {
    "duration": 14,
    "start_time": "2022-09-02T06:45:59.582Z"
   },
   {
    "duration": 16,
    "start_time": "2022-09-02T06:46:11.211Z"
   },
   {
    "duration": 41,
    "start_time": "2022-09-02T08:28:57.052Z"
   },
   {
    "duration": 7,
    "start_time": "2022-09-02T08:29:12.598Z"
   },
   {
    "duration": 494,
    "start_time": "2022-09-02T08:29:20.104Z"
   },
   {
    "duration": 21,
    "start_time": "2022-09-02T08:29:20.600Z"
   },
   {
    "duration": 15,
    "start_time": "2022-09-02T08:29:20.622Z"
   },
   {
    "duration": 26,
    "start_time": "2022-09-02T08:29:20.639Z"
   },
   {
    "duration": 35,
    "start_time": "2022-09-02T08:29:20.667Z"
   },
   {
    "duration": 4,
    "start_time": "2022-09-02T08:29:20.703Z"
   },
   {
    "duration": 17,
    "start_time": "2022-09-02T08:29:20.708Z"
   },
   {
    "duration": 16,
    "start_time": "2022-09-02T08:29:20.726Z"
   },
   {
    "duration": 20,
    "start_time": "2022-09-02T08:29:20.744Z"
   },
   {
    "duration": 13,
    "start_time": "2022-09-02T08:29:20.765Z"
   },
   {
    "duration": 45,
    "start_time": "2022-09-02T08:29:20.779Z"
   },
   {
    "duration": 8,
    "start_time": "2022-09-02T08:29:20.826Z"
   },
   {
    "duration": 9,
    "start_time": "2022-09-02T08:29:20.836Z"
   },
   {
    "duration": 18,
    "start_time": "2022-09-02T08:29:20.848Z"
   },
   {
    "duration": 19,
    "start_time": "2022-09-02T08:29:20.867Z"
   },
   {
    "duration": 22,
    "start_time": "2022-09-02T08:29:20.888Z"
   },
   {
    "duration": 3,
    "start_time": "2022-09-02T08:29:20.911Z"
   },
   {
    "duration": 13,
    "start_time": "2022-09-02T08:29:20.916Z"
   },
   {
    "duration": 20,
    "start_time": "2022-09-02T08:29:20.931Z"
   },
   {
    "duration": 21,
    "start_time": "2022-09-02T08:29:20.952Z"
   },
   {
    "duration": 18,
    "start_time": "2022-09-02T08:29:20.975Z"
   },
   {
    "duration": 14,
    "start_time": "2022-09-02T08:29:20.994Z"
   },
   {
    "duration": 7,
    "start_time": "2022-09-02T08:29:21.332Z"
   },
   {
    "duration": 7,
    "start_time": "2022-09-02T08:29:22.252Z"
   },
   {
    "duration": 10,
    "start_time": "2022-09-02T08:29:54.762Z"
   },
   {
    "duration": 27,
    "start_time": "2022-09-02T08:32:14.512Z"
   },
   {
    "duration": 9,
    "start_time": "2022-09-02T08:32:18.651Z"
   },
   {
    "duration": 7,
    "start_time": "2022-09-02T08:32:19.371Z"
   },
   {
    "duration": 17,
    "start_time": "2022-09-02T08:32:24.362Z"
   },
   {
    "duration": 8,
    "start_time": "2022-09-02T08:33:55.630Z"
   }
  ],
  "colab": {
   "name": "dpp_template_part2.ipynb",
   "provenance": []
  },
  "kernelspec": {
   "display_name": "Python 3 (ipykernel)",
   "language": "python",
   "name": "python3"
  },
  "language_info": {
   "codemirror_mode": {
    "name": "ipython",
    "version": 3
   },
   "file_extension": ".py",
   "mimetype": "text/x-python",
   "name": "python",
   "nbconvert_exporter": "python",
   "pygments_lexer": "ipython3",
   "version": "3.9.16"
  },
  "toc": {
   "base_numbering": 1,
   "nav_menu": {},
   "number_sections": true,
   "sideBar": true,
   "skip_h1_title": true,
   "title_cell": "Table of Contents",
   "title_sidebar": "Contents",
   "toc_cell": false,
   "toc_position": {},
   "toc_section_display": true,
   "toc_window_display": false
  }
 },
 "nbformat": 4,
 "nbformat_minor": 5
}
