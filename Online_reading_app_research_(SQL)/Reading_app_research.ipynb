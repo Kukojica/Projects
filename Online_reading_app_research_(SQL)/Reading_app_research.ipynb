{
 "cells": [
  {
   "cell_type": "markdown",
   "metadata": {},
   "source": [
    "## Настройка параметров и осмотр таблиц\n",
    "<a id='rev'></a>"
   ]
  },
  {
   "cell_type": "code",
   "execution_count": 1,
   "metadata": {},
   "outputs": [],
   "source": [
    "# импортируем библиотеки\n",
    "import pandas as pd\n",
    "from sqlalchemy import create_engine"
   ]
  },
  {
   "cell_type": "code",
   "execution_count": 2,
   "metadata": {},
   "outputs": [],
   "source": [
    "# устанавливаем параметры\n",
    "db_config = {'user': 'praktikum_student', # имя пользователя\n",
    "'pwd': 'Sdf4$2;d-d30pp', # пароль\n",
    "'host': 'rc1b-wcoijxj3yxfsf3fs.mdb.yandexcloud.net',\n",
    "'port': 6432, # порт подключения\n",
    "'db': 'data-analyst-final-project-db'} # название базы данных\n",
    "connection_string = 'postgresql://{}:{}@{}:{}/{}'.format(db_config['user'],\n",
    " db_config['pwd'],\n",
    " db_config['host'],\n",
    " db_config['port'],\n",
    " db_config['db'])"
   ]
  },
  {
   "cell_type": "code",
   "execution_count": 3,
   "metadata": {},
   "outputs": [],
   "source": [
    "# сохраняем коннектор\n",
    "engine = create_engine(connection_string, connect_args={'sslmode':'require'})"
   ]
  },
  {
   "cell_type": "code",
   "execution_count": 4,
   "metadata": {},
   "outputs": [],
   "source": [
    "q_books = ''' SELECT *\n",
    "            FROM books\n",
    "            LIMIT 5;\n",
    "        '''    "
   ]
  },
  {
   "cell_type": "code",
   "execution_count": 5,
   "metadata": {},
   "outputs": [
    {
     "data": {
      "text/html": [
       "<div>\n",
       "<style scoped>\n",
       "    .dataframe tbody tr th:only-of-type {\n",
       "        vertical-align: middle;\n",
       "    }\n",
       "\n",
       "    .dataframe tbody tr th {\n",
       "        vertical-align: top;\n",
       "    }\n",
       "\n",
       "    .dataframe thead th {\n",
       "        text-align: right;\n",
       "    }\n",
       "</style>\n",
       "<table border=\"1\" class=\"dataframe\">\n",
       "  <thead>\n",
       "    <tr style=\"text-align: right;\">\n",
       "      <th></th>\n",
       "      <th>book_id</th>\n",
       "      <th>author_id</th>\n",
       "      <th>title</th>\n",
       "      <th>num_pages</th>\n",
       "      <th>publication_date</th>\n",
       "      <th>publisher_id</th>\n",
       "    </tr>\n",
       "  </thead>\n",
       "  <tbody>\n",
       "    <tr>\n",
       "      <th>0</th>\n",
       "      <td>1</td>\n",
       "      <td>546</td>\n",
       "      <td>'Salem's Lot</td>\n",
       "      <td>594</td>\n",
       "      <td>2005-11-01</td>\n",
       "      <td>93</td>\n",
       "    </tr>\n",
       "    <tr>\n",
       "      <th>1</th>\n",
       "      <td>2</td>\n",
       "      <td>465</td>\n",
       "      <td>1 000 Places to See Before You Die</td>\n",
       "      <td>992</td>\n",
       "      <td>2003-05-22</td>\n",
       "      <td>336</td>\n",
       "    </tr>\n",
       "    <tr>\n",
       "      <th>2</th>\n",
       "      <td>3</td>\n",
       "      <td>407</td>\n",
       "      <td>13 Little Blue Envelopes (Little Blue Envelope...</td>\n",
       "      <td>322</td>\n",
       "      <td>2010-12-21</td>\n",
       "      <td>135</td>\n",
       "    </tr>\n",
       "    <tr>\n",
       "      <th>3</th>\n",
       "      <td>4</td>\n",
       "      <td>82</td>\n",
       "      <td>1491: New Revelations of the Americas Before C...</td>\n",
       "      <td>541</td>\n",
       "      <td>2006-10-10</td>\n",
       "      <td>309</td>\n",
       "    </tr>\n",
       "    <tr>\n",
       "      <th>4</th>\n",
       "      <td>5</td>\n",
       "      <td>125</td>\n",
       "      <td>1776</td>\n",
       "      <td>386</td>\n",
       "      <td>2006-07-04</td>\n",
       "      <td>268</td>\n",
       "    </tr>\n",
       "  </tbody>\n",
       "</table>\n",
       "</div>"
      ],
      "text/plain": [
       "   book_id  author_id                                              title  \\\n",
       "0        1        546                                       'Salem's Lot   \n",
       "1        2        465                 1 000 Places to See Before You Die   \n",
       "2        3        407  13 Little Blue Envelopes (Little Blue Envelope...   \n",
       "3        4         82  1491: New Revelations of the Americas Before C...   \n",
       "4        5        125                                               1776   \n",
       "\n",
       "   num_pages publication_date  publisher_id  \n",
       "0        594       2005-11-01            93  \n",
       "1        992       2003-05-22           336  \n",
       "2        322       2010-12-21           135  \n",
       "3        541       2006-10-10           309  \n",
       "4        386       2006-07-04           268  "
      ]
     },
     "execution_count": 5,
     "metadata": {},
     "output_type": "execute_result"
    }
   ],
   "source": [
    "data = pd.io.sql.read_sql(q_books, con = engine) #подключение к таблице с книгами\n",
    "data #вывод первых 5 строк"
   ]
  },
  {
   "cell_type": "code",
   "execution_count": 6,
   "metadata": {},
   "outputs": [],
   "source": [
    "q_authors = ''' SELECT *\n",
    "            FROM authors\n",
    "            LIMIT 5;\n",
    "        '''"
   ]
  },
  {
   "cell_type": "code",
   "execution_count": 7,
   "metadata": {
    "scrolled": true
   },
   "outputs": [
    {
     "data": {
      "text/html": [
       "<div>\n",
       "<style scoped>\n",
       "    .dataframe tbody tr th:only-of-type {\n",
       "        vertical-align: middle;\n",
       "    }\n",
       "\n",
       "    .dataframe tbody tr th {\n",
       "        vertical-align: top;\n",
       "    }\n",
       "\n",
       "    .dataframe thead th {\n",
       "        text-align: right;\n",
       "    }\n",
       "</style>\n",
       "<table border=\"1\" class=\"dataframe\">\n",
       "  <thead>\n",
       "    <tr style=\"text-align: right;\">\n",
       "      <th></th>\n",
       "      <th>author_id</th>\n",
       "      <th>author</th>\n",
       "    </tr>\n",
       "  </thead>\n",
       "  <tbody>\n",
       "    <tr>\n",
       "      <th>0</th>\n",
       "      <td>1</td>\n",
       "      <td>A.S. Byatt</td>\n",
       "    </tr>\n",
       "    <tr>\n",
       "      <th>1</th>\n",
       "      <td>2</td>\n",
       "      <td>Aesop/Laura Harris/Laura Gibbs</td>\n",
       "    </tr>\n",
       "    <tr>\n",
       "      <th>2</th>\n",
       "      <td>3</td>\n",
       "      <td>Agatha Christie</td>\n",
       "    </tr>\n",
       "    <tr>\n",
       "      <th>3</th>\n",
       "      <td>4</td>\n",
       "      <td>Alan Brennert</td>\n",
       "    </tr>\n",
       "    <tr>\n",
       "      <th>4</th>\n",
       "      <td>5</td>\n",
       "      <td>Alan Moore/David   Lloyd</td>\n",
       "    </tr>\n",
       "  </tbody>\n",
       "</table>\n",
       "</div>"
      ],
      "text/plain": [
       "   author_id                          author\n",
       "0          1                      A.S. Byatt\n",
       "1          2  Aesop/Laura Harris/Laura Gibbs\n",
       "2          3                 Agatha Christie\n",
       "3          4                   Alan Brennert\n",
       "4          5        Alan Moore/David   Lloyd"
      ]
     },
     "execution_count": 7,
     "metadata": {},
     "output_type": "execute_result"
    }
   ],
   "source": [
    "data = pd.io.sql.read_sql(q_authors, con = engine) #подключение к таблице с авторами\n",
    "data #вывод первых 5 строк"
   ]
  },
  {
   "cell_type": "code",
   "execution_count": 8,
   "metadata": {},
   "outputs": [],
   "source": [
    "q_publishers = ''' SELECT *\n",
    "            FROM publishers\n",
    "            LIMIT 5;\n",
    "        '''"
   ]
  },
  {
   "cell_type": "code",
   "execution_count": 9,
   "metadata": {},
   "outputs": [
    {
     "data": {
      "text/html": [
       "<div>\n",
       "<style scoped>\n",
       "    .dataframe tbody tr th:only-of-type {\n",
       "        vertical-align: middle;\n",
       "    }\n",
       "\n",
       "    .dataframe tbody tr th {\n",
       "        vertical-align: top;\n",
       "    }\n",
       "\n",
       "    .dataframe thead th {\n",
       "        text-align: right;\n",
       "    }\n",
       "</style>\n",
       "<table border=\"1\" class=\"dataframe\">\n",
       "  <thead>\n",
       "    <tr style=\"text-align: right;\">\n",
       "      <th></th>\n",
       "      <th>publisher_id</th>\n",
       "      <th>publisher</th>\n",
       "    </tr>\n",
       "  </thead>\n",
       "  <tbody>\n",
       "    <tr>\n",
       "      <th>0</th>\n",
       "      <td>1</td>\n",
       "      <td>Ace</td>\n",
       "    </tr>\n",
       "    <tr>\n",
       "      <th>1</th>\n",
       "      <td>2</td>\n",
       "      <td>Ace Book</td>\n",
       "    </tr>\n",
       "    <tr>\n",
       "      <th>2</th>\n",
       "      <td>3</td>\n",
       "      <td>Ace Books</td>\n",
       "    </tr>\n",
       "    <tr>\n",
       "      <th>3</th>\n",
       "      <td>4</td>\n",
       "      <td>Ace Hardcover</td>\n",
       "    </tr>\n",
       "    <tr>\n",
       "      <th>4</th>\n",
       "      <td>5</td>\n",
       "      <td>Addison Wesley Publishing Company</td>\n",
       "    </tr>\n",
       "  </tbody>\n",
       "</table>\n",
       "</div>"
      ],
      "text/plain": [
       "   publisher_id                          publisher\n",
       "0             1                                Ace\n",
       "1             2                           Ace Book\n",
       "2             3                          Ace Books\n",
       "3             4                      Ace Hardcover\n",
       "4             5  Addison Wesley Publishing Company"
      ]
     },
     "execution_count": 9,
     "metadata": {},
     "output_type": "execute_result"
    }
   ],
   "source": [
    "data = pd.io.sql.read_sql(q_publishers, con = engine) #подключение к таблице с издателями\n",
    "data #вывод первых 5 строк"
   ]
  },
  {
   "cell_type": "code",
   "execution_count": 10,
   "metadata": {},
   "outputs": [],
   "source": [
    "q_ratings = ''' SELECT *\n",
    "            FROM ratings\n",
    "            LIMIT 5;\n",
    "        '''"
   ]
  },
  {
   "cell_type": "code",
   "execution_count": 11,
   "metadata": {
    "scrolled": true
   },
   "outputs": [
    {
     "data": {
      "text/html": [
       "<div>\n",
       "<style scoped>\n",
       "    .dataframe tbody tr th:only-of-type {\n",
       "        vertical-align: middle;\n",
       "    }\n",
       "\n",
       "    .dataframe tbody tr th {\n",
       "        vertical-align: top;\n",
       "    }\n",
       "\n",
       "    .dataframe thead th {\n",
       "        text-align: right;\n",
       "    }\n",
       "</style>\n",
       "<table border=\"1\" class=\"dataframe\">\n",
       "  <thead>\n",
       "    <tr style=\"text-align: right;\">\n",
       "      <th></th>\n",
       "      <th>rating_id</th>\n",
       "      <th>book_id</th>\n",
       "      <th>username</th>\n",
       "      <th>rating</th>\n",
       "    </tr>\n",
       "  </thead>\n",
       "  <tbody>\n",
       "    <tr>\n",
       "      <th>0</th>\n",
       "      <td>1</td>\n",
       "      <td>1</td>\n",
       "      <td>ryanfranco</td>\n",
       "      <td>4</td>\n",
       "    </tr>\n",
       "    <tr>\n",
       "      <th>1</th>\n",
       "      <td>2</td>\n",
       "      <td>1</td>\n",
       "      <td>grantpatricia</td>\n",
       "      <td>2</td>\n",
       "    </tr>\n",
       "    <tr>\n",
       "      <th>2</th>\n",
       "      <td>3</td>\n",
       "      <td>1</td>\n",
       "      <td>brandtandrea</td>\n",
       "      <td>5</td>\n",
       "    </tr>\n",
       "    <tr>\n",
       "      <th>3</th>\n",
       "      <td>4</td>\n",
       "      <td>2</td>\n",
       "      <td>lorichen</td>\n",
       "      <td>3</td>\n",
       "    </tr>\n",
       "    <tr>\n",
       "      <th>4</th>\n",
       "      <td>5</td>\n",
       "      <td>2</td>\n",
       "      <td>mariokeller</td>\n",
       "      <td>2</td>\n",
       "    </tr>\n",
       "  </tbody>\n",
       "</table>\n",
       "</div>"
      ],
      "text/plain": [
       "   rating_id  book_id       username  rating\n",
       "0          1        1     ryanfranco       4\n",
       "1          2        1  grantpatricia       2\n",
       "2          3        1   brandtandrea       5\n",
       "3          4        2       lorichen       3\n",
       "4          5        2    mariokeller       2"
      ]
     },
     "execution_count": 11,
     "metadata": {},
     "output_type": "execute_result"
    }
   ],
   "source": [
    "data = pd.io.sql.read_sql(q_ratings, con = engine) #подключение к таблице с оценками пользователей\n",
    "data #вывод первых 5 строк"
   ]
  },
  {
   "cell_type": "code",
   "execution_count": 12,
   "metadata": {},
   "outputs": [],
   "source": [
    "q_reviews = ''' SELECT *\n",
    "            FROM reviews\n",
    "            LIMIT 5;\n",
    "        '''"
   ]
  },
  {
   "cell_type": "code",
   "execution_count": 13,
   "metadata": {
    "scrolled": true
   },
   "outputs": [
    {
     "data": {
      "text/html": [
       "<div>\n",
       "<style scoped>\n",
       "    .dataframe tbody tr th:only-of-type {\n",
       "        vertical-align: middle;\n",
       "    }\n",
       "\n",
       "    .dataframe tbody tr th {\n",
       "        vertical-align: top;\n",
       "    }\n",
       "\n",
       "    .dataframe thead th {\n",
       "        text-align: right;\n",
       "    }\n",
       "</style>\n",
       "<table border=\"1\" class=\"dataframe\">\n",
       "  <thead>\n",
       "    <tr style=\"text-align: right;\">\n",
       "      <th></th>\n",
       "      <th>review_id</th>\n",
       "      <th>book_id</th>\n",
       "      <th>username</th>\n",
       "      <th>text</th>\n",
       "    </tr>\n",
       "  </thead>\n",
       "  <tbody>\n",
       "    <tr>\n",
       "      <th>0</th>\n",
       "      <td>1</td>\n",
       "      <td>1</td>\n",
       "      <td>brandtandrea</td>\n",
       "      <td>Mention society tell send professor analysis. ...</td>\n",
       "    </tr>\n",
       "    <tr>\n",
       "      <th>1</th>\n",
       "      <td>2</td>\n",
       "      <td>1</td>\n",
       "      <td>ryanfranco</td>\n",
       "      <td>Foot glass pretty audience hit themselves. Amo...</td>\n",
       "    </tr>\n",
       "    <tr>\n",
       "      <th>2</th>\n",
       "      <td>3</td>\n",
       "      <td>2</td>\n",
       "      <td>lorichen</td>\n",
       "      <td>Listen treat keep worry. Miss husband tax but ...</td>\n",
       "    </tr>\n",
       "    <tr>\n",
       "      <th>3</th>\n",
       "      <td>4</td>\n",
       "      <td>3</td>\n",
       "      <td>johnsonamanda</td>\n",
       "      <td>Finally month interesting blue could nature cu...</td>\n",
       "    </tr>\n",
       "    <tr>\n",
       "      <th>4</th>\n",
       "      <td>5</td>\n",
       "      <td>3</td>\n",
       "      <td>scotttamara</td>\n",
       "      <td>Nation purpose heavy give wait song will. List...</td>\n",
       "    </tr>\n",
       "  </tbody>\n",
       "</table>\n",
       "</div>"
      ],
      "text/plain": [
       "   review_id  book_id       username  \\\n",
       "0          1        1   brandtandrea   \n",
       "1          2        1     ryanfranco   \n",
       "2          3        2       lorichen   \n",
       "3          4        3  johnsonamanda   \n",
       "4          5        3    scotttamara   \n",
       "\n",
       "                                                text  \n",
       "0  Mention society tell send professor analysis. ...  \n",
       "1  Foot glass pretty audience hit themselves. Amo...  \n",
       "2  Listen treat keep worry. Miss husband tax but ...  \n",
       "3  Finally month interesting blue could nature cu...  \n",
       "4  Nation purpose heavy give wait song will. List...  "
      ]
     },
     "execution_count": 13,
     "metadata": {},
     "output_type": "execute_result"
    }
   ],
   "source": [
    "data = pd.io.sql.read_sql(q_reviews, con = engine) #подключение к таблице с оьзорами \n",
    "data #вывод первых 5 строк"
   ]
  },
  {
   "cell_type": "markdown",
   "metadata": {},
   "source": [
    "## Подсчет, количества книг, которые вышли после 1 января 2000 года\n",
    "<a id='1'></a>"
   ]
  },
  {
   "cell_type": "code",
   "execution_count": 14,
   "metadata": {},
   "outputs": [],
   "source": [
    "query = ''' SELECT COUNT(DISTINCT book_id)\n",
    "            FROM books\n",
    "            WHERE publication_date > '2000-01-01';\n",
    "        '''"
   ]
  },
  {
   "cell_type": "code",
   "execution_count": 15,
   "metadata": {},
   "outputs": [
    {
     "data": {
      "text/html": [
       "<div>\n",
       "<style scoped>\n",
       "    .dataframe tbody tr th:only-of-type {\n",
       "        vertical-align: middle;\n",
       "    }\n",
       "\n",
       "    .dataframe tbody tr th {\n",
       "        vertical-align: top;\n",
       "    }\n",
       "\n",
       "    .dataframe thead th {\n",
       "        text-align: right;\n",
       "    }\n",
       "</style>\n",
       "<table border=\"1\" class=\"dataframe\">\n",
       "  <thead>\n",
       "    <tr style=\"text-align: right;\">\n",
       "      <th></th>\n",
       "      <th>count</th>\n",
       "    </tr>\n",
       "  </thead>\n",
       "  <tbody>\n",
       "    <tr>\n",
       "      <th>0</th>\n",
       "      <td>819</td>\n",
       "    </tr>\n",
       "  </tbody>\n",
       "</table>\n",
       "</div>"
      ],
      "text/plain": [
       "   count\n",
       "0    819"
      ]
     },
     "execution_count": 15,
     "metadata": {},
     "output_type": "execute_result"
    }
   ],
   "source": [
    "data = pd.io.sql.read_sql(query, con = engine)\n",
    "data"
   ]
  },
  {
   "cell_type": "markdown",
   "metadata": {},
   "source": [
    "**Вывод:** Всего было выпущено 819 книг после 1 января 2000 года."
   ]
  },
  {
   "cell_type": "markdown",
   "metadata": {},
   "source": [
    "## Подсчет количества обзоров и среднюю оценку каждой книги\n",
    "<a id='2'></a>"
   ]
  },
  {
   "cell_type": "code",
   "execution_count": 16,
   "metadata": {},
   "outputs": [],
   "source": [
    "query = ''' SELECT b.title, c_rw.rw, avg_rt.rt\n",
    "            FROM books AS b LEFT JOIN \n",
    "                        (SELECT book_id, AVG(rating) AS rt\n",
    "                        FROM ratings\n",
    "                        GROUP BY book_id) AS avg_rt ON b.book_id = avg_rt.book_id\n",
    "                        LEFT JOIN\n",
    "                        (SELECT book_id, COUNT(review_id) AS rw\n",
    "                        FROM reviews\n",
    "                        GROUP BY book_id) AS c_rw ON b.book_id = c_rw.book_id\n",
    "        '''"
   ]
  },
  {
   "cell_type": "code",
   "execution_count": 17,
   "metadata": {},
   "outputs": [
    {
     "data": {
      "text/html": [
       "<div>\n",
       "<style scoped>\n",
       "    .dataframe tbody tr th:only-of-type {\n",
       "        vertical-align: middle;\n",
       "    }\n",
       "\n",
       "    .dataframe tbody tr th {\n",
       "        vertical-align: top;\n",
       "    }\n",
       "\n",
       "    .dataframe thead th {\n",
       "        text-align: right;\n",
       "    }\n",
       "</style>\n",
       "<table border=\"1\" class=\"dataframe\">\n",
       "  <thead>\n",
       "    <tr style=\"text-align: right;\">\n",
       "      <th></th>\n",
       "      <th>title</th>\n",
       "      <th>rw</th>\n",
       "      <th>rt</th>\n",
       "    </tr>\n",
       "  </thead>\n",
       "  <tbody>\n",
       "    <tr>\n",
       "      <th>0</th>\n",
       "      <td>The Body in the Library (Miss Marple  #3)</td>\n",
       "      <td>2.0</td>\n",
       "      <td>4.500000</td>\n",
       "    </tr>\n",
       "    <tr>\n",
       "      <th>1</th>\n",
       "      <td>Galápagos</td>\n",
       "      <td>2.0</td>\n",
       "      <td>4.500000</td>\n",
       "    </tr>\n",
       "    <tr>\n",
       "      <th>2</th>\n",
       "      <td>A Tree Grows in Brooklyn</td>\n",
       "      <td>5.0</td>\n",
       "      <td>4.250000</td>\n",
       "    </tr>\n",
       "    <tr>\n",
       "      <th>3</th>\n",
       "      <td>Undaunted Courage: The Pioneering First Missio...</td>\n",
       "      <td>2.0</td>\n",
       "      <td>4.000000</td>\n",
       "    </tr>\n",
       "    <tr>\n",
       "      <th>4</th>\n",
       "      <td>The Prophet</td>\n",
       "      <td>4.0</td>\n",
       "      <td>4.285714</td>\n",
       "    </tr>\n",
       "    <tr>\n",
       "      <th>...</th>\n",
       "      <td>...</td>\n",
       "      <td>...</td>\n",
       "      <td>...</td>\n",
       "    </tr>\n",
       "    <tr>\n",
       "      <th>995</th>\n",
       "      <td>Alice in Wonderland</td>\n",
       "      <td>4.0</td>\n",
       "      <td>4.230769</td>\n",
       "    </tr>\n",
       "    <tr>\n",
       "      <th>996</th>\n",
       "      <td>A Woman of Substance (Emma Harte Saga #1)</td>\n",
       "      <td>2.0</td>\n",
       "      <td>5.000000</td>\n",
       "    </tr>\n",
       "    <tr>\n",
       "      <th>997</th>\n",
       "      <td>Christine</td>\n",
       "      <td>3.0</td>\n",
       "      <td>3.428571</td>\n",
       "    </tr>\n",
       "    <tr>\n",
       "      <th>998</th>\n",
       "      <td>The Magicians' Guild (Black Magician Trilogy  #1)</td>\n",
       "      <td>2.0</td>\n",
       "      <td>3.500000</td>\n",
       "    </tr>\n",
       "    <tr>\n",
       "      <th>999</th>\n",
       "      <td>The Plot Against America</td>\n",
       "      <td>2.0</td>\n",
       "      <td>3.000000</td>\n",
       "    </tr>\n",
       "  </tbody>\n",
       "</table>\n",
       "<p>1000 rows × 3 columns</p>\n",
       "</div>"
      ],
      "text/plain": [
       "                                                 title   rw        rt\n",
       "0            The Body in the Library (Miss Marple  #3)  2.0  4.500000\n",
       "1                                            Galápagos  2.0  4.500000\n",
       "2                             A Tree Grows in Brooklyn  5.0  4.250000\n",
       "3    Undaunted Courage: The Pioneering First Missio...  2.0  4.000000\n",
       "4                                          The Prophet  4.0  4.285714\n",
       "..                                                 ...  ...       ...\n",
       "995                                Alice in Wonderland  4.0  4.230769\n",
       "996          A Woman of Substance (Emma Harte Saga #1)  2.0  5.000000\n",
       "997                                          Christine  3.0  3.428571\n",
       "998  The Magicians' Guild (Black Magician Trilogy  #1)  2.0  3.500000\n",
       "999                           The Plot Against America  2.0  3.000000\n",
       "\n",
       "[1000 rows x 3 columns]"
      ]
     },
     "execution_count": 17,
     "metadata": {},
     "output_type": "execute_result"
    }
   ],
   "source": [
    "data = pd.io.sql.read_sql(query, con = engine)\n",
    "data"
   ]
  },
  {
   "cell_type": "markdown",
   "metadata": {},
   "source": [
    "**Вывод:** Для каждой из книг был посчитан средний рейтинг и общее количество обзоров на книгу."
   ]
  },
  {
   "cell_type": "markdown",
   "metadata": {},
   "source": [
    "## Определение издательства, которое выпустило наибольшее число книг толще 50 страниц\n",
    "<a id='3'></a>"
   ]
  },
  {
   "cell_type": "code",
   "execution_count": 18,
   "metadata": {},
   "outputs": [],
   "source": [
    "query = ''' SELECT pb.publisher, COUNT(b.book_id)\n",
    "            FROM books as b\n",
    "            INNER JOIN publishers AS pb ON b.publisher_id = pb.publisher_id\n",
    "            WHERE b.num_pages > 50\n",
    "            GROUP BY pb.publisher_id\n",
    "            ORDER BY count DESC\n",
    "            LIMIT 1;\n",
    "        '''"
   ]
  },
  {
   "cell_type": "code",
   "execution_count": 19,
   "metadata": {},
   "outputs": [
    {
     "data": {
      "text/html": [
       "<div>\n",
       "<style scoped>\n",
       "    .dataframe tbody tr th:only-of-type {\n",
       "        vertical-align: middle;\n",
       "    }\n",
       "\n",
       "    .dataframe tbody tr th {\n",
       "        vertical-align: top;\n",
       "    }\n",
       "\n",
       "    .dataframe thead th {\n",
       "        text-align: right;\n",
       "    }\n",
       "</style>\n",
       "<table border=\"1\" class=\"dataframe\">\n",
       "  <thead>\n",
       "    <tr style=\"text-align: right;\">\n",
       "      <th></th>\n",
       "      <th>publisher</th>\n",
       "      <th>count</th>\n",
       "    </tr>\n",
       "  </thead>\n",
       "  <tbody>\n",
       "    <tr>\n",
       "      <th>0</th>\n",
       "      <td>Penguin Books</td>\n",
       "      <td>42</td>\n",
       "    </tr>\n",
       "  </tbody>\n",
       "</table>\n",
       "</div>"
      ],
      "text/plain": [
       "       publisher  count\n",
       "0  Penguin Books     42"
      ]
     },
     "execution_count": 19,
     "metadata": {},
     "output_type": "execute_result"
    }
   ],
   "source": [
    "data = pd.io.sql.read_sql(query, con = engine)\n",
    "data"
   ]
  },
  {
   "cell_type": "markdown",
   "metadata": {},
   "source": [
    "**Вывод:** Издательством, которое выпустило наибольшее количество книг толще 50 страниц, является Penguin Books."
   ]
  },
  {
   "cell_type": "markdown",
   "metadata": {},
   "source": [
    "## Поиск автора с самой высокой средней оценкой книг\n",
    "<a id='4'></a>"
   ]
  },
  {
   "cell_type": "code",
   "execution_count": 20,
   "metadata": {},
   "outputs": [],
   "source": [
    "query1 = ''' SELECT au, AVG(r)\n",
    "            FROM (SELECT a.author AS au, AVG(rating) AS r\n",
    "                    FROM books AS b\n",
    "                    INNER JOIN ratings AS rt ON b.book_id = rt.book_id\n",
    "                    INNER JOIN authors AS a ON b.author_id = a.author_id\n",
    "                    GROUP BY b.book_id, a.author\n",
    "                    HAVING COUNT(rt.rating) > 50) as c\n",
    "            GROUP BY au\n",
    "            LIMIT 1;\n",
    "        '''"
   ]
  },
  {
   "cell_type": "code",
   "execution_count": 21,
   "metadata": {},
   "outputs": [
    {
     "data": {
      "text/html": [
       "<div>\n",
       "<style scoped>\n",
       "    .dataframe tbody tr th:only-of-type {\n",
       "        vertical-align: middle;\n",
       "    }\n",
       "\n",
       "    .dataframe tbody tr th {\n",
       "        vertical-align: top;\n",
       "    }\n",
       "\n",
       "    .dataframe thead th {\n",
       "        text-align: right;\n",
       "    }\n",
       "</style>\n",
       "<table border=\"1\" class=\"dataframe\">\n",
       "  <thead>\n",
       "    <tr style=\"text-align: right;\">\n",
       "      <th></th>\n",
       "      <th>au</th>\n",
       "      <th>avg</th>\n",
       "    </tr>\n",
       "  </thead>\n",
       "  <tbody>\n",
       "    <tr>\n",
       "      <th>0</th>\n",
       "      <td>J.K. Rowling/Mary GrandPré</td>\n",
       "      <td>4.283844</td>\n",
       "    </tr>\n",
       "  </tbody>\n",
       "</table>\n",
       "</div>"
      ],
      "text/plain": [
       "                           au       avg\n",
       "0  J.K. Rowling/Mary GrandPré  4.283844"
      ]
     },
     "execution_count": 21,
     "metadata": {},
     "output_type": "execute_result"
    }
   ],
   "source": [
    "data = pd.io.sql.read_sql(query1, con = engine)\n",
    "data"
   ]
  },
  {
   "cell_type": "markdown",
   "metadata": {},
   "source": [
    "**Вывод:** Автор с самой высокой средней оценкой книг - J.K. Rowling/Mary GrandPré, с рейтингом - 4.283844."
   ]
  },
  {
   "cell_type": "markdown",
   "metadata": {},
   "source": [
    "## Подсчет среднего количества обзоров от пользователей, которые поставили больше 48 оценок\n",
    "<a id='5'></a>"
   ]
  },
  {
   "cell_type": "code",
   "execution_count": 22,
   "metadata": {},
   "outputs": [],
   "source": [
    "query = ''' SELECT round(AVG(cn),1)\n",
    "            FROM (SELECT rv.username, COUNT(review_id) AS cn\n",
    "                    FROM (SELECT username\n",
    "                        FROM books as b\n",
    "                        INNER JOIN ratings AS rt ON b.book_id = rt.book_id\n",
    "                        GROUP BY username\n",
    "                        HAVING COUNT(rating_id) > 50) AS c\n",
    "                    INNER JOIN reviews AS rv ON rv.username = c.username\n",
    "                    GROUP BY rv.username) AS avg\n",
    "                \n",
    "        '''"
   ]
  },
  {
   "cell_type": "code",
   "execution_count": 23,
   "metadata": {
    "scrolled": true
   },
   "outputs": [
    {
     "data": {
      "text/html": [
       "<div>\n",
       "<style scoped>\n",
       "    .dataframe tbody tr th:only-of-type {\n",
       "        vertical-align: middle;\n",
       "    }\n",
       "\n",
       "    .dataframe tbody tr th {\n",
       "        vertical-align: top;\n",
       "    }\n",
       "\n",
       "    .dataframe thead th {\n",
       "        text-align: right;\n",
       "    }\n",
       "</style>\n",
       "<table border=\"1\" class=\"dataframe\">\n",
       "  <thead>\n",
       "    <tr style=\"text-align: right;\">\n",
       "      <th></th>\n",
       "      <th>round</th>\n",
       "    </tr>\n",
       "  </thead>\n",
       "  <tbody>\n",
       "    <tr>\n",
       "      <th>0</th>\n",
       "      <td>24.3</td>\n",
       "    </tr>\n",
       "  </tbody>\n",
       "</table>\n",
       "</div>"
      ],
      "text/plain": [
       "   round\n",
       "0   24.3"
      ]
     },
     "execution_count": 23,
     "metadata": {},
     "output_type": "execute_result"
    }
   ],
   "source": [
    "data = pd.io.sql.read_sql(query, con = engine)\n",
    "data"
   ]
  },
  {
   "cell_type": "markdown",
   "metadata": {},
   "source": [
    "**Вывод:** Среднее количество обзоров от пользователей, которые поставили больше 50 оценок - 24.3"
   ]
  },
  {
   "cell_type": "markdown",
   "metadata": {},
   "source": [
    "## Общий вывод\n",
    "<a id='concl'></a>"
   ]
  },
  {
   "cell_type": "markdown",
   "metadata": {},
   "source": [
    "**Вывод:** В ходе анализа базы данных сервиса для чтения книг обнаружилось, что после 1 января 2000 года было издано 819 книг. Для каждой из книг в базе данных было посчитано количество обзоров на нее и средний рейтинг. Был выявлен издатель с самым большим количеством изданных книг, которые толще 50 страниц - Penguin Books. Также, были проанализированы авторы книг с 50 и более оценками, была посчитана средняя оценка их книг и выявилось, что самый высокий средний рейтинг у книг J.K. Rowling/Mary GrandPré с рейтингом 4.283844. В заклчение, было выявлены пользователи, которые поставили книгам более 50 оценок. Затем, было подсчитано среднее количество обзоров этих пользователей, которое составило 24.3 обзора в среднем."
   ]
  }
 ],
 "metadata": {
  "ExecuteTimeLog": [
   {
    "duration": 511,
    "start_time": "2023-02-26T23:03:55.154Z"
   },
   {
    "duration": 5,
    "start_time": "2023-02-26T23:04:10.664Z"
   },
   {
    "duration": 8073,
    "start_time": "2023-02-26T23:04:12.859Z"
   },
   {
    "duration": 3,
    "start_time": "2023-02-26T23:07:36.273Z"
   },
   {
    "duration": 86,
    "start_time": "2023-02-26T23:07:56.464Z"
   },
   {
    "duration": 14,
    "start_time": "2023-02-26T23:07:59.851Z"
   },
   {
    "duration": 2,
    "start_time": "2023-02-26T23:08:13.095Z"
   },
   {
    "duration": 11,
    "start_time": "2023-02-26T23:08:13.480Z"
   },
   {
    "duration": 13,
    "start_time": "2023-02-26T23:08:13.991Z"
   },
   {
    "duration": 8,
    "start_time": "2023-02-26T23:08:20.130Z"
   },
   {
    "duration": 66,
    "start_time": "2023-02-26T23:33:32.120Z"
   },
   {
    "duration": 4,
    "start_time": "2023-02-26T23:33:34.950Z"
   },
   {
    "duration": 8,
    "start_time": "2023-02-26T23:33:38.958Z"
   },
   {
    "duration": 3,
    "start_time": "2023-02-26T23:34:25.978Z"
   },
   {
    "duration": 5,
    "start_time": "2023-02-26T23:34:25.983Z"
   },
   {
    "duration": 4,
    "start_time": "2023-02-26T23:34:25.990Z"
   },
   {
    "duration": 6,
    "start_time": "2023-02-26T23:34:25.997Z"
   },
   {
    "duration": 12,
    "start_time": "2023-02-26T23:34:26.005Z"
   },
   {
    "duration": 0,
    "start_time": "2023-02-26T23:34:26.018Z"
   },
   {
    "duration": 0,
    "start_time": "2023-02-26T23:34:26.019Z"
   },
   {
    "duration": 0,
    "start_time": "2023-02-26T23:34:26.020Z"
   },
   {
    "duration": 2,
    "start_time": "2023-02-26T23:34:59.879Z"
   },
   {
    "duration": 8,
    "start_time": "2023-02-26T23:35:00.506Z"
   },
   {
    "duration": 50,
    "start_time": "2023-02-26T23:35:01.220Z"
   },
   {
    "duration": 4,
    "start_time": "2023-02-26T23:35:16.205Z"
   },
   {
    "duration": 10,
    "start_time": "2023-02-26T23:35:16.851Z"
   },
   {
    "duration": 3,
    "start_time": "2023-02-26T23:35:29.506Z"
   },
   {
    "duration": 7,
    "start_time": "2023-02-26T23:35:30.762Z"
   },
   {
    "duration": 3,
    "start_time": "2023-02-26T23:36:54.156Z"
   },
   {
    "duration": 2,
    "start_time": "2023-02-26T23:36:59.449Z"
   },
   {
    "duration": 134,
    "start_time": "2023-02-26T23:36:59.970Z"
   },
   {
    "duration": 3,
    "start_time": "2023-02-26T23:37:10.513Z"
   },
   {
    "duration": 95,
    "start_time": "2023-02-26T23:37:10.970Z"
   },
   {
    "duration": 3,
    "start_time": "2023-02-26T23:37:19.799Z"
   },
   {
    "duration": 10,
    "start_time": "2023-02-26T23:37:20.240Z"
   },
   {
    "duration": 18,
    "start_time": "2023-02-26T23:37:28.632Z"
   },
   {
    "duration": 3,
    "start_time": "2023-02-26T23:37:44.957Z"
   },
   {
    "duration": 8,
    "start_time": "2023-02-26T23:37:45.286Z"
   },
   {
    "duration": 12,
    "start_time": "2023-02-26T23:37:48.947Z"
   },
   {
    "duration": 2,
    "start_time": "2023-02-26T23:38:16.239Z"
   },
   {
    "duration": 14,
    "start_time": "2023-02-26T23:38:16.627Z"
   },
   {
    "duration": 2,
    "start_time": "2023-02-26T23:38:29.025Z"
   },
   {
    "duration": 2,
    "start_time": "2023-02-26T23:38:41.424Z"
   },
   {
    "duration": 16,
    "start_time": "2023-02-26T23:38:41.723Z"
   },
   {
    "duration": 3,
    "start_time": "2023-02-26T23:39:09.650Z"
   },
   {
    "duration": 15,
    "start_time": "2023-02-26T23:39:09.965Z"
   },
   {
    "duration": 79,
    "start_time": "2023-02-26T23:40:27.720Z"
   },
   {
    "duration": 3,
    "start_time": "2023-02-26T23:40:34.978Z"
   },
   {
    "duration": 10,
    "start_time": "2023-02-26T23:41:07.161Z"
   },
   {
    "duration": 10,
    "start_time": "2023-02-26T23:41:11.467Z"
   },
   {
    "duration": 9,
    "start_time": "2023-02-26T23:41:14.283Z"
   },
   {
    "duration": 93,
    "start_time": "2023-02-26T23:41:22.352Z"
   },
   {
    "duration": 4,
    "start_time": "2023-02-26T23:41:41.607Z"
   },
   {
    "duration": 89,
    "start_time": "2023-02-26T23:41:42.062Z"
   },
   {
    "duration": 3,
    "start_time": "2023-02-26T23:42:11.170Z"
   },
   {
    "duration": 124,
    "start_time": "2023-02-26T23:42:11.682Z"
   },
   {
    "duration": 70,
    "start_time": "2023-02-26T23:42:40.554Z"
   },
   {
    "duration": 9,
    "start_time": "2023-02-26T23:42:40.744Z"
   },
   {
    "duration": 4,
    "start_time": "2023-02-26T23:42:53.307Z"
   },
   {
    "duration": 7,
    "start_time": "2023-02-26T23:42:53.794Z"
   },
   {
    "duration": 104,
    "start_time": "2023-02-26T23:42:57.191Z"
   },
   {
    "duration": 3,
    "start_time": "2023-02-26T23:49:32.119Z"
   },
   {
    "duration": 117,
    "start_time": "2023-02-26T23:49:38.329Z"
   },
   {
    "duration": 2,
    "start_time": "2023-02-26T23:50:28.247Z"
   },
   {
    "duration": 12,
    "start_time": "2023-02-26T23:50:28.771Z"
   },
   {
    "duration": 3,
    "start_time": "2023-02-26T23:50:46.377Z"
   },
   {
    "duration": 11,
    "start_time": "2023-02-26T23:50:46.653Z"
   },
   {
    "duration": 3,
    "start_time": "2023-02-26T23:50:56.698Z"
   },
   {
    "duration": 11,
    "start_time": "2023-02-26T23:50:57.127Z"
   },
   {
    "duration": 2,
    "start_time": "2023-02-26T23:51:02.483Z"
   },
   {
    "duration": 10,
    "start_time": "2023-02-26T23:51:03.211Z"
   },
   {
    "duration": 2,
    "start_time": "2023-02-26T23:57:21.952Z"
   },
   {
    "duration": 11,
    "start_time": "2023-02-26T23:57:22.522Z"
   },
   {
    "duration": 2,
    "start_time": "2023-02-27T00:02:08.162Z"
   },
   {
    "duration": 93,
    "start_time": "2023-02-27T00:02:08.674Z"
   },
   {
    "duration": 3,
    "start_time": "2023-02-27T00:02:25.716Z"
   },
   {
    "duration": 95,
    "start_time": "2023-02-27T00:02:26.583Z"
   },
   {
    "duration": 3,
    "start_time": "2023-02-27T00:03:06.075Z"
   },
   {
    "duration": 30,
    "start_time": "2023-02-27T00:03:06.997Z"
   },
   {
    "duration": 2,
    "start_time": "2023-02-27T00:03:21.595Z"
   },
   {
    "duration": 27,
    "start_time": "2023-02-27T00:03:22.073Z"
   },
   {
    "duration": 2,
    "start_time": "2023-02-27T00:14:59.882Z"
   },
   {
    "duration": 99,
    "start_time": "2023-02-27T00:15:00.543Z"
   },
   {
    "duration": 3,
    "start_time": "2023-02-27T00:15:27.570Z"
   },
   {
    "duration": 16,
    "start_time": "2023-02-27T00:15:27.913Z"
   },
   {
    "duration": 3,
    "start_time": "2023-02-27T00:15:44.695Z"
   },
   {
    "duration": 20,
    "start_time": "2023-02-27T00:15:45.243Z"
   },
   {
    "duration": 3,
    "start_time": "2023-02-27T00:16:14.688Z"
   },
   {
    "duration": 13,
    "start_time": "2023-02-27T00:16:14.998Z"
   },
   {
    "duration": 3,
    "start_time": "2023-02-27T00:16:20.297Z"
   },
   {
    "duration": 16,
    "start_time": "2023-02-27T00:16:20.593Z"
   },
   {
    "duration": 2,
    "start_time": "2023-02-27T00:16:30.930Z"
   },
   {
    "duration": 17,
    "start_time": "2023-02-27T00:16:31.275Z"
   },
   {
    "duration": 3,
    "start_time": "2023-02-27T00:24:37.701Z"
   },
   {
    "duration": 15,
    "start_time": "2023-02-27T00:24:37.934Z"
   },
   {
    "duration": 2,
    "start_time": "2023-02-27T00:25:19.470Z"
   },
   {
    "duration": 16,
    "start_time": "2023-02-27T00:25:19.978Z"
   },
   {
    "duration": 3,
    "start_time": "2023-02-27T00:29:40.174Z"
   },
   {
    "duration": 3,
    "start_time": "2023-02-27T00:29:45.276Z"
   },
   {
    "duration": 86,
    "start_time": "2023-02-27T00:29:45.675Z"
   },
   {
    "duration": 3,
    "start_time": "2023-02-27T00:30:11.983Z"
   },
   {
    "duration": 93,
    "start_time": "2023-02-27T00:30:12.472Z"
   },
   {
    "duration": 10,
    "start_time": "2023-02-27T00:37:40.036Z"
   },
   {
    "duration": 19,
    "start_time": "2023-02-27T00:37:40.480Z"
   },
   {
    "duration": 3,
    "start_time": "2023-02-27T00:52:08.499Z"
   },
   {
    "duration": 96,
    "start_time": "2023-02-27T00:52:09.158Z"
   },
   {
    "duration": 3,
    "start_time": "2023-02-27T00:52:28.464Z"
   },
   {
    "duration": 96,
    "start_time": "2023-02-27T00:52:28.857Z"
   },
   {
    "duration": 4,
    "start_time": "2023-02-27T00:53:06.021Z"
   },
   {
    "duration": 121,
    "start_time": "2023-02-27T00:53:06.332Z"
   },
   {
    "duration": 2,
    "start_time": "2023-02-27T00:53:52.487Z"
   },
   {
    "duration": 103,
    "start_time": "2023-02-27T00:53:52.984Z"
   },
   {
    "duration": 3,
    "start_time": "2023-02-27T00:54:59.211Z"
   },
   {
    "duration": 88,
    "start_time": "2023-02-27T00:54:59.484Z"
   },
   {
    "duration": 3,
    "start_time": "2023-02-27T00:55:18.093Z"
   },
   {
    "duration": 93,
    "start_time": "2023-02-27T00:55:18.377Z"
   },
   {
    "duration": 3,
    "start_time": "2023-02-27T00:55:50.530Z"
   },
   {
    "duration": 95,
    "start_time": "2023-02-27T00:55:50.772Z"
   },
   {
    "duration": 3,
    "start_time": "2023-02-27T00:56:05.921Z"
   },
   {
    "duration": 99,
    "start_time": "2023-02-27T00:56:06.171Z"
   },
   {
    "duration": 2,
    "start_time": "2023-02-27T01:07:36.924Z"
   },
   {
    "duration": 14,
    "start_time": "2023-02-27T01:07:37.500Z"
   },
   {
    "duration": 3,
    "start_time": "2023-02-27T01:09:29.384Z"
   },
   {
    "duration": 18,
    "start_time": "2023-02-27T01:09:30.486Z"
   },
   {
    "duration": 3,
    "start_time": "2023-02-27T01:12:05.252Z"
   },
   {
    "duration": 18,
    "start_time": "2023-02-27T01:12:06.076Z"
   },
   {
    "duration": 2,
    "start_time": "2023-02-27T01:12:25.132Z"
   },
   {
    "duration": 101,
    "start_time": "2023-02-27T01:12:25.376Z"
   },
   {
    "duration": 2,
    "start_time": "2023-02-27T01:12:56.305Z"
   },
   {
    "duration": 18,
    "start_time": "2023-02-27T01:12:56.628Z"
   },
   {
    "duration": 3,
    "start_time": "2023-02-27T01:13:22.157Z"
   },
   {
    "duration": 19,
    "start_time": "2023-02-27T01:13:22.639Z"
   },
   {
    "duration": 3,
    "start_time": "2023-02-27T01:13:31.537Z"
   },
   {
    "duration": 18,
    "start_time": "2023-02-27T01:13:31.857Z"
   },
   {
    "duration": 3,
    "start_time": "2023-02-27T01:17:42.477Z"
   },
   {
    "duration": 91,
    "start_time": "2023-02-27T01:17:42.712Z"
   },
   {
    "duration": 3,
    "start_time": "2023-02-27T01:18:05.797Z"
   },
   {
    "duration": 98,
    "start_time": "2023-02-27T01:18:06.156Z"
   },
   {
    "duration": 3,
    "start_time": "2023-02-27T01:19:40.094Z"
   },
   {
    "duration": 96,
    "start_time": "2023-02-27T01:19:40.358Z"
   },
   {
    "duration": 3,
    "start_time": "2023-02-27T01:20:03.618Z"
   },
   {
    "duration": 19,
    "start_time": "2023-02-27T01:20:03.853Z"
   },
   {
    "duration": 3,
    "start_time": "2023-02-27T01:32:18.130Z"
   },
   {
    "duration": 99,
    "start_time": "2023-02-27T01:32:18.851Z"
   },
   {
    "duration": 3,
    "start_time": "2023-02-27T01:32:25.637Z"
   },
   {
    "duration": 94,
    "start_time": "2023-02-27T01:32:25.870Z"
   },
   {
    "duration": 4,
    "start_time": "2023-02-27T01:33:06.397Z"
   },
   {
    "duration": 97,
    "start_time": "2023-02-27T01:33:06.707Z"
   },
   {
    "duration": 2,
    "start_time": "2023-02-27T01:33:14.962Z"
   },
   {
    "duration": 103,
    "start_time": "2023-02-27T01:33:15.281Z"
   },
   {
    "duration": 5,
    "start_time": "2023-02-27T01:35:12.964Z"
   },
   {
    "duration": 143,
    "start_time": "2023-02-27T01:35:13.195Z"
   },
   {
    "duration": 3,
    "start_time": "2023-02-27T01:36:28.882Z"
   },
   {
    "duration": 14,
    "start_time": "2023-02-27T01:36:29.643Z"
   },
   {
    "duration": 2,
    "start_time": "2023-02-27T01:38:29.592Z"
   },
   {
    "duration": 94,
    "start_time": "2023-02-27T01:38:29.927Z"
   },
   {
    "duration": 3,
    "start_time": "2023-02-27T01:39:52.206Z"
   },
   {
    "duration": 15,
    "start_time": "2023-02-27T01:39:52.486Z"
   },
   {
    "duration": 3,
    "start_time": "2023-02-27T01:40:17.623Z"
   },
   {
    "duration": 20,
    "start_time": "2023-02-27T01:40:18.280Z"
   },
   {
    "duration": 3,
    "start_time": "2023-02-27T01:40:39.782Z"
   },
   {
    "duration": 4,
    "start_time": "2023-02-27T01:40:39.787Z"
   },
   {
    "duration": 5,
    "start_time": "2023-02-27T01:40:39.792Z"
   },
   {
    "duration": 5,
    "start_time": "2023-02-27T01:40:39.799Z"
   },
   {
    "duration": 43,
    "start_time": "2023-02-27T01:40:39.805Z"
   },
   {
    "duration": 2,
    "start_time": "2023-02-27T01:40:39.850Z"
   },
   {
    "duration": 15,
    "start_time": "2023-02-27T01:40:39.854Z"
   },
   {
    "duration": 3,
    "start_time": "2023-02-27T01:40:39.870Z"
   },
   {
    "duration": 13,
    "start_time": "2023-02-27T01:40:39.875Z"
   },
   {
    "duration": 2,
    "start_time": "2023-02-27T01:40:39.891Z"
   },
   {
    "duration": 13,
    "start_time": "2023-02-27T01:40:39.895Z"
   },
   {
    "duration": 2,
    "start_time": "2023-02-27T01:40:39.910Z"
   },
   {
    "duration": 13,
    "start_time": "2023-02-27T01:40:39.927Z"
   },
   {
    "duration": 3,
    "start_time": "2023-02-27T01:40:39.941Z"
   },
   {
    "duration": 18,
    "start_time": "2023-02-27T01:40:39.945Z"
   },
   {
    "duration": 3,
    "start_time": "2023-02-27T01:40:39.965Z"
   },
   {
    "duration": 35,
    "start_time": "2023-02-27T01:40:39.969Z"
   },
   {
    "duration": 3,
    "start_time": "2023-02-27T01:40:40.006Z"
   },
   {
    "duration": 22,
    "start_time": "2023-02-27T01:40:40.011Z"
   },
   {
    "duration": 3,
    "start_time": "2023-02-27T01:40:40.035Z"
   },
   {
    "duration": 25,
    "start_time": "2023-02-27T01:40:40.039Z"
   },
   {
    "duration": 2,
    "start_time": "2023-02-27T01:40:49.171Z"
   },
   {
    "duration": 14,
    "start_time": "2023-02-27T01:40:49.703Z"
   },
   {
    "duration": 3,
    "start_time": "2023-02-27T01:41:32.380Z"
   },
   {
    "duration": 119,
    "start_time": "2023-02-27T01:41:32.627Z"
   },
   {
    "duration": 3,
    "start_time": "2023-02-27T01:42:02.333Z"
   },
   {
    "duration": 15,
    "start_time": "2023-02-27T01:42:02.531Z"
   },
   {
    "duration": 3,
    "start_time": "2023-02-27T01:42:32.067Z"
   },
   {
    "duration": 22,
    "start_time": "2023-02-27T01:42:32.304Z"
   },
   {
    "duration": 4,
    "start_time": "2023-02-27T01:42:55.127Z"
   },
   {
    "duration": 110,
    "start_time": "2023-02-27T01:42:55.423Z"
   },
   {
    "duration": 3,
    "start_time": "2023-02-27T01:43:10.263Z"
   },
   {
    "duration": 17,
    "start_time": "2023-02-27T01:43:10.492Z"
   },
   {
    "duration": 3,
    "start_time": "2023-02-27T01:45:40.112Z"
   },
   {
    "duration": 113,
    "start_time": "2023-02-27T01:45:40.603Z"
   },
   {
    "duration": 3,
    "start_time": "2023-02-27T01:45:47.347Z"
   },
   {
    "duration": 16,
    "start_time": "2023-02-27T01:45:47.564Z"
   },
   {
    "duration": 3,
    "start_time": "2023-02-27T01:46:25.663Z"
   },
   {
    "duration": 133,
    "start_time": "2023-02-27T01:46:25.951Z"
   },
   {
    "duration": 3,
    "start_time": "2023-02-27T01:46:36.325Z"
   },
   {
    "duration": 18,
    "start_time": "2023-02-27T01:46:36.712Z"
   },
   {
    "duration": 4,
    "start_time": "2023-02-27T01:46:53.010Z"
   },
   {
    "duration": 19,
    "start_time": "2023-02-27T01:46:53.259Z"
   },
   {
    "duration": 3,
    "start_time": "2023-02-27T01:47:12.193Z"
   },
   {
    "duration": 21,
    "start_time": "2023-02-27T01:47:18.714Z"
   },
   {
    "duration": 24,
    "start_time": "2023-02-27T01:47:34.653Z"
   },
   {
    "duration": 19,
    "start_time": "2023-02-27T01:47:47.178Z"
   },
   {
    "duration": 49,
    "start_time": "2023-02-27T01:48:05.324Z"
   },
   {
    "duration": 3,
    "start_time": "2023-02-27T01:48:54.968Z"
   },
   {
    "duration": 3,
    "start_time": "2023-02-27T01:48:59.513Z"
   },
   {
    "duration": 20,
    "start_time": "2023-02-27T01:48:59.951Z"
   },
   {
    "duration": 2,
    "start_time": "2023-02-27T01:49:16.807Z"
   },
   {
    "duration": 18,
    "start_time": "2023-02-27T01:49:17.685Z"
   },
   {
    "duration": 3,
    "start_time": "2023-02-27T01:54:45.491Z"
   },
   {
    "duration": 102,
    "start_time": "2023-02-27T01:54:46.056Z"
   },
   {
    "duration": 6,
    "start_time": "2023-02-27T01:55:14.132Z"
   },
   {
    "duration": 113,
    "start_time": "2023-02-27T01:55:14.663Z"
   },
   {
    "duration": 2,
    "start_time": "2023-02-27T01:55:26.502Z"
   },
   {
    "duration": 12,
    "start_time": "2023-02-27T01:55:26.983Z"
   },
   {
    "duration": 4,
    "start_time": "2023-02-27T01:55:49.843Z"
   },
   {
    "duration": 19,
    "start_time": "2023-02-27T01:55:50.297Z"
   },
   {
    "duration": 4,
    "start_time": "2023-02-27T01:58:50.915Z"
   },
   {
    "duration": 102,
    "start_time": "2023-02-27T01:58:51.218Z"
   },
   {
    "duration": 3,
    "start_time": "2023-02-27T01:59:06.803Z"
   },
   {
    "duration": 17,
    "start_time": "2023-02-27T01:59:07.068Z"
   },
   {
    "duration": 4,
    "start_time": "2023-02-27T01:59:16.834Z"
   },
   {
    "duration": 100,
    "start_time": "2023-02-27T01:59:17.084Z"
   },
   {
    "duration": 4,
    "start_time": "2023-02-27T01:59:21.688Z"
   },
   {
    "duration": 15,
    "start_time": "2023-02-27T01:59:21.908Z"
   },
   {
    "duration": 4,
    "start_time": "2023-02-27T01:59:58.420Z"
   },
   {
    "duration": 97,
    "start_time": "2023-02-27T01:59:58.897Z"
   },
   {
    "duration": 4,
    "start_time": "2023-02-27T02:02:33.801Z"
   },
   {
    "duration": 19,
    "start_time": "2023-02-27T02:02:34.371Z"
   },
   {
    "duration": 3,
    "start_time": "2023-02-27T02:03:01.737Z"
   },
   {
    "duration": 112,
    "start_time": "2023-02-27T02:03:02.034Z"
   },
   {
    "duration": 3,
    "start_time": "2023-02-27T02:03:25.265Z"
   },
   {
    "duration": 23,
    "start_time": "2023-02-27T02:03:25.460Z"
   },
   {
    "duration": 3,
    "start_time": "2023-02-27T02:04:38.898Z"
   },
   {
    "duration": 2,
    "start_time": "2023-02-27T02:04:39.539Z"
   },
   {
    "duration": 15,
    "start_time": "2023-02-27T02:04:40.087Z"
   },
   {
    "duration": 3,
    "start_time": "2023-02-27T02:04:55.761Z"
   },
   {
    "duration": 3,
    "start_time": "2023-02-27T02:04:55.953Z"
   },
   {
    "duration": 13,
    "start_time": "2023-02-27T02:04:56.119Z"
   },
   {
    "duration": 3,
    "start_time": "2023-02-27T02:08:04.852Z"
   },
   {
    "duration": 3,
    "start_time": "2023-02-27T02:08:05.399Z"
   },
   {
    "duration": 127,
    "start_time": "2023-02-27T02:08:05.725Z"
   },
   {
    "duration": 3,
    "start_time": "2023-02-27T02:08:17.809Z"
   },
   {
    "duration": 3,
    "start_time": "2023-02-27T02:08:17.949Z"
   },
   {
    "duration": 17,
    "start_time": "2023-02-27T02:08:18.100Z"
   },
   {
    "duration": 4,
    "start_time": "2023-02-27T02:10:53.043Z"
   },
   {
    "duration": 18,
    "start_time": "2023-02-27T02:10:53.221Z"
   },
   {
    "duration": 3,
    "start_time": "2023-02-27T02:12:01.515Z"
   },
   {
    "duration": 14,
    "start_time": "2023-02-27T02:12:01.733Z"
   },
   {
    "duration": 2,
    "start_time": "2023-02-27T02:12:51.570Z"
   },
   {
    "duration": 104,
    "start_time": "2023-02-27T02:12:51.766Z"
   },
   {
    "duration": 3,
    "start_time": "2023-02-27T02:13:07.395Z"
   },
   {
    "duration": 21,
    "start_time": "2023-02-27T02:13:07.921Z"
   },
   {
    "duration": 2,
    "start_time": "2023-02-27T02:13:42.160Z"
   },
   {
    "duration": 15,
    "start_time": "2023-02-27T02:13:42.460Z"
   },
   {
    "duration": 3,
    "start_time": "2023-02-27T02:13:48.653Z"
   },
   {
    "duration": 17,
    "start_time": "2023-02-27T02:13:48.900Z"
   },
   {
    "duration": 3,
    "start_time": "2023-02-27T02:22:39.362Z"
   },
   {
    "duration": 20,
    "start_time": "2023-02-27T02:22:39.674Z"
   },
   {
    "duration": 3,
    "start_time": "2023-02-27T02:25:16.070Z"
   },
   {
    "duration": 26,
    "start_time": "2023-02-27T02:25:16.579Z"
   },
   {
    "duration": 3,
    "start_time": "2023-02-27T02:27:32.112Z"
   },
   {
    "duration": 14,
    "start_time": "2023-02-27T02:27:32.492Z"
   },
   {
    "duration": 3,
    "start_time": "2023-02-27T02:28:07.940Z"
   },
   {
    "duration": 17,
    "start_time": "2023-02-27T02:28:08.204Z"
   },
   {
    "duration": 3,
    "start_time": "2023-02-27T02:30:58.786Z"
   },
   {
    "duration": 104,
    "start_time": "2023-02-27T02:30:59.194Z"
   },
   {
    "duration": 2,
    "start_time": "2023-02-27T02:31:09.960Z"
   },
   {
    "duration": 18,
    "start_time": "2023-02-27T02:31:10.209Z"
   },
   {
    "duration": 3,
    "start_time": "2023-02-27T02:31:24.685Z"
   },
   {
    "duration": 16,
    "start_time": "2023-02-27T02:31:25.100Z"
   },
   {
    "duration": 3,
    "start_time": "2023-02-27T02:32:04.954Z"
   },
   {
    "duration": 16,
    "start_time": "2023-02-27T02:32:05.260Z"
   },
   {
    "duration": 3,
    "start_time": "2023-02-27T02:32:48.998Z"
   },
   {
    "duration": 17,
    "start_time": "2023-02-27T02:32:49.227Z"
   },
   {
    "duration": 3,
    "start_time": "2023-02-27T02:33:13.808Z"
   },
   {
    "duration": 18,
    "start_time": "2023-02-27T02:33:15.360Z"
   },
   {
    "duration": 3,
    "start_time": "2023-02-27T02:33:34.637Z"
   },
   {
    "duration": 16,
    "start_time": "2023-02-27T02:33:34.983Z"
   },
   {
    "duration": 2,
    "start_time": "2023-02-27T02:35:16.303Z"
   },
   {
    "duration": 357,
    "start_time": "2023-02-27T02:35:16.579Z"
   },
   {
    "duration": 3,
    "start_time": "2023-02-27T02:35:24.370Z"
   },
   {
    "duration": 157,
    "start_time": "2023-02-27T02:35:24.576Z"
   },
   {
    "duration": 3,
    "start_time": "2023-02-27T02:35:48.262Z"
   },
   {
    "duration": 105,
    "start_time": "2023-02-27T02:35:48.456Z"
   },
   {
    "duration": 2,
    "start_time": "2023-02-27T02:36:47.741Z"
   },
   {
    "duration": 15,
    "start_time": "2023-02-27T02:36:48.024Z"
   },
   {
    "duration": 2,
    "start_time": "2023-02-27T02:37:28.116Z"
   },
   {
    "duration": 2,
    "start_time": "2023-02-27T02:37:33.238Z"
   },
   {
    "duration": 91,
    "start_time": "2023-02-27T02:37:33.522Z"
   },
   {
    "duration": 3,
    "start_time": "2023-02-27T02:37:47.718Z"
   },
   {
    "duration": 14,
    "start_time": "2023-02-27T02:37:47.961Z"
   },
   {
    "duration": 3,
    "start_time": "2023-02-27T02:44:16.389Z"
   },
   {
    "duration": 95,
    "start_time": "2023-02-27T02:44:16.961Z"
   },
   {
    "duration": 3,
    "start_time": "2023-02-27T02:44:50.270Z"
   },
   {
    "duration": 106,
    "start_time": "2023-02-27T02:44:50.713Z"
   },
   {
    "duration": 4,
    "start_time": "2023-02-27T02:46:00.361Z"
   },
   {
    "duration": 21,
    "start_time": "2023-02-27T02:46:00.663Z"
   },
   {
    "duration": 3,
    "start_time": "2023-02-27T02:46:34.653Z"
   },
   {
    "duration": 24,
    "start_time": "2023-02-27T02:46:35.154Z"
   },
   {
    "duration": 3,
    "start_time": "2023-02-27T02:47:17.062Z"
   },
   {
    "duration": 3,
    "start_time": "2023-02-27T02:47:22.739Z"
   },
   {
    "duration": 23,
    "start_time": "2023-02-27T02:47:23.214Z"
   },
   {
    "duration": 3,
    "start_time": "2023-02-27T03:03:40.205Z"
   },
   {
    "duration": 15,
    "start_time": "2023-02-27T03:03:40.994Z"
   },
   {
    "duration": 470,
    "start_time": "2023-02-27T03:07:50.480Z"
   },
   {
    "duration": 4,
    "start_time": "2023-02-27T03:07:50.951Z"
   },
   {
    "duration": 7600,
    "start_time": "2023-02-27T03:07:50.956Z"
   },
   {
    "duration": 3,
    "start_time": "2023-02-27T03:07:58.558Z"
   },
   {
    "duration": 65,
    "start_time": "2023-02-27T03:07:58.563Z"
   },
   {
    "duration": 2,
    "start_time": "2023-02-27T03:07:58.630Z"
   },
   {
    "duration": 16,
    "start_time": "2023-02-27T03:07:58.634Z"
   },
   {
    "duration": 3,
    "start_time": "2023-02-27T03:07:58.651Z"
   },
   {
    "duration": 16,
    "start_time": "2023-02-27T03:07:58.656Z"
   },
   {
    "duration": 2,
    "start_time": "2023-02-27T03:07:58.675Z"
   },
   {
    "duration": 15,
    "start_time": "2023-02-27T03:07:58.679Z"
   },
   {
    "duration": 2,
    "start_time": "2023-02-27T03:07:58.696Z"
   },
   {
    "duration": 36,
    "start_time": "2023-02-27T03:07:58.700Z"
   },
   {
    "duration": 2,
    "start_time": "2023-02-27T03:07:58.738Z"
   },
   {
    "duration": 17,
    "start_time": "2023-02-27T03:07:58.741Z"
   },
   {
    "duration": 3,
    "start_time": "2023-02-27T03:07:58.759Z"
   },
   {
    "duration": 28,
    "start_time": "2023-02-27T03:07:58.763Z"
   },
   {
    "duration": 2,
    "start_time": "2023-02-27T03:07:58.793Z"
   },
   {
    "duration": 28,
    "start_time": "2023-02-27T03:07:58.797Z"
   },
   {
    "duration": 3,
    "start_time": "2023-02-27T03:07:58.826Z"
   },
   {
    "duration": 22,
    "start_time": "2023-02-27T03:07:58.831Z"
   },
   {
    "duration": 3,
    "start_time": "2023-02-27T03:07:58.855Z"
   },
   {
    "duration": 17,
    "start_time": "2023-02-27T03:07:58.860Z"
   }
  ],
  "kernelspec": {
   "display_name": "Python 3 (ipykernel)",
   "language": "python",
   "name": "python3"
  },
  "language_info": {
   "codemirror_mode": {
    "name": "ipython",
    "version": 3
   },
   "file_extension": ".py",
   "mimetype": "text/x-python",
   "name": "python",
   "nbconvert_exporter": "python",
   "pygments_lexer": "ipython3",
   "version": "3.10.7"
  },
  "toc": {
   "base_numbering": 1,
   "nav_menu": {},
   "number_sections": true,
   "sideBar": true,
   "skip_h1_title": true,
   "title_cell": "Table of Contents",
   "title_sidebar": "Contents",
   "toc_cell": false,
   "toc_position": {},
   "toc_section_display": true,
   "toc_window_display": false
  }
 },
 "nbformat": 4,
 "nbformat_minor": 4
}
