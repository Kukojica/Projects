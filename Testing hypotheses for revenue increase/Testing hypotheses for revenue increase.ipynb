{
 "cells": [
  {
   "cell_type": "markdown",
   "metadata": {},
   "source": [
    "<div class=\"alert alert-block alert-info\">\n",
    "    \n",
    "\n",
    "__Комментарий от ревьюера №1__\n",
    "\n",
    "Техническая часть у проекта сделана достаточно хорошо, нужно только доделать одну проверку на корректность данных для теста. Больше нужно поработать с описательной частью по графикам, выводам и гипотезам в А/Б-тесте. Думаю для тебя это будет не очень сложно и ты быстро с этим справишься) Буду ждать проект на повторную проверку!\n",
    "\n",
    "</div>"
   ]
  },
  {
   "cell_type": "markdown",
   "metadata": {},
   "source": [
    "<div class=\"alert alert-block alert-info\">\n",
    "    \n",
    "\n",
    "__Комментарий от ревьюера №2__\n",
    "\n",
    "Привет, в проекте правильно проведен А/Б-тест, найдены приоритетные гипотезы для проверки и аномальные значения, построены кумулятивные метрики и визуализация к ним. Все выводы на месте, так что проект принят!\n",
    "\n",
    "</div>"
   ]
  },
  {
   "cell_type": "markdown",
   "metadata": {},
   "source": [
    "## Обзор данных"
   ]
  },
  {
   "cell_type": "markdown",
   "metadata": {},
   "source": [
    "### Импорт необходимых библиотек и чтение файлов с данными"
   ]
  },
  {
   "cell_type": "code",
   "execution_count": 3,
   "metadata": {},
   "outputs": [],
   "source": [
    "import pandas as pd\n",
    "import matplotlib.pyplot as plt\n",
    "import numpy as np\n",
    "from scipy import stats as st\n",
    "import datetime as dt"
   ]
  },
  {
   "cell_type": "code",
   "execution_count": 4,
   "metadata": {},
   "outputs": [
    {
     "data": {
      "text/html": [
       "<div>\n",
       "<style scoped>\n",
       "    .dataframe tbody tr th:only-of-type {\n",
       "        vertical-align: middle;\n",
       "    }\n",
       "\n",
       "    .dataframe tbody tr th {\n",
       "        vertical-align: top;\n",
       "    }\n",
       "\n",
       "    .dataframe thead th {\n",
       "        text-align: right;\n",
       "    }\n",
       "</style>\n",
       "<table border=\"1\" class=\"dataframe\">\n",
       "  <thead>\n",
       "    <tr style=\"text-align: right;\">\n",
       "      <th></th>\n",
       "      <th>Hypothesis</th>\n",
       "      <th>Reach</th>\n",
       "      <th>Impact</th>\n",
       "      <th>Confidence</th>\n",
       "      <th>Efforts</th>\n",
       "    </tr>\n",
       "  </thead>\n",
       "  <tbody>\n",
       "    <tr>\n",
       "      <th>0</th>\n",
       "      <td>Добавить два новых канала привлечения трафика, что позволит привлекать на 30% больше пользователей</td>\n",
       "      <td>3</td>\n",
       "      <td>10</td>\n",
       "      <td>8</td>\n",
       "      <td>6</td>\n",
       "    </tr>\n",
       "    <tr>\n",
       "      <th>1</th>\n",
       "      <td>Запустить собственную службу доставки, что сократит срок доставки заказов</td>\n",
       "      <td>2</td>\n",
       "      <td>5</td>\n",
       "      <td>4</td>\n",
       "      <td>10</td>\n",
       "    </tr>\n",
       "    <tr>\n",
       "      <th>2</th>\n",
       "      <td>Добавить блоки рекомендаций товаров на сайт интернет магазина, чтобы повысить конверсию и средний чек заказа</td>\n",
       "      <td>8</td>\n",
       "      <td>3</td>\n",
       "      <td>7</td>\n",
       "      <td>3</td>\n",
       "    </tr>\n",
       "    <tr>\n",
       "      <th>3</th>\n",
       "      <td>Изменить структура категорий, что увеличит конверсию, т.к. пользователи быстрее найдут нужный товар</td>\n",
       "      <td>8</td>\n",
       "      <td>3</td>\n",
       "      <td>3</td>\n",
       "      <td>8</td>\n",
       "    </tr>\n",
       "    <tr>\n",
       "      <th>4</th>\n",
       "      <td>Изменить цвет фона главной страницы, чтобы увеличить вовлеченность пользователей</td>\n",
       "      <td>3</td>\n",
       "      <td>1</td>\n",
       "      <td>1</td>\n",
       "      <td>1</td>\n",
       "    </tr>\n",
       "    <tr>\n",
       "      <th>5</th>\n",
       "      <td>Добавить страницу отзывов клиентов о магазине, что позволит увеличить количество заказов</td>\n",
       "      <td>3</td>\n",
       "      <td>2</td>\n",
       "      <td>2</td>\n",
       "      <td>3</td>\n",
       "    </tr>\n",
       "    <tr>\n",
       "      <th>6</th>\n",
       "      <td>Показать на главной странице баннеры с актуальными акциями и распродажами, чтобы увеличить конверсию</td>\n",
       "      <td>5</td>\n",
       "      <td>3</td>\n",
       "      <td>8</td>\n",
       "      <td>3</td>\n",
       "    </tr>\n",
       "    <tr>\n",
       "      <th>7</th>\n",
       "      <td>Добавить форму подписки на все основные страницы, чтобы собрать базу клиентов для email-рассылок</td>\n",
       "      <td>10</td>\n",
       "      <td>7</td>\n",
       "      <td>8</td>\n",
       "      <td>5</td>\n",
       "    </tr>\n",
       "    <tr>\n",
       "      <th>8</th>\n",
       "      <td>Запустить акцию, дающую скидку на товар в день рождения</td>\n",
       "      <td>1</td>\n",
       "      <td>9</td>\n",
       "      <td>9</td>\n",
       "      <td>5</td>\n",
       "    </tr>\n",
       "  </tbody>\n",
       "</table>\n",
       "</div>"
      ],
      "text/plain": [
       "                                                                                                     Hypothesis  \\\n",
       "0            Добавить два новых канала привлечения трафика, что позволит привлекать на 30% больше пользователей   \n",
       "1                                     Запустить собственную службу доставки, что сократит срок доставки заказов   \n",
       "2  Добавить блоки рекомендаций товаров на сайт интернет магазина, чтобы повысить конверсию и средний чек заказа   \n",
       "3           Изменить структура категорий, что увеличит конверсию, т.к. пользователи быстрее найдут нужный товар   \n",
       "4                              Изменить цвет фона главной страницы, чтобы увеличить вовлеченность пользователей   \n",
       "5                      Добавить страницу отзывов клиентов о магазине, что позволит увеличить количество заказов   \n",
       "6          Показать на главной странице баннеры с актуальными акциями и распродажами, чтобы увеличить конверсию   \n",
       "7              Добавить форму подписки на все основные страницы, чтобы собрать базу клиентов для email-рассылок   \n",
       "8                                                       Запустить акцию, дающую скидку на товар в день рождения   \n",
       "\n",
       "   Reach  Impact  Confidence  Efforts  \n",
       "0      3      10           8        6  \n",
       "1      2       5           4       10  \n",
       "2      8       3           7        3  \n",
       "3      8       3           3        8  \n",
       "4      3       1           1        1  \n",
       "5      3       2           2        3  \n",
       "6      5       3           8        3  \n",
       "7     10       7           8        5  \n",
       "8      1       9           9        5  "
      ]
     },
     "execution_count": 4,
     "metadata": {},
     "output_type": "execute_result"
    }
   ],
   "source": [
    "hypos = pd.read_csv('/datasets/hypothesis.csv' , sep=',') #чтение и сохранение датасета с гипотезами\n",
    "pd.set_option('display.max_columns', None)\n",
    "pd.options.display.max_colwidth = 150\n",
    "hypos"
   ]
  },
  {
   "cell_type": "code",
   "execution_count": 5,
   "metadata": {},
   "outputs": [
    {
     "data": {
      "text/html": [
       "<div>\n",
       "<style scoped>\n",
       "    .dataframe tbody tr th:only-of-type {\n",
       "        vertical-align: middle;\n",
       "    }\n",
       "\n",
       "    .dataframe tbody tr th {\n",
       "        vertical-align: top;\n",
       "    }\n",
       "\n",
       "    .dataframe thead th {\n",
       "        text-align: right;\n",
       "    }\n",
       "</style>\n",
       "<table border=\"1\" class=\"dataframe\">\n",
       "  <thead>\n",
       "    <tr style=\"text-align: right;\">\n",
       "      <th></th>\n",
       "      <th>transactionId</th>\n",
       "      <th>visitorId</th>\n",
       "      <th>date</th>\n",
       "      <th>revenue</th>\n",
       "      <th>group</th>\n",
       "    </tr>\n",
       "  </thead>\n",
       "  <tbody>\n",
       "    <tr>\n",
       "      <th>0</th>\n",
       "      <td>3667963787</td>\n",
       "      <td>3312258926</td>\n",
       "      <td>2019-08-15</td>\n",
       "      <td>1650</td>\n",
       "      <td>B</td>\n",
       "    </tr>\n",
       "    <tr>\n",
       "      <th>1</th>\n",
       "      <td>2804400009</td>\n",
       "      <td>3642806036</td>\n",
       "      <td>2019-08-15</td>\n",
       "      <td>730</td>\n",
       "      <td>B</td>\n",
       "    </tr>\n",
       "    <tr>\n",
       "      <th>2</th>\n",
       "      <td>2961555356</td>\n",
       "      <td>4069496402</td>\n",
       "      <td>2019-08-15</td>\n",
       "      <td>400</td>\n",
       "      <td>A</td>\n",
       "    </tr>\n",
       "    <tr>\n",
       "      <th>3</th>\n",
       "      <td>3797467345</td>\n",
       "      <td>1196621759</td>\n",
       "      <td>2019-08-15</td>\n",
       "      <td>9759</td>\n",
       "      <td>B</td>\n",
       "    </tr>\n",
       "    <tr>\n",
       "      <th>4</th>\n",
       "      <td>2282983706</td>\n",
       "      <td>2322279887</td>\n",
       "      <td>2019-08-15</td>\n",
       "      <td>2308</td>\n",
       "      <td>B</td>\n",
       "    </tr>\n",
       "    <tr>\n",
       "      <th>5</th>\n",
       "      <td>182168103</td>\n",
       "      <td>935554773</td>\n",
       "      <td>2019-08-15</td>\n",
       "      <td>2210</td>\n",
       "      <td>B</td>\n",
       "    </tr>\n",
       "    <tr>\n",
       "      <th>6</th>\n",
       "      <td>398296753</td>\n",
       "      <td>2900797465</td>\n",
       "      <td>2019-08-15</td>\n",
       "      <td>1860</td>\n",
       "      <td>B</td>\n",
       "    </tr>\n",
       "    <tr>\n",
       "      <th>7</th>\n",
       "      <td>2626614568</td>\n",
       "      <td>78758296</td>\n",
       "      <td>2019-08-15</td>\n",
       "      <td>1044</td>\n",
       "      <td>A</td>\n",
       "    </tr>\n",
       "    <tr>\n",
       "      <th>8</th>\n",
       "      <td>1576988021</td>\n",
       "      <td>295230930</td>\n",
       "      <td>2019-08-15</td>\n",
       "      <td>13710</td>\n",
       "      <td>A</td>\n",
       "    </tr>\n",
       "    <tr>\n",
       "      <th>9</th>\n",
       "      <td>1506739906</td>\n",
       "      <td>1882260405</td>\n",
       "      <td>2019-08-15</td>\n",
       "      <td>1855</td>\n",
       "      <td>B</td>\n",
       "    </tr>\n",
       "  </tbody>\n",
       "</table>\n",
       "</div>"
      ],
      "text/plain": [
       "   transactionId   visitorId        date  revenue group\n",
       "0     3667963787  3312258926  2019-08-15     1650     B\n",
       "1     2804400009  3642806036  2019-08-15      730     B\n",
       "2     2961555356  4069496402  2019-08-15      400     A\n",
       "3     3797467345  1196621759  2019-08-15     9759     B\n",
       "4     2282983706  2322279887  2019-08-15     2308     B\n",
       "5      182168103   935554773  2019-08-15     2210     B\n",
       "6      398296753  2900797465  2019-08-15     1860     B\n",
       "7     2626614568    78758296  2019-08-15     1044     A\n",
       "8     1576988021   295230930  2019-08-15    13710     A\n",
       "9     1506739906  1882260405  2019-08-15     1855     B"
      ]
     },
     "execution_count": 5,
     "metadata": {},
     "output_type": "execute_result"
    }
   ],
   "source": [
    "orders = pd.read_csv('/datasets/orders.csv', sep=',')\n",
    "orders.head(10)"
   ]
  },
  {
   "cell_type": "code",
   "execution_count": 6,
   "metadata": {},
   "outputs": [
    {
     "data": {
      "text/html": [
       "<div>\n",
       "<style scoped>\n",
       "    .dataframe tbody tr th:only-of-type {\n",
       "        vertical-align: middle;\n",
       "    }\n",
       "\n",
       "    .dataframe tbody tr th {\n",
       "        vertical-align: top;\n",
       "    }\n",
       "\n",
       "    .dataframe thead th {\n",
       "        text-align: right;\n",
       "    }\n",
       "</style>\n",
       "<table border=\"1\" class=\"dataframe\">\n",
       "  <thead>\n",
       "    <tr style=\"text-align: right;\">\n",
       "      <th></th>\n",
       "      <th>date</th>\n",
       "      <th>group</th>\n",
       "      <th>visitors</th>\n",
       "    </tr>\n",
       "  </thead>\n",
       "  <tbody>\n",
       "    <tr>\n",
       "      <th>0</th>\n",
       "      <td>2019-08-01</td>\n",
       "      <td>A</td>\n",
       "      <td>719</td>\n",
       "    </tr>\n",
       "    <tr>\n",
       "      <th>1</th>\n",
       "      <td>2019-08-02</td>\n",
       "      <td>A</td>\n",
       "      <td>619</td>\n",
       "    </tr>\n",
       "    <tr>\n",
       "      <th>2</th>\n",
       "      <td>2019-08-03</td>\n",
       "      <td>A</td>\n",
       "      <td>507</td>\n",
       "    </tr>\n",
       "    <tr>\n",
       "      <th>3</th>\n",
       "      <td>2019-08-04</td>\n",
       "      <td>A</td>\n",
       "      <td>717</td>\n",
       "    </tr>\n",
       "    <tr>\n",
       "      <th>4</th>\n",
       "      <td>2019-08-05</td>\n",
       "      <td>A</td>\n",
       "      <td>756</td>\n",
       "    </tr>\n",
       "    <tr>\n",
       "      <th>5</th>\n",
       "      <td>2019-08-06</td>\n",
       "      <td>A</td>\n",
       "      <td>667</td>\n",
       "    </tr>\n",
       "    <tr>\n",
       "      <th>6</th>\n",
       "      <td>2019-08-07</td>\n",
       "      <td>A</td>\n",
       "      <td>644</td>\n",
       "    </tr>\n",
       "    <tr>\n",
       "      <th>7</th>\n",
       "      <td>2019-08-08</td>\n",
       "      <td>A</td>\n",
       "      <td>610</td>\n",
       "    </tr>\n",
       "    <tr>\n",
       "      <th>8</th>\n",
       "      <td>2019-08-09</td>\n",
       "      <td>A</td>\n",
       "      <td>617</td>\n",
       "    </tr>\n",
       "    <tr>\n",
       "      <th>9</th>\n",
       "      <td>2019-08-10</td>\n",
       "      <td>A</td>\n",
       "      <td>406</td>\n",
       "    </tr>\n",
       "  </tbody>\n",
       "</table>\n",
       "</div>"
      ],
      "text/plain": [
       "         date group  visitors\n",
       "0  2019-08-01     A       719\n",
       "1  2019-08-02     A       619\n",
       "2  2019-08-03     A       507\n",
       "3  2019-08-04     A       717\n",
       "4  2019-08-05     A       756\n",
       "5  2019-08-06     A       667\n",
       "6  2019-08-07     A       644\n",
       "7  2019-08-08     A       610\n",
       "8  2019-08-09     A       617\n",
       "9  2019-08-10     A       406"
      ]
     },
     "execution_count": 6,
     "metadata": {},
     "output_type": "execute_result"
    }
   ],
   "source": [
    "visitors = pd.read_csv('/datasets/visitors.csv', sep=',')\n",
    "visitors.head(10)"
   ]
  },
  {
   "cell_type": "markdown",
   "metadata": {},
   "source": [
    "### Изучение информации в датафркймах"
   ]
  },
  {
   "cell_type": "code",
   "execution_count": 7,
   "metadata": {},
   "outputs": [
    {
     "name": "stdout",
     "output_type": "stream",
     "text": [
      "<class 'pandas.core.frame.DataFrame'>\n",
      "RangeIndex: 9 entries, 0 to 8\n",
      "Data columns (total 5 columns):\n",
      " #   Column      Non-Null Count  Dtype \n",
      "---  ------      --------------  ----- \n",
      " 0   Hypothesis  9 non-null      object\n",
      " 1   Reach       9 non-null      int64 \n",
      " 2   Impact      9 non-null      int64 \n",
      " 3   Confidence  9 non-null      int64 \n",
      " 4   Efforts     9 non-null      int64 \n",
      "dtypes: int64(4), object(1)\n",
      "memory usage: 488.0+ bytes\n"
     ]
    }
   ],
   "source": [
    "hypos.info()"
   ]
  },
  {
   "cell_type": "code",
   "execution_count": 8,
   "metadata": {},
   "outputs": [
    {
     "name": "stdout",
     "output_type": "stream",
     "text": [
      "<class 'pandas.core.frame.DataFrame'>\n",
      "RangeIndex: 1197 entries, 0 to 1196\n",
      "Data columns (total 5 columns):\n",
      " #   Column         Non-Null Count  Dtype \n",
      "---  ------         --------------  ----- \n",
      " 0   transactionId  1197 non-null   int64 \n",
      " 1   visitorId      1197 non-null   int64 \n",
      " 2   date           1197 non-null   object\n",
      " 3   revenue        1197 non-null   int64 \n",
      " 4   group          1197 non-null   object\n",
      "dtypes: int64(3), object(2)\n",
      "memory usage: 46.9+ KB\n"
     ]
    }
   ],
   "source": [
    "orders.info()"
   ]
  },
  {
   "cell_type": "code",
   "execution_count": 9,
   "metadata": {
    "scrolled": true
   },
   "outputs": [
    {
     "name": "stdout",
     "output_type": "stream",
     "text": [
      "<class 'pandas.core.frame.DataFrame'>\n",
      "RangeIndex: 62 entries, 0 to 61\n",
      "Data columns (total 3 columns):\n",
      " #   Column    Non-Null Count  Dtype \n",
      "---  ------    --------------  ----- \n",
      " 0   date      62 non-null     object\n",
      " 1   group     62 non-null     object\n",
      " 2   visitors  62 non-null     int64 \n",
      "dtypes: int64(1), object(2)\n",
      "memory usage: 1.6+ KB\n"
     ]
    }
   ],
   "source": [
    "visitors.info()"
   ]
  },
  {
   "cell_type": "markdown",
   "metadata": {},
   "source": [
    "## Подготовка данных"
   ]
  },
  {
   "cell_type": "code",
   "execution_count": 10,
   "metadata": {},
   "outputs": [
    {
     "name": "stdout",
     "output_type": "stream",
     "text": [
      "Hypothesis    0\n",
      "Reach         0\n",
      "Impact        0\n",
      "Confidence    0\n",
      "Efforts       0\n",
      "dtype: int64\n",
      "transactionId    0\n",
      "visitorId        0\n",
      "date             0\n",
      "revenue          0\n",
      "group            0\n",
      "dtype: int64\n",
      "date        0\n",
      "group       0\n",
      "visitors    0\n",
      "dtype: int64\n"
     ]
    }
   ],
   "source": [
    "print(hypos.isna().sum())\n",
    "print(orders.isna().sum())\n",
    "print(visitors.isna().sum())"
   ]
  },
  {
   "cell_type": "code",
   "execution_count": 11,
   "metadata": {},
   "outputs": [
    {
     "name": "stdout",
     "output_type": "stream",
     "text": [
      "0\n",
      "0\n",
      "0\n"
     ]
    }
   ],
   "source": [
    "print(hypos.duplicated().sum())\n",
    "print(orders.duplicated().sum())\n",
    "print(visitors.duplicated().sum())"
   ]
  },
  {
   "cell_type": "code",
   "execution_count": 12,
   "metadata": {},
   "outputs": [
    {
     "name": "stdout",
     "output_type": "stream",
     "text": [
      "<class 'pandas.core.frame.DataFrame'>\n",
      "RangeIndex: 9 entries, 0 to 8\n",
      "Data columns (total 5 columns):\n",
      " #   Column      Non-Null Count  Dtype \n",
      "---  ------      --------------  ----- \n",
      " 0   hypothesis  9 non-null      object\n",
      " 1   reach       9 non-null      int64 \n",
      " 2   impact      9 non-null      int64 \n",
      " 3   confidence  9 non-null      int64 \n",
      " 4   efforts     9 non-null      int64 \n",
      "dtypes: int64(4), object(1)\n",
      "memory usage: 488.0+ bytes\n"
     ]
    }
   ],
   "source": [
    "hypos.columns = hypos.columns.str.lower()\n",
    "hypos.info()"
   ]
  },
  {
   "cell_type": "code",
   "execution_count": 13,
   "metadata": {},
   "outputs": [
    {
     "name": "stdout",
     "output_type": "stream",
     "text": [
      "<class 'pandas.core.frame.DataFrame'>\n",
      "RangeIndex: 1197 entries, 0 to 1196\n",
      "Data columns (total 5 columns):\n",
      " #   Column         Non-Null Count  Dtype         \n",
      "---  ------         --------------  -----         \n",
      " 0   transactionId  1197 non-null   int64         \n",
      " 1   visitorId      1197 non-null   int64         \n",
      " 2   date           1197 non-null   datetime64[ns]\n",
      " 3   revenue        1197 non-null   int64         \n",
      " 4   group          1197 non-null   object        \n",
      "dtypes: datetime64[ns](1), int64(3), object(1)\n",
      "memory usage: 46.9+ KB\n"
     ]
    }
   ],
   "source": [
    "orders['date'] = pd.to_datetime(orders['date'])\n",
    "orders.info()"
   ]
  },
  {
   "cell_type": "code",
   "execution_count": 14,
   "metadata": {},
   "outputs": [
    {
     "name": "stdout",
     "output_type": "stream",
     "text": [
      "<class 'pandas.core.frame.DataFrame'>\n",
      "RangeIndex: 62 entries, 0 to 61\n",
      "Data columns (total 3 columns):\n",
      " #   Column    Non-Null Count  Dtype         \n",
      "---  ------    --------------  -----         \n",
      " 0   date      62 non-null     datetime64[ns]\n",
      " 1   group     62 non-null     object        \n",
      " 2   visitors  62 non-null     int64         \n",
      "dtypes: datetime64[ns](1), int64(1), object(1)\n",
      "memory usage: 1.6+ KB\n"
     ]
    }
   ],
   "source": [
    "visitors['date'] = pd.to_datetime(visitors['date'])\n",
    "visitors.info()"
   ]
  },
  {
   "cell_type": "code",
   "execution_count": 15,
   "metadata": {},
   "outputs": [
    {
     "data": {
      "text/html": [
       "<style  type=\"text/css\" >\n",
       "</style><table id=\"T_68c43_\" ><thead>    <tr>        <th class=\"blank level0\" ></th>        <th class=\"col_heading level0 col0\" >revenue</th>    </tr></thead><tbody>\n",
       "                <tr>\n",
       "                        <th id=\"T_68c43_level0_row0\" class=\"row_heading level0 row0\" >count</th>\n",
       "                        <td id=\"T_68c43_row0_col0\" class=\"data row0 col0\" >1,197.00</td>\n",
       "            </tr>\n",
       "            <tr>\n",
       "                        <th id=\"T_68c43_level0_row1\" class=\"row_heading level0 row1\" >min</th>\n",
       "                        <td id=\"T_68c43_row1_col0\" class=\"data row1 col0\" >50.00</td>\n",
       "            </tr>\n",
       "            <tr>\n",
       "                        <th id=\"T_68c43_level0_row2\" class=\"row_heading level0 row2\" >max</th>\n",
       "                        <td id=\"T_68c43_row2_col0\" class=\"data row2 col0\" >1,294,500.00</td>\n",
       "            </tr>\n",
       "    </tbody></table>"
      ],
      "text/plain": [
       "<pandas.io.formats.style.Styler at 0x7f6b5e590910>"
      ]
     },
     "execution_count": 15,
     "metadata": {},
     "output_type": "execute_result"
    }
   ],
   "source": [
    "(\n",
    "    orders[['revenue']]\n",
    "    .apply (['count', 'min', 'max']) \n",
    "    .style.format(\"{:,.2f}\")\n",
    ")"
   ]
  },
  {
   "cell_type": "code",
   "execution_count": 16,
   "metadata": {},
   "outputs": [
    {
     "data": {
      "text/html": [
       "<style  type=\"text/css\" >\n",
       "</style><table id=\"T_cffa3_\" ><thead>    <tr>        <th class=\"blank level0\" ></th>        <th class=\"col_heading level0 col0\" >visitors</th>    </tr></thead><tbody>\n",
       "                <tr>\n",
       "                        <th id=\"T_cffa3_level0_row0\" class=\"row_heading level0 row0\" >count</th>\n",
       "                        <td id=\"T_cffa3_row0_col0\" class=\"data row0 col0\" >62.00</td>\n",
       "            </tr>\n",
       "            <tr>\n",
       "                        <th id=\"T_cffa3_level0_row1\" class=\"row_heading level0 row1\" >min</th>\n",
       "                        <td id=\"T_cffa3_row1_col0\" class=\"data row1 col0\" >361.00</td>\n",
       "            </tr>\n",
       "            <tr>\n",
       "                        <th id=\"T_cffa3_level0_row2\" class=\"row_heading level0 row2\" >max</th>\n",
       "                        <td id=\"T_cffa3_row2_col0\" class=\"data row2 col0\" >770.00</td>\n",
       "            </tr>\n",
       "    </tbody></table>"
      ],
      "text/plain": [
       "<pandas.io.formats.style.Styler at 0x7f6b5e7b9220>"
      ]
     },
     "execution_count": 16,
     "metadata": {},
     "output_type": "execute_result"
    }
   ],
   "source": [
    "(\n",
    "    visitors[['visitors']]\n",
    "    .apply (['count', 'min', 'max']) \n",
    "    .style.format(\"{:,.2f}\")\n",
    ")"
   ]
  },
  {
   "cell_type": "code",
   "execution_count": 21,
   "metadata": {},
   "outputs": [
    {
     "data": {
      "text/plain": [
       "4256040402    11\n",
       "2458001652    11\n",
       "2378935119     9\n",
       "2038680547     8\n",
       "199603092      5\n",
       "              ..\n",
       "2406916810     1\n",
       "1255412427     1\n",
       "3866069709     1\n",
       "54447517       1\n",
       "3013339133     1\n",
       "Name: visitorId, Length: 1031, dtype: int64"
      ]
     },
     "execution_count": 21,
     "metadata": {},
     "output_type": "execute_result"
    }
   ],
   "source": [
    "orders['visitorId'].value_counts()"
   ]
  },
  {
   "cell_type": "code",
   "execution_count": 22,
   "metadata": {},
   "outputs": [
    {
     "data": {
      "text/plain": [
       "58"
      ]
     },
     "execution_count": 22,
     "metadata": {},
     "output_type": "execute_result"
    }
   ],
   "source": [
    "a = orders.query('group == \"A\"')['visitorId']\n",
    "b = orders.query('group == \"B\"')['visitorId']\n",
    "c = []\n",
    "for i in a:\n",
    "    for g in b:\n",
    "        if i == g:\n",
    "            c.append(g)\n",
    "c = set(c)\n",
    "len(c)"
   ]
  },
  {
   "cell_type": "code",
   "execution_count": 25,
   "metadata": {},
   "outputs": [
    {
     "data": {
      "text/plain": [
       "58"
      ]
     },
     "execution_count": 25,
     "metadata": {},
     "output_type": "execute_result"
    }
   ],
   "source": [
    "len(list(set(a) & set(b)))"
   ]
  },
  {
   "cell_type": "code",
   "execution_count": 91,
   "metadata": {
    "scrolled": true
   },
   "outputs": [
    {
     "data": {
      "text/html": [
       "<div>\n",
       "<style scoped>\n",
       "    .dataframe tbody tr th:only-of-type {\n",
       "        vertical-align: middle;\n",
       "    }\n",
       "\n",
       "    .dataframe tbody tr th {\n",
       "        vertical-align: top;\n",
       "    }\n",
       "\n",
       "    .dataframe thead th {\n",
       "        text-align: right;\n",
       "    }\n",
       "</style>\n",
       "<table border=\"1\" class=\"dataframe\">\n",
       "  <thead>\n",
       "    <tr style=\"text-align: right;\">\n",
       "      <th></th>\n",
       "      <th>transactionId</th>\n",
       "      <th>visitorId</th>\n",
       "      <th>date</th>\n",
       "      <th>revenue</th>\n",
       "      <th>group</th>\n",
       "    </tr>\n",
       "  </thead>\n",
       "  <tbody>\n",
       "    <tr>\n",
       "      <th>269</th>\n",
       "      <td>1067267410</td>\n",
       "      <td>3957174400</td>\n",
       "      <td>2019-08-18</td>\n",
       "      <td>2480</td>\n",
       "      <td>A</td>\n",
       "    </tr>\n",
       "    <tr>\n",
       "      <th>561</th>\n",
       "      <td>3241914033</td>\n",
       "      <td>3957174400</td>\n",
       "      <td>2019-08-26</td>\n",
       "      <td>2480</td>\n",
       "      <td>B</td>\n",
       "    </tr>\n",
       "  </tbody>\n",
       "</table>\n",
       "</div>"
      ],
      "text/plain": [
       "     transactionId   visitorId       date  revenue group\n",
       "269     1067267410  3957174400 2019-08-18     2480     A\n",
       "561     3241914033  3957174400 2019-08-26     2480     B"
      ]
     },
     "metadata": {},
     "output_type": "display_data"
    },
    {
     "data": {
      "text/html": [
       "<div>\n",
       "<style scoped>\n",
       "    .dataframe tbody tr th:only-of-type {\n",
       "        vertical-align: middle;\n",
       "    }\n",
       "\n",
       "    .dataframe tbody tr th {\n",
       "        vertical-align: top;\n",
       "    }\n",
       "\n",
       "    .dataframe thead th {\n",
       "        text-align: right;\n",
       "    }\n",
       "</style>\n",
       "<table border=\"1\" class=\"dataframe\">\n",
       "  <thead>\n",
       "    <tr style=\"text-align: right;\">\n",
       "      <th></th>\n",
       "      <th>transactionId</th>\n",
       "      <th>visitorId</th>\n",
       "      <th>date</th>\n",
       "      <th>revenue</th>\n",
       "      <th>group</th>\n",
       "    </tr>\n",
       "  </thead>\n",
       "  <tbody>\n",
       "    <tr>\n",
       "      <th>304</th>\n",
       "      <td>609915801</td>\n",
       "      <td>2780786433</td>\n",
       "      <td>2019-08-28</td>\n",
       "      <td>1200</td>\n",
       "      <td>A</td>\n",
       "    </tr>\n",
       "    <tr>\n",
       "      <th>548</th>\n",
       "      <td>430186476</td>\n",
       "      <td>2780786433</td>\n",
       "      <td>2019-08-29</td>\n",
       "      <td>1580</td>\n",
       "      <td>A</td>\n",
       "    </tr>\n",
       "    <tr>\n",
       "      <th>857</th>\n",
       "      <td>847315305</td>\n",
       "      <td>2780786433</td>\n",
       "      <td>2019-08-27</td>\n",
       "      <td>540</td>\n",
       "      <td>B</td>\n",
       "    </tr>\n",
       "  </tbody>\n",
       "</table>\n",
       "</div>"
      ],
      "text/plain": [
       "     transactionId   visitorId       date  revenue group\n",
       "304      609915801  2780786433 2019-08-28     1200     A\n",
       "548      430186476  2780786433 2019-08-29     1580     A\n",
       "857      847315305  2780786433 2019-08-27      540     B"
      ]
     },
     "metadata": {},
     "output_type": "display_data"
    },
    {
     "data": {
      "text/html": [
       "<div>\n",
       "<style scoped>\n",
       "    .dataframe tbody tr th:only-of-type {\n",
       "        vertical-align: middle;\n",
       "    }\n",
       "\n",
       "    .dataframe tbody tr th {\n",
       "        vertical-align: top;\n",
       "    }\n",
       "\n",
       "    .dataframe thead th {\n",
       "        text-align: right;\n",
       "    }\n",
       "</style>\n",
       "<table border=\"1\" class=\"dataframe\">\n",
       "  <thead>\n",
       "    <tr style=\"text-align: right;\">\n",
       "      <th></th>\n",
       "      <th>transactionId</th>\n",
       "      <th>visitorId</th>\n",
       "      <th>date</th>\n",
       "      <th>revenue</th>\n",
       "      <th>group</th>\n",
       "    </tr>\n",
       "  </thead>\n",
       "  <tbody>\n",
       "    <tr>\n",
       "      <th>310</th>\n",
       "      <td>3532704780</td>\n",
       "      <td>3984495233</td>\n",
       "      <td>2019-08-03</td>\n",
       "      <td>20219</td>\n",
       "      <td>B</td>\n",
       "    </tr>\n",
       "    <tr>\n",
       "      <th>536</th>\n",
       "      <td>3925488023</td>\n",
       "      <td>3984495233</td>\n",
       "      <td>2019-08-04</td>\n",
       "      <td>20219</td>\n",
       "      <td>A</td>\n",
       "    </tr>\n",
       "    <tr>\n",
       "      <th>698</th>\n",
       "      <td>429858801</td>\n",
       "      <td>3984495233</td>\n",
       "      <td>2019-08-05</td>\n",
       "      <td>14495</td>\n",
       "      <td>A</td>\n",
       "    </tr>\n",
       "  </tbody>\n",
       "</table>\n",
       "</div>"
      ],
      "text/plain": [
       "     transactionId   visitorId       date  revenue group\n",
       "310     3532704780  3984495233 2019-08-03    20219     B\n",
       "536     3925488023  3984495233 2019-08-04    20219     A\n",
       "698      429858801  3984495233 2019-08-05    14495     A"
      ]
     },
     "metadata": {},
     "output_type": "display_data"
    },
    {
     "data": {
      "text/html": [
       "<div>\n",
       "<style scoped>\n",
       "    .dataframe tbody tr th:only-of-type {\n",
       "        vertical-align: middle;\n",
       "    }\n",
       "\n",
       "    .dataframe tbody tr th {\n",
       "        vertical-align: top;\n",
       "    }\n",
       "\n",
       "    .dataframe thead th {\n",
       "        text-align: right;\n",
       "    }\n",
       "</style>\n",
       "<table border=\"1\" class=\"dataframe\">\n",
       "  <thead>\n",
       "    <tr style=\"text-align: right;\">\n",
       "      <th></th>\n",
       "      <th>transactionId</th>\n",
       "      <th>visitorId</th>\n",
       "      <th>date</th>\n",
       "      <th>revenue</th>\n",
       "      <th>group</th>\n",
       "    </tr>\n",
       "  </thead>\n",
       "  <tbody>\n",
       "    <tr>\n",
       "      <th>402</th>\n",
       "      <td>371848868</td>\n",
       "      <td>1294878855</td>\n",
       "      <td>2019-08-28</td>\n",
       "      <td>3080</td>\n",
       "      <td>B</td>\n",
       "    </tr>\n",
       "    <tr>\n",
       "      <th>677</th>\n",
       "      <td>2348589867</td>\n",
       "      <td>1294878855</td>\n",
       "      <td>2019-08-09</td>\n",
       "      <td>27390</td>\n",
       "      <td>A</td>\n",
       "    </tr>\n",
       "    <tr>\n",
       "      <th>1015</th>\n",
       "      <td>4262851755</td>\n",
       "      <td>1294878855</td>\n",
       "      <td>2019-08-31</td>\n",
       "      <td>570</td>\n",
       "      <td>A</td>\n",
       "    </tr>\n",
       "  </tbody>\n",
       "</table>\n",
       "</div>"
      ],
      "text/plain": [
       "      transactionId   visitorId       date  revenue group\n",
       "402       371848868  1294878855 2019-08-28     3080     B\n",
       "677      2348589867  1294878855 2019-08-09    27390     A\n",
       "1015     4262851755  1294878855 2019-08-31      570     A"
      ]
     },
     "metadata": {},
     "output_type": "display_data"
    },
    {
     "data": {
      "text/html": [
       "<div>\n",
       "<style scoped>\n",
       "    .dataframe tbody tr th:only-of-type {\n",
       "        vertical-align: middle;\n",
       "    }\n",
       "\n",
       "    .dataframe tbody tr th {\n",
       "        vertical-align: top;\n",
       "    }\n",
       "\n",
       "    .dataframe thead th {\n",
       "        text-align: right;\n",
       "    }\n",
       "</style>\n",
       "<table border=\"1\" class=\"dataframe\">\n",
       "  <thead>\n",
       "    <tr style=\"text-align: right;\">\n",
       "      <th></th>\n",
       "      <th>transactionId</th>\n",
       "      <th>visitorId</th>\n",
       "      <th>date</th>\n",
       "      <th>revenue</th>\n",
       "      <th>group</th>\n",
       "    </tr>\n",
       "  </thead>\n",
       "  <tbody>\n",
       "    <tr>\n",
       "      <th>189</th>\n",
       "      <td>4189935502</td>\n",
       "      <td>1648269707</td>\n",
       "      <td>2019-08-17</td>\n",
       "      <td>290</td>\n",
       "      <td>B</td>\n",
       "    </tr>\n",
       "    <tr>\n",
       "      <th>279</th>\n",
       "      <td>1101659272</td>\n",
       "      <td>1648269707</td>\n",
       "      <td>2019-08-18</td>\n",
       "      <td>860</td>\n",
       "      <td>A</td>\n",
       "    </tr>\n",
       "  </tbody>\n",
       "</table>\n",
       "</div>"
      ],
      "text/plain": [
       "     transactionId   visitorId       date  revenue group\n",
       "189     4189935502  1648269707 2019-08-17      290     B\n",
       "279     1101659272  1648269707 2019-08-18      860     A"
      ]
     },
     "metadata": {},
     "output_type": "display_data"
    },
    {
     "data": {
      "text/html": [
       "<div>\n",
       "<style scoped>\n",
       "    .dataframe tbody tr th:only-of-type {\n",
       "        vertical-align: middle;\n",
       "    }\n",
       "\n",
       "    .dataframe tbody tr th {\n",
       "        vertical-align: top;\n",
       "    }\n",
       "\n",
       "    .dataframe thead th {\n",
       "        text-align: right;\n",
       "    }\n",
       "</style>\n",
       "<table border=\"1\" class=\"dataframe\">\n",
       "  <thead>\n",
       "    <tr style=\"text-align: right;\">\n",
       "      <th></th>\n",
       "      <th>transactionId</th>\n",
       "      <th>visitorId</th>\n",
       "      <th>date</th>\n",
       "      <th>revenue</th>\n",
       "      <th>group</th>\n",
       "    </tr>\n",
       "  </thead>\n",
       "  <tbody>\n",
       "    <tr>\n",
       "      <th>627</th>\n",
       "      <td>4212256267</td>\n",
       "      <td>4120364173</td>\n",
       "      <td>2019-08-29</td>\n",
       "      <td>39800</td>\n",
       "      <td>A</td>\n",
       "    </tr>\n",
       "    <tr>\n",
       "      <th>1021</th>\n",
       "      <td>969750843</td>\n",
       "      <td>4120364173</td>\n",
       "      <td>2019-08-31</td>\n",
       "      <td>15500</td>\n",
       "      <td>B</td>\n",
       "    </tr>\n",
       "  </tbody>\n",
       "</table>\n",
       "</div>"
      ],
      "text/plain": [
       "      transactionId   visitorId       date  revenue group\n",
       "627      4212256267  4120364173 2019-08-29    39800     A\n",
       "1021      969750843  4120364173 2019-08-31    15500     B"
      ]
     },
     "metadata": {},
     "output_type": "display_data"
    },
    {
     "data": {
      "text/html": [
       "<div>\n",
       "<style scoped>\n",
       "    .dataframe tbody tr th:only-of-type {\n",
       "        vertical-align: middle;\n",
       "    }\n",
       "\n",
       "    .dataframe tbody tr th {\n",
       "        vertical-align: top;\n",
       "    }\n",
       "\n",
       "    .dataframe thead th {\n",
       "        text-align: right;\n",
       "    }\n",
       "</style>\n",
       "<table border=\"1\" class=\"dataframe\">\n",
       "  <thead>\n",
       "    <tr style=\"text-align: right;\">\n",
       "      <th></th>\n",
       "      <th>transactionId</th>\n",
       "      <th>visitorId</th>\n",
       "      <th>date</th>\n",
       "      <th>revenue</th>\n",
       "      <th>group</th>\n",
       "    </tr>\n",
       "  </thead>\n",
       "  <tbody>\n",
       "    <tr>\n",
       "      <th>685</th>\n",
       "      <td>2972137054</td>\n",
       "      <td>1614305549</td>\n",
       "      <td>2019-08-29</td>\n",
       "      <td>9680</td>\n",
       "      <td>B</td>\n",
       "    </tr>\n",
       "    <tr>\n",
       "      <th>687</th>\n",
       "      <td>2663041816</td>\n",
       "      <td>1614305549</td>\n",
       "      <td>2019-08-29</td>\n",
       "      <td>1530</td>\n",
       "      <td>A</td>\n",
       "    </tr>\n",
       "    <tr>\n",
       "      <th>767</th>\n",
       "      <td>1278695805</td>\n",
       "      <td>1614305549</td>\n",
       "      <td>2019-08-21</td>\n",
       "      <td>750</td>\n",
       "      <td>A</td>\n",
       "    </tr>\n",
       "    <tr>\n",
       "      <th>1195</th>\n",
       "      <td>1947021204</td>\n",
       "      <td>1614305549</td>\n",
       "      <td>2019-08-14</td>\n",
       "      <td>100</td>\n",
       "      <td>A</td>\n",
       "    </tr>\n",
       "  </tbody>\n",
       "</table>\n",
       "</div>"
      ],
      "text/plain": [
       "      transactionId   visitorId       date  revenue group\n",
       "685      2972137054  1614305549 2019-08-29     9680     B\n",
       "687      2663041816  1614305549 2019-08-29     1530     A\n",
       "767      1278695805  1614305549 2019-08-21      750     A\n",
       "1195     1947021204  1614305549 2019-08-14      100     A"
      ]
     },
     "metadata": {},
     "output_type": "display_data"
    },
    {
     "data": {
      "text/html": [
       "<div>\n",
       "<style scoped>\n",
       "    .dataframe tbody tr th:only-of-type {\n",
       "        vertical-align: middle;\n",
       "    }\n",
       "\n",
       "    .dataframe tbody tr th {\n",
       "        vertical-align: top;\n",
       "    }\n",
       "\n",
       "    .dataframe thead th {\n",
       "        text-align: right;\n",
       "    }\n",
       "</style>\n",
       "<table border=\"1\" class=\"dataframe\">\n",
       "  <thead>\n",
       "    <tr style=\"text-align: right;\">\n",
       "      <th></th>\n",
       "      <th>transactionId</th>\n",
       "      <th>visitorId</th>\n",
       "      <th>date</th>\n",
       "      <th>revenue</th>\n",
       "      <th>group</th>\n",
       "    </tr>\n",
       "  </thead>\n",
       "  <tbody>\n",
       "    <tr>\n",
       "      <th>1009</th>\n",
       "      <td>2670069237</td>\n",
       "      <td>232979603</td>\n",
       "      <td>2019-08-31</td>\n",
       "      <td>2640</td>\n",
       "      <td>B</td>\n",
       "    </tr>\n",
       "    <tr>\n",
       "      <th>1013</th>\n",
       "      <td>83566152</td>\n",
       "      <td>232979603</td>\n",
       "      <td>2019-08-31</td>\n",
       "      <td>60</td>\n",
       "      <td>A</td>\n",
       "    </tr>\n",
       "  </tbody>\n",
       "</table>\n",
       "</div>"
      ],
      "text/plain": [
       "      transactionId  visitorId       date  revenue group\n",
       "1009     2670069237  232979603 2019-08-31     2640     B\n",
       "1013       83566152  232979603 2019-08-31       60     A"
      ]
     },
     "metadata": {},
     "output_type": "display_data"
    },
    {
     "data": {
      "text/html": [
       "<div>\n",
       "<style scoped>\n",
       "    .dataframe tbody tr th:only-of-type {\n",
       "        vertical-align: middle;\n",
       "    }\n",
       "\n",
       "    .dataframe tbody tr th {\n",
       "        vertical-align: top;\n",
       "    }\n",
       "\n",
       "    .dataframe thead th {\n",
       "        text-align: right;\n",
       "    }\n",
       "</style>\n",
       "<table border=\"1\" class=\"dataframe\">\n",
       "  <thead>\n",
       "    <tr style=\"text-align: right;\">\n",
       "      <th></th>\n",
       "      <th>transactionId</th>\n",
       "      <th>visitorId</th>\n",
       "      <th>date</th>\n",
       "      <th>revenue</th>\n",
       "      <th>group</th>\n",
       "    </tr>\n",
       "  </thead>\n",
       "  <tbody>\n",
       "    <tr>\n",
       "      <th>26</th>\n",
       "      <td>2223239646</td>\n",
       "      <td>199603092</td>\n",
       "      <td>2019-08-15</td>\n",
       "      <td>3488</td>\n",
       "      <td>A</td>\n",
       "    </tr>\n",
       "    <tr>\n",
       "      <th>134</th>\n",
       "      <td>62794304</td>\n",
       "      <td>199603092</td>\n",
       "      <td>2019-08-22</td>\n",
       "      <td>6976</td>\n",
       "      <td>A</td>\n",
       "    </tr>\n",
       "    <tr>\n",
       "      <th>246</th>\n",
       "      <td>437656952</td>\n",
       "      <td>199603092</td>\n",
       "      <td>2019-08-02</td>\n",
       "      <td>3488</td>\n",
       "      <td>B</td>\n",
       "    </tr>\n",
       "    <tr>\n",
       "      <th>823</th>\n",
       "      <td>2971973105</td>\n",
       "      <td>199603092</td>\n",
       "      <td>2019-08-27</td>\n",
       "      <td>2790</td>\n",
       "      <td>A</td>\n",
       "    </tr>\n",
       "    <tr>\n",
       "      <th>1102</th>\n",
       "      <td>1941707234</td>\n",
       "      <td>199603092</td>\n",
       "      <td>2019-08-12</td>\n",
       "      <td>6438</td>\n",
       "      <td>A</td>\n",
       "    </tr>\n",
       "  </tbody>\n",
       "</table>\n",
       "</div>"
      ],
      "text/plain": [
       "      transactionId  visitorId       date  revenue group\n",
       "26       2223239646  199603092 2019-08-15     3488     A\n",
       "134        62794304  199603092 2019-08-22     6976     A\n",
       "246       437656952  199603092 2019-08-02     3488     B\n",
       "823      2971973105  199603092 2019-08-27     2790     A\n",
       "1102     1941707234  199603092 2019-08-12     6438     A"
      ]
     },
     "metadata": {},
     "output_type": "display_data"
    },
    {
     "data": {
      "text/html": [
       "<div>\n",
       "<style scoped>\n",
       "    .dataframe tbody tr th:only-of-type {\n",
       "        vertical-align: middle;\n",
       "    }\n",
       "\n",
       "    .dataframe tbody tr th {\n",
       "        vertical-align: top;\n",
       "    }\n",
       "\n",
       "    .dataframe thead th {\n",
       "        text-align: right;\n",
       "    }\n",
       "</style>\n",
       "<table border=\"1\" class=\"dataframe\">\n",
       "  <thead>\n",
       "    <tr style=\"text-align: right;\">\n",
       "      <th></th>\n",
       "      <th>transactionId</th>\n",
       "      <th>visitorId</th>\n",
       "      <th>date</th>\n",
       "      <th>revenue</th>\n",
       "      <th>group</th>\n",
       "    </tr>\n",
       "  </thead>\n",
       "  <tbody>\n",
       "    <tr>\n",
       "      <th>662</th>\n",
       "      <td>1811671147</td>\n",
       "      <td>4266935830</td>\n",
       "      <td>2019-08-29</td>\n",
       "      <td>78990</td>\n",
       "      <td>A</td>\n",
       "    </tr>\n",
       "    <tr>\n",
       "      <th>682</th>\n",
       "      <td>1216533772</td>\n",
       "      <td>4266935830</td>\n",
       "      <td>2019-08-29</td>\n",
       "      <td>78990</td>\n",
       "      <td>B</td>\n",
       "    </tr>\n",
       "  </tbody>\n",
       "</table>\n",
       "</div>"
      ],
      "text/plain": [
       "     transactionId   visitorId       date  revenue group\n",
       "662     1811671147  4266935830 2019-08-29    78990     A\n",
       "682     1216533772  4266935830 2019-08-29    78990     B"
      ]
     },
     "metadata": {},
     "output_type": "display_data"
    },
    {
     "data": {
      "text/html": [
       "<div>\n",
       "<style scoped>\n",
       "    .dataframe tbody tr th:only-of-type {\n",
       "        vertical-align: middle;\n",
       "    }\n",
       "\n",
       "    .dataframe tbody tr th {\n",
       "        vertical-align: top;\n",
       "    }\n",
       "\n",
       "    .dataframe thead th {\n",
       "        text-align: right;\n",
       "    }\n",
       "</style>\n",
       "<table border=\"1\" class=\"dataframe\">\n",
       "  <thead>\n",
       "    <tr style=\"text-align: right;\">\n",
       "      <th></th>\n",
       "      <th>transactionId</th>\n",
       "      <th>visitorId</th>\n",
       "      <th>date</th>\n",
       "      <th>revenue</th>\n",
       "      <th>group</th>\n",
       "    </tr>\n",
       "  </thead>\n",
       "  <tbody>\n",
       "    <tr>\n",
       "      <th>61</th>\n",
       "      <td>1251767592</td>\n",
       "      <td>2712142231</td>\n",
       "      <td>2019-08-16</td>\n",
       "      <td>790</td>\n",
       "      <td>B</td>\n",
       "    </tr>\n",
       "    <tr>\n",
       "      <th>1173</th>\n",
       "      <td>3612788481</td>\n",
       "      <td>2712142231</td>\n",
       "      <td>2019-08-14</td>\n",
       "      <td>2490</td>\n",
       "      <td>A</td>\n",
       "    </tr>\n",
       "  </tbody>\n",
       "</table>\n",
       "</div>"
      ],
      "text/plain": [
       "      transactionId   visitorId       date  revenue group\n",
       "61       1251767592  2712142231 2019-08-16      790     B\n",
       "1173     3612788481  2712142231 2019-08-14     2490     A"
      ]
     },
     "metadata": {},
     "output_type": "display_data"
    },
    {
     "data": {
      "text/html": [
       "<div>\n",
       "<style scoped>\n",
       "    .dataframe tbody tr th:only-of-type {\n",
       "        vertical-align: middle;\n",
       "    }\n",
       "\n",
       "    .dataframe tbody tr th {\n",
       "        vertical-align: top;\n",
       "    }\n",
       "\n",
       "    .dataframe thead th {\n",
       "        text-align: right;\n",
       "    }\n",
       "</style>\n",
       "<table border=\"1\" class=\"dataframe\">\n",
       "  <thead>\n",
       "    <tr style=\"text-align: right;\">\n",
       "      <th></th>\n",
       "      <th>transactionId</th>\n",
       "      <th>visitorId</th>\n",
       "      <th>date</th>\n",
       "      <th>revenue</th>\n",
       "      <th>group</th>\n",
       "    </tr>\n",
       "  </thead>\n",
       "  <tbody>\n",
       "    <tr>\n",
       "      <th>415</th>\n",
       "      <td>1825231501</td>\n",
       "      <td>2587333274</td>\n",
       "      <td>2019-08-06</td>\n",
       "      <td>8870</td>\n",
       "      <td>B</td>\n",
       "    </tr>\n",
       "    <tr>\n",
       "      <th>729</th>\n",
       "      <td>2667448076</td>\n",
       "      <td>2587333274</td>\n",
       "      <td>2019-08-07</td>\n",
       "      <td>6170</td>\n",
       "      <td>B</td>\n",
       "    </tr>\n",
       "    <tr>\n",
       "      <th>970</th>\n",
       "      <td>3478707774</td>\n",
       "      <td>2587333274</td>\n",
       "      <td>2019-08-08</td>\n",
       "      <td>3600</td>\n",
       "      <td>A</td>\n",
       "    </tr>\n",
       "    <tr>\n",
       "      <th>972</th>\n",
       "      <td>2419539947</td>\n",
       "      <td>2587333274</td>\n",
       "      <td>2019-08-08</td>\n",
       "      <td>3600</td>\n",
       "      <td>B</td>\n",
       "    </tr>\n",
       "  </tbody>\n",
       "</table>\n",
       "</div>"
      ],
      "text/plain": [
       "     transactionId   visitorId       date  revenue group\n",
       "415     1825231501  2587333274 2019-08-06     8870     B\n",
       "729     2667448076  2587333274 2019-08-07     6170     B\n",
       "970     3478707774  2587333274 2019-08-08     3600     A\n",
       "972     2419539947  2587333274 2019-08-08     3600     B"
      ]
     },
     "metadata": {},
     "output_type": "display_data"
    },
    {
     "data": {
      "text/html": [
       "<div>\n",
       "<style scoped>\n",
       "    .dataframe tbody tr th:only-of-type {\n",
       "        vertical-align: middle;\n",
       "    }\n",
       "\n",
       "    .dataframe tbody tr th {\n",
       "        vertical-align: top;\n",
       "    }\n",
       "\n",
       "    .dataframe thead th {\n",
       "        text-align: right;\n",
       "    }\n",
       "</style>\n",
       "<table border=\"1\" class=\"dataframe\">\n",
       "  <thead>\n",
       "    <tr style=\"text-align: right;\">\n",
       "      <th></th>\n",
       "      <th>transactionId</th>\n",
       "      <th>visitorId</th>\n",
       "      <th>date</th>\n",
       "      <th>revenue</th>\n",
       "      <th>group</th>\n",
       "    </tr>\n",
       "  </thead>\n",
       "  <tbody>\n",
       "    <tr>\n",
       "      <th>139</th>\n",
       "      <td>4141167864</td>\n",
       "      <td>2716752286</td>\n",
       "      <td>2019-08-01</td>\n",
       "      <td>7990</td>\n",
       "      <td>B</td>\n",
       "    </tr>\n",
       "    <tr>\n",
       "      <th>197</th>\n",
       "      <td>2632798290</td>\n",
       "      <td>2716752286</td>\n",
       "      <td>2019-08-02</td>\n",
       "      <td>2220</td>\n",
       "      <td>A</td>\n",
       "    </tr>\n",
       "  </tbody>\n",
       "</table>\n",
       "</div>"
      ],
      "text/plain": [
       "     transactionId   visitorId       date  revenue group\n",
       "139     4141167864  2716752286 2019-08-01     7990     B\n",
       "197     2632798290  2716752286 2019-08-02     2220     A"
      ]
     },
     "metadata": {},
     "output_type": "display_data"
    },
    {
     "data": {
      "text/html": [
       "<div>\n",
       "<style scoped>\n",
       "    .dataframe tbody tr th:only-of-type {\n",
       "        vertical-align: middle;\n",
       "    }\n",
       "\n",
       "    .dataframe tbody tr th {\n",
       "        vertical-align: top;\n",
       "    }\n",
       "\n",
       "    .dataframe thead th {\n",
       "        text-align: right;\n",
       "    }\n",
       "</style>\n",
       "<table border=\"1\" class=\"dataframe\">\n",
       "  <thead>\n",
       "    <tr style=\"text-align: right;\">\n",
       "      <th></th>\n",
       "      <th>transactionId</th>\n",
       "      <th>visitorId</th>\n",
       "      <th>date</th>\n",
       "      <th>revenue</th>\n",
       "      <th>group</th>\n",
       "    </tr>\n",
       "  </thead>\n",
       "  <tbody>\n",
       "    <tr>\n",
       "      <th>327</th>\n",
       "      <td>3909269888</td>\n",
       "      <td>1668030113</td>\n",
       "      <td>2019-08-28</td>\n",
       "      <td>5070</td>\n",
       "      <td>B</td>\n",
       "    </tr>\n",
       "    <tr>\n",
       "      <th>782</th>\n",
       "      <td>2339954598</td>\n",
       "      <td>1668030113</td>\n",
       "      <td>2019-08-27</td>\n",
       "      <td>2600</td>\n",
       "      <td>A</td>\n",
       "    </tr>\n",
       "    <tr>\n",
       "      <th>1182</th>\n",
       "      <td>2682156369</td>\n",
       "      <td>1668030113</td>\n",
       "      <td>2019-08-14</td>\n",
       "      <td>1290</td>\n",
       "      <td>B</td>\n",
       "    </tr>\n",
       "  </tbody>\n",
       "</table>\n",
       "</div>"
      ],
      "text/plain": [
       "      transactionId   visitorId       date  revenue group\n",
       "327      3909269888  1668030113 2019-08-28     5070     B\n",
       "782      2339954598  1668030113 2019-08-27     2600     A\n",
       "1182     2682156369  1668030113 2019-08-14     1290     B"
      ]
     },
     "metadata": {},
     "output_type": "display_data"
    },
    {
     "data": {
      "text/html": [
       "<div>\n",
       "<style scoped>\n",
       "    .dataframe tbody tr th:only-of-type {\n",
       "        vertical-align: middle;\n",
       "    }\n",
       "\n",
       "    .dataframe tbody tr th {\n",
       "        vertical-align: top;\n",
       "    }\n",
       "\n",
       "    .dataframe thead th {\n",
       "        text-align: right;\n",
       "    }\n",
       "</style>\n",
       "<table border=\"1\" class=\"dataframe\">\n",
       "  <thead>\n",
       "    <tr style=\"text-align: right;\">\n",
       "      <th></th>\n",
       "      <th>transactionId</th>\n",
       "      <th>visitorId</th>\n",
       "      <th>date</th>\n",
       "      <th>revenue</th>\n",
       "      <th>group</th>\n",
       "    </tr>\n",
       "  </thead>\n",
       "  <tbody>\n",
       "    <tr>\n",
       "      <th>1122</th>\n",
       "      <td>3620682463</td>\n",
       "      <td>2654030115</td>\n",
       "      <td>2019-08-13</td>\n",
       "      <td>1980</td>\n",
       "      <td>B</td>\n",
       "    </tr>\n",
       "    <tr>\n",
       "      <th>1156</th>\n",
       "      <td>1254962016</td>\n",
       "      <td>2654030115</td>\n",
       "      <td>2019-08-14</td>\n",
       "      <td>1980</td>\n",
       "      <td>A</td>\n",
       "    </tr>\n",
       "  </tbody>\n",
       "</table>\n",
       "</div>"
      ],
      "text/plain": [
       "      transactionId   visitorId       date  revenue group\n",
       "1122     3620682463  2654030115 2019-08-13     1980     B\n",
       "1156     1254962016  2654030115 2019-08-14     1980     A"
      ]
     },
     "metadata": {},
     "output_type": "display_data"
    },
    {
     "data": {
      "text/html": [
       "<div>\n",
       "<style scoped>\n",
       "    .dataframe tbody tr th:only-of-type {\n",
       "        vertical-align: middle;\n",
       "    }\n",
       "\n",
       "    .dataframe tbody tr th {\n",
       "        vertical-align: top;\n",
       "    }\n",
       "\n",
       "    .dataframe thead th {\n",
       "        text-align: right;\n",
       "    }\n",
       "</style>\n",
       "<table border=\"1\" class=\"dataframe\">\n",
       "  <thead>\n",
       "    <tr style=\"text-align: right;\">\n",
       "      <th></th>\n",
       "      <th>transactionId</th>\n",
       "      <th>visitorId</th>\n",
       "      <th>date</th>\n",
       "      <th>revenue</th>\n",
       "      <th>group</th>\n",
       "    </tr>\n",
       "  </thead>\n",
       "  <tbody>\n",
       "    <tr>\n",
       "      <th>24</th>\n",
       "      <td>1162046357</td>\n",
       "      <td>3234906277</td>\n",
       "      <td>2019-08-15</td>\n",
       "      <td>7555</td>\n",
       "      <td>B</td>\n",
       "    </tr>\n",
       "    <tr>\n",
       "      <th>249</th>\n",
       "      <td>1360774578</td>\n",
       "      <td>3234906277</td>\n",
       "      <td>2019-08-18</td>\n",
       "      <td>7555</td>\n",
       "      <td>A</td>\n",
       "    </tr>\n",
       "  </tbody>\n",
       "</table>\n",
       "</div>"
      ],
      "text/plain": [
       "     transactionId   visitorId       date  revenue group\n",
       "24      1162046357  3234906277 2019-08-15     7555     B\n",
       "249     1360774578  3234906277 2019-08-18     7555     A"
      ]
     },
     "metadata": {},
     "output_type": "display_data"
    },
    {
     "data": {
      "text/html": [
       "<div>\n",
       "<style scoped>\n",
       "    .dataframe tbody tr th:only-of-type {\n",
       "        vertical-align: middle;\n",
       "    }\n",
       "\n",
       "    .dataframe tbody tr th {\n",
       "        vertical-align: top;\n",
       "    }\n",
       "\n",
       "    .dataframe thead th {\n",
       "        text-align: right;\n",
       "    }\n",
       "</style>\n",
       "<table border=\"1\" class=\"dataframe\">\n",
       "  <thead>\n",
       "    <tr style=\"text-align: right;\">\n",
       "      <th></th>\n",
       "      <th>transactionId</th>\n",
       "      <th>visitorId</th>\n",
       "      <th>date</th>\n",
       "      <th>revenue</th>\n",
       "      <th>group</th>\n",
       "    </tr>\n",
       "  </thead>\n",
       "  <tbody>\n",
       "    <tr>\n",
       "      <th>672</th>\n",
       "      <td>3667885894</td>\n",
       "      <td>1230306981</td>\n",
       "      <td>2019-08-09</td>\n",
       "      <td>6613</td>\n",
       "      <td>A</td>\n",
       "    </tr>\n",
       "    <tr>\n",
       "      <th>674</th>\n",
       "      <td>1748608673</td>\n",
       "      <td>1230306981</td>\n",
       "      <td>2019-08-09</td>\n",
       "      <td>6400</td>\n",
       "      <td>B</td>\n",
       "    </tr>\n",
       "    <tr>\n",
       "      <th>675</th>\n",
       "      <td>2658936877</td>\n",
       "      <td>1230306981</td>\n",
       "      <td>2019-08-09</td>\n",
       "      <td>6440</td>\n",
       "      <td>B</td>\n",
       "    </tr>\n",
       "    <tr>\n",
       "      <th>676</th>\n",
       "      <td>278311817</td>\n",
       "      <td>1230306981</td>\n",
       "      <td>2019-08-09</td>\n",
       "      <td>1690</td>\n",
       "      <td>A</td>\n",
       "    </tr>\n",
       "    <tr>\n",
       "      <th>739</th>\n",
       "      <td>2541955961</td>\n",
       "      <td>1230306981</td>\n",
       "      <td>2019-08-09</td>\n",
       "      <td>10137</td>\n",
       "      <td>A</td>\n",
       "    </tr>\n",
       "  </tbody>\n",
       "</table>\n",
       "</div>"
      ],
      "text/plain": [
       "     transactionId   visitorId       date  revenue group\n",
       "672     3667885894  1230306981 2019-08-09     6613     A\n",
       "674     1748608673  1230306981 2019-08-09     6400     B\n",
       "675     2658936877  1230306981 2019-08-09     6440     B\n",
       "676      278311817  1230306981 2019-08-09     1690     A\n",
       "739     2541955961  1230306981 2019-08-09    10137     A"
      ]
     },
     "metadata": {},
     "output_type": "display_data"
    },
    {
     "data": {
      "text/html": [
       "<div>\n",
       "<style scoped>\n",
       "    .dataframe tbody tr th:only-of-type {\n",
       "        vertical-align: middle;\n",
       "    }\n",
       "\n",
       "    .dataframe tbody tr th {\n",
       "        vertical-align: top;\n",
       "    }\n",
       "\n",
       "    .dataframe thead th {\n",
       "        text-align: right;\n",
       "    }\n",
       "</style>\n",
       "<table border=\"1\" class=\"dataframe\">\n",
       "  <thead>\n",
       "    <tr style=\"text-align: right;\">\n",
       "      <th></th>\n",
       "      <th>transactionId</th>\n",
       "      <th>visitorId</th>\n",
       "      <th>date</th>\n",
       "      <th>revenue</th>\n",
       "      <th>group</th>\n",
       "    </tr>\n",
       "  </thead>\n",
       "  <tbody>\n",
       "    <tr>\n",
       "      <th>406</th>\n",
       "      <td>1441855393</td>\n",
       "      <td>1404934699</td>\n",
       "      <td>2019-08-03</td>\n",
       "      <td>26980</td>\n",
       "      <td>B</td>\n",
       "    </tr>\n",
       "    <tr>\n",
       "      <th>1036</th>\n",
       "      <td>2890600501</td>\n",
       "      <td>1404934699</td>\n",
       "      <td>2019-08-09</td>\n",
       "      <td>8340</td>\n",
       "      <td>B</td>\n",
       "    </tr>\n",
       "    <tr>\n",
       "      <th>1044</th>\n",
       "      <td>1814628689</td>\n",
       "      <td>1404934699</td>\n",
       "      <td>2019-08-11</td>\n",
       "      <td>8640</td>\n",
       "      <td>A</td>\n",
       "    </tr>\n",
       "  </tbody>\n",
       "</table>\n",
       "</div>"
      ],
      "text/plain": [
       "      transactionId   visitorId       date  revenue group\n",
       "406      1441855393  1404934699 2019-08-03    26980     B\n",
       "1036     2890600501  1404934699 2019-08-09     8340     B\n",
       "1044     1814628689  1404934699 2019-08-11     8640     A"
      ]
     },
     "metadata": {},
     "output_type": "display_data"
    },
    {
     "data": {
      "text/html": [
       "<div>\n",
       "<style scoped>\n",
       "    .dataframe tbody tr th:only-of-type {\n",
       "        vertical-align: middle;\n",
       "    }\n",
       "\n",
       "    .dataframe tbody tr th {\n",
       "        vertical-align: top;\n",
       "    }\n",
       "\n",
       "    .dataframe thead th {\n",
       "        text-align: right;\n",
       "    }\n",
       "</style>\n",
       "<table border=\"1\" class=\"dataframe\">\n",
       "  <thead>\n",
       "    <tr style=\"text-align: right;\">\n",
       "      <th></th>\n",
       "      <th>transactionId</th>\n",
       "      <th>visitorId</th>\n",
       "      <th>date</th>\n",
       "      <th>revenue</th>\n",
       "      <th>group</th>\n",
       "    </tr>\n",
       "  </thead>\n",
       "  <tbody>\n",
       "    <tr>\n",
       "      <th>29</th>\n",
       "      <td>2220299125</td>\n",
       "      <td>3803269165</td>\n",
       "      <td>2019-08-15</td>\n",
       "      <td>700</td>\n",
       "      <td>A</td>\n",
       "    </tr>\n",
       "    <tr>\n",
       "      <th>252</th>\n",
       "      <td>473864496</td>\n",
       "      <td>3803269165</td>\n",
       "      <td>2019-08-23</td>\n",
       "      <td>2360</td>\n",
       "      <td>B</td>\n",
       "    </tr>\n",
       "    <tr>\n",
       "      <th>693</th>\n",
       "      <td>3244441077</td>\n",
       "      <td>3803269165</td>\n",
       "      <td>2019-08-09</td>\n",
       "      <td>590</td>\n",
       "      <td>B</td>\n",
       "    </tr>\n",
       "    <tr>\n",
       "      <th>1171</th>\n",
       "      <td>2860596918</td>\n",
       "      <td>3803269165</td>\n",
       "      <td>2019-08-14</td>\n",
       "      <td>6613</td>\n",
       "      <td>B</td>\n",
       "    </tr>\n",
       "    <tr>\n",
       "      <th>1172</th>\n",
       "      <td>3898641900</td>\n",
       "      <td>3803269165</td>\n",
       "      <td>2019-08-14</td>\n",
       "      <td>790</td>\n",
       "      <td>B</td>\n",
       "    </tr>\n",
       "  </tbody>\n",
       "</table>\n",
       "</div>"
      ],
      "text/plain": [
       "      transactionId   visitorId       date  revenue group\n",
       "29       2220299125  3803269165 2019-08-15      700     A\n",
       "252       473864496  3803269165 2019-08-23     2360     B\n",
       "693      3244441077  3803269165 2019-08-09      590     B\n",
       "1171     2860596918  3803269165 2019-08-14     6613     B\n",
       "1172     3898641900  3803269165 2019-08-14      790     B"
      ]
     },
     "metadata": {},
     "output_type": "display_data"
    },
    {
     "data": {
      "text/html": [
       "<div>\n",
       "<style scoped>\n",
       "    .dataframe tbody tr th:only-of-type {\n",
       "        vertical-align: middle;\n",
       "    }\n",
       "\n",
       "    .dataframe tbody tr th {\n",
       "        vertical-align: top;\n",
       "    }\n",
       "\n",
       "    .dataframe thead th {\n",
       "        text-align: right;\n",
       "    }\n",
       "</style>\n",
       "<table border=\"1\" class=\"dataframe\">\n",
       "  <thead>\n",
       "    <tr style=\"text-align: right;\">\n",
       "      <th></th>\n",
       "      <th>transactionId</th>\n",
       "      <th>visitorId</th>\n",
       "      <th>date</th>\n",
       "      <th>revenue</th>\n",
       "      <th>group</th>\n",
       "    </tr>\n",
       "  </thead>\n",
       "  <tbody>\n",
       "    <tr>\n",
       "      <th>27</th>\n",
       "      <td>1630050528</td>\n",
       "      <td>237748145</td>\n",
       "      <td>2019-08-15</td>\n",
       "      <td>7620</td>\n",
       "      <td>B</td>\n",
       "    </tr>\n",
       "    <tr>\n",
       "      <th>41</th>\n",
       "      <td>2594268419</td>\n",
       "      <td>237748145</td>\n",
       "      <td>2019-08-15</td>\n",
       "      <td>1090</td>\n",
       "      <td>A</td>\n",
       "    </tr>\n",
       "    <tr>\n",
       "      <th>590</th>\n",
       "      <td>3702128013</td>\n",
       "      <td>237748145</td>\n",
       "      <td>2019-08-20</td>\n",
       "      <td>1290</td>\n",
       "      <td>A</td>\n",
       "    </tr>\n",
       "    <tr>\n",
       "      <th>716</th>\n",
       "      <td>972407388</td>\n",
       "      <td>237748145</td>\n",
       "      <td>2019-08-27</td>\n",
       "      <td>470</td>\n",
       "      <td>A</td>\n",
       "    </tr>\n",
       "    <tr>\n",
       "      <th>1097</th>\n",
       "      <td>3357467820</td>\n",
       "      <td>237748145</td>\n",
       "      <td>2019-08-12</td>\n",
       "      <td>340</td>\n",
       "      <td>A</td>\n",
       "    </tr>\n",
       "  </tbody>\n",
       "</table>\n",
       "</div>"
      ],
      "text/plain": [
       "      transactionId  visitorId       date  revenue group\n",
       "27       1630050528  237748145 2019-08-15     7620     B\n",
       "41       2594268419  237748145 2019-08-15     1090     A\n",
       "590      3702128013  237748145 2019-08-20     1290     A\n",
       "716       972407388  237748145 2019-08-27      470     A\n",
       "1097     3357467820  237748145 2019-08-12      340     A"
      ]
     },
     "metadata": {},
     "output_type": "display_data"
    },
    {
     "data": {
      "text/html": [
       "<div>\n",
       "<style scoped>\n",
       "    .dataframe tbody tr th:only-of-type {\n",
       "        vertical-align: middle;\n",
       "    }\n",
       "\n",
       "    .dataframe tbody tr th {\n",
       "        vertical-align: top;\n",
       "    }\n",
       "\n",
       "    .dataframe thead th {\n",
       "        text-align: right;\n",
       "    }\n",
       "</style>\n",
       "<table border=\"1\" class=\"dataframe\">\n",
       "  <thead>\n",
       "    <tr style=\"text-align: right;\">\n",
       "      <th></th>\n",
       "      <th>transactionId</th>\n",
       "      <th>visitorId</th>\n",
       "      <th>date</th>\n",
       "      <th>revenue</th>\n",
       "      <th>group</th>\n",
       "    </tr>\n",
       "  </thead>\n",
       "  <tbody>\n",
       "    <tr>\n",
       "      <th>1178</th>\n",
       "      <td>4052155355</td>\n",
       "      <td>2949041841</td>\n",
       "      <td>2019-08-14</td>\n",
       "      <td>190</td>\n",
       "      <td>A</td>\n",
       "    </tr>\n",
       "    <tr>\n",
       "      <th>1184</th>\n",
       "      <td>1329499668</td>\n",
       "      <td>2949041841</td>\n",
       "      <td>2019-08-14</td>\n",
       "      <td>10380</td>\n",
       "      <td>B</td>\n",
       "    </tr>\n",
       "  </tbody>\n",
       "</table>\n",
       "</div>"
      ],
      "text/plain": [
       "      transactionId   visitorId       date  revenue group\n",
       "1178     4052155355  2949041841 2019-08-14      190     A\n",
       "1184     1329499668  2949041841 2019-08-14    10380     B"
      ]
     },
     "metadata": {},
     "output_type": "display_data"
    },
    {
     "data": {
      "text/html": [
       "<div>\n",
       "<style scoped>\n",
       "    .dataframe tbody tr th:only-of-type {\n",
       "        vertical-align: middle;\n",
       "    }\n",
       "\n",
       "    .dataframe tbody tr th {\n",
       "        vertical-align: top;\n",
       "    }\n",
       "\n",
       "    .dataframe thead th {\n",
       "        text-align: right;\n",
       "    }\n",
       "</style>\n",
       "<table border=\"1\" class=\"dataframe\">\n",
       "  <thead>\n",
       "    <tr style=\"text-align: right;\">\n",
       "      <th></th>\n",
       "      <th>transactionId</th>\n",
       "      <th>visitorId</th>\n",
       "      <th>date</th>\n",
       "      <th>revenue</th>\n",
       "      <th>group</th>\n",
       "    </tr>\n",
       "  </thead>\n",
       "  <tbody>\n",
       "    <tr>\n",
       "      <th>94</th>\n",
       "      <td>252633006</td>\n",
       "      <td>457167155</td>\n",
       "      <td>2019-08-22</td>\n",
       "      <td>5970</td>\n",
       "      <td>B</td>\n",
       "    </tr>\n",
       "    <tr>\n",
       "      <th>95</th>\n",
       "      <td>372616894</td>\n",
       "      <td>457167155</td>\n",
       "      <td>2019-08-22</td>\n",
       "      <td>987</td>\n",
       "      <td>B</td>\n",
       "    </tr>\n",
       "    <tr>\n",
       "      <th>256</th>\n",
       "      <td>2370268995</td>\n",
       "      <td>457167155</td>\n",
       "      <td>2019-08-23</td>\n",
       "      <td>1620</td>\n",
       "      <td>A</td>\n",
       "    </tr>\n",
       "    <tr>\n",
       "      <th>1074</th>\n",
       "      <td>3571123442</td>\n",
       "      <td>457167155</td>\n",
       "      <td>2019-08-12</td>\n",
       "      <td>1280</td>\n",
       "      <td>B</td>\n",
       "    </tr>\n",
       "  </tbody>\n",
       "</table>\n",
       "</div>"
      ],
      "text/plain": [
       "      transactionId  visitorId       date  revenue group\n",
       "94        252633006  457167155 2019-08-22     5970     B\n",
       "95        372616894  457167155 2019-08-22      987     B\n",
       "256      2370268995  457167155 2019-08-23     1620     A\n",
       "1074     3571123442  457167155 2019-08-12     1280     B"
      ]
     },
     "metadata": {},
     "output_type": "display_data"
    },
    {
     "data": {
      "text/html": [
       "<div>\n",
       "<style scoped>\n",
       "    .dataframe tbody tr th:only-of-type {\n",
       "        vertical-align: middle;\n",
       "    }\n",
       "\n",
       "    .dataframe tbody tr th {\n",
       "        vertical-align: top;\n",
       "    }\n",
       "\n",
       "    .dataframe thead th {\n",
       "        text-align: right;\n",
       "    }\n",
       "</style>\n",
       "<table border=\"1\" class=\"dataframe\">\n",
       "  <thead>\n",
       "    <tr style=\"text-align: right;\">\n",
       "      <th></th>\n",
       "      <th>transactionId</th>\n",
       "      <th>visitorId</th>\n",
       "      <th>date</th>\n",
       "      <th>revenue</th>\n",
       "      <th>group</th>\n",
       "    </tr>\n",
       "  </thead>\n",
       "  <tbody>\n",
       "    <tr>\n",
       "      <th>230</th>\n",
       "      <td>3124204494</td>\n",
       "      <td>2927087541</td>\n",
       "      <td>2019-08-23</td>\n",
       "      <td>27550</td>\n",
       "      <td>A</td>\n",
       "    </tr>\n",
       "    <tr>\n",
       "      <th>479</th>\n",
       "      <td>1651227034</td>\n",
       "      <td>2927087541</td>\n",
       "      <td>2019-08-24</td>\n",
       "      <td>2190</td>\n",
       "      <td>B</td>\n",
       "    </tr>\n",
       "  </tbody>\n",
       "</table>\n",
       "</div>"
      ],
      "text/plain": [
       "     transactionId   visitorId       date  revenue group\n",
       "230     3124204494  2927087541 2019-08-23    27550     A\n",
       "479     1651227034  2927087541 2019-08-24     2190     B"
      ]
     },
     "metadata": {},
     "output_type": "display_data"
    },
    {
     "data": {
      "text/html": [
       "<div>\n",
       "<style scoped>\n",
       "    .dataframe tbody tr th:only-of-type {\n",
       "        vertical-align: middle;\n",
       "    }\n",
       "\n",
       "    .dataframe tbody tr th {\n",
       "        vertical-align: top;\n",
       "    }\n",
       "\n",
       "    .dataframe thead th {\n",
       "        text-align: right;\n",
       "    }\n",
       "</style>\n",
       "<table border=\"1\" class=\"dataframe\">\n",
       "  <thead>\n",
       "    <tr style=\"text-align: right;\">\n",
       "      <th></th>\n",
       "      <th>transactionId</th>\n",
       "      <th>visitorId</th>\n",
       "      <th>date</th>\n",
       "      <th>revenue</th>\n",
       "      <th>group</th>\n",
       "    </tr>\n",
       "  </thead>\n",
       "  <tbody>\n",
       "    <tr>\n",
       "      <th>129</th>\n",
       "      <td>1665445278</td>\n",
       "      <td>1738359350</td>\n",
       "      <td>2019-08-22</td>\n",
       "      <td>3070</td>\n",
       "      <td>A</td>\n",
       "    </tr>\n",
       "    <tr>\n",
       "      <th>330</th>\n",
       "      <td>3006440800</td>\n",
       "      <td>1738359350</td>\n",
       "      <td>2019-08-28</td>\n",
       "      <td>890</td>\n",
       "      <td>B</td>\n",
       "    </tr>\n",
       "    <tr>\n",
       "      <th>861</th>\n",
       "      <td>2229298010</td>\n",
       "      <td>1738359350</td>\n",
       "      <td>2019-08-30</td>\n",
       "      <td>2000</td>\n",
       "      <td>B</td>\n",
       "    </tr>\n",
       "  </tbody>\n",
       "</table>\n",
       "</div>"
      ],
      "text/plain": [
       "     transactionId   visitorId       date  revenue group\n",
       "129     1665445278  1738359350 2019-08-22     3070     A\n",
       "330     3006440800  1738359350 2019-08-28      890     B\n",
       "861     2229298010  1738359350 2019-08-30     2000     B"
      ]
     },
     "metadata": {},
     "output_type": "display_data"
    },
    {
     "data": {
      "text/html": [
       "<div>\n",
       "<style scoped>\n",
       "    .dataframe tbody tr th:only-of-type {\n",
       "        vertical-align: middle;\n",
       "    }\n",
       "\n",
       "    .dataframe tbody tr th {\n",
       "        vertical-align: top;\n",
       "    }\n",
       "\n",
       "    .dataframe thead th {\n",
       "        text-align: right;\n",
       "    }\n",
       "</style>\n",
       "<table border=\"1\" class=\"dataframe\">\n",
       "  <thead>\n",
       "    <tr style=\"text-align: right;\">\n",
       "      <th></th>\n",
       "      <th>transactionId</th>\n",
       "      <th>visitorId</th>\n",
       "      <th>date</th>\n",
       "      <th>revenue</th>\n",
       "      <th>group</th>\n",
       "    </tr>\n",
       "  </thead>\n",
       "  <tbody>\n",
       "    <tr>\n",
       "      <th>111</th>\n",
       "      <td>2736731761</td>\n",
       "      <td>3062433592</td>\n",
       "      <td>2019-08-01</td>\n",
       "      <td>14489</td>\n",
       "      <td>B</td>\n",
       "    </tr>\n",
       "    <tr>\n",
       "      <th>112</th>\n",
       "      <td>1638982251</td>\n",
       "      <td>3062433592</td>\n",
       "      <td>2019-08-01</td>\n",
       "      <td>8470</td>\n",
       "      <td>B</td>\n",
       "    </tr>\n",
       "    <tr>\n",
       "      <th>1096</th>\n",
       "      <td>3075787818</td>\n",
       "      <td>3062433592</td>\n",
       "      <td>2019-08-12</td>\n",
       "      <td>32610</td>\n",
       "      <td>B</td>\n",
       "    </tr>\n",
       "    <tr>\n",
       "      <th>1098</th>\n",
       "      <td>1092419081</td>\n",
       "      <td>3062433592</td>\n",
       "      <td>2019-08-12</td>\n",
       "      <td>16920</td>\n",
       "      <td>A</td>\n",
       "    </tr>\n",
       "    <tr>\n",
       "      <th>1100</th>\n",
       "      <td>1671551244</td>\n",
       "      <td>3062433592</td>\n",
       "      <td>2019-08-12</td>\n",
       "      <td>2970</td>\n",
       "      <td>B</td>\n",
       "    </tr>\n",
       "  </tbody>\n",
       "</table>\n",
       "</div>"
      ],
      "text/plain": [
       "      transactionId   visitorId       date  revenue group\n",
       "111      2736731761  3062433592 2019-08-01    14489     B\n",
       "112      1638982251  3062433592 2019-08-01     8470     B\n",
       "1096     3075787818  3062433592 2019-08-12    32610     B\n",
       "1098     1092419081  3062433592 2019-08-12    16920     A\n",
       "1100     1671551244  3062433592 2019-08-12     2970     B"
      ]
     },
     "metadata": {},
     "output_type": "display_data"
    },
    {
     "data": {
      "text/html": [
       "<div>\n",
       "<style scoped>\n",
       "    .dataframe tbody tr th:only-of-type {\n",
       "        vertical-align: middle;\n",
       "    }\n",
       "\n",
       "    .dataframe tbody tr th {\n",
       "        vertical-align: top;\n",
       "    }\n",
       "\n",
       "    .dataframe thead th {\n",
       "        text-align: right;\n",
       "    }\n",
       "</style>\n",
       "<table border=\"1\" class=\"dataframe\">\n",
       "  <thead>\n",
       "    <tr style=\"text-align: right;\">\n",
       "      <th></th>\n",
       "      <th>transactionId</th>\n",
       "      <th>visitorId</th>\n",
       "      <th>date</th>\n",
       "      <th>revenue</th>\n",
       "      <th>group</th>\n",
       "    </tr>\n",
       "  </thead>\n",
       "  <tbody>\n",
       "    <tr>\n",
       "      <th>200</th>\n",
       "      <td>2066718132</td>\n",
       "      <td>3656415546</td>\n",
       "      <td>2019-08-23</td>\n",
       "      <td>2845</td>\n",
       "      <td>A</td>\n",
       "    </tr>\n",
       "    <tr>\n",
       "      <th>1042</th>\n",
       "      <td>265631116</td>\n",
       "      <td>3656415546</td>\n",
       "      <td>2019-08-11</td>\n",
       "      <td>250</td>\n",
       "      <td>B</td>\n",
       "    </tr>\n",
       "  </tbody>\n",
       "</table>\n",
       "</div>"
      ],
      "text/plain": [
       "      transactionId   visitorId       date  revenue group\n",
       "200      2066718132  3656415546 2019-08-23     2845     A\n",
       "1042      265631116  3656415546 2019-08-11      250     B"
      ]
     },
     "metadata": {},
     "output_type": "display_data"
    },
    {
     "data": {
      "text/html": [
       "<div>\n",
       "<style scoped>\n",
       "    .dataframe tbody tr th:only-of-type {\n",
       "        vertical-align: middle;\n",
       "    }\n",
       "\n",
       "    .dataframe tbody tr th {\n",
       "        vertical-align: top;\n",
       "    }\n",
       "\n",
       "    .dataframe thead th {\n",
       "        text-align: right;\n",
       "    }\n",
       "</style>\n",
       "<table border=\"1\" class=\"dataframe\">\n",
       "  <thead>\n",
       "    <tr style=\"text-align: right;\">\n",
       "      <th></th>\n",
       "      <th>transactionId</th>\n",
       "      <th>visitorId</th>\n",
       "      <th>date</th>\n",
       "      <th>revenue</th>\n",
       "      <th>group</th>\n",
       "    </tr>\n",
       "  </thead>\n",
       "  <tbody>\n",
       "    <tr>\n",
       "      <th>325</th>\n",
       "      <td>4276811111</td>\n",
       "      <td>818047933</td>\n",
       "      <td>2019-08-28</td>\n",
       "      <td>3460</td>\n",
       "      <td>A</td>\n",
       "    </tr>\n",
       "    <tr>\n",
       "      <th>1163</th>\n",
       "      <td>2357685128</td>\n",
       "      <td>818047933</td>\n",
       "      <td>2019-08-14</td>\n",
       "      <td>400</td>\n",
       "      <td>B</td>\n",
       "    </tr>\n",
       "  </tbody>\n",
       "</table>\n",
       "</div>"
      ],
      "text/plain": [
       "      transactionId  visitorId       date  revenue group\n",
       "325      4276811111  818047933 2019-08-28     3460     A\n",
       "1163     2357685128  818047933 2019-08-14      400     B"
      ]
     },
     "metadata": {},
     "output_type": "display_data"
    },
    {
     "data": {
      "text/html": [
       "<div>\n",
       "<style scoped>\n",
       "    .dataframe tbody tr th:only-of-type {\n",
       "        vertical-align: middle;\n",
       "    }\n",
       "\n",
       "    .dataframe tbody tr th {\n",
       "        vertical-align: top;\n",
       "    }\n",
       "\n",
       "    .dataframe thead th {\n",
       "        text-align: right;\n",
       "    }\n",
       "</style>\n",
       "<table border=\"1\" class=\"dataframe\">\n",
       "  <thead>\n",
       "    <tr style=\"text-align: right;\">\n",
       "      <th></th>\n",
       "      <th>transactionId</th>\n",
       "      <th>visitorId</th>\n",
       "      <th>date</th>\n",
       "      <th>revenue</th>\n",
       "      <th>group</th>\n",
       "    </tr>\n",
       "  </thead>\n",
       "  <tbody>\n",
       "    <tr>\n",
       "      <th>525</th>\n",
       "      <td>3031564664</td>\n",
       "      <td>393266494</td>\n",
       "      <td>2019-08-19</td>\n",
       "      <td>21550</td>\n",
       "      <td>A</td>\n",
       "    </tr>\n",
       "    <tr>\n",
       "      <th>936</th>\n",
       "      <td>936917445</td>\n",
       "      <td>393266494</td>\n",
       "      <td>2019-08-08</td>\n",
       "      <td>2190</td>\n",
       "      <td>B</td>\n",
       "    </tr>\n",
       "    <tr>\n",
       "      <th>1189</th>\n",
       "      <td>4082620617</td>\n",
       "      <td>393266494</td>\n",
       "      <td>2019-08-14</td>\n",
       "      <td>31550</td>\n",
       "      <td>B</td>\n",
       "    </tr>\n",
       "  </tbody>\n",
       "</table>\n",
       "</div>"
      ],
      "text/plain": [
       "      transactionId  visitorId       date  revenue group\n",
       "525      3031564664  393266494 2019-08-19    21550     A\n",
       "936       936917445  393266494 2019-08-08     2190     B\n",
       "1189     4082620617  393266494 2019-08-14    31550     B"
      ]
     },
     "metadata": {},
     "output_type": "display_data"
    },
    {
     "data": {
      "text/html": [
       "<div>\n",
       "<style scoped>\n",
       "    .dataframe tbody tr th:only-of-type {\n",
       "        vertical-align: middle;\n",
       "    }\n",
       "\n",
       "    .dataframe tbody tr th {\n",
       "        vertical-align: top;\n",
       "    }\n",
       "\n",
       "    .dataframe thead th {\n",
       "        text-align: right;\n",
       "    }\n",
       "</style>\n",
       "<table border=\"1\" class=\"dataframe\">\n",
       "  <thead>\n",
       "    <tr style=\"text-align: right;\">\n",
       "      <th></th>\n",
       "      <th>transactionId</th>\n",
       "      <th>visitorId</th>\n",
       "      <th>date</th>\n",
       "      <th>revenue</th>\n",
       "      <th>group</th>\n",
       "    </tr>\n",
       "  </thead>\n",
       "  <tbody>\n",
       "    <tr>\n",
       "      <th>20</th>\n",
       "      <td>2904772834</td>\n",
       "      <td>963407295</td>\n",
       "      <td>2019-08-15</td>\n",
       "      <td>300</td>\n",
       "      <td>B</td>\n",
       "    </tr>\n",
       "    <tr>\n",
       "      <th>1183</th>\n",
       "      <td>1458356232</td>\n",
       "      <td>963407295</td>\n",
       "      <td>2019-08-14</td>\n",
       "      <td>4940</td>\n",
       "      <td>A</td>\n",
       "    </tr>\n",
       "  </tbody>\n",
       "</table>\n",
       "</div>"
      ],
      "text/plain": [
       "      transactionId  visitorId       date  revenue group\n",
       "20       2904772834  963407295 2019-08-15      300     B\n",
       "1183     1458356232  963407295 2019-08-14     4940     A"
      ]
     },
     "metadata": {},
     "output_type": "display_data"
    },
    {
     "data": {
      "text/html": [
       "<div>\n",
       "<style scoped>\n",
       "    .dataframe tbody tr th:only-of-type {\n",
       "        vertical-align: middle;\n",
       "    }\n",
       "\n",
       "    .dataframe tbody tr th {\n",
       "        vertical-align: top;\n",
       "    }\n",
       "\n",
       "    .dataframe thead th {\n",
       "        text-align: right;\n",
       "    }\n",
       "</style>\n",
       "<table border=\"1\" class=\"dataframe\">\n",
       "  <thead>\n",
       "    <tr style=\"text-align: right;\">\n",
       "      <th></th>\n",
       "      <th>transactionId</th>\n",
       "      <th>visitorId</th>\n",
       "      <th>date</th>\n",
       "      <th>revenue</th>\n",
       "      <th>group</th>\n",
       "    </tr>\n",
       "  </thead>\n",
       "  <tbody>\n",
       "    <tr>\n",
       "      <th>844</th>\n",
       "      <td>3734714128</td>\n",
       "      <td>471551937</td>\n",
       "      <td>2019-08-05</td>\n",
       "      <td>22950</td>\n",
       "      <td>A</td>\n",
       "    </tr>\n",
       "    <tr>\n",
       "      <th>1166</th>\n",
       "      <td>2676541142</td>\n",
       "      <td>471551937</td>\n",
       "      <td>2019-08-14</td>\n",
       "      <td>3460</td>\n",
       "      <td>B</td>\n",
       "    </tr>\n",
       "  </tbody>\n",
       "</table>\n",
       "</div>"
      ],
      "text/plain": [
       "      transactionId  visitorId       date  revenue group\n",
       "844      3734714128  471551937 2019-08-05    22950     A\n",
       "1166     2676541142  471551937 2019-08-14     3460     B"
      ]
     },
     "metadata": {},
     "output_type": "display_data"
    },
    {
     "data": {
      "text/html": [
       "<div>\n",
       "<style scoped>\n",
       "    .dataframe tbody tr th:only-of-type {\n",
       "        vertical-align: middle;\n",
       "    }\n",
       "\n",
       "    .dataframe tbody tr th {\n",
       "        vertical-align: top;\n",
       "    }\n",
       "\n",
       "    .dataframe thead th {\n",
       "        text-align: right;\n",
       "    }\n",
       "</style>\n",
       "<table border=\"1\" class=\"dataframe\">\n",
       "  <thead>\n",
       "    <tr style=\"text-align: right;\">\n",
       "      <th></th>\n",
       "      <th>transactionId</th>\n",
       "      <th>visitorId</th>\n",
       "      <th>date</th>\n",
       "      <th>revenue</th>\n",
       "      <th>group</th>\n",
       "    </tr>\n",
       "  </thead>\n",
       "  <tbody>\n",
       "    <tr>\n",
       "      <th>265</th>\n",
       "      <td>3743515850</td>\n",
       "      <td>2579882178</td>\n",
       "      <td>2019-08-18</td>\n",
       "      <td>1922</td>\n",
       "      <td>A</td>\n",
       "    </tr>\n",
       "    <tr>\n",
       "      <th>267</th>\n",
       "      <td>131747281</td>\n",
       "      <td>2579882178</td>\n",
       "      <td>2019-08-18</td>\n",
       "      <td>19538</td>\n",
       "      <td>B</td>\n",
       "    </tr>\n",
       "  </tbody>\n",
       "</table>\n",
       "</div>"
      ],
      "text/plain": [
       "     transactionId   visitorId       date  revenue group\n",
       "265     3743515850  2579882178 2019-08-18     1922     A\n",
       "267      131747281  2579882178 2019-08-18    19538     B"
      ]
     },
     "metadata": {},
     "output_type": "display_data"
    },
    {
     "data": {
      "text/html": [
       "<div>\n",
       "<style scoped>\n",
       "    .dataframe tbody tr th:only-of-type {\n",
       "        vertical-align: middle;\n",
       "    }\n",
       "\n",
       "    .dataframe tbody tr th {\n",
       "        vertical-align: top;\n",
       "    }\n",
       "\n",
       "    .dataframe thead th {\n",
       "        text-align: right;\n",
       "    }\n",
       "</style>\n",
       "<table border=\"1\" class=\"dataframe\">\n",
       "  <thead>\n",
       "    <tr style=\"text-align: right;\">\n",
       "      <th></th>\n",
       "      <th>transactionId</th>\n",
       "      <th>visitorId</th>\n",
       "      <th>date</th>\n",
       "      <th>revenue</th>\n",
       "      <th>group</th>\n",
       "    </tr>\n",
       "  </thead>\n",
       "  <tbody>\n",
       "    <tr>\n",
       "      <th>430</th>\n",
       "      <td>1168756094</td>\n",
       "      <td>3202540741</td>\n",
       "      <td>2019-08-24</td>\n",
       "      <td>3150</td>\n",
       "      <td>A</td>\n",
       "    </tr>\n",
       "    <tr>\n",
       "      <th>432</th>\n",
       "      <td>1061451265</td>\n",
       "      <td>3202540741</td>\n",
       "      <td>2019-08-24</td>\n",
       "      <td>5450</td>\n",
       "      <td>B</td>\n",
       "    </tr>\n",
       "  </tbody>\n",
       "</table>\n",
       "</div>"
      ],
      "text/plain": [
       "     transactionId   visitorId       date  revenue group\n",
       "430     1168756094  3202540741 2019-08-24     3150     A\n",
       "432     1061451265  3202540741 2019-08-24     5450     B"
      ]
     },
     "metadata": {},
     "output_type": "display_data"
    },
    {
     "data": {
      "text/html": [
       "<div>\n",
       "<style scoped>\n",
       "    .dataframe tbody tr th:only-of-type {\n",
       "        vertical-align: middle;\n",
       "    }\n",
       "\n",
       "    .dataframe tbody tr th {\n",
       "        vertical-align: top;\n",
       "    }\n",
       "\n",
       "    .dataframe thead th {\n",
       "        text-align: right;\n",
       "    }\n",
       "</style>\n",
       "<table border=\"1\" class=\"dataframe\">\n",
       "  <thead>\n",
       "    <tr style=\"text-align: right;\">\n",
       "      <th></th>\n",
       "      <th>transactionId</th>\n",
       "      <th>visitorId</th>\n",
       "      <th>date</th>\n",
       "      <th>revenue</th>\n",
       "      <th>group</th>\n",
       "    </tr>\n",
       "  </thead>\n",
       "  <tbody>\n",
       "    <tr>\n",
       "      <th>219</th>\n",
       "      <td>2139320439</td>\n",
       "      <td>2686716486</td>\n",
       "      <td>2019-08-23</td>\n",
       "      <td>10960</td>\n",
       "      <td>A</td>\n",
       "    </tr>\n",
       "    <tr>\n",
       "      <th>254</th>\n",
       "      <td>1545495643</td>\n",
       "      <td>2686716486</td>\n",
       "      <td>2019-08-23</td>\n",
       "      <td>34340</td>\n",
       "      <td>B</td>\n",
       "    </tr>\n",
       "  </tbody>\n",
       "</table>\n",
       "</div>"
      ],
      "text/plain": [
       "     transactionId   visitorId       date  revenue group\n",
       "219     2139320439  2686716486 2019-08-23    10960     A\n",
       "254     1545495643  2686716486 2019-08-23    34340     B"
      ]
     },
     "metadata": {},
     "output_type": "display_data"
    },
    {
     "data": {
      "text/html": [
       "<div>\n",
       "<style scoped>\n",
       "    .dataframe tbody tr th:only-of-type {\n",
       "        vertical-align: middle;\n",
       "    }\n",
       "\n",
       "    .dataframe tbody tr th {\n",
       "        vertical-align: top;\n",
       "    }\n",
       "\n",
       "    .dataframe thead th {\n",
       "        text-align: right;\n",
       "    }\n",
       "</style>\n",
       "<table border=\"1\" class=\"dataframe\">\n",
       "  <thead>\n",
       "    <tr style=\"text-align: right;\">\n",
       "      <th></th>\n",
       "      <th>transactionId</th>\n",
       "      <th>visitorId</th>\n",
       "      <th>date</th>\n",
       "      <th>revenue</th>\n",
       "      <th>group</th>\n",
       "    </tr>\n",
       "  </thead>\n",
       "  <tbody>\n",
       "    <tr>\n",
       "      <th>450</th>\n",
       "      <td>1750160666</td>\n",
       "      <td>1333886533</td>\n",
       "      <td>2019-08-06</td>\n",
       "      <td>1460</td>\n",
       "      <td>A</td>\n",
       "    </tr>\n",
       "    <tr>\n",
       "      <th>688</th>\n",
       "      <td>511953429</td>\n",
       "      <td>1333886533</td>\n",
       "      <td>2019-08-29</td>\n",
       "      <td>2950</td>\n",
       "      <td>B</td>\n",
       "    </tr>\n",
       "  </tbody>\n",
       "</table>\n",
       "</div>"
      ],
      "text/plain": [
       "     transactionId   visitorId       date  revenue group\n",
       "450     1750160666  1333886533 2019-08-06     1460     A\n",
       "688      511953429  1333886533 2019-08-29     2950     B"
      ]
     },
     "metadata": {},
     "output_type": "display_data"
    },
    {
     "data": {
      "text/html": [
       "<div>\n",
       "<style scoped>\n",
       "    .dataframe tbody tr th:only-of-type {\n",
       "        vertical-align: middle;\n",
       "    }\n",
       "\n",
       "    .dataframe tbody tr th {\n",
       "        vertical-align: top;\n",
       "    }\n",
       "\n",
       "    .dataframe thead th {\n",
       "        text-align: right;\n",
       "    }\n",
       "</style>\n",
       "<table border=\"1\" class=\"dataframe\">\n",
       "  <thead>\n",
       "    <tr style=\"text-align: right;\">\n",
       "      <th></th>\n",
       "      <th>transactionId</th>\n",
       "      <th>visitorId</th>\n",
       "      <th>date</th>\n",
       "      <th>revenue</th>\n",
       "      <th>group</th>\n",
       "    </tr>\n",
       "  </thead>\n",
       "  <tbody>\n",
       "    <tr>\n",
       "      <th>370</th>\n",
       "      <td>857639553</td>\n",
       "      <td>2044997962</td>\n",
       "      <td>2019-08-24</td>\n",
       "      <td>2540</td>\n",
       "      <td>A</td>\n",
       "    </tr>\n",
       "    <tr>\n",
       "      <th>516</th>\n",
       "      <td>3754751399</td>\n",
       "      <td>2044997962</td>\n",
       "      <td>2019-08-26</td>\n",
       "      <td>6090</td>\n",
       "      <td>B</td>\n",
       "    </tr>\n",
       "    <tr>\n",
       "      <th>517</th>\n",
       "      <td>582361359</td>\n",
       "      <td>2044997962</td>\n",
       "      <td>2019-08-26</td>\n",
       "      <td>990</td>\n",
       "      <td>B</td>\n",
       "    </tr>\n",
       "  </tbody>\n",
       "</table>\n",
       "</div>"
      ],
      "text/plain": [
       "     transactionId   visitorId       date  revenue group\n",
       "370      857639553  2044997962 2019-08-24     2540     A\n",
       "516     3754751399  2044997962 2019-08-26     6090     B\n",
       "517      582361359  2044997962 2019-08-26      990     B"
      ]
     },
     "metadata": {},
     "output_type": "display_data"
    },
    {
     "data": {
      "text/html": [
       "<div>\n",
       "<style scoped>\n",
       "    .dataframe tbody tr th:only-of-type {\n",
       "        vertical-align: middle;\n",
       "    }\n",
       "\n",
       "    .dataframe tbody tr th {\n",
       "        vertical-align: top;\n",
       "    }\n",
       "\n",
       "    .dataframe thead th {\n",
       "        text-align: right;\n",
       "    }\n",
       "</style>\n",
       "<table border=\"1\" class=\"dataframe\">\n",
       "  <thead>\n",
       "    <tr style=\"text-align: right;\">\n",
       "      <th></th>\n",
       "      <th>transactionId</th>\n",
       "      <th>visitorId</th>\n",
       "      <th>date</th>\n",
       "      <th>revenue</th>\n",
       "      <th>group</th>\n",
       "    </tr>\n",
       "  </thead>\n",
       "  <tbody>\n",
       "    <tr>\n",
       "      <th>842</th>\n",
       "      <td>2076434956</td>\n",
       "      <td>3941795274</td>\n",
       "      <td>2019-08-21</td>\n",
       "      <td>990</td>\n",
       "      <td>A</td>\n",
       "    </tr>\n",
       "    <tr>\n",
       "      <th>973</th>\n",
       "      <td>698171827</td>\n",
       "      <td>3941795274</td>\n",
       "      <td>2019-08-22</td>\n",
       "      <td>1320</td>\n",
       "      <td>B</td>\n",
       "    </tr>\n",
       "  </tbody>\n",
       "</table>\n",
       "</div>"
      ],
      "text/plain": [
       "     transactionId   visitorId       date  revenue group\n",
       "842     2076434956  3941795274 2019-08-21      990     A\n",
       "973      698171827  3941795274 2019-08-22     1320     B"
      ]
     },
     "metadata": {},
     "output_type": "display_data"
    },
    {
     "data": {
      "text/html": [
       "<div>\n",
       "<style scoped>\n",
       "    .dataframe tbody tr th:only-of-type {\n",
       "        vertical-align: middle;\n",
       "    }\n",
       "\n",
       "    .dataframe tbody tr th {\n",
       "        vertical-align: top;\n",
       "    }\n",
       "\n",
       "    .dataframe thead th {\n",
       "        text-align: right;\n",
       "    }\n",
       "</style>\n",
       "<table border=\"1\" class=\"dataframe\">\n",
       "  <thead>\n",
       "    <tr style=\"text-align: right;\">\n",
       "      <th></th>\n",
       "      <th>transactionId</th>\n",
       "      <th>visitorId</th>\n",
       "      <th>date</th>\n",
       "      <th>revenue</th>\n",
       "      <th>group</th>\n",
       "    </tr>\n",
       "  </thead>\n",
       "  <tbody>\n",
       "    <tr>\n",
       "      <th>805</th>\n",
       "      <td>2726113349</td>\n",
       "      <td>1801183820</td>\n",
       "      <td>2019-08-05</td>\n",
       "      <td>100</td>\n",
       "      <td>B</td>\n",
       "    </tr>\n",
       "    <tr>\n",
       "      <th>879</th>\n",
       "      <td>1197739160</td>\n",
       "      <td>1801183820</td>\n",
       "      <td>2019-08-05</td>\n",
       "      <td>390</td>\n",
       "      <td>A</td>\n",
       "    </tr>\n",
       "  </tbody>\n",
       "</table>\n",
       "</div>"
      ],
      "text/plain": [
       "     transactionId   visitorId       date  revenue group\n",
       "805     2726113349  1801183820 2019-08-05      100     B\n",
       "879     1197739160  1801183820 2019-08-05      390     A"
      ]
     },
     "metadata": {},
     "output_type": "display_data"
    },
    {
     "data": {
      "text/html": [
       "<div>\n",
       "<style scoped>\n",
       "    .dataframe tbody tr th:only-of-type {\n",
       "        vertical-align: middle;\n",
       "    }\n",
       "\n",
       "    .dataframe tbody tr th {\n",
       "        vertical-align: top;\n",
       "    }\n",
       "\n",
       "    .dataframe thead th {\n",
       "        text-align: right;\n",
       "    }\n",
       "</style>\n",
       "<table border=\"1\" class=\"dataframe\">\n",
       "  <thead>\n",
       "    <tr style=\"text-align: right;\">\n",
       "      <th></th>\n",
       "      <th>transactionId</th>\n",
       "      <th>visitorId</th>\n",
       "      <th>date</th>\n",
       "      <th>revenue</th>\n",
       "      <th>group</th>\n",
       "    </tr>\n",
       "  </thead>\n",
       "  <tbody>\n",
       "    <tr>\n",
       "      <th>730</th>\n",
       "      <td>3335803766</td>\n",
       "      <td>477780734</td>\n",
       "      <td>2019-08-30</td>\n",
       "      <td>7300</td>\n",
       "      <td>A</td>\n",
       "    </tr>\n",
       "    <tr>\n",
       "      <th>732</th>\n",
       "      <td>132561921</td>\n",
       "      <td>477780734</td>\n",
       "      <td>2019-08-30</td>\n",
       "      <td>3650</td>\n",
       "      <td>B</td>\n",
       "    </tr>\n",
       "  </tbody>\n",
       "</table>\n",
       "</div>"
      ],
      "text/plain": [
       "     transactionId  visitorId       date  revenue group\n",
       "730     3335803766  477780734 2019-08-30     7300     A\n",
       "732      132561921  477780734 2019-08-30     3650     B"
      ]
     },
     "metadata": {},
     "output_type": "display_data"
    },
    {
     "data": {
      "text/html": [
       "<div>\n",
       "<style scoped>\n",
       "    .dataframe tbody tr th:only-of-type {\n",
       "        vertical-align: middle;\n",
       "    }\n",
       "\n",
       "    .dataframe tbody tr th {\n",
       "        vertical-align: top;\n",
       "    }\n",
       "\n",
       "    .dataframe thead th {\n",
       "        text-align: right;\n",
       "    }\n",
       "</style>\n",
       "<table border=\"1\" class=\"dataframe\">\n",
       "  <thead>\n",
       "    <tr style=\"text-align: right;\">\n",
       "      <th></th>\n",
       "      <th>transactionId</th>\n",
       "      <th>visitorId</th>\n",
       "      <th>date</th>\n",
       "      <th>revenue</th>\n",
       "      <th>group</th>\n",
       "    </tr>\n",
       "  </thead>\n",
       "  <tbody>\n",
       "    <tr>\n",
       "      <th>33</th>\n",
       "      <td>486237576</td>\n",
       "      <td>2378935119</td>\n",
       "      <td>2019-08-15</td>\n",
       "      <td>1650</td>\n",
       "      <td>A</td>\n",
       "    </tr>\n",
       "    <tr>\n",
       "      <th>118</th>\n",
       "      <td>4233533907</td>\n",
       "      <td>2378935119</td>\n",
       "      <td>2019-08-22</td>\n",
       "      <td>3390</td>\n",
       "      <td>A</td>\n",
       "    </tr>\n",
       "    <tr>\n",
       "      <th>179</th>\n",
       "      <td>1784270968</td>\n",
       "      <td>2378935119</td>\n",
       "      <td>2019-08-17</td>\n",
       "      <td>310</td>\n",
       "      <td>A</td>\n",
       "    </tr>\n",
       "    <tr>\n",
       "      <th>391</th>\n",
       "      <td>2213813903</td>\n",
       "      <td>2378935119</td>\n",
       "      <td>2019-08-25</td>\n",
       "      <td>21220</td>\n",
       "      <td>B</td>\n",
       "    </tr>\n",
       "    <tr>\n",
       "      <th>435</th>\n",
       "      <td>2430683444</td>\n",
       "      <td>2378935119</td>\n",
       "      <td>2019-08-28</td>\n",
       "      <td>20450</td>\n",
       "      <td>B</td>\n",
       "    </tr>\n",
       "    <tr>\n",
       "      <th>473</th>\n",
       "      <td>3224706027</td>\n",
       "      <td>2378935119</td>\n",
       "      <td>2019-08-28</td>\n",
       "      <td>4410</td>\n",
       "      <td>B</td>\n",
       "    </tr>\n",
       "    <tr>\n",
       "      <th>697</th>\n",
       "      <td>1612868255</td>\n",
       "      <td>2378935119</td>\n",
       "      <td>2019-08-09</td>\n",
       "      <td>30649</td>\n",
       "      <td>B</td>\n",
       "    </tr>\n",
       "    <tr>\n",
       "      <th>1029</th>\n",
       "      <td>469609643</td>\n",
       "      <td>2378935119</td>\n",
       "      <td>2019-08-10</td>\n",
       "      <td>58220</td>\n",
       "      <td>A</td>\n",
       "    </tr>\n",
       "    <tr>\n",
       "      <th>1031</th>\n",
       "      <td>1661772358</td>\n",
       "      <td>2378935119</td>\n",
       "      <td>2019-08-10</td>\n",
       "      <td>2640</td>\n",
       "      <td>B</td>\n",
       "    </tr>\n",
       "  </tbody>\n",
       "</table>\n",
       "</div>"
      ],
      "text/plain": [
       "      transactionId   visitorId       date  revenue group\n",
       "33        486237576  2378935119 2019-08-15     1650     A\n",
       "118      4233533907  2378935119 2019-08-22     3390     A\n",
       "179      1784270968  2378935119 2019-08-17      310     A\n",
       "391      2213813903  2378935119 2019-08-25    21220     B\n",
       "435      2430683444  2378935119 2019-08-28    20450     B\n",
       "473      3224706027  2378935119 2019-08-28     4410     B\n",
       "697      1612868255  2378935119 2019-08-09    30649     B\n",
       "1029      469609643  2378935119 2019-08-10    58220     A\n",
       "1031     1661772358  2378935119 2019-08-10     2640     B"
      ]
     },
     "metadata": {},
     "output_type": "display_data"
    },
    {
     "data": {
      "text/html": [
       "<div>\n",
       "<style scoped>\n",
       "    .dataframe tbody tr th:only-of-type {\n",
       "        vertical-align: middle;\n",
       "    }\n",
       "\n",
       "    .dataframe tbody tr th {\n",
       "        vertical-align: top;\n",
       "    }\n",
       "\n",
       "    .dataframe thead th {\n",
       "        text-align: right;\n",
       "    }\n",
       "</style>\n",
       "<table border=\"1\" class=\"dataframe\">\n",
       "  <thead>\n",
       "    <tr style=\"text-align: right;\">\n",
       "      <th></th>\n",
       "      <th>transactionId</th>\n",
       "      <th>visitorId</th>\n",
       "      <th>date</th>\n",
       "      <th>revenue</th>\n",
       "      <th>group</th>\n",
       "    </tr>\n",
       "  </thead>\n",
       "  <tbody>\n",
       "    <tr>\n",
       "      <th>2</th>\n",
       "      <td>2961555356</td>\n",
       "      <td>4069496402</td>\n",
       "      <td>2019-08-15</td>\n",
       "      <td>400</td>\n",
       "      <td>A</td>\n",
       "    </tr>\n",
       "    <tr>\n",
       "      <th>1070</th>\n",
       "      <td>1473132782</td>\n",
       "      <td>4069496402</td>\n",
       "      <td>2019-08-12</td>\n",
       "      <td>640</td>\n",
       "      <td>B</td>\n",
       "    </tr>\n",
       "  </tbody>\n",
       "</table>\n",
       "</div>"
      ],
      "text/plain": [
       "      transactionId   visitorId       date  revenue group\n",
       "2        2961555356  4069496402 2019-08-15      400     A\n",
       "1070     1473132782  4069496402 2019-08-12      640     B"
      ]
     },
     "metadata": {},
     "output_type": "display_data"
    },
    {
     "data": {
      "text/html": [
       "<div>\n",
       "<style scoped>\n",
       "    .dataframe tbody tr th:only-of-type {\n",
       "        vertical-align: middle;\n",
       "    }\n",
       "\n",
       "    .dataframe tbody tr th {\n",
       "        vertical-align: top;\n",
       "    }\n",
       "\n",
       "    .dataframe thead th {\n",
       "        text-align: right;\n",
       "    }\n",
       "</style>\n",
       "<table border=\"1\" class=\"dataframe\">\n",
       "  <thead>\n",
       "    <tr style=\"text-align: right;\">\n",
       "      <th></th>\n",
       "      <th>transactionId</th>\n",
       "      <th>visitorId</th>\n",
       "      <th>date</th>\n",
       "      <th>revenue</th>\n",
       "      <th>group</th>\n",
       "    </tr>\n",
       "  </thead>\n",
       "  <tbody>\n",
       "    <tr>\n",
       "      <th>60</th>\n",
       "      <td>1421016313</td>\n",
       "      <td>4256040402</td>\n",
       "      <td>2019-08-16</td>\n",
       "      <td>56650</td>\n",
       "      <td>B</td>\n",
       "    </tr>\n",
       "    <tr>\n",
       "      <th>114</th>\n",
       "      <td>1120327437</td>\n",
       "      <td>4256040402</td>\n",
       "      <td>2019-08-01</td>\n",
       "      <td>5800</td>\n",
       "      <td>A</td>\n",
       "    </tr>\n",
       "    <tr>\n",
       "      <th>187</th>\n",
       "      <td>2048878902</td>\n",
       "      <td>4256040402</td>\n",
       "      <td>2019-08-17</td>\n",
       "      <td>1550</td>\n",
       "      <td>A</td>\n",
       "    </tr>\n",
       "    <tr>\n",
       "      <th>253</th>\n",
       "      <td>1610091760</td>\n",
       "      <td>4256040402</td>\n",
       "      <td>2019-08-23</td>\n",
       "      <td>16950</td>\n",
       "      <td>A</td>\n",
       "    </tr>\n",
       "    <tr>\n",
       "      <th>263</th>\n",
       "      <td>2575861846</td>\n",
       "      <td>4256040402</td>\n",
       "      <td>2019-08-18</td>\n",
       "      <td>10970</td>\n",
       "      <td>B</td>\n",
       "    </tr>\n",
       "    <tr>\n",
       "      <th>588</th>\n",
       "      <td>3700356838</td>\n",
       "      <td>4256040402</td>\n",
       "      <td>2019-08-20</td>\n",
       "      <td>17650</td>\n",
       "      <td>A</td>\n",
       "    </tr>\n",
       "    <tr>\n",
       "      <th>873</th>\n",
       "      <td>2519737434</td>\n",
       "      <td>4256040402</td>\n",
       "      <td>2019-08-08</td>\n",
       "      <td>58220</td>\n",
       "      <td>B</td>\n",
       "    </tr>\n",
       "    <tr>\n",
       "      <th>901</th>\n",
       "      <td>3402467119</td>\n",
       "      <td>4256040402</td>\n",
       "      <td>2019-08-27</td>\n",
       "      <td>1630</td>\n",
       "      <td>A</td>\n",
       "    </tr>\n",
       "    <tr>\n",
       "      <th>1018</th>\n",
       "      <td>1415970216</td>\n",
       "      <td>4256040402</td>\n",
       "      <td>2019-08-31</td>\n",
       "      <td>5170</td>\n",
       "      <td>A</td>\n",
       "    </tr>\n",
       "    <tr>\n",
       "      <th>1019</th>\n",
       "      <td>453824282</td>\n",
       "      <td>4256040402</td>\n",
       "      <td>2019-08-31</td>\n",
       "      <td>1850</td>\n",
       "      <td>B</td>\n",
       "    </tr>\n",
       "    <tr>\n",
       "      <th>1091</th>\n",
       "      <td>750632879</td>\n",
       "      <td>4256040402</td>\n",
       "      <td>2019-08-12</td>\n",
       "      <td>50</td>\n",
       "      <td>A</td>\n",
       "    </tr>\n",
       "  </tbody>\n",
       "</table>\n",
       "</div>"
      ],
      "text/plain": [
       "      transactionId   visitorId       date  revenue group\n",
       "60       1421016313  4256040402 2019-08-16    56650     B\n",
       "114      1120327437  4256040402 2019-08-01     5800     A\n",
       "187      2048878902  4256040402 2019-08-17     1550     A\n",
       "253      1610091760  4256040402 2019-08-23    16950     A\n",
       "263      2575861846  4256040402 2019-08-18    10970     B\n",
       "588      3700356838  4256040402 2019-08-20    17650     A\n",
       "873      2519737434  4256040402 2019-08-08    58220     B\n",
       "901      3402467119  4256040402 2019-08-27     1630     A\n",
       "1018     1415970216  4256040402 2019-08-31     5170     A\n",
       "1019      453824282  4256040402 2019-08-31     1850     B\n",
       "1091      750632879  4256040402 2019-08-12       50     A"
      ]
     },
     "metadata": {},
     "output_type": "display_data"
    },
    {
     "data": {
      "text/html": [
       "<div>\n",
       "<style scoped>\n",
       "    .dataframe tbody tr th:only-of-type {\n",
       "        vertical-align: middle;\n",
       "    }\n",
       "\n",
       "    .dataframe tbody tr th {\n",
       "        vertical-align: top;\n",
       "    }\n",
       "\n",
       "    .dataframe thead th {\n",
       "        text-align: right;\n",
       "    }\n",
       "</style>\n",
       "<table border=\"1\" class=\"dataframe\">\n",
       "  <thead>\n",
       "    <tr style=\"text-align: right;\">\n",
       "      <th></th>\n",
       "      <th>transactionId</th>\n",
       "      <th>visitorId</th>\n",
       "      <th>date</th>\n",
       "      <th>revenue</th>\n",
       "      <th>group</th>\n",
       "    </tr>\n",
       "  </thead>\n",
       "  <tbody>\n",
       "    <tr>\n",
       "      <th>829</th>\n",
       "      <td>2514024187</td>\n",
       "      <td>3766097110</td>\n",
       "      <td>2019-08-30</td>\n",
       "      <td>980</td>\n",
       "      <td>A</td>\n",
       "    </tr>\n",
       "    <tr>\n",
       "      <th>832</th>\n",
       "      <td>2470658885</td>\n",
       "      <td>3766097110</td>\n",
       "      <td>2019-08-30</td>\n",
       "      <td>360</td>\n",
       "      <td>B</td>\n",
       "    </tr>\n",
       "  </tbody>\n",
       "</table>\n",
       "</div>"
      ],
      "text/plain": [
       "     transactionId   visitorId       date  revenue group\n",
       "829     2514024187  3766097110 2019-08-30      980     A\n",
       "832     2470658885  3766097110 2019-08-30      360     B"
      ]
     },
     "metadata": {},
     "output_type": "display_data"
    },
    {
     "data": {
      "text/html": [
       "<div>\n",
       "<style scoped>\n",
       "    .dataframe tbody tr th:only-of-type {\n",
       "        vertical-align: middle;\n",
       "    }\n",
       "\n",
       "    .dataframe tbody tr th {\n",
       "        vertical-align: top;\n",
       "    }\n",
       "\n",
       "    .dataframe thead th {\n",
       "        text-align: right;\n",
       "    }\n",
       "</style>\n",
       "<table border=\"1\" class=\"dataframe\">\n",
       "  <thead>\n",
       "    <tr style=\"text-align: right;\">\n",
       "      <th></th>\n",
       "      <th>transactionId</th>\n",
       "      <th>visitorId</th>\n",
       "      <th>date</th>\n",
       "      <th>revenue</th>\n",
       "      <th>group</th>\n",
       "    </tr>\n",
       "  </thead>\n",
       "  <tbody>\n",
       "    <tr>\n",
       "      <th>71</th>\n",
       "      <td>3679129301</td>\n",
       "      <td>8300375</td>\n",
       "      <td>2019-08-01</td>\n",
       "      <td>10510</td>\n",
       "      <td>B</td>\n",
       "    </tr>\n",
       "    <tr>\n",
       "      <th>703</th>\n",
       "      <td>4293855558</td>\n",
       "      <td>8300375</td>\n",
       "      <td>2019-08-07</td>\n",
       "      <td>1790</td>\n",
       "      <td>A</td>\n",
       "    </tr>\n",
       "  </tbody>\n",
       "</table>\n",
       "</div>"
      ],
      "text/plain": [
       "     transactionId  visitorId       date  revenue group\n",
       "71      3679129301    8300375 2019-08-01    10510     B\n",
       "703     4293855558    8300375 2019-08-07     1790     A"
      ]
     },
     "metadata": {},
     "output_type": "display_data"
    },
    {
     "data": {
      "text/html": [
       "<div>\n",
       "<style scoped>\n",
       "    .dataframe tbody tr th:only-of-type {\n",
       "        vertical-align: middle;\n",
       "    }\n",
       "\n",
       "    .dataframe tbody tr th {\n",
       "        vertical-align: top;\n",
       "    }\n",
       "\n",
       "    .dataframe thead th {\n",
       "        text-align: right;\n",
       "    }\n",
       "</style>\n",
       "<table border=\"1\" class=\"dataframe\">\n",
       "  <thead>\n",
       "    <tr style=\"text-align: right;\">\n",
       "      <th></th>\n",
       "      <th>transactionId</th>\n",
       "      <th>visitorId</th>\n",
       "      <th>date</th>\n",
       "      <th>revenue</th>\n",
       "      <th>group</th>\n",
       "    </tr>\n",
       "  </thead>\n",
       "  <tbody>\n",
       "    <tr>\n",
       "      <th>23</th>\n",
       "      <td>4252514150</td>\n",
       "      <td>351125977</td>\n",
       "      <td>2019-08-15</td>\n",
       "      <td>15185</td>\n",
       "      <td>B</td>\n",
       "    </tr>\n",
       "    <tr>\n",
       "      <th>453</th>\n",
       "      <td>3075639014</td>\n",
       "      <td>351125977</td>\n",
       "      <td>2019-08-06</td>\n",
       "      <td>4485</td>\n",
       "      <td>A</td>\n",
       "    </tr>\n",
       "  </tbody>\n",
       "</table>\n",
       "</div>"
      ],
      "text/plain": [
       "     transactionId  visitorId       date  revenue group\n",
       "23      4252514150  351125977 2019-08-15    15185     B\n",
       "453     3075639014  351125977 2019-08-06     4485     A"
      ]
     },
     "metadata": {},
     "output_type": "display_data"
    },
    {
     "data": {
      "text/html": [
       "<div>\n",
       "<style scoped>\n",
       "    .dataframe tbody tr th:only-of-type {\n",
       "        vertical-align: middle;\n",
       "    }\n",
       "\n",
       "    .dataframe tbody tr th {\n",
       "        vertical-align: top;\n",
       "    }\n",
       "\n",
       "    .dataframe thead th {\n",
       "        text-align: right;\n",
       "    }\n",
       "</style>\n",
       "<table border=\"1\" class=\"dataframe\">\n",
       "  <thead>\n",
       "    <tr style=\"text-align: right;\">\n",
       "      <th></th>\n",
       "      <th>transactionId</th>\n",
       "      <th>visitorId</th>\n",
       "      <th>date</th>\n",
       "      <th>revenue</th>\n",
       "      <th>group</th>\n",
       "    </tr>\n",
       "  </thead>\n",
       "  <tbody>\n",
       "    <tr>\n",
       "      <th>778</th>\n",
       "      <td>2726404029</td>\n",
       "      <td>1602967004</td>\n",
       "      <td>2019-08-27</td>\n",
       "      <td>4740</td>\n",
       "      <td>B</td>\n",
       "    </tr>\n",
       "    <tr>\n",
       "      <th>914</th>\n",
       "      <td>2792059099</td>\n",
       "      <td>1602967004</td>\n",
       "      <td>2019-08-08</td>\n",
       "      <td>4040</td>\n",
       "      <td>A</td>\n",
       "    </tr>\n",
       "  </tbody>\n",
       "</table>\n",
       "</div>"
      ],
      "text/plain": [
       "     transactionId   visitorId       date  revenue group\n",
       "778     2726404029  1602967004 2019-08-27     4740     B\n",
       "914     2792059099  1602967004 2019-08-08     4040     A"
      ]
     },
     "metadata": {},
     "output_type": "display_data"
    },
    {
     "data": {
      "text/html": [
       "<div>\n",
       "<style scoped>\n",
       "    .dataframe tbody tr th:only-of-type {\n",
       "        vertical-align: middle;\n",
       "    }\n",
       "\n",
       "    .dataframe tbody tr th {\n",
       "        vertical-align: top;\n",
       "    }\n",
       "\n",
       "    .dataframe thead th {\n",
       "        text-align: right;\n",
       "    }\n",
       "</style>\n",
       "<table border=\"1\" class=\"dataframe\">\n",
       "  <thead>\n",
       "    <tr style=\"text-align: right;\">\n",
       "      <th></th>\n",
       "      <th>transactionId</th>\n",
       "      <th>visitorId</th>\n",
       "      <th>date</th>\n",
       "      <th>revenue</th>\n",
       "      <th>group</th>\n",
       "    </tr>\n",
       "  </thead>\n",
       "  <tbody>\n",
       "    <tr>\n",
       "      <th>85</th>\n",
       "      <td>1701653566</td>\n",
       "      <td>276558944</td>\n",
       "      <td>2019-08-22</td>\n",
       "      <td>12350</td>\n",
       "      <td>B</td>\n",
       "    </tr>\n",
       "    <tr>\n",
       "      <th>1093</th>\n",
       "      <td>3894437543</td>\n",
       "      <td>276558944</td>\n",
       "      <td>2019-08-12</td>\n",
       "      <td>5050</td>\n",
       "      <td>A</td>\n",
       "    </tr>\n",
       "  </tbody>\n",
       "</table>\n",
       "</div>"
      ],
      "text/plain": [
       "      transactionId  visitorId       date  revenue group\n",
       "85       1701653566  276558944 2019-08-22    12350     B\n",
       "1093     3894437543  276558944 2019-08-12     5050     A"
      ]
     },
     "metadata": {},
     "output_type": "display_data"
    },
    {
     "data": {
      "text/html": [
       "<div>\n",
       "<style scoped>\n",
       "    .dataframe tbody tr th:only-of-type {\n",
       "        vertical-align: middle;\n",
       "    }\n",
       "\n",
       "    .dataframe tbody tr th {\n",
       "        vertical-align: top;\n",
       "    }\n",
       "\n",
       "    .dataframe thead th {\n",
       "        text-align: right;\n",
       "    }\n",
       "</style>\n",
       "<table border=\"1\" class=\"dataframe\">\n",
       "  <thead>\n",
       "    <tr style=\"text-align: right;\">\n",
       "      <th></th>\n",
       "      <th>transactionId</th>\n",
       "      <th>visitorId</th>\n",
       "      <th>date</th>\n",
       "      <th>revenue</th>\n",
       "      <th>group</th>\n",
       "    </tr>\n",
       "  </thead>\n",
       "  <tbody>\n",
       "    <tr>\n",
       "      <th>32</th>\n",
       "      <td>3666913472</td>\n",
       "      <td>2038680547</td>\n",
       "      <td>2019-08-15</td>\n",
       "      <td>1680</td>\n",
       "      <td>B</td>\n",
       "    </tr>\n",
       "    <tr>\n",
       "      <th>117</th>\n",
       "      <td>722060263</td>\n",
       "      <td>2038680547</td>\n",
       "      <td>2019-08-22</td>\n",
       "      <td>760</td>\n",
       "      <td>A</td>\n",
       "    </tr>\n",
       "    <tr>\n",
       "      <th>227</th>\n",
       "      <td>4267573899</td>\n",
       "      <td>2038680547</td>\n",
       "      <td>2019-08-17</td>\n",
       "      <td>3470</td>\n",
       "      <td>A</td>\n",
       "    </tr>\n",
       "    <tr>\n",
       "      <th>390</th>\n",
       "      <td>2415738512</td>\n",
       "      <td>2038680547</td>\n",
       "      <td>2019-08-25</td>\n",
       "      <td>270</td>\n",
       "      <td>A</td>\n",
       "    </tr>\n",
       "    <tr>\n",
       "      <th>577</th>\n",
       "      <td>3932236947</td>\n",
       "      <td>2038680547</td>\n",
       "      <td>2019-08-04</td>\n",
       "      <td>2800</td>\n",
       "      <td>B</td>\n",
       "    </tr>\n",
       "    <tr>\n",
       "      <th>578</th>\n",
       "      <td>1570911533</td>\n",
       "      <td>2038680547</td>\n",
       "      <td>2019-08-04</td>\n",
       "      <td>1530</td>\n",
       "      <td>A</td>\n",
       "    </tr>\n",
       "    <tr>\n",
       "      <th>605</th>\n",
       "      <td>1215730747</td>\n",
       "      <td>2038680547</td>\n",
       "      <td>2019-08-04</td>\n",
       "      <td>2540</td>\n",
       "      <td>A</td>\n",
       "    </tr>\n",
       "    <tr>\n",
       "      <th>624</th>\n",
       "      <td>1666104258</td>\n",
       "      <td>2038680547</td>\n",
       "      <td>2019-08-29</td>\n",
       "      <td>2420</td>\n",
       "      <td>B</td>\n",
       "    </tr>\n",
       "  </tbody>\n",
       "</table>\n",
       "</div>"
      ],
      "text/plain": [
       "     transactionId   visitorId       date  revenue group\n",
       "32      3666913472  2038680547 2019-08-15     1680     B\n",
       "117      722060263  2038680547 2019-08-22      760     A\n",
       "227     4267573899  2038680547 2019-08-17     3470     A\n",
       "390     2415738512  2038680547 2019-08-25      270     A\n",
       "577     3932236947  2038680547 2019-08-04     2800     B\n",
       "578     1570911533  2038680547 2019-08-04     1530     A\n",
       "605     1215730747  2038680547 2019-08-04     2540     A\n",
       "624     1666104258  2038680547 2019-08-29     2420     B"
      ]
     },
     "metadata": {},
     "output_type": "display_data"
    },
    {
     "data": {
      "text/html": [
       "<div>\n",
       "<style scoped>\n",
       "    .dataframe tbody tr th:only-of-type {\n",
       "        vertical-align: middle;\n",
       "    }\n",
       "\n",
       "    .dataframe tbody tr th {\n",
       "        vertical-align: top;\n",
       "    }\n",
       "\n",
       "    .dataframe thead th {\n",
       "        text-align: right;\n",
       "    }\n",
       "</style>\n",
       "<table border=\"1\" class=\"dataframe\">\n",
       "  <thead>\n",
       "    <tr style=\"text-align: right;\">\n",
       "      <th></th>\n",
       "      <th>transactionId</th>\n",
       "      <th>visitorId</th>\n",
       "      <th>date</th>\n",
       "      <th>revenue</th>\n",
       "      <th>group</th>\n",
       "    </tr>\n",
       "  </thead>\n",
       "  <tbody>\n",
       "    <tr>\n",
       "      <th>496</th>\n",
       "      <td>2825038272</td>\n",
       "      <td>3951559397</td>\n",
       "      <td>2019-08-29</td>\n",
       "      <td>30990</td>\n",
       "      <td>B</td>\n",
       "    </tr>\n",
       "    <tr>\n",
       "      <th>497</th>\n",
       "      <td>246848596</td>\n",
       "      <td>3951559397</td>\n",
       "      <td>2019-08-29</td>\n",
       "      <td>2490</td>\n",
       "      <td>A</td>\n",
       "    </tr>\n",
       "  </tbody>\n",
       "</table>\n",
       "</div>"
      ],
      "text/plain": [
       "     transactionId   visitorId       date  revenue group\n",
       "496     2825038272  3951559397 2019-08-29    30990     B\n",
       "497      246848596  3951559397 2019-08-29     2490     A"
      ]
     },
     "metadata": {},
     "output_type": "display_data"
    },
    {
     "data": {
      "text/html": [
       "<div>\n",
       "<style scoped>\n",
       "    .dataframe tbody tr th:only-of-type {\n",
       "        vertical-align: middle;\n",
       "    }\n",
       "\n",
       "    .dataframe tbody tr th {\n",
       "        vertical-align: top;\n",
       "    }\n",
       "\n",
       "    .dataframe thead th {\n",
       "        text-align: right;\n",
       "    }\n",
       "</style>\n",
       "<table border=\"1\" class=\"dataframe\">\n",
       "  <thead>\n",
       "    <tr style=\"text-align: right;\">\n",
       "      <th></th>\n",
       "      <th>transactionId</th>\n",
       "      <th>visitorId</th>\n",
       "      <th>date</th>\n",
       "      <th>revenue</th>\n",
       "      <th>group</th>\n",
       "    </tr>\n",
       "  </thead>\n",
       "  <tbody>\n",
       "    <tr>\n",
       "      <th>1162</th>\n",
       "      <td>1277417350</td>\n",
       "      <td>3963646447</td>\n",
       "      <td>2019-08-14</td>\n",
       "      <td>6385</td>\n",
       "      <td>A</td>\n",
       "    </tr>\n",
       "    <tr>\n",
       "      <th>1165</th>\n",
       "      <td>2289555915</td>\n",
       "      <td>3963646447</td>\n",
       "      <td>2019-08-14</td>\n",
       "      <td>7485</td>\n",
       "      <td>B</td>\n",
       "    </tr>\n",
       "  </tbody>\n",
       "</table>\n",
       "</div>"
      ],
      "text/plain": [
       "      transactionId   visitorId       date  revenue group\n",
       "1162     1277417350  3963646447 2019-08-14     6385     A\n",
       "1165     2289555915  3963646447 2019-08-14     7485     B"
      ]
     },
     "metadata": {},
     "output_type": "display_data"
    },
    {
     "data": {
      "text/html": [
       "<div>\n",
       "<style scoped>\n",
       "    .dataframe tbody tr th:only-of-type {\n",
       "        vertical-align: middle;\n",
       "    }\n",
       "\n",
       "    .dataframe tbody tr th {\n",
       "        vertical-align: top;\n",
       "    }\n",
       "\n",
       "    .dataframe thead th {\n",
       "        text-align: right;\n",
       "    }\n",
       "</style>\n",
       "<table border=\"1\" class=\"dataframe\">\n",
       "  <thead>\n",
       "    <tr style=\"text-align: right;\">\n",
       "      <th></th>\n",
       "      <th>transactionId</th>\n",
       "      <th>visitorId</th>\n",
       "      <th>date</th>\n",
       "      <th>revenue</th>\n",
       "      <th>group</th>\n",
       "    </tr>\n",
       "  </thead>\n",
       "  <tbody>\n",
       "    <tr>\n",
       "      <th>814</th>\n",
       "      <td>1759418862</td>\n",
       "      <td>4186807279</td>\n",
       "      <td>2019-08-21</td>\n",
       "      <td>18560</td>\n",
       "      <td>B</td>\n",
       "    </tr>\n",
       "    <tr>\n",
       "      <th>819</th>\n",
       "      <td>380064637</td>\n",
       "      <td>4186807279</td>\n",
       "      <td>2019-08-27</td>\n",
       "      <td>13740</td>\n",
       "      <td>B</td>\n",
       "    </tr>\n",
       "    <tr>\n",
       "      <th>1167</th>\n",
       "      <td>3757656646</td>\n",
       "      <td>4186807279</td>\n",
       "      <td>2019-08-14</td>\n",
       "      <td>4990</td>\n",
       "      <td>A</td>\n",
       "    </tr>\n",
       "  </tbody>\n",
       "</table>\n",
       "</div>"
      ],
      "text/plain": [
       "      transactionId   visitorId       date  revenue group\n",
       "814      1759418862  4186807279 2019-08-21    18560     B\n",
       "819       380064637  4186807279 2019-08-27    13740     B\n",
       "1167     3757656646  4186807279 2019-08-14     4990     A"
      ]
     },
     "metadata": {},
     "output_type": "display_data"
    },
    {
     "data": {
      "text/html": [
       "<div>\n",
       "<style scoped>\n",
       "    .dataframe tbody tr th:only-of-type {\n",
       "        vertical-align: middle;\n",
       "    }\n",
       "\n",
       "    .dataframe tbody tr th {\n",
       "        vertical-align: top;\n",
       "    }\n",
       "\n",
       "    .dataframe thead th {\n",
       "        text-align: right;\n",
       "    }\n",
       "</style>\n",
       "<table border=\"1\" class=\"dataframe\">\n",
       "  <thead>\n",
       "    <tr style=\"text-align: right;\">\n",
       "      <th></th>\n",
       "      <th>transactionId</th>\n",
       "      <th>visitorId</th>\n",
       "      <th>date</th>\n",
       "      <th>revenue</th>\n",
       "      <th>group</th>\n",
       "    </tr>\n",
       "  </thead>\n",
       "  <tbody>\n",
       "    <tr>\n",
       "      <th>375</th>\n",
       "      <td>1863281703</td>\n",
       "      <td>1959144690</td>\n",
       "      <td>2019-08-25</td>\n",
       "      <td>16480</td>\n",
       "      <td>A</td>\n",
       "    </tr>\n",
       "    <tr>\n",
       "      <th>783</th>\n",
       "      <td>189332332</td>\n",
       "      <td>1959144690</td>\n",
       "      <td>2019-08-27</td>\n",
       "      <td>16480</td>\n",
       "      <td>B</td>\n",
       "    </tr>\n",
       "  </tbody>\n",
       "</table>\n",
       "</div>"
      ],
      "text/plain": [
       "     transactionId   visitorId       date  revenue group\n",
       "375     1863281703  1959144690 2019-08-25    16480     A\n",
       "783      189332332  1959144690 2019-08-27    16480     B"
      ]
     },
     "metadata": {},
     "output_type": "display_data"
    },
    {
     "data": {
      "text/html": [
       "<div>\n",
       "<style scoped>\n",
       "    .dataframe tbody tr th:only-of-type {\n",
       "        vertical-align: middle;\n",
       "    }\n",
       "\n",
       "    .dataframe tbody tr th {\n",
       "        vertical-align: top;\n",
       "    }\n",
       "\n",
       "    .dataframe thead th {\n",
       "        text-align: right;\n",
       "    }\n",
       "</style>\n",
       "<table border=\"1\" class=\"dataframe\">\n",
       "  <thead>\n",
       "    <tr style=\"text-align: right;\">\n",
       "      <th></th>\n",
       "      <th>transactionId</th>\n",
       "      <th>visitorId</th>\n",
       "      <th>date</th>\n",
       "      <th>revenue</th>\n",
       "      <th>group</th>\n",
       "    </tr>\n",
       "  </thead>\n",
       "  <tbody>\n",
       "    <tr>\n",
       "      <th>359</th>\n",
       "      <td>615966907</td>\n",
       "      <td>3717692402</td>\n",
       "      <td>2019-08-28</td>\n",
       "      <td>910</td>\n",
       "      <td>B</td>\n",
       "    </tr>\n",
       "    <tr>\n",
       "      <th>809</th>\n",
       "      <td>3362484972</td>\n",
       "      <td>3717692402</td>\n",
       "      <td>2019-08-21</td>\n",
       "      <td>2400</td>\n",
       "      <td>A</td>\n",
       "    </tr>\n",
       "    <tr>\n",
       "      <th>838</th>\n",
       "      <td>1607016207</td>\n",
       "      <td>3717692402</td>\n",
       "      <td>2019-08-21</td>\n",
       "      <td>4170</td>\n",
       "      <td>B</td>\n",
       "    </tr>\n",
       "    <tr>\n",
       "      <th>938</th>\n",
       "      <td>1575313118</td>\n",
       "      <td>3717692402</td>\n",
       "      <td>2019-08-08</td>\n",
       "      <td>1540</td>\n",
       "      <td>B</td>\n",
       "    </tr>\n",
       "    <tr>\n",
       "      <th>1175</th>\n",
       "      <td>1373388206</td>\n",
       "      <td>3717692402</td>\n",
       "      <td>2019-08-14</td>\n",
       "      <td>2400</td>\n",
       "      <td>B</td>\n",
       "    </tr>\n",
       "  </tbody>\n",
       "</table>\n",
       "</div>"
      ],
      "text/plain": [
       "      transactionId   visitorId       date  revenue group\n",
       "359       615966907  3717692402 2019-08-28      910     B\n",
       "809      3362484972  3717692402 2019-08-21     2400     A\n",
       "838      1607016207  3717692402 2019-08-21     4170     B\n",
       "938      1575313118  3717692402 2019-08-08     1540     B\n",
       "1175     1373388206  3717692402 2019-08-14     2400     B"
      ]
     },
     "metadata": {},
     "output_type": "display_data"
    },
    {
     "data": {
      "text/html": [
       "<div>\n",
       "<style scoped>\n",
       "    .dataframe tbody tr th:only-of-type {\n",
       "        vertical-align: middle;\n",
       "    }\n",
       "\n",
       "    .dataframe tbody tr th {\n",
       "        vertical-align: top;\n",
       "    }\n",
       "\n",
       "    .dataframe thead th {\n",
       "        text-align: right;\n",
       "    }\n",
       "</style>\n",
       "<table border=\"1\" class=\"dataframe\">\n",
       "  <thead>\n",
       "    <tr style=\"text-align: right;\">\n",
       "      <th></th>\n",
       "      <th>transactionId</th>\n",
       "      <th>visitorId</th>\n",
       "      <th>date</th>\n",
       "      <th>revenue</th>\n",
       "      <th>group</th>\n",
       "    </tr>\n",
       "  </thead>\n",
       "  <tbody>\n",
       "    <tr>\n",
       "      <th>133</th>\n",
       "      <td>3060563671</td>\n",
       "      <td>2458001652</td>\n",
       "      <td>2019-08-22</td>\n",
       "      <td>5190</td>\n",
       "      <td>A</td>\n",
       "    </tr>\n",
       "    <tr>\n",
       "      <th>380</th>\n",
       "      <td>1177690313</td>\n",
       "      <td>2458001652</td>\n",
       "      <td>2019-08-25</td>\n",
       "      <td>2385</td>\n",
       "      <td>B</td>\n",
       "    </tr>\n",
       "    <tr>\n",
       "      <th>454</th>\n",
       "      <td>3755354294</td>\n",
       "      <td>2458001652</td>\n",
       "      <td>2019-08-06</td>\n",
       "      <td>7349</td>\n",
       "      <td>B</td>\n",
       "    </tr>\n",
       "    <tr>\n",
       "      <th>456</th>\n",
       "      <td>543654048</td>\n",
       "      <td>2458001652</td>\n",
       "      <td>2019-08-06</td>\n",
       "      <td>1620</td>\n",
       "      <td>A</td>\n",
       "    </tr>\n",
       "    <tr>\n",
       "      <th>483</th>\n",
       "      <td>2280027650</td>\n",
       "      <td>2458001652</td>\n",
       "      <td>2019-08-06</td>\n",
       "      <td>6681</td>\n",
       "      <td>B</td>\n",
       "    </tr>\n",
       "    <tr>\n",
       "      <th>611</th>\n",
       "      <td>1244084011</td>\n",
       "      <td>2458001652</td>\n",
       "      <td>2019-08-04</td>\n",
       "      <td>340</td>\n",
       "      <td>A</td>\n",
       "    </tr>\n",
       "    <tr>\n",
       "      <th>692</th>\n",
       "      <td>3586870909</td>\n",
       "      <td>2458001652</td>\n",
       "      <td>2019-08-09</td>\n",
       "      <td>5227</td>\n",
       "      <td>B</td>\n",
       "    </tr>\n",
       "    <tr>\n",
       "      <th>727</th>\n",
       "      <td>3959083601</td>\n",
       "      <td>2458001652</td>\n",
       "      <td>2019-08-07</td>\n",
       "      <td>17379</td>\n",
       "      <td>A</td>\n",
       "    </tr>\n",
       "    <tr>\n",
       "      <th>883</th>\n",
       "      <td>2412219836</td>\n",
       "      <td>2458001652</td>\n",
       "      <td>2019-08-05</td>\n",
       "      <td>2420</td>\n",
       "      <td>B</td>\n",
       "    </tr>\n",
       "    <tr>\n",
       "      <th>916</th>\n",
       "      <td>527333943</td>\n",
       "      <td>2458001652</td>\n",
       "      <td>2019-08-08</td>\n",
       "      <td>5227</td>\n",
       "      <td>B</td>\n",
       "    </tr>\n",
       "    <tr>\n",
       "      <th>1062</th>\n",
       "      <td>1817215137</td>\n",
       "      <td>2458001652</td>\n",
       "      <td>2019-08-11</td>\n",
       "      <td>8280</td>\n",
       "      <td>A</td>\n",
       "    </tr>\n",
       "  </tbody>\n",
       "</table>\n",
       "</div>"
      ],
      "text/plain": [
       "      transactionId   visitorId       date  revenue group\n",
       "133      3060563671  2458001652 2019-08-22     5190     A\n",
       "380      1177690313  2458001652 2019-08-25     2385     B\n",
       "454      3755354294  2458001652 2019-08-06     7349     B\n",
       "456       543654048  2458001652 2019-08-06     1620     A\n",
       "483      2280027650  2458001652 2019-08-06     6681     B\n",
       "611      1244084011  2458001652 2019-08-04      340     A\n",
       "692      3586870909  2458001652 2019-08-09     5227     B\n",
       "727      3959083601  2458001652 2019-08-07    17379     A\n",
       "883      2412219836  2458001652 2019-08-05     2420     B\n",
       "916       527333943  2458001652 2019-08-08     5227     B\n",
       "1062     1817215137  2458001652 2019-08-11     8280     A"
      ]
     },
     "metadata": {},
     "output_type": "display_data"
    },
    {
     "data": {
      "text/html": [
       "<div>\n",
       "<style scoped>\n",
       "    .dataframe tbody tr th:only-of-type {\n",
       "        vertical-align: middle;\n",
       "    }\n",
       "\n",
       "    .dataframe tbody tr th {\n",
       "        vertical-align: top;\n",
       "    }\n",
       "\n",
       "    .dataframe thead th {\n",
       "        text-align: right;\n",
       "    }\n",
       "</style>\n",
       "<table border=\"1\" class=\"dataframe\">\n",
       "  <thead>\n",
       "    <tr style=\"text-align: right;\">\n",
       "      <th></th>\n",
       "      <th>transactionId</th>\n",
       "      <th>visitorId</th>\n",
       "      <th>date</th>\n",
       "      <th>revenue</th>\n",
       "      <th>group</th>\n",
       "    </tr>\n",
       "  </thead>\n",
       "  <tbody>\n",
       "    <tr>\n",
       "      <th>480</th>\n",
       "      <td>1954636284</td>\n",
       "      <td>2600415354</td>\n",
       "      <td>2019-08-06</td>\n",
       "      <td>1530</td>\n",
       "      <td>B</td>\n",
       "    </tr>\n",
       "    <tr>\n",
       "      <th>1008</th>\n",
       "      <td>2316868256</td>\n",
       "      <td>2600415354</td>\n",
       "      <td>2019-08-31</td>\n",
       "      <td>2790</td>\n",
       "      <td>A</td>\n",
       "    </tr>\n",
       "  </tbody>\n",
       "</table>\n",
       "</div>"
      ],
      "text/plain": [
       "      transactionId   visitorId       date  revenue group\n",
       "480      1954636284  2600415354 2019-08-06     1530     B\n",
       "1008     2316868256  2600415354 2019-08-31     2790     A"
      ]
     },
     "metadata": {},
     "output_type": "display_data"
    },
    {
     "data": {
      "text/html": [
       "<div>\n",
       "<style scoped>\n",
       "    .dataframe tbody tr th:only-of-type {\n",
       "        vertical-align: middle;\n",
       "    }\n",
       "\n",
       "    .dataframe tbody tr th {\n",
       "        vertical-align: top;\n",
       "    }\n",
       "\n",
       "    .dataframe thead th {\n",
       "        text-align: right;\n",
       "    }\n",
       "</style>\n",
       "<table border=\"1\" class=\"dataframe\">\n",
       "  <thead>\n",
       "    <tr style=\"text-align: right;\">\n",
       "      <th></th>\n",
       "      <th>transactionId</th>\n",
       "      <th>visitorId</th>\n",
       "      <th>date</th>\n",
       "      <th>revenue</th>\n",
       "      <th>group</th>\n",
       "    </tr>\n",
       "  </thead>\n",
       "  <tbody>\n",
       "    <tr>\n",
       "      <th>225</th>\n",
       "      <td>2931845376</td>\n",
       "      <td>2954449915</td>\n",
       "      <td>2019-08-17</td>\n",
       "      <td>10791</td>\n",
       "      <td>A</td>\n",
       "    </tr>\n",
       "    <tr>\n",
       "      <th>455</th>\n",
       "      <td>2781850870</td>\n",
       "      <td>2954449915</td>\n",
       "      <td>2019-08-06</td>\n",
       "      <td>3070</td>\n",
       "      <td>B</td>\n",
       "    </tr>\n",
       "  </tbody>\n",
       "</table>\n",
       "</div>"
      ],
      "text/plain": [
       "     transactionId   visitorId       date  revenue group\n",
       "225     2931845376  2954449915 2019-08-17    10791     A\n",
       "455     2781850870  2954449915 2019-08-06     3070     B"
      ]
     },
     "metadata": {},
     "output_type": "display_data"
    },
    {
     "data": {
      "text/html": [
       "<div>\n",
       "<style scoped>\n",
       "    .dataframe tbody tr th:only-of-type {\n",
       "        vertical-align: middle;\n",
       "    }\n",
       "\n",
       "    .dataframe tbody tr th {\n",
       "        vertical-align: top;\n",
       "    }\n",
       "\n",
       "    .dataframe thead th {\n",
       "        text-align: right;\n",
       "    }\n",
       "</style>\n",
       "<table border=\"1\" class=\"dataframe\">\n",
       "  <thead>\n",
       "    <tr style=\"text-align: right;\">\n",
       "      <th></th>\n",
       "      <th>transactionId</th>\n",
       "      <th>visitorId</th>\n",
       "      <th>date</th>\n",
       "      <th>revenue</th>\n",
       "      <th>group</th>\n",
       "    </tr>\n",
       "  </thead>\n",
       "  <tbody>\n",
       "    <tr>\n",
       "      <th>858</th>\n",
       "      <td>192721366</td>\n",
       "      <td>1316129916</td>\n",
       "      <td>2019-08-27</td>\n",
       "      <td>93940</td>\n",
       "      <td>A</td>\n",
       "    </tr>\n",
       "    <tr>\n",
       "      <th>900</th>\n",
       "      <td>3922986948</td>\n",
       "      <td>1316129916</td>\n",
       "      <td>2019-08-27</td>\n",
       "      <td>830</td>\n",
       "      <td>B</td>\n",
       "    </tr>\n",
       "  </tbody>\n",
       "</table>\n",
       "</div>"
      ],
      "text/plain": [
       "     transactionId   visitorId       date  revenue group\n",
       "858      192721366  1316129916 2019-08-27    93940     A\n",
       "900     3922986948  1316129916 2019-08-27      830     B"
      ]
     },
     "metadata": {},
     "output_type": "display_data"
    },
    {
     "data": {
      "text/html": [
       "<div>\n",
       "<style scoped>\n",
       "    .dataframe tbody tr th:only-of-type {\n",
       "        vertical-align: middle;\n",
       "    }\n",
       "\n",
       "    .dataframe tbody tr th {\n",
       "        vertical-align: top;\n",
       "    }\n",
       "\n",
       "    .dataframe thead th {\n",
       "        text-align: right;\n",
       "    }\n",
       "</style>\n",
       "<table border=\"1\" class=\"dataframe\">\n",
       "  <thead>\n",
       "    <tr style=\"text-align: right;\">\n",
       "      <th></th>\n",
       "      <th>transactionId</th>\n",
       "      <th>visitorId</th>\n",
       "      <th>date</th>\n",
       "      <th>revenue</th>\n",
       "      <th>group</th>\n",
       "    </tr>\n",
       "  </thead>\n",
       "  <tbody>\n",
       "    <tr>\n",
       "      <th>159</th>\n",
       "      <td>1170827001</td>\n",
       "      <td>3891541246</td>\n",
       "      <td>2019-08-22</td>\n",
       "      <td>990</td>\n",
       "      <td>A</td>\n",
       "    </tr>\n",
       "    <tr>\n",
       "      <th>606</th>\n",
       "      <td>4007826947</td>\n",
       "      <td>3891541246</td>\n",
       "      <td>2019-08-04</td>\n",
       "      <td>480</td>\n",
       "      <td>B</td>\n",
       "    </tr>\n",
       "    <tr>\n",
       "      <th>609</th>\n",
       "      <td>332633624</td>\n",
       "      <td>3891541246</td>\n",
       "      <td>2019-08-04</td>\n",
       "      <td>5020</td>\n",
       "      <td>A</td>\n",
       "    </tr>\n",
       "  </tbody>\n",
       "</table>\n",
       "</div>"
      ],
      "text/plain": [
       "     transactionId   visitorId       date  revenue group\n",
       "159     1170827001  3891541246 2019-08-22      990     A\n",
       "606     4007826947  3891541246 2019-08-04      480     B\n",
       "609      332633624  3891541246 2019-08-04     5020     A"
      ]
     },
     "metadata": {},
     "output_type": "display_data"
    },
    {
     "data": {
      "text/html": [
       "<div>\n",
       "<style scoped>\n",
       "    .dataframe tbody tr th:only-of-type {\n",
       "        vertical-align: middle;\n",
       "    }\n",
       "\n",
       "    .dataframe tbody tr th {\n",
       "        vertical-align: top;\n",
       "    }\n",
       "\n",
       "    .dataframe thead th {\n",
       "        text-align: right;\n",
       "    }\n",
       "</style>\n",
       "<table border=\"1\" class=\"dataframe\">\n",
       "  <thead>\n",
       "    <tr style=\"text-align: right;\">\n",
       "      <th></th>\n",
       "      <th>transactionId</th>\n",
       "      <th>visitorId</th>\n",
       "      <th>date</th>\n",
       "      <th>revenue</th>\n",
       "      <th>group</th>\n",
       "    </tr>\n",
       "  </thead>\n",
       "  <tbody>\n",
       "    <tr>\n",
       "      <th>535</th>\n",
       "      <td>3061324106</td>\n",
       "      <td>3972127743</td>\n",
       "      <td>2019-08-04</td>\n",
       "      <td>8401</td>\n",
       "      <td>B</td>\n",
       "    </tr>\n",
       "    <tr>\n",
       "      <th>1035</th>\n",
       "      <td>2898835960</td>\n",
       "      <td>3972127743</td>\n",
       "      <td>2019-08-09</td>\n",
       "      <td>8439</td>\n",
       "      <td>A</td>\n",
       "    </tr>\n",
       "  </tbody>\n",
       "</table>\n",
       "</div>"
      ],
      "text/plain": [
       "      transactionId   visitorId       date  revenue group\n",
       "535      3061324106  3972127743 2019-08-04     8401     B\n",
       "1035     2898835960  3972127743 2019-08-09     8439     A"
      ]
     },
     "metadata": {},
     "output_type": "display_data"
    }
   ],
   "source": [
    "for i in c:\n",
    "    display(orders[orders['visitorId'] == i])"
   ]
  },
  {
   "cell_type": "markdown",
   "metadata": {},
   "source": [
    "**Вывод:** В ходе подготовки данных к анализу, загруженные датасеты были проверены на пропуски, дубликаты и несоответствия в типах данных. Был изменен тип данных в столбцах date датафреймов orders и visitors был изменен с object на datetime.\n",
    "При более глубокой проверки обнаружились 58 пользователей, которые попали в обе группы."
   ]
  },
  {
   "cell_type": "markdown",
   "metadata": {},
   "source": [
    "## Приоритезация гипотез"
   ]
  },
  {
   "cell_type": "markdown",
   "metadata": {},
   "source": [
    "### Приоритезация при помощи ICE"
   ]
  },
  {
   "cell_type": "code",
   "execution_count": 120,
   "metadata": {},
   "outputs": [
    {
     "data": {
      "text/html": [
       "<div>\n",
       "<style scoped>\n",
       "    .dataframe tbody tr th:only-of-type {\n",
       "        vertical-align: middle;\n",
       "    }\n",
       "\n",
       "    .dataframe tbody tr th {\n",
       "        vertical-align: top;\n",
       "    }\n",
       "\n",
       "    .dataframe thead th {\n",
       "        text-align: right;\n",
       "    }\n",
       "</style>\n",
       "<table border=\"1\" class=\"dataframe\">\n",
       "  <thead>\n",
       "    <tr style=\"text-align: right;\">\n",
       "      <th></th>\n",
       "      <th>hypothesis</th>\n",
       "      <th>ICE</th>\n",
       "    </tr>\n",
       "  </thead>\n",
       "  <tbody>\n",
       "    <tr>\n",
       "      <th>8</th>\n",
       "      <td>Запустить акцию, дающую скидку на товар в день рождения</td>\n",
       "      <td>16.200</td>\n",
       "    </tr>\n",
       "    <tr>\n",
       "      <th>0</th>\n",
       "      <td>Добавить два новых канала привлечения трафика, что позволит привлекать на 30% больше пользователей</td>\n",
       "      <td>13.333</td>\n",
       "    </tr>\n",
       "    <tr>\n",
       "      <th>7</th>\n",
       "      <td>Добавить форму подписки на все основные страницы, чтобы собрать базу клиентов для email-рассылок</td>\n",
       "      <td>11.200</td>\n",
       "    </tr>\n",
       "    <tr>\n",
       "      <th>6</th>\n",
       "      <td>Показать на главной странице баннеры с актуальными акциями и распродажами, чтобы увеличить конверсию</td>\n",
       "      <td>8.000</td>\n",
       "    </tr>\n",
       "    <tr>\n",
       "      <th>2</th>\n",
       "      <td>Добавить блоки рекомендаций товаров на сайт интернет магазина, чтобы повысить конверсию и средний чек заказа</td>\n",
       "      <td>7.000</td>\n",
       "    </tr>\n",
       "    <tr>\n",
       "      <th>1</th>\n",
       "      <td>Запустить собственную службу доставки, что сократит срок доставки заказов</td>\n",
       "      <td>2.000</td>\n",
       "    </tr>\n",
       "    <tr>\n",
       "      <th>5</th>\n",
       "      <td>Добавить страницу отзывов клиентов о магазине, что позволит увеличить количество заказов</td>\n",
       "      <td>1.333</td>\n",
       "    </tr>\n",
       "    <tr>\n",
       "      <th>3</th>\n",
       "      <td>Изменить структура категорий, что увеличит конверсию, т.к. пользователи быстрее найдут нужный товар</td>\n",
       "      <td>1.125</td>\n",
       "    </tr>\n",
       "    <tr>\n",
       "      <th>4</th>\n",
       "      <td>Изменить цвет фона главной страницы, чтобы увеличить вовлеченность пользователей</td>\n",
       "      <td>1.000</td>\n",
       "    </tr>\n",
       "  </tbody>\n",
       "</table>\n",
       "</div>"
      ],
      "text/plain": [
       "                                                                                                     hypothesis  \\\n",
       "8                                                       Запустить акцию, дающую скидку на товар в день рождения   \n",
       "0            Добавить два новых канала привлечения трафика, что позволит привлекать на 30% больше пользователей   \n",
       "7              Добавить форму подписки на все основные страницы, чтобы собрать базу клиентов для email-рассылок   \n",
       "6          Показать на главной странице баннеры с актуальными акциями и распродажами, чтобы увеличить конверсию   \n",
       "2  Добавить блоки рекомендаций товаров на сайт интернет магазина, чтобы повысить конверсию и средний чек заказа   \n",
       "1                                     Запустить собственную службу доставки, что сократит срок доставки заказов   \n",
       "5                      Добавить страницу отзывов клиентов о магазине, что позволит увеличить количество заказов   \n",
       "3           Изменить структура категорий, что увеличит конверсию, т.к. пользователи быстрее найдут нужный товар   \n",
       "4                              Изменить цвет фона главной страницы, чтобы увеличить вовлеченность пользователей   \n",
       "\n",
       "      ICE  \n",
       "8  16.200  \n",
       "0  13.333  \n",
       "7  11.200  \n",
       "6   8.000  \n",
       "2   7.000  \n",
       "1   2.000  \n",
       "5   1.333  \n",
       "3   1.125  \n",
       "4   1.000  "
      ]
     },
     "execution_count": 120,
     "metadata": {},
     "output_type": "execute_result"
    }
   ],
   "source": [
    "hypos['ICE'] = (hypos['impact'] * hypos['confidence']) / hypos['efforts']\n",
    "round(hypos[['hypothesis','ICE']].sort_values(by='ICE', ascending=False), 3)"
   ]
  },
  {
   "cell_type": "markdown",
   "metadata": {},
   "source": [
    "Приоретизация гипотези при помощи метрики ICE выдвинула гипотезу с акцией по скидке на день рождения, гипотезу с добавлением двух новых каналов привлечения трафика и гипотезу по добавлению формы подписки на осн. страницы на верхние места."
   ]
  },
  {
   "cell_type": "markdown",
   "metadata": {},
   "source": [
    "### Приоритезация при помощи RICE"
   ]
  },
  {
   "cell_type": "code",
   "execution_count": 128,
   "metadata": {
    "scrolled": true
   },
   "outputs": [
    {
     "data": {
      "text/html": [
       "<div>\n",
       "<style scoped>\n",
       "    .dataframe tbody tr th:only-of-type {\n",
       "        vertical-align: middle;\n",
       "    }\n",
       "\n",
       "    .dataframe tbody tr th {\n",
       "        vertical-align: top;\n",
       "    }\n",
       "\n",
       "    .dataframe thead th {\n",
       "        text-align: right;\n",
       "    }\n",
       "</style>\n",
       "<table border=\"1\" class=\"dataframe\">\n",
       "  <thead>\n",
       "    <tr style=\"text-align: right;\">\n",
       "      <th></th>\n",
       "      <th>hypothesis</th>\n",
       "      <th>RICE</th>\n",
       "      <th>ICE</th>\n",
       "    </tr>\n",
       "  </thead>\n",
       "  <tbody>\n",
       "    <tr>\n",
       "      <th>7</th>\n",
       "      <td>Добавить форму подписки на все основные страницы, чтобы собрать базу клиентов для email-рассылок</td>\n",
       "      <td>112.0</td>\n",
       "      <td>11.200</td>\n",
       "    </tr>\n",
       "    <tr>\n",
       "      <th>2</th>\n",
       "      <td>Добавить блоки рекомендаций товаров на сайт интернет магазина, чтобы повысить конверсию и средний чек заказа</td>\n",
       "      <td>56.0</td>\n",
       "      <td>7.000</td>\n",
       "    </tr>\n",
       "    <tr>\n",
       "      <th>0</th>\n",
       "      <td>Добавить два новых канала привлечения трафика, что позволит привлекать на 30% больше пользователей</td>\n",
       "      <td>40.0</td>\n",
       "      <td>13.333</td>\n",
       "    </tr>\n",
       "    <tr>\n",
       "      <th>6</th>\n",
       "      <td>Показать на главной странице баннеры с актуальными акциями и распродажами, чтобы увеличить конверсию</td>\n",
       "      <td>40.0</td>\n",
       "      <td>8.000</td>\n",
       "    </tr>\n",
       "    <tr>\n",
       "      <th>8</th>\n",
       "      <td>Запустить акцию, дающую скидку на товар в день рождения</td>\n",
       "      <td>16.2</td>\n",
       "      <td>16.200</td>\n",
       "    </tr>\n",
       "    <tr>\n",
       "      <th>3</th>\n",
       "      <td>Изменить структура категорий, что увеличит конверсию, т.к. пользователи быстрее найдут нужный товар</td>\n",
       "      <td>9.0</td>\n",
       "      <td>1.125</td>\n",
       "    </tr>\n",
       "    <tr>\n",
       "      <th>1</th>\n",
       "      <td>Запустить собственную службу доставки, что сократит срок доставки заказов</td>\n",
       "      <td>4.0</td>\n",
       "      <td>2.000</td>\n",
       "    </tr>\n",
       "    <tr>\n",
       "      <th>5</th>\n",
       "      <td>Добавить страницу отзывов клиентов о магазине, что позволит увеличить количество заказов</td>\n",
       "      <td>4.0</td>\n",
       "      <td>1.333</td>\n",
       "    </tr>\n",
       "    <tr>\n",
       "      <th>4</th>\n",
       "      <td>Изменить цвет фона главной страницы, чтобы увеличить вовлеченность пользователей</td>\n",
       "      <td>3.0</td>\n",
       "      <td>1.000</td>\n",
       "    </tr>\n",
       "  </tbody>\n",
       "</table>\n",
       "</div>"
      ],
      "text/plain": [
       "                                                                                                     hypothesis  \\\n",
       "7              Добавить форму подписки на все основные страницы, чтобы собрать базу клиентов для email-рассылок   \n",
       "2  Добавить блоки рекомендаций товаров на сайт интернет магазина, чтобы повысить конверсию и средний чек заказа   \n",
       "0            Добавить два новых канала привлечения трафика, что позволит привлекать на 30% больше пользователей   \n",
       "6          Показать на главной странице баннеры с актуальными акциями и распродажами, чтобы увеличить конверсию   \n",
       "8                                                       Запустить акцию, дающую скидку на товар в день рождения   \n",
       "3           Изменить структура категорий, что увеличит конверсию, т.к. пользователи быстрее найдут нужный товар   \n",
       "1                                     Запустить собственную службу доставки, что сократит срок доставки заказов   \n",
       "5                      Добавить страницу отзывов клиентов о магазине, что позволит увеличить количество заказов   \n",
       "4                              Изменить цвет фона главной страницы, чтобы увеличить вовлеченность пользователей   \n",
       "\n",
       "    RICE     ICE  \n",
       "7  112.0  11.200  \n",
       "2   56.0   7.000  \n",
       "0   40.0  13.333  \n",
       "6   40.0   8.000  \n",
       "8   16.2  16.200  \n",
       "3    9.0   1.125  \n",
       "1    4.0   2.000  \n",
       "5    4.0   1.333  \n",
       "4    3.0   1.000  "
      ]
     },
     "execution_count": 128,
     "metadata": {},
     "output_type": "execute_result"
    }
   ],
   "source": [
    "hypos['RICE'] = (hypos['reach'] * hypos['impact'] * hypos['confidence']) / hypos['efforts']\n",
    "round(hypos[['hypothesis','RICE', 'ICE']].sort_values(by='RICE', ascending=False), 3)"
   ]
  },
  {
   "cell_type": "markdown",
   "metadata": {},
   "source": [
    "**Вывод:**\n",
    "Метрика RICE выделила гипотезу по добавлению формы подписки на осн. страницы для сбора базы клиентов, гипотезу с добавлением блоков рекомендаций товаров на сайт для повышения конверсии и среднего чека, гипотезу с добавлением двух новых каналов привлечения трафика для 30% прироста пользователей и гипотезу с показом баннеров с акциями на главной странице для увеличения конверсии. Особенно сильно выделяется гипотеза с формой подписки на основные страницы, поскольку у нее самый большой охват среди других гипотез, что и стало причиной, по которой она заняла первое место."
   ]
  },
  {
   "cell_type": "markdown",
   "metadata": {},
   "source": [
    "## Анализ А/В теста"
   ]
  },
  {
   "cell_type": "markdown",
   "metadata": {},
   "source": [
    "### График кумулятивной выручки по группам"
   ]
  },
  {
   "cell_type": "code",
   "execution_count": 94,
   "metadata": {},
   "outputs": [],
   "source": [
    "date_group = orders[['date', 'group']].drop_duplicates()"
   ]
  },
  {
   "cell_type": "code",
   "execution_count": 95,
   "metadata": {},
   "outputs": [],
   "source": [
    "orders_agg = (date_group\n",
    "              .apply(lambda x: orders[np.logical_and(orders['date'] <= x['date'], orders['group'] == x['group'])]\n",
    "                     .agg({'date' : 'max', 'group' : 'max', 'transactionId' : 'nunique', 'visitorId' : 'nunique', 'revenue' : 'sum'}), \n",
    "                     axis=1)\n",
    "              .sort_values(by=['date','group']))"
   ]
  },
  {
   "cell_type": "code",
   "execution_count": 96,
   "metadata": {},
   "outputs": [],
   "source": [
    "visitors_agg = (date_group\n",
    "                .apply(lambda x: visitors[np.logical_and(visitors['date'] <= x['date'], visitors['group'] == x['group'])]\n",
    "                       .agg({'date' : 'max', 'group' : 'max', 'visitors' : 'sum'}), \n",
    "                       axis=1)\n",
    "                .sort_values(by=['date', 'group']))"
   ]
  },
  {
   "cell_type": "code",
   "execution_count": 97,
   "metadata": {},
   "outputs": [],
   "source": [
    "cumulative_data = orders_agg.merge(visitors_agg, left_on = ['date', 'group'], right_on = ['date', 'group'])\n",
    "cumulative_data.columns = ['date', 'group', 'orders', 'clients', 'revenue', 'visitors']"
   ]
  },
  {
   "cell_type": "code",
   "execution_count": 98,
   "metadata": {},
   "outputs": [],
   "source": [
    "cumulative_revA = cumulative_data[cumulative_data['group'] == 'A'][['date', 'revenue', 'orders']]\n",
    "cumulative_revB = cumulative_data[cumulative_data['group'] == 'B'][['date', 'revenue', 'orders']]"
   ]
  },
  {
   "cell_type": "code",
   "execution_count": 133,
   "metadata": {},
   "outputs": [
    {
     "data": {
      "image/png": "[encoded data removed]",
      "text/plain": [
       "<Figure size 1080x432 with 1 Axes>"
      ]
     },
     "metadata": {
      "needs_background": "light"
     },
     "output_type": "display_data"
    }
   ],
   "source": [
    "plt.figure(figsize=(15,6))\n",
    "plt.plot(cumulative_revA['date'], cumulative_revA['revenue'], label='A')\n",
    "plt.plot(cumulative_revB['date'], cumulative_revB['revenue'], label='B')\n",
    "plt.ylabel('Выручка, млн.')\n",
    "plt.xlabel('Дата')\n",
    "plt.title('Кумулятивная выручка по группам')\n",
    "plt.annotate('скачок', xy=(dt.datetime(2019, 8, 17), 2800000), xytext=(dt.datetime(2019, 8, 10), 3500000),\n",
    "            arrowprops=dict(facecolor='g'))\n",
    "plt.annotate('отрыв', xy=(dt.datetime(2019, 8, 5), 800000), xytext=(dt.datetime(2019, 8, 5), 2000000),\n",
    "            arrowprops=dict(facecolor='g'))\n",
    "plt.legend();"
   ]
  },
  {
   "cell_type": "markdown",
   "metadata": {},
   "source": [
    "Выручка обеих групп растут на проятяжении всего теста, однако можно заметить резкий рост выручки группы B, что может означать резкий рост заказов или очень дорогие заказы."
   ]
  },
  {
   "cell_type": "markdown",
   "metadata": {},
   "source": [
    "### График кумулятивного среднего чека по группам"
   ]
  },
  {
   "cell_type": "code",
   "execution_count": 145,
   "metadata": {},
   "outputs": [
    {
     "data": {
      "image/png": "[encoded data removed]",
      "text/plain": [
       "<Figure size 1080x432 with 1 Axes>"
      ]
     },
     "metadata": {
      "needs_background": "light"
     },
     "output_type": "display_data"
    }
   ],
   "source": [
    "plt.figure(figsize=(15,6))\n",
    "plt.plot(cumulative_revA['date'], cumulative_revA['revenue']/cumulative_revA['orders'], label='A')\n",
    "plt.plot(cumulative_revB['date'], cumulative_revB['revenue']/cumulative_revB['orders'], label='B')\n",
    "plt.ylabel('Средний чек, тыс.')\n",
    "plt.xlabel('Дата')\n",
    "plt.title('Кумулятивный средний чек')\n",
    "plt.annotate('скачок', xy=(dt.datetime(2019, 8, 18), 7100), xytext=(dt.datetime(2019, 8, 15), 8000),\n",
    "            arrowprops=dict(facecolor='g'))\n",
    "plt.annotate('отрыв', xy=(dt.datetime(2019, 8, 15), 7000), xytext=(dt.datetime(2019, 8, 17), 6000),\n",
    "            arrowprops=dict(facecolor='g'))\n",
    "plt.legend();"
   ]
  },
  {
   "cell_type": "markdown",
   "metadata": {},
   "source": [
    "К концу теста показатели среднего чека становятся относительно равномерными. Снова заметны резкие скачки у обеих групп."
   ]
  },
  {
   "cell_type": "markdown",
   "metadata": {},
   "source": [
    "### График относительного изменения кумулятивного среднего чека группы B к группе A"
   ]
  },
  {
   "cell_type": "code",
   "execution_count": 171,
   "metadata": {},
   "outputs": [
    {
     "data": {
      "image/png": "[encoded data removed]",
      "text/plain": [
       "<Figure size 1080x432 with 1 Axes>"
      ]
     },
     "metadata": {
      "needs_background": "light"
     },
     "output_type": "display_data"
    }
   ],
   "source": [
    "plt.figure(figsize=(15,6))\n",
    "cumulative_rev_merged = cumulative_revA.merge(cumulative_revB, left_on='date', right_on='date', how='left', suffixes=['A', 'B'])\n",
    "plt.plot(cumulative_rev_merged['date'], (cumulative_rev_merged['revenueB']/cumulative_rev_merged['ordersB']) / \n",
    "         (cumulative_rev_merged['revenueA']/cumulative_rev_merged['ordersA'])-1)\n",
    "plt.ylabel('Процент изменения среднего чека, .0%')\n",
    "plt.xlabel('Дата')\n",
    "plt.title('Относительное изменение кумулятивного среднего чека В к А')\n",
    "plt.annotate('скачок вверх', xy=(dt.datetime(2019, 8, 18), 0.055), xytext=(dt.datetime(2019, 8, 14), 0.2),\n",
    "            arrowprops=dict(facecolor='g'))\n",
    "plt.annotate('скачок вниз', xy=(dt.datetime(2019, 8, 8), 0.37), xytext=(dt.datetime(2019, 8, 7), 0.5),\n",
    "            arrowprops=dict(facecolor='g'))\n",
    "plt.axhline(y=0, color='black', linestyle='--');"
   ]
  },
  {
   "cell_type": "markdown",
   "metadata": {},
   "source": [
    "Наблюдаются резкие скачки показателя на графике, что может свидетельствовать об аномалиях, но к концу теста показатель стабилизировался на отметке в 30 процентов выше группы А."
   ]
  },
  {
   "cell_type": "markdown",
   "metadata": {},
   "source": [
    "### График кумулятивного среднего количества заказов на посетителя по группам"
   ]
  },
  {
   "cell_type": "code",
   "execution_count": 102,
   "metadata": {},
   "outputs": [],
   "source": [
    "cumulative_avg_ordA = cumulative_data[cumulative_data['group'] == 'A'] [['date', 'orders', 'visitors']]\n",
    "cumulative_avg_ordB = cumulative_data[cumulative_data['group'] == 'B'] [['date', 'orders', 'visitors']]"
   ]
  },
  {
   "cell_type": "code",
   "execution_count": 163,
   "metadata": {},
   "outputs": [
    {
     "data": {
      "image/png": "[encoded data removed]",
      "text/plain": [
       "<Figure size 1080x432 with 1 Axes>"
      ]
     },
     "metadata": {
      "needs_background": "light"
     },
     "output_type": "display_data"
    }
   ],
   "source": [
    "plt.figure(figsize=(15,6))\n",
    "plt.plot(cumulative_avg_ordA['date'], cumulative_avg_ordA['orders']/cumulative_avg_ordA['visitors'], label='A')\n",
    "plt.plot(cumulative_avg_ordB['date'], cumulative_avg_ordB['orders']/cumulative_avg_ordB['visitors'], label='B')\n",
    "plt.ylabel('Кол-во заказов, шт.')\n",
    "plt.xlabel('Дата')\n",
    "plt.title('Кумулятивное среднее количества заказов на посетителя')\n",
    "plt.annotate('отрыв', xy=(dt.datetime(2019, 8, 6), 0.0321), xytext=(dt.datetime(2019, 8, 7), 0.030),\n",
    "            arrowprops=dict(facecolor='g'))\n",
    "plt.legend();"
   ]
  },
  {
   "cell_type": "markdown",
   "metadata": {},
   "source": [
    "Среднее количество заказов группы А заметно упало, а группа B поднялась и зафиксировалась выше группы А."
   ]
  },
  {
   "cell_type": "markdown",
   "metadata": {},
   "source": [
    "### График относительного изменения кумулятивного среднего количества заказов на посетителя группы B к группе A"
   ]
  },
  {
   "cell_type": "code",
   "execution_count": 165,
   "metadata": {},
   "outputs": [
    {
     "data": {
      "image/png": "[encoded data removed]",
      "text/plain": [
       "<Figure size 1080x432 with 1 Axes>"
      ]
     },
     "metadata": {
      "needs_background": "light"
     },
     "output_type": "display_data"
    }
   ],
   "source": [
    "plt.figure(figsize=(15,6))\n",
    "cumulative_avg_merge = cumulative_avg_ordA.merge(cumulative_avg_ordB, left_on='date', right_on='date', how='left', suffixes=['A', 'B'])\n",
    "plt.plot(cumulative_avg_merge['date'], (cumulative_avg_merge['ordersB']/cumulative_avg_merge['visitorsB']) / \n",
    "         (cumulative_avg_merge['ordersA']/cumulative_avg_merge['visitorsA'])-1)\n",
    "plt.ylabel('Процент изменения кол-ва заказов, %')\n",
    "plt.xlabel('Дата')\n",
    "plt.title('Относительное изменение кумулятивного среднего кол-ва заказов на посетителя')\n",
    "plt.axhline(y=0, color='black', linestyle='--');"
   ]
  },
  {
   "cell_type": "markdown",
   "metadata": {},
   "source": [
    "Несмотря на резкий скачок вниз в начале теста, показатель поднялся до 20% и стабилизировлся на 15% к концу теста."
   ]
  },
  {
   "cell_type": "markdown",
   "metadata": {},
   "source": [
    "### Точечный график количества заказов по пользователям"
   ]
  },
  {
   "cell_type": "code",
   "execution_count": 105,
   "metadata": {},
   "outputs": [],
   "source": [
    "ordersByUsers = (\n",
    "    orders.groupby('visitorId', as_index=False)\n",
    "    .agg({'transactionId': 'nunique'})\n",
    ")\n",
    "\n",
    "ordersByUsers.columns = ['visitorId', 'orders']"
   ]
  },
  {
   "cell_type": "code",
   "execution_count": 106,
   "metadata": {},
   "outputs": [
    {
     "data": {
      "image/png": "[encoded data removed]",
      "text/plain": [
       "<Figure size 1080x432 with 1 Axes>"
      ]
     },
     "metadata": {
      "needs_background": "light"
     },
     "output_type": "display_data"
    }
   ],
   "source": [
    "x_values = pd.Series(range(0,len(ordersByUsers)))\n",
    "plt.figure(figsize=(15,6))\n",
    "plt.scatter(x_values, ordersByUsers['orders'])\n",
    "plt.ylabel('Кол-во заказов');"
   ]
  },
  {
   "cell_type": "markdown",
   "metadata": {},
   "source": [
    "Основная масса пользователей оформляла не более одного заказа, небольшое количество сделало 2 заказа. Есть малое число пользователей, которые купили более 3 товаров, также можно заметить два случая оформления более 10 заказов."
   ]
  },
  {
   "cell_type": "markdown",
   "metadata": {},
   "source": [
    "### 95-й и 99-й перцентили количества заказов на пользователя"
   ]
  },
  {
   "cell_type": "code",
   "execution_count": 107,
   "metadata": {},
   "outputs": [
    {
     "name": "stdout",
     "output_type": "stream",
     "text": [
      "[2. 4.]\n"
     ]
    }
   ],
   "source": [
    "print(np.percentile(ordersByUsers['orders'], [95, 99])) "
   ]
  },
  {
   "cell_type": "markdown",
   "metadata": {},
   "source": [
    "95 перцентилю соответсвует 2 заказа, 99 - 4 заказа. Таким образом границу определения аномальных значений можно обозначить все, что больше 2."
   ]
  },
  {
   "cell_type": "markdown",
   "metadata": {},
   "source": [
    "### Точечный график стоимостей заказов"
   ]
  },
  {
   "cell_type": "code",
   "execution_count": 108,
   "metadata": {},
   "outputs": [
    {
     "data": {
      "image/png": "[encoded data removed]",
      "text/plain": [
       "<Figure size 1080x432 with 1 Axes>"
      ]
     },
     "metadata": {
      "needs_background": "light"
     },
     "output_type": "display_data"
    }
   ],
   "source": [
    "x_values = pd.Series(range(0,len(orders['revenue'])))\n",
    "plt.figure(figsize=(15,6))\n",
    "plt.ticklabel_format(style='plain')\n",
    "plt.ylabel('Стоимость')\n",
    "plt.scatter(x_values, orders['revenue']);"
   ]
  },
  {
   "cell_type": "markdown",
   "metadata": {},
   "source": [
    "Обнаружились аномально большие значения, как например заказа стоимость более 12000000. Из-за юольших значений трудно определить на какую сумму покупало большинство пользователей, можно сказать только то, что в основном покупали на сумму до 500000 рублей."
   ]
  },
  {
   "cell_type": "markdown",
   "metadata": {},
   "source": [
    "### 95-й и 99-й перцентили стоимости заказов"
   ]
  },
  {
   "cell_type": "code",
   "execution_count": 109,
   "metadata": {},
   "outputs": [
    {
     "name": "stdout",
     "output_type": "stream",
     "text": [
      "[28000.  58233.2]\n"
     ]
    }
   ],
   "source": [
    "print(np.percentile(orders['revenue'], [95, 99])) "
   ]
  },
  {
   "cell_type": "markdown",
   "metadata": {},
   "source": [
    "95 перцентилю соответсвует 28000, 99 - 58233. Так, обозначить границу можно на 30000, чтобы исключить все аномалии, влияющие на анализ."
   ]
  },
  {
   "cell_type": "markdown",
   "metadata": {},
   "source": [
    "### Cтатистическая значимость различий в среднем количестве заказов на посетителя между группами по «сырым» данным"
   ]
  },
  {
   "cell_type": "code",
   "execution_count": 110,
   "metadata": {},
   "outputs": [],
   "source": [
    "visitorsA = visitors[visitors['group'] == 'A'] [['date', 'visitors']]\n",
    "visitorsA.columns = ['date', 'visitorsA']\n",
    "cumulative_visA = (visitorsA\n",
    "                   .apply(lambda x: visitorsA[visitorsA['date'] <= x['date']]\n",
    "                          .agg({'date' : 'max', 'visitorsA' : 'sum'}), axis=1))\n",
    "cumulative_visA.columns = ['date', 'cum_visitorsA']\n",
    "visitorsB = visitors[visitors['group'] == 'B'] [['date', 'visitors']]\n",
    "visitorsB.columns = ['date', 'visitorsB']\n",
    "cumulative_visB = (visitorsB.apply(lambda x: visitorsB[visitorsB['date'] <= x['date']]\n",
    "                                  .agg({'date' : 'max', 'visitorsB' : 'sum'}), axis=1))\n",
    "cumulative_visB.columns = ['date', 'cum_visitorsB']"
   ]
  },
  {
   "cell_type": "code",
   "execution_count": 111,
   "metadata": {},
   "outputs": [],
   "source": [
    "ordersA = (orders[orders['group'] == 'A'] [['date', 'transactionId', 'visitorId', 'revenue']]\n",
    "           .groupby('date', as_index=False)\n",
    "           .agg({'transactionId' : pd.Series.nunique, 'revenue' : 'sum'}))\n",
    "ordersA.columns = ['date', 'orderA', 'revenueA']\n",
    "cumulative_ordersA = ordersA.apply(lambda x: ordersA[ordersA['date'] <= x['date']]\n",
    "                                  .agg({'date' : 'max', 'orderA' : 'sum', 'revenueA' : 'sum'}), axis=1).sort_values(by=['date'])\n",
    "cumulative_ordersA.columns = ['date', 'cum_orderA', 'cum_revenueA']\n",
    "ordersB = (orders[orders['group'] == 'B'] [['date', 'transactionId', 'visitorId', 'revenue']]\n",
    "           .groupby('date', as_index=False)\n",
    "           .agg({'transactionId' : pd.Series.nunique, 'revenue' : 'sum'}))\n",
    "ordersB.columns = ['date', 'orderB', 'revenueB']\n",
    "cumulative_ordersB = ordersB.apply(lambda x: ordersB[ordersB['date'] <= x['date']]\n",
    "                                  .agg({'date' : 'max', 'orderB' : 'sum', 'revenueB' : 'sum'}), axis=1).sort_values(by=['date'])\n",
    "cumulative_ordersB.columns = ['date', 'cum_orderB', 'cum_revenueB']"
   ]
  },
  {
   "cell_type": "code",
   "execution_count": 112,
   "metadata": {},
   "outputs": [
    {
     "data": {
      "text/html": [
       "<div>\n",
       "<style scoped>\n",
       "    .dataframe tbody tr th:only-of-type {\n",
       "        vertical-align: middle;\n",
       "    }\n",
       "\n",
       "    .dataframe tbody tr th {\n",
       "        vertical-align: top;\n",
       "    }\n",
       "\n",
       "    .dataframe thead th {\n",
       "        text-align: right;\n",
       "    }\n",
       "</style>\n",
       "<table border=\"1\" class=\"dataframe\">\n",
       "  <thead>\n",
       "    <tr style=\"text-align: right;\">\n",
       "      <th></th>\n",
       "      <th>date</th>\n",
       "      <th>orderA</th>\n",
       "      <th>revenueA</th>\n",
       "      <th>orderB</th>\n",
       "      <th>revenueB</th>\n",
       "      <th>cum_orderA</th>\n",
       "      <th>cum_revenueA</th>\n",
       "      <th>cum_orderB</th>\n",
       "      <th>cum_revenueB</th>\n",
       "      <th>visitorsA</th>\n",
       "      <th>visitorsB</th>\n",
       "      <th>cum_visitorsA</th>\n",
       "      <th>cum_visitorsB</th>\n",
       "    </tr>\n",
       "  </thead>\n",
       "  <tbody>\n",
       "    <tr>\n",
       "      <th>0</th>\n",
       "      <td>2019-08-01</td>\n",
       "      <td>24</td>\n",
       "      <td>148579</td>\n",
       "      <td>21</td>\n",
       "      <td>101217</td>\n",
       "      <td>24</td>\n",
       "      <td>148579</td>\n",
       "      <td>21</td>\n",
       "      <td>101217</td>\n",
       "      <td>719</td>\n",
       "      <td>713</td>\n",
       "      <td>719</td>\n",
       "      <td>713</td>\n",
       "    </tr>\n",
       "    <tr>\n",
       "      <th>1</th>\n",
       "      <td>2019-08-02</td>\n",
       "      <td>20</td>\n",
       "      <td>93822</td>\n",
       "      <td>24</td>\n",
       "      <td>165531</td>\n",
       "      <td>44</td>\n",
       "      <td>242401</td>\n",
       "      <td>45</td>\n",
       "      <td>266748</td>\n",
       "      <td>619</td>\n",
       "      <td>581</td>\n",
       "      <td>1338</td>\n",
       "      <td>1294</td>\n",
       "    </tr>\n",
       "    <tr>\n",
       "      <th>2</th>\n",
       "      <td>2019-08-03</td>\n",
       "      <td>24</td>\n",
       "      <td>112473</td>\n",
       "      <td>16</td>\n",
       "      <td>114248</td>\n",
       "      <td>68</td>\n",
       "      <td>354874</td>\n",
       "      <td>61</td>\n",
       "      <td>380996</td>\n",
       "      <td>507</td>\n",
       "      <td>509</td>\n",
       "      <td>1845</td>\n",
       "      <td>1803</td>\n",
       "    </tr>\n",
       "    <tr>\n",
       "      <th>3</th>\n",
       "      <td>2019-08-04</td>\n",
       "      <td>16</td>\n",
       "      <td>70825</td>\n",
       "      <td>17</td>\n",
       "      <td>108571</td>\n",
       "      <td>84</td>\n",
       "      <td>425699</td>\n",
       "      <td>78</td>\n",
       "      <td>489567</td>\n",
       "      <td>717</td>\n",
       "      <td>770</td>\n",
       "      <td>2562</td>\n",
       "      <td>2573</td>\n",
       "    </tr>\n",
       "    <tr>\n",
       "      <th>4</th>\n",
       "      <td>2019-08-05</td>\n",
       "      <td>25</td>\n",
       "      <td>124218</td>\n",
       "      <td>23</td>\n",
       "      <td>92428</td>\n",
       "      <td>109</td>\n",
       "      <td>549917</td>\n",
       "      <td>101</td>\n",
       "      <td>581995</td>\n",
       "      <td>756</td>\n",
       "      <td>707</td>\n",
       "      <td>3318</td>\n",
       "      <td>3280</td>\n",
       "    </tr>\n",
       "  </tbody>\n",
       "</table>\n",
       "</div>"
      ],
      "text/plain": [
       "        date  orderA  revenueA  orderB  revenueB  cum_orderA  cum_revenueA  \\\n",
       "0 2019-08-01      24    148579      21    101217          24        148579   \n",
       "1 2019-08-02      20     93822      24    165531          44        242401   \n",
       "2 2019-08-03      24    112473      16    114248          68        354874   \n",
       "3 2019-08-04      16     70825      17    108571          84        425699   \n",
       "4 2019-08-05      25    124218      23     92428         109        549917   \n",
       "\n",
       "   cum_orderB  cum_revenueB  visitorsA  visitorsB  cum_visitorsA  \\\n",
       "0          21        101217        719        713            719   \n",
       "1          45        266748        619        581           1338   \n",
       "2          61        380996        507        509           1845   \n",
       "3          78        489567        717        770           2562   \n",
       "4         101        581995        756        707           3318   \n",
       "\n",
       "   cum_visitorsB  \n",
       "0            713  \n",
       "1           1294  \n",
       "2           1803  \n",
       "3           2573  \n",
       "4           3280  "
      ]
     },
     "execution_count": 112,
     "metadata": {},
     "output_type": "execute_result"
    }
   ],
   "source": [
    "data = (\n",
    "    ordersA.merge(\n",
    "        ordersB, left_on='date', right_on='date', how='left'\n",
    "    )\n",
    "    .merge(cumulative_ordersA, left_on='date', right_on='date', how='left')\n",
    "    .merge(cumulative_ordersB, left_on='date', right_on='date', how='left')\n",
    "    .merge(visitorsA, left_on='date', right_on='date', how='left')\n",
    "    .merge(visitorsB, left_on='date', right_on='date', how='left')\n",
    "    .merge(cumulative_visA, left_on='date', right_on='date', how='left')\n",
    "    .merge(cumulative_visB, left_on='date', right_on='date', how='left')\n",
    ")\n",
    "data.head()"
   ]
  },
  {
   "cell_type": "code",
   "execution_count": 113,
   "metadata": {},
   "outputs": [],
   "source": [
    "ordersByUsersA = (orders[orders['group'] == 'A'].groupby('visitorId', as_index=False).agg({'transactionId' : pd.Series.nunique}))\n",
    "ordersByUsersA.columns = ['visitorId','orders']\n",
    "\n",
    "ordersByUsersB = (orders[orders['group'] == 'B'].groupby('visitorId', as_index=False).agg({'transactionId' : pd.Series.nunique}))\n",
    "ordersByUsersB.columns = ['visitorId','orders']"
   ]
  },
  {
   "cell_type": "markdown",
   "metadata": {},
   "source": [
    "Сформулируем гипотезы и проверим их.\n",
    "\n",
    "1. Нулевая гипотеза гласит, что статистически значимых различий в среднем количестве заказов на посетителя между группами по «сырым» данным нет.\n",
    "2. Альтернативная гипотеза гласит, что статистически значимые различия в выборке есть."
   ]
  },
  {
   "cell_type": "code",
   "execution_count": 114,
   "metadata": {},
   "outputs": [
    {
     "name": "stdout",
     "output_type": "stream",
     "text": [
      "0.017\n",
      "0.138\n"
     ]
    }
   ],
   "source": [
    "sampleA = pd.concat([ordersByUsersA['orders'], pd.Series(0, index=np.arange(data['visitorsA'].sum() - len(ordersByUsersA['orders'])), name='orders')], axis=0)\n",
    "sampleB = pd.concat([ordersByUsersB['orders'], pd.Series(0, index=np.arange(data['visitorsB'].sum() - len(ordersByUsersB['orders'])), name='orders')], axis=0)\n",
    "\n",
    "print(\"{0:.3f}\".format(st.mannwhitneyu(sampleA, sampleB)[1]))\n",
    "print(\"{0:.3f}\".format(sampleB.mean() / sampleA.mean() - 1))"
   ]
  },
  {
   "cell_type": "markdown",
   "metadata": {},
   "source": [
    "Первое значение - p-value - показывает, что присутствуют значимые различия в среднем количестве заказов, поэотому отвергаем нулевую гипотезу. При этом относительный прирост группы B составлент около 14%."
   ]
  },
  {
   "cell_type": "markdown",
   "metadata": {},
   "source": [
    "### Статистическая значимость различий в среднем чеке заказа между группами по «сырым» данным"
   ]
  },
  {
   "cell_type": "markdown",
   "metadata": {},
   "source": [
    "1. Нулевая гипотеза гласит, что статистически значимых различий в среднем чеке заказа между группами по «сырым» данным не наблюдается. \n",
    "2. Альтернативная гипотеза гласит, что статистически значимые различия в выборке есть."
   ]
  },
  {
   "cell_type": "code",
   "execution_count": 115,
   "metadata": {},
   "outputs": [
    {
     "name": "stdout",
     "output_type": "stream",
     "text": [
      "0.729\n",
      "0.259\n"
     ]
    }
   ],
   "source": [
    "print('{0:.3f}'.format(st.mannwhitneyu(orders[orders['group']=='A']['revenue'], orders[orders['group']=='B']['revenue'])[1]))\n",
    "print('{0:.3f}'.format(orders[orders['group']=='B']['revenue'].mean()/orders[orders['group']=='A']['revenue'].mean()-1)) "
   ]
  },
  {
   "cell_type": "markdown",
   "metadata": {},
   "source": [
    "Статистически значимого различия между выборками средних чеков не наблюдается, поскольку p-value значительно больше 0.05. Нулевую гипотезу не отвергаем. Относительный прирост группы В составляет примерно 26%."
   ]
  },
  {
   "cell_type": "markdown",
   "metadata": {},
   "source": [
    "### Cтатистическая значимость различий в среднем количестве заказов на посетителя между группами по «очищенным» данным"
   ]
  },
  {
   "cell_type": "code",
   "execution_count": 116,
   "metadata": {},
   "outputs": [],
   "source": [
    "vis_many_ord = pd.concat([ordersByUsersA[ordersByUsersA['orders'] > 2]['visitorId'], \n",
    "                          ordersByUsersB[ordersByUsersB['orders'] > 2]['visitorId']])\n",
    "vis_many_exp_ord = orders[orders['revenue'] > 30000]['visitorId']\n",
    "abnormalUsers = (pd.concat([vis_many_ord, vis_many_exp_ord], axis=0)\n",
    "    .drop_duplicates()\n",
    "    .sort_values())"
   ]
  },
  {
   "cell_type": "code",
   "execution_count": 117,
   "metadata": {},
   "outputs": [],
   "source": [
    "sampleAFiltered = pd.concat([ordersByUsersA[np.logical_not(ordersByUsersA['visitorId'].isin(abnormalUsers))]['orders'],\n",
    "        pd.Series(0, index=np.arange(data['visitorsA'].sum() - len(ordersByUsersA['orders'])), name='orders')], axis=0)\n",
    "\n",
    "sampleBFiltered = pd.concat([ordersByUsersB[np.logical_not(ordersByUsersB['visitorId'].isin(abnormalUsers))]['orders'],\n",
    "        pd.Series(0, index=np.arange(data['visitorsB'].sum() - len(ordersByUsersB['orders'])), name='orders')], axis=0) "
   ]
  },
  {
   "cell_type": "markdown",
   "metadata": {},
   "source": [
    "1. Нулевая гипотеза гласит, что статистически значимых различий в среднем количестве заказов на посетителя между группами по «очищенным» данным не наблюдается. \n",
    "2. Альтернативная гипотеза гласит, что статистически значимые различия в выборке есть."
   ]
  },
  {
   "cell_type": "code",
   "execution_count": 118,
   "metadata": {},
   "outputs": [
    {
     "name": "stdout",
     "output_type": "stream",
     "text": [
      "0.013\n",
      "0.172\n"
     ]
    }
   ],
   "source": [
    "print('{0:.3f}'.format(st.mannwhitneyu(sampleAFiltered, sampleBFiltered)[1]))\n",
    "print('{0:.3f}'.format(sampleBFiltered.mean()/sampleAFiltered.mean()-1))"
   ]
  },
  {
   "cell_type": "markdown",
   "metadata": {},
   "source": [
    "По сравнению с сырыми данными изменений практически не наблюдается, снова наблюдаются значимые различия, так как p-value меньше 0.05. Относительный прирост для группы В составляет 17%."
   ]
  },
  {
   "cell_type": "markdown",
   "metadata": {},
   "source": [
    "### Статистическая значимость различий в среднем чеке заказа между группами по «очищенным» данным"
   ]
  },
  {
   "cell_type": "markdown",
   "metadata": {},
   "source": [
    "1. Нулевая гипотеза гласит, что статистически значимых различий в среднем чеке заказа между группами по «очищенным» данным не наблюдается. \n",
    "2. Альтернативная гипотеза гласит, что статистически значимые различия в выборке есть."
   ]
  },
  {
   "cell_type": "code",
   "execution_count": 119,
   "metadata": {},
   "outputs": [
    {
     "name": "stdout",
     "output_type": "stream",
     "text": [
      "0.720\n",
      "-0.023\n"
     ]
    }
   ],
   "source": [
    "print('{0:.3f}'.format(st.mannwhitneyu(orders[np.logical_and(orders['group'] == 'A',\n",
    "                                                             np.logical_not(orders['visitorId'].isin(abnormalUsers)))]['revenue'],\n",
    "                                       orders[np.logical_and(orders['group'] == 'B',\n",
    "                                                             np.logical_not(orders['visitorId'].isin(abnormalUsers)))]['revenue'])[1]))\n",
    "\n",
    "print('{0:.3f}'.format(orders[np.logical_and(orders['group'] == 'B', np.logical_not(orders['visitorId'].isin(abnormalUsers)))]['revenue'].mean()\n",
    "        / orders[np.logical_and(orders['group'] == 'A', np.logical_not(orders['visitorId'].isin(abnormalUsers)))]['revenue'].mean()- 1))"
   ]
  },
  {
   "cell_type": "markdown",
   "metadata": {},
   "source": [
    "В сравнении с сырыми данными, статистически значимых так же не наблюдается, однако прирост для группы В сменился на проигрыш на -2%."
   ]
  },
  {
   "cell_type": "markdown",
   "metadata": {},
   "source": [
    "**Вывод:**\n",
    "На основании графиков кумулятивных метрик, можно сделать вывод, что группа В опережает группу А. К примеру на графике относительного изменения кумулятивного среднего количества заказов на посетителя видно, что группа В опережает А и фиксируется на отметке 15%. В связи с этим можно сделать вывод, что тест можно завершать и фиксировать победу группы В."
   ]
  },
  {
   "cell_type": "markdown",
   "metadata": {},
   "source": [
    "## Вывод"
   ]
  },
  {
   "cell_type": "markdown",
   "metadata": {},
   "source": [
    "Таким образом, в ходе обзора анализируемых датасетов была получена общая информация о данных датасетов. В ходе подготовки данных для анализа, датасеты были проверены на пропуски и дубликаты. Тип данных некоторых столбцов был изменен на подходящий. Также, были обнаружены пользователи, которые относятся к обеим группам. Приоритезация гипотез выделила гипотезу под названием \"Добавить форму подписки на все основные страницы, чтобы собрать базу клиентов для email-рассылок\". По метрике RICE она заняла первое место, по метрике ICE третье. Анализ кумулятивных графиков показал превосходство группы В над А. Точечные графики помогли выявить аномальные знаения количества заказов и стоимости, которые находятся за 95-м перцентилем. Выявив аномалии, был проведен анализ А/В теста по сырым и очищенным данным, которые показал, что существуют статистически значимые различия в среднем количестве заказов на посетителя, а также отсутствие различий в "
   ]
  }
 ],
 "metadata": {
  "ExecuteTimeLog": [
   {
    "duration": 1354,
    "start_time": "2022-12-08T08:02:34.787Z"
   },
   {
    "duration": 81,
    "start_time": "2022-12-08T08:03:59.586Z"
   },
   {
    "duration": 32,
    "start_time": "2022-12-08T08:04:04.776Z"
   },
   {
    "duration": 32,
    "start_time": "2022-12-08T08:04:11.242Z"
   },
   {
    "duration": 32,
    "start_time": "2022-12-08T08:04:54.266Z"
   },
   {
    "duration": 110,
    "start_time": "2022-12-08T08:14:29.930Z"
   },
   {
    "duration": 55,
    "start_time": "2022-12-08T08:14:36.966Z"
   },
   {
    "duration": 57,
    "start_time": "2022-12-08T08:14:44.387Z"
   },
   {
    "duration": 76,
    "start_time": "2022-12-08T08:15:15.066Z"
   },
   {
    "duration": 94,
    "start_time": "2022-12-08T08:26:57.805Z"
   },
   {
    "duration": 7,
    "start_time": "2022-12-08T08:27:01.798Z"
   },
   {
    "duration": 33,
    "start_time": "2022-12-08T08:27:10.277Z"
   },
   {
    "duration": 12,
    "start_time": "2022-12-08T08:27:16.697Z"
   },
   {
    "duration": 10,
    "start_time": "2022-12-08T08:31:01.858Z"
   },
   {
    "duration": 10,
    "start_time": "2022-12-08T08:31:10.123Z"
   },
   {
    "duration": 6,
    "start_time": "2022-12-08T08:32:26.622Z"
   },
   {
    "duration": 5,
    "start_time": "2022-12-08T08:32:31.164Z"
   },
   {
    "duration": 6,
    "start_time": "2022-12-08T08:32:43.575Z"
   },
   {
    "duration": 8,
    "start_time": "2022-12-08T08:33:08.200Z"
   },
   {
    "duration": 11,
    "start_time": "2022-12-08T08:33:13.715Z"
   },
   {
    "duration": 11,
    "start_time": "2022-12-08T08:33:21.387Z"
   },
   {
    "duration": 8,
    "start_time": "2022-12-08T08:34:36.026Z"
   },
   {
    "duration": 3,
    "start_time": "2022-12-08T08:34:40.253Z"
   },
   {
    "duration": 38,
    "start_time": "2022-12-08T08:34:40.258Z"
   },
   {
    "duration": 45,
    "start_time": "2022-12-08T08:34:40.298Z"
   },
   {
    "duration": 20,
    "start_time": "2022-12-08T08:34:40.345Z"
   },
   {
    "duration": 12,
    "start_time": "2022-12-08T08:34:40.367Z"
   },
   {
    "duration": 16,
    "start_time": "2022-12-08T08:34:40.380Z"
   },
   {
    "duration": 16,
    "start_time": "2022-12-08T08:34:40.398Z"
   },
   {
    "duration": 9,
    "start_time": "2022-12-08T08:34:40.416Z"
   },
   {
    "duration": 8,
    "start_time": "2022-12-08T08:34:46.395Z"
   },
   {
    "duration": 6,
    "start_time": "2022-12-08T08:35:01.919Z"
   },
   {
    "duration": 9,
    "start_time": "2022-12-08T08:35:13.168Z"
   },
   {
    "duration": 6,
    "start_time": "2022-12-08T09:06:34.580Z"
   },
   {
    "duration": 7,
    "start_time": "2022-12-08T09:06:49.894Z"
   },
   {
    "duration": 7,
    "start_time": "2022-12-08T09:07:06.456Z"
   },
   {
    "duration": 4,
    "start_time": "2022-12-08T09:11:11.084Z"
   },
   {
    "duration": 8,
    "start_time": "2022-12-08T09:11:19.496Z"
   },
   {
    "duration": 3,
    "start_time": "2022-12-08T09:11:26.453Z"
   },
   {
    "duration": 36,
    "start_time": "2022-12-08T09:11:26.458Z"
   },
   {
    "duration": 45,
    "start_time": "2022-12-08T09:11:26.495Z"
   },
   {
    "duration": 20,
    "start_time": "2022-12-08T09:11:26.542Z"
   },
   {
    "duration": 11,
    "start_time": "2022-12-08T09:11:26.564Z"
   },
   {
    "duration": 15,
    "start_time": "2022-12-08T09:11:26.576Z"
   },
   {
    "duration": 13,
    "start_time": "2022-12-08T09:11:26.592Z"
   },
   {
    "duration": 11,
    "start_time": "2022-12-08T09:11:26.607Z"
   },
   {
    "duration": 37,
    "start_time": "2022-12-08T09:11:26.620Z"
   },
   {
    "duration": 16,
    "start_time": "2022-12-08T09:11:26.659Z"
   },
   {
    "duration": 9,
    "start_time": "2022-12-08T09:11:49.856Z"
   },
   {
    "duration": 3,
    "start_time": "2022-12-08T09:12:01.586Z"
   },
   {
    "duration": 80,
    "start_time": "2022-12-08T09:12:01.591Z"
   },
   {
    "duration": 82,
    "start_time": "2022-12-08T09:12:01.673Z"
   },
   {
    "duration": 36,
    "start_time": "2022-12-08T09:12:01.757Z"
   },
   {
    "duration": 76,
    "start_time": "2022-12-08T09:12:01.795Z"
   },
   {
    "duration": 17,
    "start_time": "2022-12-08T09:12:01.873Z"
   },
   {
    "duration": 43,
    "start_time": "2022-12-08T09:12:01.891Z"
   },
   {
    "duration": 67,
    "start_time": "2022-12-08T09:12:01.936Z"
   },
   {
    "duration": 29,
    "start_time": "2022-12-08T09:12:02.005Z"
   },
   {
    "duration": 42,
    "start_time": "2022-12-08T09:12:02.036Z"
   },
   {
    "duration": 11,
    "start_time": "2022-12-08T09:12:07.696Z"
   },
   {
    "duration": 7,
    "start_time": "2022-12-08T09:31:25.046Z"
   },
   {
    "duration": 11,
    "start_time": "2022-12-08T09:31:35.286Z"
   },
   {
    "duration": 6,
    "start_time": "2022-12-08T09:38:01.964Z"
   },
   {
    "duration": 7,
    "start_time": "2022-12-08T09:38:23.225Z"
   },
   {
    "duration": 11,
    "start_time": "2022-12-08T09:38:41.413Z"
   },
   {
    "duration": 14,
    "start_time": "2022-12-08T09:38:47.796Z"
   },
   {
    "duration": 12,
    "start_time": "2022-12-08T09:38:59.382Z"
   },
   {
    "duration": 63,
    "start_time": "2022-12-08T10:04:16.706Z"
   },
   {
    "duration": 13,
    "start_time": "2022-12-08T10:04:54.576Z"
   },
   {
    "duration": 965,
    "start_time": "2022-12-08T10:20:34.328Z"
   },
   {
    "duration": 5,
    "start_time": "2022-12-08T10:20:45.213Z"
   },
   {
    "duration": 53,
    "start_time": "2022-12-08T15:58:18.136Z"
   },
   {
    "duration": 1312,
    "start_time": "2022-12-08T15:58:33.368Z"
   },
   {
    "duration": 81,
    "start_time": "2022-12-08T15:58:34.682Z"
   },
   {
    "duration": 100,
    "start_time": "2022-12-08T15:58:34.765Z"
   },
   {
    "duration": 67,
    "start_time": "2022-12-08T15:58:34.867Z"
   },
   {
    "duration": 12,
    "start_time": "2022-12-08T15:58:34.936Z"
   },
   {
    "duration": 14,
    "start_time": "2022-12-08T15:58:34.950Z"
   },
   {
    "duration": 14,
    "start_time": "2022-12-08T15:58:34.966Z"
   },
   {
    "duration": 19,
    "start_time": "2022-12-08T15:58:34.983Z"
   },
   {
    "duration": 17,
    "start_time": "2022-12-08T15:58:35.005Z"
   },
   {
    "duration": 15,
    "start_time": "2022-12-08T15:58:35.024Z"
   },
   {
    "duration": 22,
    "start_time": "2022-12-08T15:58:35.040Z"
   },
   {
    "duration": 21,
    "start_time": "2022-12-08T15:58:35.064Z"
   },
   {
    "duration": 98,
    "start_time": "2022-12-08T15:58:35.087Z"
   },
   {
    "duration": 10,
    "start_time": "2022-12-08T15:58:35.188Z"
   },
   {
    "duration": 32,
    "start_time": "2022-12-08T15:58:35.200Z"
   },
   {
    "duration": 11,
    "start_time": "2022-12-08T16:00:37.290Z"
   },
   {
    "duration": 12,
    "start_time": "2022-12-08T16:02:14.774Z"
   },
   {
    "duration": 10,
    "start_time": "2022-12-08T16:02:27.918Z"
   },
   {
    "duration": 7,
    "start_time": "2022-12-08T16:32:21.814Z"
   },
   {
    "duration": 12,
    "start_time": "2022-12-08T16:32:27.859Z"
   },
   {
    "duration": 8,
    "start_time": "2022-12-08T16:32:43.347Z"
   },
   {
    "duration": 47,
    "start_time": "2022-12-08T16:41:10.530Z"
   },
   {
    "duration": 41,
    "start_time": "2022-12-08T16:41:31.511Z"
   },
   {
    "duration": 40,
    "start_time": "2022-12-08T16:41:37.587Z"
   },
   {
    "duration": 48,
    "start_time": "2022-12-08T16:41:50.740Z"
   },
   {
    "duration": 715,
    "start_time": "2022-12-08T16:42:12.002Z"
   },
   {
    "duration": 162,
    "start_time": "2022-12-08T16:42:16.139Z"
   },
   {
    "duration": 50,
    "start_time": "2022-12-08T16:42:24.064Z"
   },
   {
    "duration": 153,
    "start_time": "2022-12-08T16:42:34.092Z"
   },
   {
    "duration": 206,
    "start_time": "2022-12-08T16:44:05.419Z"
   },
   {
    "duration": 175,
    "start_time": "2022-12-08T16:44:19.789Z"
   },
   {
    "duration": 160,
    "start_time": "2022-12-08T16:44:40.426Z"
   },
   {
    "duration": 156,
    "start_time": "2022-12-08T16:44:59.349Z"
   },
   {
    "duration": 173,
    "start_time": "2022-12-08T16:45:09.720Z"
   },
   {
    "duration": 7,
    "start_time": "2022-12-08T16:45:20.222Z"
   },
   {
    "duration": 113,
    "start_time": "2022-12-08T16:51:49.643Z"
   },
   {
    "duration": 7,
    "start_time": "2022-12-08T16:56:46.816Z"
   },
   {
    "duration": 12,
    "start_time": "2022-12-08T16:57:02.339Z"
   },
   {
    "duration": 12,
    "start_time": "2022-12-08T17:00:36.227Z"
   },
   {
    "duration": 13,
    "start_time": "2022-12-08T17:01:34.258Z"
   },
   {
    "duration": 676,
    "start_time": "2022-12-08T17:03:18.454Z"
   },
   {
    "duration": 6,
    "start_time": "2022-12-08T17:03:45.800Z"
   },
   {
    "duration": 247,
    "start_time": "2022-12-08T17:05:40.288Z"
   },
   {
    "duration": 180,
    "start_time": "2022-12-08T17:05:43.714Z"
   },
   {
    "duration": 156,
    "start_time": "2022-12-08T17:11:51.462Z"
   },
   {
    "duration": 271,
    "start_time": "2022-12-08T17:12:59.838Z"
   },
   {
    "duration": 201,
    "start_time": "2022-12-08T17:13:17.385Z"
   },
   {
    "duration": 203,
    "start_time": "2022-12-08T17:44:26.258Z"
   },
   {
    "duration": 188,
    "start_time": "2022-12-08T17:44:58.685Z"
   },
   {
    "duration": 391,
    "start_time": "2022-12-08T18:21:17.891Z"
   },
   {
    "duration": 240,
    "start_time": "2022-12-08T18:21:21.653Z"
   },
   {
    "duration": 244,
    "start_time": "2022-12-08T18:24:26.959Z"
   },
   {
    "duration": 9,
    "start_time": "2022-12-08T18:45:59.048Z"
   },
   {
    "duration": 3,
    "start_time": "2022-12-08T18:46:29.979Z"
   },
   {
    "duration": 39,
    "start_time": "2022-12-08T18:46:29.984Z"
   },
   {
    "duration": 47,
    "start_time": "2022-12-08T18:46:30.025Z"
   },
   {
    "duration": 20,
    "start_time": "2022-12-08T18:46:30.074Z"
   },
   {
    "duration": 29,
    "start_time": "2022-12-08T18:46:30.096Z"
   },
   {
    "duration": 35,
    "start_time": "2022-12-08T18:46:30.127Z"
   },
   {
    "duration": 41,
    "start_time": "2022-12-08T18:46:30.163Z"
   },
   {
    "duration": 31,
    "start_time": "2022-12-08T18:46:30.206Z"
   },
   {
    "duration": 32,
    "start_time": "2022-12-08T18:46:30.239Z"
   },
   {
    "duration": 44,
    "start_time": "2022-12-08T18:46:30.272Z"
   },
   {
    "duration": 34,
    "start_time": "2022-12-08T18:46:30.318Z"
   },
   {
    "duration": 51,
    "start_time": "2022-12-08T18:46:30.354Z"
   },
   {
    "duration": 74,
    "start_time": "2022-12-08T18:46:30.407Z"
   },
   {
    "duration": 29,
    "start_time": "2022-12-08T18:46:30.484Z"
   },
   {
    "duration": 34,
    "start_time": "2022-12-08T18:46:30.515Z"
   },
   {
    "duration": 71,
    "start_time": "2022-12-08T18:46:30.551Z"
   },
   {
    "duration": 24,
    "start_time": "2022-12-08T18:46:30.623Z"
   },
   {
    "duration": 203,
    "start_time": "2022-12-08T18:46:30.649Z"
   },
   {
    "duration": 123,
    "start_time": "2022-12-08T18:46:30.854Z"
   },
   {
    "duration": 6,
    "start_time": "2022-12-08T18:46:30.979Z"
   },
   {
    "duration": 36,
    "start_time": "2022-12-08T18:46:30.987Z"
   },
   {
    "duration": 197,
    "start_time": "2022-12-08T18:46:31.024Z"
   },
   {
    "duration": 200,
    "start_time": "2022-12-08T18:46:31.222Z"
   },
   {
    "duration": 292,
    "start_time": "2022-12-08T18:46:31.424Z"
   },
   {
    "duration": 8,
    "start_time": "2022-12-08T18:46:31.718Z"
   },
   {
    "duration": 0,
    "start_time": "2022-12-08T18:46:31.728Z"
   },
   {
    "duration": 672,
    "start_time": "2022-12-08T18:46:42.357Z"
   },
   {
    "duration": 11,
    "start_time": "2022-12-08T18:46:53.159Z"
   },
   {
    "duration": 6,
    "start_time": "2022-12-08T18:47:02.272Z"
   },
   {
    "duration": 195,
    "start_time": "2022-12-08T18:47:55.737Z"
   },
   {
    "duration": 185,
    "start_time": "2022-12-08T18:50:12.497Z"
   },
   {
    "duration": 288,
    "start_time": "2022-12-08T18:59:02.570Z"
   },
   {
    "duration": 9,
    "start_time": "2022-12-08T19:06:36.381Z"
   },
   {
    "duration": 727,
    "start_time": "2022-12-08T19:07:53.070Z"
   },
   {
    "duration": 138,
    "start_time": "2022-12-08T19:08:08.366Z"
   },
   {
    "duration": 919,
    "start_time": "2022-12-08T19:08:45.825Z"
   },
   {
    "duration": 133,
    "start_time": "2022-12-08T19:08:54.542Z"
   },
   {
    "duration": 266,
    "start_time": "2022-12-08T19:09:21.725Z"
   },
   {
    "duration": 7,
    "start_time": "2022-12-08T19:11:54.670Z"
   },
   {
    "duration": 158,
    "start_time": "2022-12-08T19:12:26.693Z"
   },
   {
    "duration": 125,
    "start_time": "2022-12-08T19:12:32.771Z"
   },
   {
    "duration": 6,
    "start_time": "2022-12-08T20:41:08.450Z"
   },
   {
    "duration": 171,
    "start_time": "2022-12-08T20:43:16.042Z"
   },
   {
    "duration": 134,
    "start_time": "2022-12-08T20:43:21.367Z"
   },
   {
    "duration": 131,
    "start_time": "2022-12-08T20:43:24.951Z"
   },
   {
    "duration": 1244,
    "start_time": "2022-12-09T10:25:47.487Z"
   },
   {
    "duration": 82,
    "start_time": "2022-12-09T10:25:48.733Z"
   },
   {
    "duration": 99,
    "start_time": "2022-12-09T10:25:48.817Z"
   },
   {
    "duration": 66,
    "start_time": "2022-12-09T10:25:48.918Z"
   },
   {
    "duration": 11,
    "start_time": "2022-12-09T10:25:48.987Z"
   },
   {
    "duration": 66,
    "start_time": "2022-12-09T10:25:49.000Z"
   },
   {
    "duration": 69,
    "start_time": "2022-12-09T10:25:49.068Z"
   },
   {
    "duration": 18,
    "start_time": "2022-12-09T10:25:49.139Z"
   },
   {
    "duration": 17,
    "start_time": "2022-12-09T10:25:49.159Z"
   },
   {
    "duration": 18,
    "start_time": "2022-12-09T10:25:49.177Z"
   },
   {
    "duration": 40,
    "start_time": "2022-12-09T10:25:49.196Z"
   },
   {
    "duration": 10,
    "start_time": "2022-12-09T10:25:49.237Z"
   },
   {
    "duration": 61,
    "start_time": "2022-12-09T10:25:49.248Z"
   },
   {
    "duration": 7,
    "start_time": "2022-12-09T10:25:49.312Z"
   },
   {
    "duration": 30,
    "start_time": "2022-12-09T10:25:49.321Z"
   },
   {
    "duration": 27,
    "start_time": "2022-12-09T10:25:49.352Z"
   },
   {
    "duration": 11,
    "start_time": "2022-12-09T10:25:49.380Z"
   },
   {
    "duration": 165,
    "start_time": "2022-12-09T10:25:49.393Z"
   },
   {
    "duration": 112,
    "start_time": "2022-12-09T10:25:49.559Z"
   },
   {
    "duration": 5,
    "start_time": "2022-12-09T10:25:49.672Z"
   },
   {
    "duration": 44,
    "start_time": "2022-12-09T10:25:49.679Z"
   },
   {
    "duration": 289,
    "start_time": "2022-12-09T10:25:49.725Z"
   },
   {
    "duration": 196,
    "start_time": "2022-12-09T10:25:50.016Z"
   },
   {
    "duration": 323,
    "start_time": "2022-12-09T10:25:50.213Z"
   },
   {
    "duration": 5,
    "start_time": "2022-12-09T10:25:50.538Z"
   },
   {
    "duration": 198,
    "start_time": "2022-12-09T10:25:50.544Z"
   },
   {
    "duration": 256,
    "start_time": "2022-12-09T10:25:50.744Z"
   },
   {
    "duration": 7,
    "start_time": "2022-12-09T10:25:51.002Z"
   },
   {
    "duration": 108,
    "start_time": "2022-12-09T10:25:51.010Z"
   },
   {
    "duration": 4,
    "start_time": "2022-12-09T10:25:51.120Z"
   },
   {
    "duration": 122,
    "start_time": "2022-12-09T10:25:51.125Z"
   },
   {
    "duration": 99,
    "start_time": "2022-12-09T10:27:05.561Z"
   },
   {
    "duration": 189,
    "start_time": "2022-12-09T10:27:10.637Z"
   },
   {
    "duration": 119,
    "start_time": "2022-12-09T10:27:20.174Z"
   },
   {
    "duration": 8,
    "start_time": "2022-12-09T10:28:30.045Z"
   },
   {
    "duration": 1062,
    "start_time": "2022-12-09T10:31:45.698Z"
   },
   {
    "duration": 37,
    "start_time": "2022-12-09T10:31:46.762Z"
   },
   {
    "duration": 44,
    "start_time": "2022-12-09T10:31:46.801Z"
   },
   {
    "duration": 20,
    "start_time": "2022-12-09T10:31:46.847Z"
   },
   {
    "duration": 12,
    "start_time": "2022-12-09T10:31:46.869Z"
   },
   {
    "duration": 33,
    "start_time": "2022-12-09T10:31:46.882Z"
   },
   {
    "duration": 36,
    "start_time": "2022-12-09T10:31:46.917Z"
   },
   {
    "duration": 16,
    "start_time": "2022-12-09T10:31:46.955Z"
   },
   {
    "duration": 34,
    "start_time": "2022-12-09T10:31:46.973Z"
   },
   {
    "duration": 36,
    "start_time": "2022-12-09T10:31:47.008Z"
   },
   {
    "duration": 32,
    "start_time": "2022-12-09T10:31:47.045Z"
   },
   {
    "duration": 36,
    "start_time": "2022-12-09T10:31:47.078Z"
   },
   {
    "duration": 82,
    "start_time": "2022-12-09T10:31:47.115Z"
   },
   {
    "duration": 7,
    "start_time": "2022-12-09T10:31:47.200Z"
   },
   {
    "duration": 43,
    "start_time": "2022-12-09T10:31:47.208Z"
   },
   {
    "duration": 42,
    "start_time": "2022-12-09T10:31:47.253Z"
   },
   {
    "duration": 43,
    "start_time": "2022-12-09T10:31:47.297Z"
   },
   {
    "duration": 162,
    "start_time": "2022-12-09T10:31:47.341Z"
   },
   {
    "duration": 131,
    "start_time": "2022-12-09T10:31:47.505Z"
   },
   {
    "duration": 6,
    "start_time": "2022-12-09T10:31:47.638Z"
   },
   {
    "duration": 17,
    "start_time": "2022-12-09T10:31:47.646Z"
   },
   {
    "duration": 277,
    "start_time": "2022-12-09T10:31:47.665Z"
   },
   {
    "duration": 204,
    "start_time": "2022-12-09T10:31:47.944Z"
   },
   {
    "duration": 267,
    "start_time": "2022-12-09T10:31:48.150Z"
   },
   {
    "duration": 6,
    "start_time": "2022-12-09T10:31:48.420Z"
   },
   {
    "duration": 204,
    "start_time": "2022-12-09T10:31:48.428Z"
   },
   {
    "duration": 280,
    "start_time": "2022-12-09T10:31:48.634Z"
   },
   {
    "duration": 7,
    "start_time": "2022-12-09T10:31:48.916Z"
   },
   {
    "duration": 128,
    "start_time": "2022-12-09T10:31:48.924Z"
   },
   {
    "duration": 4,
    "start_time": "2022-12-09T10:31:49.054Z"
   },
   {
    "duration": 139,
    "start_time": "2022-12-09T10:31:49.060Z"
   },
   {
    "duration": 186,
    "start_time": "2022-12-09T10:31:49.201Z"
   },
   {
    "duration": 9,
    "start_time": "2022-12-09T10:31:49.388Z"
   },
   {
    "duration": 356,
    "start_time": "2022-12-09T10:32:48.783Z"
   },
   {
    "duration": 1071,
    "start_time": "2022-12-09T10:33:11.664Z"
   },
   {
    "duration": 36,
    "start_time": "2022-12-09T10:33:12.737Z"
   },
   {
    "duration": 44,
    "start_time": "2022-12-09T10:33:12.774Z"
   },
   {
    "duration": 20,
    "start_time": "2022-12-09T10:33:12.819Z"
   },
   {
    "duration": 10,
    "start_time": "2022-12-09T10:33:12.842Z"
   },
   {
    "duration": 10,
    "start_time": "2022-12-09T10:33:12.854Z"
   },
   {
    "duration": 10,
    "start_time": "2022-12-09T10:33:12.866Z"
   },
   {
    "duration": 8,
    "start_time": "2022-12-09T10:33:12.877Z"
   },
   {
    "duration": 17,
    "start_time": "2022-12-09T10:33:12.886Z"
   },
   {
    "duration": 9,
    "start_time": "2022-12-09T10:33:12.905Z"
   },
   {
    "duration": 14,
    "start_time": "2022-12-09T10:33:12.915Z"
   },
   {
    "duration": 9,
    "start_time": "2022-12-09T10:33:12.930Z"
   },
   {
    "duration": 71,
    "start_time": "2022-12-09T10:33:12.940Z"
   },
   {
    "duration": 7,
    "start_time": "2022-12-09T10:33:13.014Z"
   },
   {
    "duration": 13,
    "start_time": "2022-12-09T10:33:13.023Z"
   },
   {
    "duration": 10,
    "start_time": "2022-12-09T10:33:13.038Z"
   },
   {
    "duration": 7,
    "start_time": "2022-12-09T10:33:13.049Z"
   },
   {
    "duration": 179,
    "start_time": "2022-12-09T10:33:13.057Z"
   },
   {
    "duration": 114,
    "start_time": "2022-12-09T10:33:13.238Z"
   },
   {
    "duration": 7,
    "start_time": "2022-12-09T10:33:13.353Z"
   },
   {
    "duration": 37,
    "start_time": "2022-12-09T10:33:13.361Z"
   },
   {
    "duration": 263,
    "start_time": "2022-12-09T10:33:13.400Z"
   },
   {
    "duration": 193,
    "start_time": "2022-12-09T10:33:13.665Z"
   },
   {
    "duration": 285,
    "start_time": "2022-12-09T10:33:13.860Z"
   },
   {
    "duration": 6,
    "start_time": "2022-12-09T10:33:14.147Z"
   },
   {
    "duration": 228,
    "start_time": "2022-12-09T10:33:14.154Z"
   },
   {
    "duration": 324,
    "start_time": "2022-12-09T10:33:14.384Z"
   },
   {
    "duration": 8,
    "start_time": "2022-12-09T10:33:14.710Z"
   },
   {
    "duration": 121,
    "start_time": "2022-12-09T10:33:14.722Z"
   },
   {
    "duration": 4,
    "start_time": "2022-12-09T10:33:14.844Z"
   },
   {
    "duration": 123,
    "start_time": "2022-12-09T10:33:14.850Z"
   },
   {
    "duration": 195,
    "start_time": "2022-12-09T10:33:14.975Z"
   },
   {
    "duration": 5,
    "start_time": "2022-12-09T10:33:15.172Z"
   },
   {
    "duration": 67,
    "start_time": "2022-12-09T10:33:15.178Z"
   },
   {
    "duration": 134,
    "start_time": "2022-12-09T10:33:38.122Z"
   },
   {
    "duration": 134,
    "start_time": "2022-12-09T10:34:15.786Z"
   },
   {
    "duration": 173,
    "start_time": "2022-12-09T10:34:24.922Z"
   },
   {
    "duration": 184,
    "start_time": "2022-12-09T10:34:34.498Z"
   },
   {
    "duration": 229,
    "start_time": "2022-12-09T10:42:20.342Z"
   },
   {
    "duration": 171,
    "start_time": "2022-12-09T10:42:23.715Z"
   },
   {
    "duration": 137,
    "start_time": "2022-12-09T10:55:19.869Z"
   },
   {
    "duration": 191,
    "start_time": "2022-12-09T10:55:48.886Z"
   },
   {
    "duration": 136,
    "start_time": "2022-12-09T10:59:23.128Z"
   },
   {
    "duration": 139,
    "start_time": "2022-12-09T10:59:31.627Z"
   },
   {
    "duration": 10,
    "start_time": "2022-12-09T11:25:15.622Z"
   },
   {
    "duration": 43,
    "start_time": "2022-12-09T12:05:06.353Z"
   },
   {
    "duration": 53,
    "start_time": "2022-12-09T12:06:16.177Z"
   },
   {
    "duration": 99,
    "start_time": "2022-12-09T12:10:01.014Z"
   },
   {
    "duration": 44,
    "start_time": "2022-12-09T12:25:24.691Z"
   },
   {
    "duration": 51,
    "start_time": "2022-12-09T12:26:50.862Z"
   },
   {
    "duration": 47,
    "start_time": "2022-12-09T12:27:26.941Z"
   },
   {
    "duration": 68,
    "start_time": "2022-12-09T12:27:33.288Z"
   },
   {
    "duration": 61,
    "start_time": "2022-12-09T12:38:07.227Z"
   },
   {
    "duration": 98,
    "start_time": "2022-12-09T12:51:50.055Z"
   },
   {
    "duration": 105,
    "start_time": "2022-12-09T12:52:03.809Z"
   },
   {
    "duration": 21,
    "start_time": "2022-12-09T13:09:38.430Z"
   },
   {
    "duration": 85,
    "start_time": "2022-12-09T13:38:58.808Z"
   },
   {
    "duration": 167,
    "start_time": "2022-12-09T13:39:08.034Z"
   },
   {
    "duration": 833,
    "start_time": "2022-12-09T13:41:41.891Z"
   },
   {
    "duration": 4,
    "start_time": "2022-12-09T13:42:18.656Z"
   },
   {
    "duration": 44,
    "start_time": "2022-12-09T13:42:18.666Z"
   },
   {
    "duration": 43,
    "start_time": "2022-12-09T13:42:18.712Z"
   },
   {
    "duration": 20,
    "start_time": "2022-12-09T13:42:18.756Z"
   },
   {
    "duration": 10,
    "start_time": "2022-12-09T13:42:18.777Z"
   },
   {
    "duration": 10,
    "start_time": "2022-12-09T13:42:18.789Z"
   },
   {
    "duration": 10,
    "start_time": "2022-12-09T13:42:18.801Z"
   },
   {
    "duration": 10,
    "start_time": "2022-12-09T13:42:18.812Z"
   },
   {
    "duration": 7,
    "start_time": "2022-12-09T13:42:18.824Z"
   },
   {
    "duration": 13,
    "start_time": "2022-12-09T13:42:18.832Z"
   },
   {
    "duration": 13,
    "start_time": "2022-12-09T13:42:18.847Z"
   },
   {
    "duration": 36,
    "start_time": "2022-12-09T13:42:18.862Z"
   },
   {
    "duration": 10,
    "start_time": "2022-12-09T13:42:18.900Z"
   },
   {
    "duration": 11,
    "start_time": "2022-12-09T13:42:18.911Z"
   },
   {
    "duration": 13,
    "start_time": "2022-12-09T13:42:18.923Z"
   },
   {
    "duration": 14,
    "start_time": "2022-12-09T13:42:18.938Z"
   },
   {
    "duration": 8,
    "start_time": "2022-12-09T13:42:18.953Z"
   },
   {
    "duration": 173,
    "start_time": "2022-12-09T13:42:18.963Z"
   },
   {
    "duration": 220,
    "start_time": "2022-12-09T13:42:19.138Z"
   },
   {
    "duration": 6,
    "start_time": "2022-12-09T13:42:19.361Z"
   },
   {
    "duration": 11,
    "start_time": "2022-12-09T13:42:19.369Z"
   },
   {
    "duration": 201,
    "start_time": "2022-12-09T13:42:19.382Z"
   },
   {
    "duration": 185,
    "start_time": "2022-12-09T13:42:19.585Z"
   },
   {
    "duration": 332,
    "start_time": "2022-12-09T13:42:19.772Z"
   },
   {
    "duration": 7,
    "start_time": "2022-12-09T13:42:20.105Z"
   },
   {
    "duration": 210,
    "start_time": "2022-12-09T13:42:20.113Z"
   },
   {
    "duration": 272,
    "start_time": "2022-12-09T13:42:20.325Z"
   },
   {
    "duration": 6,
    "start_time": "2022-12-09T13:42:20.599Z"
   },
   {
    "duration": 124,
    "start_time": "2022-12-09T13:42:20.606Z"
   },
   {
    "duration": 4,
    "start_time": "2022-12-09T13:42:20.732Z"
   },
   {
    "duration": 207,
    "start_time": "2022-12-09T13:42:20.738Z"
   },
   {
    "duration": 5,
    "start_time": "2022-12-09T13:42:20.947Z"
   },
   {
    "duration": 100,
    "start_time": "2022-12-09T13:42:20.954Z"
   },
   {
    "duration": 122,
    "start_time": "2022-12-09T13:42:21.055Z"
   },
   {
    "duration": 27,
    "start_time": "2022-12-09T13:42:21.179Z"
   },
   {
    "duration": 140,
    "start_time": "2022-12-09T13:42:21.207Z"
   },
   {
    "duration": 831,
    "start_time": "2022-12-09T13:42:21.349Z"
   },
   {
    "duration": 29,
    "start_time": "2022-12-09T13:43:47.848Z"
   },
   {
    "duration": 27,
    "start_time": "2022-12-09T13:43:54.979Z"
   },
   {
    "duration": 122,
    "start_time": "2022-12-09T13:49:03.451Z"
   },
   {
    "duration": 28,
    "start_time": "2022-12-09T13:49:05.569Z"
   },
   {
    "duration": 109,
    "start_time": "2022-12-09T13:52:39.517Z"
   },
   {
    "duration": 26,
    "start_time": "2022-12-09T13:52:41.151Z"
   },
   {
    "duration": 31,
    "start_time": "2022-12-09T13:55:29.342Z"
   },
   {
    "duration": 84,
    "start_time": "2022-12-09T13:55:44.027Z"
   },
   {
    "duration": 123,
    "start_time": "2022-12-09T13:55:45.601Z"
   },
   {
    "duration": 25,
    "start_time": "2022-12-09T13:55:46.890Z"
   },
   {
    "duration": 133,
    "start_time": "2022-12-09T13:55:52.872Z"
   },
   {
    "duration": 13,
    "start_time": "2022-12-09T13:55:55.661Z"
   },
   {
    "duration": 25,
    "start_time": "2022-12-09T13:56:13.416Z"
   },
   {
    "duration": 10,
    "start_time": "2022-12-09T13:59:46.774Z"
   },
   {
    "duration": 13,
    "start_time": "2022-12-09T13:59:59.421Z"
   },
   {
    "duration": 902,
    "start_time": "2022-12-09T14:14:41.339Z"
   },
   {
    "duration": 905,
    "start_time": "2022-12-09T14:14:53.423Z"
   },
   {
    "duration": 50,
    "start_time": "2022-12-09T14:24:46.235Z"
   },
   {
    "duration": 887,
    "start_time": "2022-12-09T14:24:53.403Z"
   },
   {
    "duration": 888,
    "start_time": "2022-12-09T14:26:20.995Z"
   },
   {
    "duration": 11,
    "start_time": "2022-12-09T14:26:35.444Z"
   },
   {
    "duration": 897,
    "start_time": "2022-12-09T14:27:10.667Z"
   },
   {
    "duration": 846,
    "start_time": "2022-12-09T14:27:24.879Z"
   },
   {
    "duration": 1036,
    "start_time": "2022-12-09T14:29:04.999Z"
   },
   {
    "duration": 37,
    "start_time": "2022-12-09T14:29:06.038Z"
   },
   {
    "duration": 44,
    "start_time": "2022-12-09T14:29:06.077Z"
   },
   {
    "duration": 20,
    "start_time": "2022-12-09T14:29:06.123Z"
   },
   {
    "duration": 10,
    "start_time": "2022-12-09T14:29:06.144Z"
   },
   {
    "duration": 13,
    "start_time": "2022-12-09T14:29:06.156Z"
   },
   {
    "duration": 18,
    "start_time": "2022-12-09T14:29:06.171Z"
   },
   {
    "duration": 13,
    "start_time": "2022-12-09T14:29:06.198Z"
   },
   {
    "duration": 11,
    "start_time": "2022-12-09T14:29:06.214Z"
   },
   {
    "duration": 15,
    "start_time": "2022-12-09T14:29:06.229Z"
   },
   {
    "duration": 12,
    "start_time": "2022-12-09T14:29:06.246Z"
   },
   {
    "duration": 42,
    "start_time": "2022-12-09T14:29:06.260Z"
   },
   {
    "duration": 45,
    "start_time": "2022-12-09T14:29:06.304Z"
   },
   {
    "duration": 8,
    "start_time": "2022-12-09T14:29:06.350Z"
   },
   {
    "duration": 39,
    "start_time": "2022-12-09T14:29:06.359Z"
   },
   {
    "duration": 15,
    "start_time": "2022-12-09T14:29:06.400Z"
   },
   {
    "duration": 9,
    "start_time": "2022-12-09T14:29:06.417Z"
   },
   {
    "duration": 174,
    "start_time": "2022-12-09T14:29:06.427Z"
   },
   {
    "duration": 125,
    "start_time": "2022-12-09T14:29:06.603Z"
   },
   {
    "duration": 7,
    "start_time": "2022-12-09T14:29:06.729Z"
   },
   {
    "duration": 11,
    "start_time": "2022-12-09T14:29:06.737Z"
   },
   {
    "duration": 290,
    "start_time": "2022-12-09T14:29:06.749Z"
   },
   {
    "duration": 194,
    "start_time": "2022-12-09T14:29:07.041Z"
   },
   {
    "duration": 271,
    "start_time": "2022-12-09T14:29:07.237Z"
   },
   {
    "duration": 8,
    "start_time": "2022-12-09T14:29:07.510Z"
   },
   {
    "duration": 209,
    "start_time": "2022-12-09T14:29:07.519Z"
   },
   {
    "duration": 272,
    "start_time": "2022-12-09T14:29:07.730Z"
   },
   {
    "duration": 7,
    "start_time": "2022-12-09T14:29:08.005Z"
   },
   {
    "duration": 130,
    "start_time": "2022-12-09T14:29:08.013Z"
   },
   {
    "duration": 4,
    "start_time": "2022-12-09T14:29:08.145Z"
   },
   {
    "duration": 157,
    "start_time": "2022-12-09T14:29:08.150Z"
   },
   {
    "duration": 11,
    "start_time": "2022-12-09T14:29:08.309Z"
   },
   {
    "duration": 190,
    "start_time": "2022-12-09T14:29:08.322Z"
   },
   {
    "duration": 118,
    "start_time": "2022-12-09T14:29:08.514Z"
   },
   {
    "duration": 26,
    "start_time": "2022-12-09T14:29:08.634Z"
   },
   {
    "duration": 166,
    "start_time": "2022-12-09T14:29:08.661Z"
   },
   {
    "duration": 25,
    "start_time": "2022-12-09T14:29:08.829Z"
   },
   {
    "duration": 10,
    "start_time": "2022-12-09T14:29:08.855Z"
   },
   {
    "duration": 923,
    "start_time": "2022-12-09T14:29:08.867Z"
   },
   {
    "duration": 762,
    "start_time": "2022-12-09T14:30:31.996Z"
   },
   {
    "duration": 136,
    "start_time": "2022-12-09T14:30:40.232Z"
   },
   {
    "duration": 9,
    "start_time": "2022-12-09T14:30:42.252Z"
   },
   {
    "duration": 7,
    "start_time": "2022-12-09T14:43:20.734Z"
   },
   {
    "duration": 9,
    "start_time": "2022-12-09T14:46:10.981Z"
   },
   {
    "duration": 21,
    "start_time": "2022-12-09T14:46:16.253Z"
   },
   {
    "duration": 890,
    "start_time": "2022-12-09T14:59:39.325Z"
   },
   {
    "duration": 14,
    "start_time": "2022-12-09T14:59:56.964Z"
   },
   {
    "duration": 14,
    "start_time": "2022-12-09T15:00:15.022Z"
   },
   {
    "duration": 13,
    "start_time": "2022-12-09T15:01:19.538Z"
   },
   {
    "duration": 8,
    "start_time": "2022-12-09T15:01:44.019Z"
   },
   {
    "duration": 8,
    "start_time": "2022-12-09T15:01:45.529Z"
   },
   {
    "duration": 22,
    "start_time": "2022-12-09T15:01:45.868Z"
   },
   {
    "duration": 10,
    "start_time": "2022-12-09T15:01:52.463Z"
   },
   {
    "duration": 7,
    "start_time": "2022-12-09T15:01:52.860Z"
   },
   {
    "duration": 22,
    "start_time": "2022-12-09T15:01:53.377Z"
   },
   {
    "duration": 10,
    "start_time": "2022-12-09T15:02:41.317Z"
   },
   {
    "duration": 12,
    "start_time": "2022-12-09T15:02:41.329Z"
   },
   {
    "duration": 26,
    "start_time": "2022-12-09T15:02:41.343Z"
   },
   {
    "duration": 14,
    "start_time": "2022-12-09T15:02:41.371Z"
   },
   {
    "duration": 8,
    "start_time": "2022-12-09T15:03:13.444Z"
   },
   {
    "duration": 9,
    "start_time": "2022-12-09T15:03:14.004Z"
   },
   {
    "duration": 24,
    "start_time": "2022-12-09T15:03:14.371Z"
   },
   {
    "duration": 14,
    "start_time": "2022-12-09T15:03:16.413Z"
   },
   {
    "duration": 9,
    "start_time": "2022-12-09T15:03:24.168Z"
   },
   {
    "duration": 11,
    "start_time": "2022-12-09T15:03:24.767Z"
   },
   {
    "duration": 22,
    "start_time": "2022-12-09T15:03:25.322Z"
   },
   {
    "duration": 13,
    "start_time": "2022-12-09T15:03:27.218Z"
   },
   {
    "duration": 7,
    "start_time": "2022-12-09T15:05:05.800Z"
   },
   {
    "duration": 8,
    "start_time": "2022-12-09T15:05:06.045Z"
   },
   {
    "duration": 23,
    "start_time": "2022-12-09T15:05:06.280Z"
   },
   {
    "duration": 13,
    "start_time": "2022-12-09T15:05:07.203Z"
   },
   {
    "duration": 3,
    "start_time": "2022-12-09T15:33:14.209Z"
   },
   {
    "duration": 4,
    "start_time": "2022-12-09T15:33:21.673Z"
   },
   {
    "duration": 45,
    "start_time": "2022-12-09T22:27:31.329Z"
   },
   {
    "duration": 1241,
    "start_time": "2022-12-09T22:27:36.823Z"
   },
   {
    "duration": 85,
    "start_time": "2022-12-09T22:27:38.066Z"
   },
   {
    "duration": 102,
    "start_time": "2022-12-09T22:27:38.152Z"
   },
   {
    "duration": 64,
    "start_time": "2022-12-09T22:27:38.256Z"
   },
   {
    "duration": 10,
    "start_time": "2022-12-09T22:27:38.323Z"
   },
   {
    "duration": 15,
    "start_time": "2022-12-09T22:27:38.334Z"
   },
   {
    "duration": 16,
    "start_time": "2022-12-09T22:27:38.351Z"
   },
   {
    "duration": 12,
    "start_time": "2022-12-09T22:27:38.369Z"
   },
   {
    "duration": 18,
    "start_time": "2022-12-09T22:27:38.383Z"
   },
   {
    "duration": 17,
    "start_time": "2022-12-09T22:27:38.402Z"
   },
   {
    "duration": 25,
    "start_time": "2022-12-09T22:27:38.421Z"
   },
   {
    "duration": 17,
    "start_time": "2022-12-09T22:27:38.448Z"
   },
   {
    "duration": 51,
    "start_time": "2022-12-09T22:27:38.467Z"
   },
   {
    "duration": 7,
    "start_time": "2022-12-09T22:27:38.521Z"
   },
   {
    "duration": 31,
    "start_time": "2022-12-09T22:27:38.529Z"
   },
   {
    "duration": 21,
    "start_time": "2022-12-09T22:27:38.561Z"
   },
   {
    "duration": 15,
    "start_time": "2022-12-09T22:27:38.584Z"
   },
   {
    "duration": 164,
    "start_time": "2022-12-09T22:27:38.601Z"
   },
   {
    "duration": 115,
    "start_time": "2022-12-09T22:27:38.766Z"
   },
   {
    "duration": 6,
    "start_time": "2022-12-09T22:27:38.882Z"
   },
   {
    "duration": 18,
    "start_time": "2022-12-09T22:27:38.890Z"
   },
   {
    "duration": 265,
    "start_time": "2022-12-09T22:27:38.910Z"
   },
   {
    "duration": 186,
    "start_time": "2022-12-09T22:27:39.177Z"
   },
   {
    "duration": 329,
    "start_time": "2022-12-09T22:27:39.364Z"
   },
   {
    "duration": 6,
    "start_time": "2022-12-09T22:27:39.694Z"
   },
   {
    "duration": 211,
    "start_time": "2022-12-09T22:27:39.702Z"
   },
   {
    "duration": 286,
    "start_time": "2022-12-09T22:27:39.915Z"
   },
   {
    "duration": 14,
    "start_time": "2022-12-09T22:27:40.202Z"
   },
   {
    "duration": 128,
    "start_time": "2022-12-09T22:27:40.217Z"
   },
   {
    "duration": 4,
    "start_time": "2022-12-09T22:27:40.346Z"
   },
   {
    "duration": 152,
    "start_time": "2022-12-09T22:27:40.352Z"
   },
   {
    "duration": 4,
    "start_time": "2022-12-09T22:27:40.505Z"
   },
   {
    "duration": 168,
    "start_time": "2022-12-09T22:27:40.516Z"
   },
   {
    "duration": 111,
    "start_time": "2022-12-09T22:27:40.686Z"
   },
   {
    "duration": 30,
    "start_time": "2022-12-09T22:27:40.799Z"
   },
   {
    "duration": 130,
    "start_time": "2022-12-09T22:27:40.831Z"
   },
   {
    "duration": 24,
    "start_time": "2022-12-09T22:27:40.963Z"
   },
   {
    "duration": 10,
    "start_time": "2022-12-09T22:27:40.988Z"
   },
   {
    "duration": 25,
    "start_time": "2022-12-09T22:27:40.999Z"
   },
   {
    "duration": 11,
    "start_time": "2022-12-09T22:27:41.026Z"
   },
   {
    "duration": 22,
    "start_time": "2022-12-09T22:27:41.040Z"
   },
   {
    "duration": 13,
    "start_time": "2022-12-09T22:27:41.064Z"
   },
   {
    "duration": 188,
    "start_time": "2022-12-09T22:27:53.207Z"
   },
   {
    "duration": 182,
    "start_time": "2022-12-09T22:28:53.854Z"
   },
   {
    "duration": 303,
    "start_time": "2022-12-09T22:29:18.112Z"
   },
   {
    "duration": 301,
    "start_time": "2022-12-09T22:29:24.906Z"
   },
   {
    "duration": 209,
    "start_time": "2022-12-09T22:37:35.365Z"
   },
   {
    "duration": 312,
    "start_time": "2022-12-09T22:37:58.093Z"
   },
   {
    "duration": 126,
    "start_time": "2022-12-09T22:39:35.740Z"
   },
   {
    "duration": 170,
    "start_time": "2022-12-09T22:46:07.061Z"
   },
   {
    "duration": 130,
    "start_time": "2022-12-09T22:46:14.541Z"
   },
   {
    "duration": 7,
    "start_time": "2022-12-10T00:10:10.147Z"
   },
   {
    "duration": 7,
    "start_time": "2022-12-10T00:10:10.478Z"
   },
   {
    "duration": 22,
    "start_time": "2022-12-10T00:10:10.780Z"
   },
   {
    "duration": 13,
    "start_time": "2022-12-10T00:10:12.190Z"
   },
   {
    "duration": 1275,
    "start_time": "2022-12-10T13:45:08.754Z"
   },
   {
    "duration": 93,
    "start_time": "2022-12-10T13:45:10.031Z"
   },
   {
    "duration": 90,
    "start_time": "2022-12-10T13:45:10.126Z"
   },
   {
    "duration": 76,
    "start_time": "2022-12-10T13:45:10.219Z"
   },
   {
    "duration": 11,
    "start_time": "2022-12-10T13:45:10.297Z"
   },
   {
    "duration": 24,
    "start_time": "2022-12-10T13:45:10.310Z"
   },
   {
    "duration": 13,
    "start_time": "2022-12-10T13:45:10.336Z"
   },
   {
    "duration": 15,
    "start_time": "2022-12-10T13:45:10.351Z"
   },
   {
    "duration": 11,
    "start_time": "2022-12-10T13:45:10.367Z"
   },
   {
    "duration": 11,
    "start_time": "2022-12-10T13:45:10.381Z"
   },
   {
    "duration": 12,
    "start_time": "2022-12-10T13:45:10.393Z"
   },
   {
    "duration": 27,
    "start_time": "2022-12-10T13:45:10.407Z"
   },
   {
    "duration": 60,
    "start_time": "2022-12-10T13:45:10.436Z"
   },
   {
    "duration": 7,
    "start_time": "2022-12-10T13:45:10.498Z"
   },
   {
    "duration": 16,
    "start_time": "2022-12-10T13:45:10.507Z"
   },
   {
    "duration": 13,
    "start_time": "2022-12-10T13:45:10.524Z"
   },
   {
    "duration": 8,
    "start_time": "2022-12-10T13:45:10.538Z"
   },
   {
    "duration": 170,
    "start_time": "2022-12-10T13:45:10.548Z"
   },
   {
    "duration": 134,
    "start_time": "2022-12-10T13:45:10.720Z"
   },
   {
    "duration": 6,
    "start_time": "2022-12-10T13:45:10.856Z"
   },
   {
    "duration": 12,
    "start_time": "2022-12-10T13:45:10.864Z"
   },
   {
    "duration": 293,
    "start_time": "2022-12-10T13:45:10.878Z"
   },
   {
    "duration": 201,
    "start_time": "2022-12-10T13:45:11.173Z"
   },
   {
    "duration": 382,
    "start_time": "2022-12-10T13:45:11.376Z"
   },
   {
    "duration": 6,
    "start_time": "2022-12-10T13:45:11.760Z"
   },
   {
    "duration": 237,
    "start_time": "2022-12-10T13:45:11.768Z"
   },
   {
    "duration": 322,
    "start_time": "2022-12-10T13:45:12.007Z"
   },
   {
    "duration": 7,
    "start_time": "2022-12-10T13:45:12.333Z"
   },
   {
    "duration": 147,
    "start_time": "2022-12-10T13:45:12.341Z"
   },
   {
    "duration": 4,
    "start_time": "2022-12-10T13:45:12.490Z"
   },
   {
    "duration": 156,
    "start_time": "2022-12-10T13:45:12.496Z"
   },
   {
    "duration": 4,
    "start_time": "2022-12-10T13:45:12.653Z"
   },
   {
    "duration": 181,
    "start_time": "2022-12-10T13:45:12.658Z"
   },
   {
    "duration": 121,
    "start_time": "2022-12-10T13:45:12.841Z"
   },
   {
    "duration": 36,
    "start_time": "2022-12-10T13:45:12.964Z"
   },
   {
    "duration": 142,
    "start_time": "2022-12-10T13:45:13.002Z"
   },
   {
    "duration": 24,
    "start_time": "2022-12-10T13:45:13.146Z"
   },
   {
    "duration": 10,
    "start_time": "2022-12-10T13:45:13.172Z"
   },
   {
    "duration": 7,
    "start_time": "2022-12-10T13:45:13.184Z"
   },
   {
    "duration": 8,
    "start_time": "2022-12-10T13:45:13.193Z"
   },
   {
    "duration": 44,
    "start_time": "2022-12-10T13:45:13.202Z"
   },
   {
    "duration": 12,
    "start_time": "2022-12-10T13:45:13.248Z"
   },
   {
    "duration": 70,
    "start_time": "2022-12-10T13:50:52.430Z"
   },
   {
    "duration": 46,
    "start_time": "2022-12-10T16:15:58.940Z"
   },
   {
    "duration": 1313,
    "start_time": "2022-12-10T16:16:05.142Z"
   },
   {
    "duration": 94,
    "start_time": "2022-12-10T16:16:06.457Z"
   },
   {
    "duration": 93,
    "start_time": "2022-12-10T16:16:06.553Z"
   },
   {
    "duration": 79,
    "start_time": "2022-12-10T16:16:06.648Z"
   },
   {
    "duration": 11,
    "start_time": "2022-12-10T16:16:06.729Z"
   },
   {
    "duration": 16,
    "start_time": "2022-12-10T16:16:06.742Z"
   },
   {
    "duration": 35,
    "start_time": "2022-12-10T16:16:06.760Z"
   },
   {
    "duration": 19,
    "start_time": "2022-12-10T16:16:06.797Z"
   },
   {
    "duration": 26,
    "start_time": "2022-12-10T16:16:06.818Z"
   },
   {
    "duration": 32,
    "start_time": "2022-12-10T16:16:06.846Z"
   },
   {
    "duration": 23,
    "start_time": "2022-12-10T16:16:06.880Z"
   },
   {
    "duration": 26,
    "start_time": "2022-12-10T16:16:06.905Z"
   },
   {
    "duration": 49,
    "start_time": "2022-12-10T16:16:06.933Z"
   },
   {
    "duration": 7,
    "start_time": "2022-12-10T16:16:06.984Z"
   },
   {
    "duration": 61,
    "start_time": "2022-12-10T16:16:10.511Z"
   },
   {
    "duration": 4,
    "start_time": "2022-12-10T16:16:39.080Z"
   },
   {
    "duration": 6,
    "start_time": "2022-12-10T16:16:45.081Z"
   },
   {
    "duration": 10,
    "start_time": "2022-12-10T16:17:17.218Z"
   },
   {
    "duration": 14,
    "start_time": "2022-12-10T16:17:25.526Z"
   },
   {
    "duration": 5,
    "start_time": "2022-12-10T16:17:53.001Z"
   },
   {
    "duration": 5,
    "start_time": "2022-12-10T16:17:59.846Z"
   },
   {
    "duration": 10,
    "start_time": "2022-12-10T16:20:07.640Z"
   },
   {
    "duration": 17,
    "start_time": "2022-12-10T16:20:21.412Z"
   },
   {
    "duration": 11,
    "start_time": "2022-12-10T16:20:25.999Z"
   },
   {
    "duration": 24,
    "start_time": "2022-12-10T16:22:18.795Z"
   },
   {
    "duration": 22,
    "start_time": "2022-12-10T16:22:29.486Z"
   },
   {
    "duration": 17,
    "start_time": "2022-12-10T16:22:36.181Z"
   },
   {
    "duration": 14,
    "start_time": "2022-12-10T16:23:21.647Z"
   },
   {
    "duration": 14,
    "start_time": "2022-12-10T16:23:35.154Z"
   },
   {
    "duration": 13,
    "start_time": "2022-12-10T16:23:45.147Z"
   },
   {
    "duration": 14,
    "start_time": "2022-12-10T16:24:37.499Z"
   },
   {
    "duration": 5,
    "start_time": "2022-12-10T16:25:37.717Z"
   },
   {
    "duration": 5,
    "start_time": "2022-12-10T16:25:42.145Z"
   },
   {
    "duration": 5,
    "start_time": "2022-12-10T16:25:50.482Z"
   },
   {
    "duration": 6,
    "start_time": "2022-12-10T16:26:10.027Z"
   },
   {
    "duration": 6,
    "start_time": "2022-12-10T16:26:19.604Z"
   },
   {
    "duration": 37,
    "start_time": "2022-12-10T16:26:51.611Z"
   },
   {
    "duration": 28,
    "start_time": "2022-12-10T16:26:55.668Z"
   },
   {
    "duration": 14,
    "start_time": "2022-12-10T16:27:02.897Z"
   },
   {
    "duration": 10,
    "start_time": "2022-12-10T16:28:14.774Z"
   },
   {
    "duration": 5,
    "start_time": "2022-12-10T16:28:20.273Z"
   },
   {
    "duration": 5,
    "start_time": "2022-12-10T16:28:46.389Z"
   },
   {
    "duration": 1091,
    "start_time": "2022-12-10T16:30:33.550Z"
   },
   {
    "duration": 20,
    "start_time": "2022-12-10T16:30:38.544Z"
   },
   {
    "duration": 7,
    "start_time": "2022-12-10T16:30:48.576Z"
   },
   {
    "duration": 17,
    "start_time": "2022-12-10T16:32:14.403Z"
   },
   {
    "duration": 10,
    "start_time": "2022-12-10T16:32:42.216Z"
   },
   {
    "duration": 9,
    "start_time": "2022-12-10T16:32:49.967Z"
   },
   {
    "duration": 87,
    "start_time": "2022-12-10T16:32:57.606Z"
   },
   {
    "duration": 13,
    "start_time": "2022-12-10T16:33:01.161Z"
   },
   {
    "duration": 4,
    "start_time": "2022-12-10T16:33:24.972Z"
   },
   {
    "duration": 10,
    "start_time": "2022-12-10T16:34:27.388Z"
   },
   {
    "duration": 4,
    "start_time": "2022-12-10T16:34:31.696Z"
   },
   {
    "duration": 6,
    "start_time": "2022-12-10T16:34:45.514Z"
   },
   {
    "duration": 12,
    "start_time": "2022-12-10T16:34:48.763Z"
   },
   {
    "duration": 4,
    "start_time": "2022-12-10T16:38:32.952Z"
   },
   {
    "duration": 72,
    "start_time": "2022-12-10T16:39:17.048Z"
   },
   {
    "duration": 9,
    "start_time": "2022-12-10T16:39:49.906Z"
   },
   {
    "duration": 8,
    "start_time": "2022-12-10T16:40:18.567Z"
   },
   {
    "duration": 1068,
    "start_time": "2022-12-10T16:46:22.607Z"
   },
   {
    "duration": 37,
    "start_time": "2022-12-10T16:46:23.677Z"
   },
   {
    "duration": 42,
    "start_time": "2022-12-10T16:46:23.715Z"
   },
   {
    "duration": 19,
    "start_time": "2022-12-10T16:46:23.759Z"
   },
   {
    "duration": 13,
    "start_time": "2022-12-10T16:46:23.780Z"
   },
   {
    "duration": 35,
    "start_time": "2022-12-10T16:46:23.795Z"
   },
   {
    "duration": 18,
    "start_time": "2022-12-10T16:46:23.832Z"
   },
   {
    "duration": 39,
    "start_time": "2022-12-10T16:46:23.852Z"
   },
   {
    "duration": 18,
    "start_time": "2022-12-10T16:46:23.893Z"
   },
   {
    "duration": 37,
    "start_time": "2022-12-10T16:46:23.913Z"
   },
   {
    "duration": 29,
    "start_time": "2022-12-10T16:46:23.951Z"
   },
   {
    "duration": 10,
    "start_time": "2022-12-10T16:46:23.982Z"
   },
   {
    "duration": 46,
    "start_time": "2022-12-10T16:46:23.994Z"
   },
   {
    "duration": 7,
    "start_time": "2022-12-10T16:46:24.042Z"
   },
   {
    "duration": 9,
    "start_time": "2022-12-10T16:46:24.050Z"
   },
   {
    "duration": 8,
    "start_time": "2022-12-10T16:46:27.931Z"
   },
   {
    "duration": 723,
    "start_time": "2022-12-10T16:48:01.084Z"
   },
   {
    "duration": 734,
    "start_time": "2022-12-10T16:48:07.601Z"
   },
   {
    "duration": 48,
    "start_time": "2022-12-10T16:48:25.310Z"
   },
   {
    "duration": 99,
    "start_time": "2022-12-10T16:48:40.149Z"
   },
   {
    "duration": 705,
    "start_time": "2022-12-10T16:49:23.005Z"
   },
   {
    "duration": 690,
    "start_time": "2022-12-10T16:49:58.018Z"
   },
   {
    "duration": 720,
    "start_time": "2022-12-10T16:50:01.817Z"
   },
   {
    "duration": 16,
    "start_time": "2022-12-10T16:50:19.421Z"
   },
   {
    "duration": 699,
    "start_time": "2022-12-10T16:50:24.179Z"
   },
   {
    "duration": 818,
    "start_time": "2022-12-10T16:50:51.308Z"
   },
   {
    "duration": 848,
    "start_time": "2022-12-10T16:51:03.556Z"
   },
   {
    "duration": 13,
    "start_time": "2022-12-10T16:51:26.124Z"
   },
   {
    "duration": 801,
    "start_time": "2022-12-10T16:51:33.607Z"
   },
   {
    "duration": 12,
    "start_time": "2022-12-10T16:52:47.771Z"
   },
   {
    "duration": 761,
    "start_time": "2022-12-10T16:52:52.207Z"
   },
   {
    "duration": 818,
    "start_time": "2022-12-10T16:53:00.125Z"
   },
   {
    "duration": 5,
    "start_time": "2022-12-10T16:54:14.889Z"
   },
   {
    "duration": 8,
    "start_time": "2022-12-10T16:54:21.363Z"
   },
   {
    "duration": 7,
    "start_time": "2022-12-10T16:57:19.877Z"
   },
   {
    "duration": 77,
    "start_time": "2022-12-10T16:58:09.789Z"
   },
   {
    "duration": 152,
    "start_time": "2022-12-10T16:59:15.721Z"
   },
   {
    "duration": 148,
    "start_time": "2022-12-10T16:59:19.120Z"
   },
   {
    "duration": 467,
    "start_time": "2022-12-10T16:59:32.104Z"
   },
   {
    "duration": 1299,
    "start_time": "2022-12-10T17:01:05.235Z"
   },
   {
    "duration": 18,
    "start_time": "2022-12-10T17:03:43.104Z"
   },
   {
    "duration": 20,
    "start_time": "2022-12-10T17:03:55.862Z"
   },
   {
    "duration": 1225,
    "start_time": "2022-12-10T17:04:02.053Z"
   },
   {
    "duration": 15,
    "start_time": "2022-12-10T17:05:23.802Z"
   },
   {
    "duration": 49,
    "start_time": "2022-12-10T17:18:08.658Z"
   },
   {
    "duration": 76,
    "start_time": "2022-12-10T17:18:11.740Z"
   },
   {
    "duration": 107,
    "start_time": "2022-12-10T17:18:18.742Z"
   },
   {
    "duration": 85,
    "start_time": "2022-12-10T17:18:23.469Z"
   },
   {
    "duration": 191,
    "start_time": "2022-12-10T17:18:25.735Z"
   },
   {
    "duration": 120,
    "start_time": "2022-12-10T17:18:40.716Z"
   },
   {
    "duration": 77,
    "start_time": "2022-12-10T17:19:12.507Z"
   },
   {
    "duration": 74,
    "start_time": "2022-12-10T17:19:15.626Z"
   },
   {
    "duration": 62,
    "start_time": "2022-12-10T17:19:33.517Z"
   },
   {
    "duration": 13,
    "start_time": "2022-12-10T17:20:22.143Z"
   },
   {
    "duration": 14,
    "start_time": "2022-12-10T17:20:28.079Z"
   },
   {
    "duration": 53,
    "start_time": "2022-12-10T17:21:42.787Z"
   },
   {
    "duration": 51,
    "start_time": "2022-12-10T17:21:51.482Z"
   },
   {
    "duration": 45,
    "start_time": "2022-12-10T17:22:04.794Z"
   },
   {
    "duration": 49,
    "start_time": "2022-12-10T17:22:08.231Z"
   },
   {
    "duration": 44,
    "start_time": "2022-12-10T17:22:23.454Z"
   },
   {
    "duration": 1097,
    "start_time": "2022-12-10T17:28:35.619Z"
   },
   {
    "duration": 339,
    "start_time": "2022-12-10T17:28:43.111Z"
   },
   {
    "duration": 34,
    "start_time": "2022-12-10T17:55:22.603Z"
   },
   {
    "duration": 14,
    "start_time": "2022-12-10T17:56:18.539Z"
   },
   {
    "duration": 343,
    "start_time": "2022-12-10T17:56:24.551Z"
   },
   {
    "duration": 14,
    "start_time": "2022-12-10T17:56:28.468Z"
   },
   {
    "duration": 14,
    "start_time": "2022-12-10T17:56:33.890Z"
   },
   {
    "duration": 391,
    "start_time": "2022-12-10T17:56:37.938Z"
   },
   {
    "duration": 50,
    "start_time": "2022-12-10T18:17:39.047Z"
   },
   {
    "duration": 1147,
    "start_time": "2022-12-10T18:18:11.933Z"
   },
   {
    "duration": 12,
    "start_time": "2022-12-10T18:18:45.925Z"
   },
   {
    "duration": 1129,
    "start_time": "2022-12-10T18:28:30.905Z"
   },
   {
    "duration": 1113,
    "start_time": "2022-12-10T18:28:36.786Z"
   },
   {
    "duration": 1117,
    "start_time": "2022-12-10T18:28:41.586Z"
   },
   {
    "duration": 3,
    "start_time": "2022-12-10T18:28:51.824Z"
   },
   {
    "duration": 47,
    "start_time": "2022-12-10T18:28:51.830Z"
   },
   {
    "duration": 44,
    "start_time": "2022-12-10T18:28:51.878Z"
   },
   {
    "duration": 22,
    "start_time": "2022-12-10T18:28:51.923Z"
   },
   {
    "duration": 11,
    "start_time": "2022-12-10T18:28:51.947Z"
   },
   {
    "duration": 14,
    "start_time": "2022-12-10T18:28:51.960Z"
   },
   {
    "duration": 21,
    "start_time": "2022-12-10T18:28:51.976Z"
   },
   {
    "duration": 20,
    "start_time": "2022-12-10T18:28:51.998Z"
   },
   {
    "duration": 9,
    "start_time": "2022-12-10T18:28:52.020Z"
   },
   {
    "duration": 18,
    "start_time": "2022-12-10T18:28:52.031Z"
   },
   {
    "duration": 21,
    "start_time": "2022-12-10T18:28:52.051Z"
   },
   {
    "duration": 13,
    "start_time": "2022-12-10T18:28:52.073Z"
   },
   {
    "duration": 21,
    "start_time": "2022-12-10T18:28:52.088Z"
   },
   {
    "duration": 23,
    "start_time": "2022-12-10T18:28:52.112Z"
   },
   {
    "duration": 25,
    "start_time": "2022-12-10T18:28:52.137Z"
   },
   {
    "duration": 67,
    "start_time": "2022-12-10T18:28:52.164Z"
   },
   {
    "duration": 398,
    "start_time": "2022-12-10T18:28:52.233Z"
   },
   {
    "duration": 13,
    "start_time": "2022-12-10T18:28:52.633Z"
   },
   {
    "duration": 34,
    "start_time": "2022-12-10T18:28:52.647Z"
   },
   {
    "duration": 33,
    "start_time": "2022-12-10T18:28:52.682Z"
   },
   {
    "duration": 199,
    "start_time": "2022-12-10T18:28:52.717Z"
   },
   {
    "duration": 142,
    "start_time": "2022-12-10T18:28:52.918Z"
   },
   {
    "duration": 7,
    "start_time": "2022-12-10T18:28:53.061Z"
   },
   {
    "duration": 23,
    "start_time": "2022-12-10T18:28:53.070Z"
   },
   {
    "duration": 281,
    "start_time": "2022-12-10T18:28:53.095Z"
   },
   {
    "duration": 212,
    "start_time": "2022-12-10T18:28:53.378Z"
   },
   {
    "duration": 352,
    "start_time": "2022-12-10T18:28:53.592Z"
   },
   {
    "duration": 5,
    "start_time": "2022-12-10T18:28:53.946Z"
   },
   {
    "duration": 230,
    "start_time": "2022-12-10T18:28:53.952Z"
   },
   {
    "duration": 339,
    "start_time": "2022-12-10T18:28:54.184Z"
   },
   {
    "duration": 7,
    "start_time": "2022-12-10T18:28:54.527Z"
   },
   {
    "duration": 222,
    "start_time": "2022-12-10T18:28:54.536Z"
   },
   {
    "duration": 5,
    "start_time": "2022-12-10T18:28:54.760Z"
   },
   {
    "duration": 157,
    "start_time": "2022-12-10T18:28:54.766Z"
   },
   {
    "duration": 5,
    "start_time": "2022-12-10T18:28:54.925Z"
   },
   {
    "duration": 100,
    "start_time": "2022-12-10T18:28:54.931Z"
   },
   {
    "duration": 132,
    "start_time": "2022-12-10T18:28:55.033Z"
   },
   {
    "duration": 29,
    "start_time": "2022-12-10T18:28:55.169Z"
   },
   {
    "duration": 155,
    "start_time": "2022-12-10T18:28:55.200Z"
   },
   {
    "duration": 27,
    "start_time": "2022-12-10T18:28:55.357Z"
   },
   {
    "duration": 12,
    "start_time": "2022-12-10T18:28:55.386Z"
   },
   {
    "duration": 31,
    "start_time": "2022-12-10T18:28:55.399Z"
   },
   {
    "duration": 12,
    "start_time": "2022-12-10T18:28:55.432Z"
   },
   {
    "duration": 32,
    "start_time": "2022-12-10T18:28:55.446Z"
   },
   {
    "duration": 17,
    "start_time": "2022-12-10T18:28:55.480Z"
   },
   {
    "duration": 15,
    "start_time": "2022-12-10T18:29:15.585Z"
   },
   {
    "duration": 11,
    "start_time": "2022-12-10T18:38:38.921Z"
   },
   {
    "duration": 12,
    "start_time": "2022-12-10T18:38:57.205Z"
   },
   {
    "duration": 12,
    "start_time": "2022-12-10T18:43:25.634Z"
   },
   {
    "duration": 12,
    "start_time": "2022-12-10T18:43:56.757Z"
   },
   {
    "duration": 12,
    "start_time": "2022-12-10T18:44:07.166Z"
   },
   {
    "duration": 13,
    "start_time": "2022-12-10T18:44:10.372Z"
   },
   {
    "duration": 10,
    "start_time": "2022-12-10T18:46:57.809Z"
   },
   {
    "duration": 14,
    "start_time": "2022-12-10T18:47:31.537Z"
   },
   {
    "duration": 198,
    "start_time": "2022-12-10T20:01:55.038Z"
   },
   {
    "duration": 203,
    "start_time": "2022-12-10T20:02:22.321Z"
   },
   {
    "duration": 287,
    "start_time": "2022-12-10T20:02:43.925Z"
   },
   {
    "duration": 270,
    "start_time": "2022-12-10T20:04:07.462Z"
   },
   {
    "duration": 234,
    "start_time": "2022-12-10T20:04:28.653Z"
   },
   {
    "duration": 207,
    "start_time": "2022-12-10T20:07:49.649Z"
   },
   {
    "duration": 71,
    "start_time": "2022-12-10T20:10:21.449Z"
   },
   {
    "duration": 215,
    "start_time": "2022-12-10T20:10:34.671Z"
   },
   {
    "duration": 240,
    "start_time": "2022-12-10T20:10:57.917Z"
   },
   {
    "duration": 242,
    "start_time": "2022-12-10T20:11:46.033Z"
   },
   {
    "duration": 345,
    "start_time": "2022-12-10T20:11:55.681Z"
   },
   {
    "duration": 257,
    "start_time": "2022-12-10T20:12:08.887Z"
   },
   {
    "duration": 250,
    "start_time": "2022-12-10T20:12:41.537Z"
   },
   {
    "duration": 241,
    "start_time": "2022-12-10T20:12:54.873Z"
   },
   {
    "duration": 242,
    "start_time": "2022-12-10T20:13:01.120Z"
   },
   {
    "duration": 232,
    "start_time": "2022-12-10T20:13:10.860Z"
   },
   {
    "duration": 240,
    "start_time": "2022-12-10T20:13:26.471Z"
   },
   {
    "duration": 315,
    "start_time": "2022-12-10T20:15:40.694Z"
   },
   {
    "duration": 284,
    "start_time": "2022-12-10T20:17:48.255Z"
   },
   {
    "duration": 330,
    "start_time": "2022-12-10T20:18:09.176Z"
   },
   {
    "duration": 360,
    "start_time": "2022-12-10T20:18:16.393Z"
   },
   {
    "duration": 464,
    "start_time": "2022-12-10T20:18:22.803Z"
   },
   {
    "duration": 371,
    "start_time": "2022-12-10T20:19:19.634Z"
   },
   {
    "duration": 331,
    "start_time": "2022-12-10T20:19:28.086Z"
   },
   {
    "duration": 387,
    "start_time": "2022-12-10T20:19:37.299Z"
   },
   {
    "duration": 359,
    "start_time": "2022-12-10T20:31:20.035Z"
   },
   {
    "duration": 363,
    "start_time": "2022-12-10T20:31:34.416Z"
   },
   {
    "duration": 227,
    "start_time": "2022-12-10T21:45:44.156Z"
   },
   {
    "duration": 1126,
    "start_time": "2022-12-10T21:47:07.955Z"
   },
   {
    "duration": 270,
    "start_time": "2022-12-10T21:47:47.718Z"
   },
   {
    "duration": 250,
    "start_time": "2022-12-10T21:47:57.259Z"
   },
   {
    "duration": 256,
    "start_time": "2022-12-10T21:48:05.708Z"
   },
   {
    "duration": 389,
    "start_time": "2022-12-10T21:48:15.560Z"
   },
   {
    "duration": 261,
    "start_time": "2022-12-10T21:48:31.821Z"
   },
   {
    "duration": 262,
    "start_time": "2022-12-10T21:48:40.109Z"
   },
   {
    "duration": 292,
    "start_time": "2022-12-10T21:51:11.155Z"
   },
   {
    "duration": 330,
    "start_time": "2022-12-10T21:51:31.004Z"
   },
   {
    "duration": 358,
    "start_time": "2022-12-10T21:54:11.989Z"
   },
   {
    "duration": 337,
    "start_time": "2022-12-10T21:54:15.875Z"
   },
   {
    "duration": 385,
    "start_time": "2022-12-10T21:54:26.020Z"
   },
   {
    "duration": 366,
    "start_time": "2022-12-10T21:54:34.288Z"
   },
   {
    "duration": 392,
    "start_time": "2022-12-10T22:03:23.623Z"
   },
   {
    "duration": 376,
    "start_time": "2022-12-10T22:03:31.255Z"
   },
   {
    "duration": 43,
    "start_time": "2022-12-16T22:12:52.322Z"
   },
   {
    "duration": 7,
    "start_time": "2022-12-16T22:13:01.000Z"
   },
   {
    "duration": 1048,
    "start_time": "2022-12-16T22:13:06.018Z"
   },
   {
    "duration": 90,
    "start_time": "2022-12-16T22:13:07.068Z"
   },
   {
    "duration": 87,
    "start_time": "2022-12-16T22:13:07.160Z"
   },
   {
    "duration": 73,
    "start_time": "2022-12-16T22:13:07.249Z"
   },
   {
    "duration": 10,
    "start_time": "2022-12-16T22:13:07.324Z"
   },
   {
    "duration": 14,
    "start_time": "2022-12-16T22:13:07.335Z"
   },
   {
    "duration": 11,
    "start_time": "2022-12-16T22:13:07.350Z"
   },
   {
    "duration": 11,
    "start_time": "2022-12-16T22:13:07.362Z"
   },
   {
    "duration": 11,
    "start_time": "2022-12-16T22:13:07.375Z"
   },
   {
    "duration": 11,
    "start_time": "2022-12-16T22:13:07.387Z"
   },
   {
    "duration": 31,
    "start_time": "2022-12-16T22:13:07.399Z"
   },
   {
    "duration": 18,
    "start_time": "2022-12-16T22:13:07.431Z"
   },
   {
    "duration": 44,
    "start_time": "2022-12-16T22:13:07.450Z"
   },
   {
    "duration": 7,
    "start_time": "2022-12-16T22:13:07.496Z"
   },
   {
    "duration": 22,
    "start_time": "2022-12-16T22:13:07.505Z"
   },
   {
    "duration": 51,
    "start_time": "2022-12-16T22:13:07.529Z"
   },
   {
    "duration": 840,
    "start_time": "2022-12-16T22:13:10.115Z"
   },
   {
    "duration": 50,
    "start_time": "2022-12-16T22:13:24.380Z"
   },
   {
    "duration": 6,
    "start_time": "2022-12-16T22:13:26.914Z"
   },
   {
    "duration": 48,
    "start_time": "2022-12-16T22:13:27.526Z"
   },
   {
    "duration": 817,
    "start_time": "2022-12-16T22:13:28.013Z"
   },
   {
    "duration": 5,
    "start_time": "2022-12-16T22:14:37.643Z"
   },
   {
    "duration": 6,
    "start_time": "2022-12-16T22:14:51.658Z"
   }
  ],
  "kernelspec": {
   "display_name": "Python 3 (ipykernel)",
   "language": "python",
   "name": "python3"
  },
  "language_info": {
   "codemirror_mode": {
    "name": "ipython",
    "version": 3
   },
   "file_extension": ".py",
   "mimetype": "text/x-python",
   "name": "python",
   "nbconvert_exporter": "python",
   "pygments_lexer": "ipython3",
   "version": "3.10.7"
  },
  "toc": {
   "base_numbering": 1,
   "nav_menu": {},
   "number_sections": true,
   "sideBar": true,
   "skip_h1_title": true,
   "title_cell": "Table of Contents",
   "title_sidebar": "Contents",
   "toc_cell": false,
   "toc_position": {},
   "toc_section_display": true,
   "toc_window_display": false
  }
 },
 "nbformat": 4,
 "nbformat_minor": 4
}
